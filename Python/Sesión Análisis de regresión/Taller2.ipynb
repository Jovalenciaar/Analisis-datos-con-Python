{
 "cells": [
  {
   "cell_type": "code",
   "execution_count": null,
   "id": "050a8ae7",
   "metadata": {},
   "outputs": [],
   "source": [
    "Taller 2\n",
    "1.\tUsando el fichero estacional.xls. Realiza los modelos Realiza x11 en Excel suponiendo que la serie es trimestre y multiplicativa. Responde a las siguientes preguntas.\n",
    "a.\t¿Cómo es la Tendencia de la serie?\n",
    "b.\t¿Cuáles es el mejor trimestre la serie? ¿Y el peor?\n",
    "c.\t¿Qué componente irregular tiene la primera observación?\n",
    "d.\t¿Cómo es la serie desestacionalizada para el trimestre 2 del segundo año?\n",
    "\n",
    "2.\tUsando el fichero Simul.xls de clase realiza la metodología Box-Jenkins para las series Y2, Y3, Y4, Y5, Y8. \n"
   ]
  }
 ],
 "metadata": {
  "kernelspec": {
   "display_name": "Python 3 (ipykernel)",
   "language": "python",
   "name": "python3"
  },
  "language_info": {
   "codemirror_mode": {
    "name": "ipython",
    "version": 3
   },
   "file_extension": ".py",
   "mimetype": "text/x-python",
   "name": "python",
   "nbconvert_exporter": "python",
   "pygments_lexer": "ipython3",
   "version": "3.9.6"
  }
 },
 "nbformat": 4,
 "nbformat_minor": 5
}
