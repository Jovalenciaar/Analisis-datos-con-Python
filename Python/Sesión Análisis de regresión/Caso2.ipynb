{
 "cells": [
  {
   "cell_type": "code",
   "execution_count": 1,
   "id": "c5a2f770",
   "metadata": {},
   "outputs": [
    {
     "name": "stdout",
     "output_type": "stream",
     "text": [
      "caso 2\n"
     ]
    }
   ],
   "source": [
    "# ejecuta caso 2\n",
    "print('caso 2')"
   ]
  },
  {
   "cell_type": "code",
   "execution_count": 1,
   "id": "30a653ac",
   "metadata": {},
   "outputs": [],
   "source": [
    "# importando la api de statsmodels\n",
    "import numpy as np\n",
    "import statsmodels.api as sm\n",
    "import statsmodels.formula.api as smf"
   ]
  },
  {
   "cell_type": "code",
   "execution_count": 3,
   "id": "dffc034f",
   "metadata": {},
   "outputs": [
    {
     "name": "stdout",
     "output_type": "stream",
     "text": [
      "    any  superf  dorm  banys      vtot  estado  edad  ascensor  extint  \\\n",
      "0  1999    86.0     2      1  14100000       2    75         0       1   \n",
      "1  2000   110.0     3      2  34700000       5     0         1       1   \n",
      "2  2000   107.0     4      1  27700000       4     0         1       1   \n",
      "\n",
      "  estudis1          pmq       lpmq   lsuperf     ledad  lestudis1  \n",
      "0   00 010  163953.4884  12.007338  4.454347  1.875061   2.251292  \n",
      "1   00 010  315454.5455  12.661770  4.700480  0.000000   2.251292  \n",
      "2   00 010  258878.5047  12.464114  4.672829  0.000000   2.251292  \n"
     ]
    }
   ],
   "source": [
    "# Importando un DataFrame de pandas.\n",
    "import pandas as pd\n",
    "df=pd.read_csv('habitatge.csv')\n",
    "print(df[:3])"
   ]
  },
  {
   "cell_type": "code",
   "execution_count": 9,
   "id": "eed835d6",
   "metadata": {},
   "outputs": [
    {
     "name": "stdout",
     "output_type": "stream",
     "text": [
      "                            OLS Regression Results                            \n",
      "==============================================================================\n",
      "Dep. Variable:                   lpmq   R-squared:                       0.074\n",
      "Model:                            OLS   Adj. R-squared:                  0.074\n",
      "Method:                 Least Squares   F-statistic:                     321.3\n",
      "Date:                Tue, 19 Oct 2021   Prob (F-statistic):           3.47e-69\n",
      "Time:                        18:49:45   Log-Likelihood:                -16.470\n",
      "No. Observations:                4016   AIC:                             36.94\n",
      "Df Residuals:                    4014   BIC:                             49.54\n",
      "Df Model:                           1                                         \n",
      "Covariance Type:            nonrobust                                         \n",
      "==============================================================================\n",
      "                 coef    std err          t      P>|t|      [0.025      0.975]\n",
      "------------------------------------------------------------------------------\n",
      "Intercept     11.4246      0.049    232.279      0.000      11.328      11.521\n",
      "lsuperf        0.2011      0.011     17.926      0.000       0.179       0.223\n",
      "==============================================================================\n",
      "Omnibus:                      102.834   Durbin-Watson:                   1.184\n",
      "Prob(Omnibus):                  0.000   Jarque-Bera (JB):              197.261\n",
      "Skew:                          -0.177   Prob(JB):                     1.46e-43\n",
      "Kurtosis:                       4.027   Cond. No.                         59.1\n",
      "==============================================================================\n",
      "\n",
      "Notes:\n",
      "[1] Standard Errors assume that the covariance matrix of the errors is correctly specified.\n",
      "                            OLS Regression Results                            \n",
      "==============================================================================\n",
      "Dep. Variable:                   lpmq   R-squared:                       0.377\n",
      "Model:                            OLS   Adj. R-squared:                  0.376\n",
      "Method:                 Least Squares   F-statistic:                     808.3\n",
      "Date:                Tue, 19 Oct 2021   Prob (F-statistic):               0.00\n",
      "Time:                        18:49:45   Log-Likelihood:                 778.17\n",
      "No. Observations:                4016   AIC:                            -1548.\n",
      "Df Residuals:                    4012   BIC:                            -1523.\n",
      "Df Model:                           3                                         \n",
      "Covariance Type:            nonrobust                                         \n",
      "==============================================================================\n",
      "                 coef    std err          t      P>|t|      [0.025      0.975]\n",
      "------------------------------------------------------------------------------\n",
      "Intercept     10.7956      0.055    197.189      0.000      10.688      10.903\n",
      "lsuperf       -0.0337      0.011     -3.165      0.002      -0.054      -0.013\n",
      "ledad         -0.1964      0.008    -24.227      0.000      -0.212      -0.181\n",
      "lestudis1      0.8706      0.022     38.756      0.000       0.827       0.915\n",
      "==============================================================================\n",
      "Omnibus:                       93.513   Durbin-Watson:                   1.354\n",
      "Prob(Omnibus):                  0.000   Jarque-Bera (JB):              166.747\n",
      "Skew:                          -0.182   Prob(JB):                     6.18e-37\n",
      "Kurtosis:                       3.929   Cond. No.                         93.9\n",
      "==============================================================================\n",
      "\n",
      "Notes:\n",
      "[1] Standard Errors assume that the covariance matrix of the errors is correctly specified.\n",
      "                            OLS Regression Results                            \n",
      "==============================================================================\n",
      "Dep. Variable:                   lpmq   R-squared:                       0.570\n",
      "Model:                            OLS   Adj. R-squared:                  0.570\n",
      "Method:                 Least Squares   F-statistic:                     665.1\n",
      "Date:                Tue, 19 Oct 2021   Prob (F-statistic):               0.00\n",
      "Time:                        18:49:45   Log-Likelihood:                 1525.6\n",
      "No. Observations:                4016   AIC:                            -3033.\n",
      "Df Residuals:                    4007   BIC:                            -2977.\n",
      "Df Model:                           8                                         \n",
      "Covariance Type:            nonrobust                                         \n",
      "==============================================================================\n",
      "                 coef    std err          t      P>|t|      [0.025      0.975]\n",
      "------------------------------------------------------------------------------\n",
      "Intercept     10.5519      0.058    181.120      0.000      10.438      10.666\n",
      "lsuperf       -0.1008      0.013     -7.488      0.000      -0.127      -0.074\n",
      "ledad         -0.0179      0.008     -2.214      0.027      -0.034      -0.002\n",
      "lestudis1      0.7706      0.020     38.595      0.000       0.731       0.810\n",
      "dorm           0.0067      0.004      1.630      0.103      -0.001       0.015\n",
      "estado         0.1253      0.003     39.747      0.000       0.119       0.132\n",
      "ascensor       0.0600      0.007      9.160      0.000       0.047       0.073\n",
      "banys          0.0526      0.007      7.847      0.000       0.039       0.066\n",
      "extint         0.0121      0.007      1.625      0.104      -0.002       0.027\n",
      "==============================================================================\n",
      "Omnibus:                      122.631   Durbin-Watson:                   1.505\n",
      "Prob(Omnibus):                  0.000   Jarque-Bera (JB):              239.887\n",
      "Skew:                          -0.215   Prob(JB):                     8.11e-53\n",
      "Kurtosis:                       4.117   Cond. No.                         158.\n",
      "==============================================================================\n",
      "\n",
      "Notes:\n",
      "[1] Standard Errors assume that the covariance matrix of the errors is correctly specified.\n",
      "                            OLS Regression Results                            \n",
      "==============================================================================\n",
      "Dep. Variable:                   lpmq   R-squared:                       0.570\n",
      "Model:                            OLS   Adj. R-squared:                  0.570\n",
      "Method:                 Least Squares   F-statistic:                     665.1\n",
      "Date:                Tue, 19 Oct 2021   Prob (F-statistic):               0.00\n",
      "Time:                        18:49:45   Log-Likelihood:                 1525.6\n",
      "No. Observations:                4016   AIC:                            -3033.\n",
      "Df Residuals:                    4007   BIC:                            -2977.\n",
      "Df Model:                           8                                         \n",
      "Covariance Type:            nonrobust                                         \n",
      "==============================================================================\n",
      "                 coef    std err          t      P>|t|      [0.025      0.975]\n",
      "------------------------------------------------------------------------------\n",
      "Intercept     10.5519      0.058    181.120      0.000      10.438      10.666\n",
      "lsuperf       -0.1008      0.013     -7.488      0.000      -0.127      -0.074\n",
      "ledad         -0.0179      0.008     -2.214      0.027      -0.034      -0.002\n",
      "lestudis1      0.7706      0.020     38.595      0.000       0.731       0.810\n",
      "dorm           0.0067      0.004      1.630      0.103      -0.001       0.015\n",
      "estado         0.1253      0.003     39.747      0.000       0.119       0.132\n",
      "ascensor       0.0600      0.007      9.160      0.000       0.047       0.073\n",
      "banys          0.0526      0.007      7.847      0.000       0.039       0.066\n",
      "extint         0.0121      0.007      1.625      0.104      -0.002       0.027\n",
      "==============================================================================\n",
      "Omnibus:                      122.631   Durbin-Watson:                   1.505\n",
      "Prob(Omnibus):                  0.000   Jarque-Bera (JB):              239.887\n",
      "Skew:                          -0.215   Prob(JB):                     8.11e-53\n",
      "Kurtosis:                       4.117   Cond. No.                         158.\n",
      "==============================================================================\n",
      "\n",
      "Notes:\n",
      "[1] Standard Errors assume that the covariance matrix of the errors is correctly specified.\n"
     ]
    }
   ],
   "source": [
    "# utilizando la api de formula de statsmodels\n",
    "est = smf.ols(formula='lpmq ~ lsuperf', data=df)\n",
    "res = est.fit()\n",
    "print(res.summary())\n",
    "est1= smf.ols(formula='lpmq ~ lsuperf+ledad+lestudis1', data=df)\n",
    "res=est1.fit()\n",
    "print(res.summary())\n",
    "est2= smf.ols(formula='lpmq ~ lsuperf+ledad+lestudis1+dorm+estado+ascensor+banys+extint ', data=df)\n",
    "res=est2.fit()\n",
    "print(res.summary())\n",
    "res=est2.fit()\n",
    "print(res.summary())\n"
   ]
  },
  {
   "cell_type": "markdown",
   "id": "eeda50ef",
   "metadata": {},
   "source": [
    "por casa ledad el precio disminuye un -0.0179\n",
    "\n",
    "Tener ascensor aumenta el preico del piso en 0.067 \n",
    "\n",
    "Por ser exterior el precio aumenta en un 0.0121"
   ]
  }
 ],
 "metadata": {
  "kernelspec": {
   "display_name": "Python 3",
   "language": "python",
   "name": "python3"
  },
  "language_info": {
   "codemirror_mode": {
    "name": "ipython",
    "version": 3
   },
   "file_extension": ".py",
   "mimetype": "text/x-python",
   "name": "python",
   "nbconvert_exporter": "python",
   "pygments_lexer": "ipython3",
   "version": "3.12.2"
  }
 },
 "nbformat": 4,
 "nbformat_minor": 5
}
