{
 "cells": [
  {
   "cell_type": "code",
   "execution_count": 1,
   "id": "0d9ca194",
   "metadata": {},
   "outputs": [
    {
     "name": "stdout",
     "output_type": "stream",
     "text": [
      "caso 1\n"
     ]
    }
   ],
   "source": [
    "# ejecuta caso 1\n",
    "print('caso 1')"
   ]
  },
  {
   "cell_type": "code",
   "execution_count": 1,
   "id": "f2c6502d",
   "metadata": {},
   "outputs": [],
   "source": [
    "# importando la api de statsmodels\n",
    "import numpy as np\n",
    "import statsmodels.api as sm\n",
    "import statsmodels.formula.api as smf"
   ]
  },
  {
   "cell_type": "code",
   "execution_count": 3,
   "id": "b153de56",
   "metadata": {},
   "outputs": [
    {
     "name": "stdout",
     "output_type": "stream",
     "text": [
      "     ATT     DJIA     GM    IBM  INT1M      ratt       rdj       rgm  \\\n",
      "0  28.79  4793.78  36.16  23.12   5.15 -0.023406  0.006065 -0.013100   \n",
      "1  28.44  4784.38  36.45  23.50   5.20 -0.012157 -0.001961  0.008020   \n",
      "2  29.08  4795.94  36.55  24.22   5.16  0.022504  0.002416  0.002743   \n",
      "\n",
      "       ribm     pratt      prdj      prgm     pribm  \n",
      "0 -0.005591 -0.023549  0.006066 -0.013101 -0.005591  \n",
      "1  0.016436 -0.012301 -0.001961  0.008020  0.016436  \n",
      "2  0.030638  0.022360  0.002416  0.002743  0.030638  \n"
     ]
    }
   ],
   "source": [
    "# Importando un DataFrame de pandas.\n",
    "import pandas as pd\n",
    "df=pd.read_csv('DOWJONES_1.csv')\n",
    "print(df[:3])"
   ]
  },
  {
   "cell_type": "markdown",
   "id": "5278196e",
   "metadata": {},
   "source": [
    "INT1M = Tipo de interess de bonos del estado\n",
    "\n",
    "ratt - rdj - rgm = rentabilidad diaria\n",
    "\n",
    "pratt ,prdj, prgm, pribm = Prima de riesgo de cada uno logicamnete = (INT1M - ratt) = (INT1M /360 dias) /100 = ((INT1M /360) /100) - ratt))\n",
    "\n",
    "\n"
   ]
  },
  {
   "cell_type": "code",
   "execution_count": 4,
   "id": "64400c72",
   "metadata": {},
   "outputs": [
    {
     "name": "stdout",
     "output_type": "stream",
     "text": [
      "                            OLS Regression Results                            \n",
      "==============================================================================\n",
      "Dep. Variable:                  pratt   R-squared:                       0.155\n",
      "Model:                            OLS   Adj. R-squared:                  0.155\n",
      "Method:                 Least Squares   F-statistic:                     239.6\n",
      "Date:                Mon, 31 Oct 2022   Prob (F-statistic):           9.60e-50\n",
      "Time:                        12:34:03   Log-Likelihood:                 3219.5\n",
      "No. Observations:                1305   AIC:                            -6435.\n",
      "Df Residuals:                    1303   BIC:                            -6425.\n",
      "Df Model:                           1                                         \n",
      "Covariance Type:            nonrobust                                         \n",
      "==============================================================================\n",
      "                 coef    std err          t      P>|t|      [0.025      0.975]\n",
      "------------------------------------------------------------------------------\n",
      "Intercept     -0.0006      0.001     -0.999      0.318      -0.002       0.001\n",
      "prdj           0.8183      0.053     15.480      0.000       0.715       0.922\n",
      "==============================================================================\n",
      "Omnibus:                      189.445   Durbin-Watson:                   2.012\n",
      "Prob(Omnibus):                  0.000   Jarque-Bera (JB):             1595.066\n",
      "Skew:                           0.384   Prob(JB):                         0.00\n",
      "Kurtosis:                       8.361   Cond. No.                         93.0\n",
      "==============================================================================\n",
      "\n",
      "Notes:\n",
      "[1] Standard Errors assume that the covariance matrix of the errors is correctly specified.\n",
      "                            OLS Regression Results                            \n",
      "==============================================================================\n",
      "Dep. Variable:                  pribm   R-squared:                       0.274\n",
      "Model:                            OLS   Adj. R-squared:                  0.273\n",
      "Method:                 Least Squares   F-statistic:                     491.6\n",
      "Date:                Mon, 31 Oct 2022   Prob (F-statistic):           1.12e-92\n",
      "Time:                        12:34:03   Log-Likelihood:                 3290.8\n",
      "No. Observations:                1305   AIC:                            -6578.\n",
      "Df Residuals:                    1303   BIC:                            -6567.\n",
      "Df Model:                           1                                         \n",
      "Covariance Type:            nonrobust                                         \n",
      "==============================================================================\n",
      "                 coef    std err          t      P>|t|      [0.025      0.975]\n",
      "------------------------------------------------------------------------------\n",
      "Intercept      0.0007      0.001      1.304      0.193      -0.000       0.002\n",
      "prdj           1.1098      0.050     22.173      0.000       1.012       1.208\n",
      "==============================================================================\n",
      "Omnibus:                      209.835   Durbin-Watson:                   1.924\n",
      "Prob(Omnibus):                  0.000   Jarque-Bera (JB):             1974.932\n",
      "Skew:                           0.433   Prob(JB):                         0.00\n",
      "Kurtosis:                       8.964   Cond. No.                         93.0\n",
      "==============================================================================\n",
      "\n",
      "Notes:\n",
      "[1] Standard Errors assume that the covariance matrix of the errors is correctly specified.\n",
      "                            OLS Regression Results                            \n",
      "==============================================================================\n",
      "Dep. Variable:                   prgm   R-squared:                       0.002\n",
      "Model:                            OLS   Adj. R-squared:                  0.001\n",
      "Method:                 Least Squares   F-statistic:                     2.058\n",
      "Date:                Mon, 31 Oct 2022   Prob (F-statistic):              0.152\n",
      "Time:                        12:34:03   Log-Likelihood:                 3290.3\n",
      "No. Observations:                1305   AIC:                            -6577.\n",
      "Df Residuals:                    1303   BIC:                            -6566.\n",
      "Df Model:                           1                                         \n",
      "Covariance Type:            nonrobust                                         \n",
      "==============================================================================\n",
      "                 coef    std err          t      P>|t|      [0.025      0.975]\n",
      "------------------------------------------------------------------------------\n",
      "Intercept      0.0006      0.001      1.117      0.264      -0.000       0.002\n",
      "prdj           0.0718      0.050      1.435      0.152      -0.026       0.170\n",
      "==============================================================================\n",
      "Omnibus:                       49.471   Durbin-Watson:                   2.116\n",
      "Prob(Omnibus):                  0.000   Jarque-Bera (JB):              122.409\n",
      "Skew:                           0.152   Prob(JB):                     2.63e-27\n",
      "Kurtosis:                       4.469   Cond. No.                         93.0\n",
      "==============================================================================\n",
      "\n",
      "Notes:\n",
      "[1] Standard Errors assume that the covariance matrix of the errors is correctly specified.\n"
     ]
    }
   ],
   "source": [
    "# utilizando la api de formula de statsmodels\n",
    "est = smf.ols(formula='pratt ~ prdj', data=df) # smf.ols modelo de regresion lineal simple (ols)\n",
    "res = est.fit()\n",
    "print(res.summary())\n",
    "est = smf.ols(formula='pribm ~ prdj', data=df)\n",
    "res=est.fit()\n",
    "print(res.summary())\n",
    "est = smf.ols(formula='prgm ~ prdj', data=df)\n",
    "res=est.fit()\n",
    "print(res.summary())\n"
   ]
  },
  {
   "cell_type": "markdown",
   "id": "8a8bc218",
   "metadata": {},
   "source": [
    "- P> t = p/valor > 0.05 no Rechazo la Hipotesis\n",
    "- Coef = constante\n",
    "- prdj = pendiente  0.8183 defensiva <1 y viceverza\n",
    "- R-squared = Bondad del ajuste = 0.155 puedo explicar un 0.155 \n",
    "- bondad del ajuste (goodness of fit) explica que parte del riesgo de la accion podemos explicar con el riesgo del mercado    (downjones). Solo ese % puede explicar con el mercado, y la diferencia no se puede explicar con el mercado.\n",
    "\n",
    "La accion no explica nada de\n",
    "\n",
    "1. Se cumple el modelo CAPM?\n",
    "\n",
    "2. Es una accion ofensiva o defensiva (de riesgo)?\n",
    "\n",
    "3. Que parte del riesgo de la accion puede explicar el riesgo del marcao?"
   ]
  }
 ],
 "metadata": {
  "kernelspec": {
   "display_name": "Python 3",
   "language": "python",
   "name": "python3"
  },
  "language_info": {
   "codemirror_mode": {
    "name": "ipython",
    "version": 3
   },
   "file_extension": ".py",
   "mimetype": "text/x-python",
   "name": "python",
   "nbconvert_exporter": "python",
   "pygments_lexer": "ipython3",
   "version": "3.12.2"
  }
 },
 "nbformat": 4,
 "nbformat_minor": 5
}
