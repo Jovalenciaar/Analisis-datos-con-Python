{
 "cells": [
  {
   "cell_type": "markdown",
   "id": "a296f198-ab9e-4096-a527-129f53056748",
   "metadata": {},
   "source": [
    "### Taller-Clase2\n",
    "\n"
   ]
  },
  {
   "cell_type": "markdown",
   "id": "5df804ed-456f-4d12-a036-1aa71a2dac77",
   "metadata": {},
   "source": [
    "### Leer las diapositivas 27,28 y 29 correspondientes a la clase 2"
   ]
  },
  {
   "cell_type": "markdown",
   "id": "544fd4fc-8fa4-4e90-98e9-b248f3a89830",
   "metadata": {
    "tags": []
   },
   "source": [
    "**Ejercicios a realizar**"
   ]
  },
  {
   "cell_type": "markdown",
   "id": "87a71050-8f04-4e35-b9e2-c5ff9b37559d",
   "metadata": {},
   "source": [
    "P1. Contruir una función y archivarla en el kit!!\n",
    " \n",
    "+ a. Construya la función **desvesta** que calcule la volatilidad en cualquier perido de tiempo(diaria, mensual, anual\n",
    "+ b. Pegue la funcion **desvesta** al archivo kit\n",
    " \n",
    "    "
   ]
  },
  {
   "cell_type": "markdown",
   "id": "1245d986",
   "metadata": {},
   "source": [
    "P2.  Dos años antes de la pandemia:2017-03-13 hasta 2019-10-8 y el Adj price\n",
    "\n",
    "+ a. Cuál de los stocks presenta la mayor rentabilidad, \"IBM\" o \"MSFT\"? (rentabilidad acumulada)\n",
    "+ b. Cuál de los stocks presenta  retornos  más volatiles, \"IBM\" o \"MSFT\"?\n",
    "+ c. Calcular los retornos anualizados de IBM y MSFT  ( Utilizar la función anual_ret del kit)\n",
    "+ d. Calcular la volatilidad anualizada de IBM y MSFT . ( Utilizar la función desvesta  del kit)\n",
    "+ e. Para una inversión de 1000U$,  cual es el percentil 1\\% de los retornos de IBM? y para MSFT\\"
   ]
  },
  {
   "cell_type": "markdown",
   "id": "b80a2f8e-f21d-4eb1-8b56-a96412f23ce1",
   "metadata": {},
   "source": [
    "P3.Consideremos tiempo de pandemia desde 2019-03-13 hasta 2021-10-8 y el Adj price.\n",
    "\n",
    "  Durante la pandemia:\n",
    "\n",
    "\n",
    "+ a. Cuál de los stocks presenta la mayor rentabilidad, \"IBM\" o \"MSFT\"? (rentabilidad acumulada)\n",
    "+ b. Cuál de los stocks presenta  retornos  más volatiles, \"IBM\" o \"MSFT\"?\n",
    "+ c. Calcular los retornos anualizados de IBM y MSFT  ( Utilizar la función anual_ret del kit)\n",
    "+ d. Calcular la volatilidad anualizada de IBM y MSFT . ( Utilizar la función desvesta  del kit)\n",
    "+ e. Para una inversión de 1000U$,  cual es el percentil 1\\% de los retornos de IBM? y para MSFT\\"
   ]
  },
  {
   "cell_type": "markdown",
   "id": "ec9ae1a1-306a-437c-93ed-ac8b613bea9a",
   "metadata": {},
   "source": [
    "P4. Para los años :2015-03-13 hasta 2017-10-8 y el Adj price\n",
    "\n",
    "+ a. Cuál de los stocks presenta la mayor rentabilidad, \"IBM\" o \"MSFT\"? (rentabilidad acumulada)\n",
    "+ b. Cuál de los stocks presenta  retornos  más volatiles, \"IBM\" o \"MSFT\"?\n",
    "+ c. Calcular los retornos anualizados de IBM y MSFT  ( Utilizar la función anual_ret del kit)\n",
    "+ d. Calcular la volatilidad anualizada de IBM y MSFT . ( Utilizar la función desvesta  del kit)\n",
    "+ e. Para una inversión de 1000U$,  cual es el percentil 1\\% de los retornos de IBM? y para MSFT\\"
   ]
  },
  {
   "cell_type": "markdown",
   "id": "8dedd59c-9c2c-4342-814b-391f533ed0dd",
   "metadata": {},
   "source": []
  },
  {
   "cell_type": "code",
   "execution_count": 1,
   "id": "9a7d8dd0-7f32-4cb8-aced-d12f36ca5b2a",
   "metadata": {},
   "outputs": [],
   "source": [
    "import yfinance as  yf\n",
    "import pandas as pd\n",
    "import datetime\n",
    "import kit\n",
    "import numpy as np\n"
   ]
  },
  {
   "cell_type": "code",
   "execution_count": 2,
   "id": "47dd7356",
   "metadata": {},
   "outputs": [
    {
     "name": "stderr",
     "output_type": "stream",
     "text": [
      "[*********************100%***********************]  2 of 2 completed\n"
     ]
    },
    {
     "data": {
      "text/html": [
       "<div>\n",
       "<style scoped>\n",
       "    .dataframe tbody tr th:only-of-type {\n",
       "        vertical-align: middle;\n",
       "    }\n",
       "\n",
       "    .dataframe tbody tr th {\n",
       "        vertical-align: top;\n",
       "    }\n",
       "\n",
       "    .dataframe thead th {\n",
       "        text-align: right;\n",
       "    }\n",
       "</style>\n",
       "<table border=\"1\" class=\"dataframe\">\n",
       "  <thead>\n",
       "    <tr style=\"text-align: right;\">\n",
       "      <th>Ticker</th>\n",
       "      <th>IBM</th>\n",
       "      <th>MSFT</th>\n",
       "    </tr>\n",
       "    <tr>\n",
       "      <th>Date</th>\n",
       "      <th></th>\n",
       "      <th></th>\n",
       "    </tr>\n",
       "  </thead>\n",
       "  <tbody>\n",
       "    <tr>\n",
       "      <th>2019-03-13 00:00:00+00:00</th>\n",
       "      <td>102.138062</td>\n",
       "      <td>108.599693</td>\n",
       "    </tr>\n",
       "    <tr>\n",
       "      <th>2019-03-14 00:00:00+00:00</th>\n",
       "      <td>102.307610</td>\n",
       "      <td>108.685066</td>\n",
       "    </tr>\n",
       "    <tr>\n",
       "      <th>2019-03-15 00:00:00+00:00</th>\n",
       "      <td>102.779381</td>\n",
       "      <td>109.937035</td>\n",
       "    </tr>\n",
       "    <tr>\n",
       "      <th>2019-03-18 00:00:00+00:00</th>\n",
       "      <td>103.354347</td>\n",
       "      <td>111.511490</td>\n",
       "    </tr>\n",
       "    <tr>\n",
       "      <th>2019-03-19 00:00:00+00:00</th>\n",
       "      <td>103.560745</td>\n",
       "      <td>111.587372</td>\n",
       "    </tr>\n",
       "    <tr>\n",
       "      <th>...</th>\n",
       "      <td>...</td>\n",
       "      <td>...</td>\n",
       "    </tr>\n",
       "    <tr>\n",
       "      <th>2021-10-01 00:00:00+00:00</th>\n",
       "      <td>119.380249</td>\n",
       "      <td>281.840149</td>\n",
       "    </tr>\n",
       "    <tr>\n",
       "      <th>2021-10-04 00:00:00+00:00</th>\n",
       "      <td>120.038284</td>\n",
       "      <td>276.000519</td>\n",
       "    </tr>\n",
       "    <tr>\n",
       "      <th>2021-10-05 00:00:00+00:00</th>\n",
       "      <td>119.238640</td>\n",
       "      <td>281.508698</td>\n",
       "    </tr>\n",
       "    <tr>\n",
       "      <th>2021-10-06 00:00:00+00:00</th>\n",
       "      <td>118.580597</td>\n",
       "      <td>285.749420</td>\n",
       "    </tr>\n",
       "    <tr>\n",
       "      <th>2021-10-07 00:00:00+00:00</th>\n",
       "      <td>118.122467</td>\n",
       "      <td>287.445770</td>\n",
       "    </tr>\n",
       "  </tbody>\n",
       "</table>\n",
       "<p>650 rows × 2 columns</p>\n",
       "</div>"
      ],
      "text/plain": [
       "Ticker                            IBM        MSFT\n",
       "Date                                             \n",
       "2019-03-13 00:00:00+00:00  102.138062  108.599693\n",
       "2019-03-14 00:00:00+00:00  102.307610  108.685066\n",
       "2019-03-15 00:00:00+00:00  102.779381  109.937035\n",
       "2019-03-18 00:00:00+00:00  103.354347  111.511490\n",
       "2019-03-19 00:00:00+00:00  103.560745  111.587372\n",
       "...                               ...         ...\n",
       "2021-10-01 00:00:00+00:00  119.380249  281.840149\n",
       "2021-10-04 00:00:00+00:00  120.038284  276.000519\n",
       "2021-10-05 00:00:00+00:00  119.238640  281.508698\n",
       "2021-10-06 00:00:00+00:00  118.580597  285.749420\n",
       "2021-10-07 00:00:00+00:00  118.122467  287.445770\n",
       "\n",
       "[650 rows x 2 columns]"
      ]
     },
     "execution_count": 2,
     "metadata": {},
     "output_type": "execute_result"
    }
   ],
   "source": [
    "start = datetime.datetime(2019,3,13)\n",
    "end = datetime.datetime(2021,10,8)\n",
    "stock = yf.download([\"IBM\", \"MSFT\"], start=start, end=end)\n",
    "stock_ad = stock['Adj Close']   \n",
    "stock_ad\n"
   ]
  },
  {
   "cell_type": "markdown",
   "id": "a742d8dc",
   "metadata": {},
   "source": [
    "+ a. Cuál de los stocks presenta la mayor rentabilidad, \"IBM\" o \"MSFT\"? (rentabilidad acumulada)"
   ]
  },
  {
   "cell_type": "code",
   "execution_count": 21,
   "id": "2a4a387c",
   "metadata": {},
   "outputs": [
    {
     "name": "stdout",
     "output_type": "stream",
     "text": [
      "El retorno acumulado es: Ticker\n",
      "IBM     0.156498\n",
      "MSFT    1.646837\n",
      "dtype: float64\n"
     ]
    }
   ],
   "source": [
    "kit.ret_acum (stock_ad)"
   ]
  },
  {
   "cell_type": "code",
   "execution_count": 19,
   "id": "b8420318",
   "metadata": {},
   "outputs": [
    {
     "name": "stdout",
     "output_type": "stream",
     "text": [
      "El retorno promedio diario es: Ticker\n",
      "IBM     0.000224\n",
      "MSFT    0.001501\n",
      "dtype: float64\n"
     ]
    }
   ],
   "source": [
    "kit.rpm(stock_ad)"
   ]
  },
  {
   "cell_type": "markdown",
   "id": "3c14c22c",
   "metadata": {},
   "source": [
    "+ b. Cuál de los stocks presenta  retornos  más volatiles, \"IBM\" o \"MSFT\"?"
   ]
  },
  {
   "cell_type": "code",
   "execution_count": 6,
   "id": "76fc098c",
   "metadata": {},
   "outputs": [
    {
     "data": {
      "text/plain": [
       "Ticker\n",
       "IBM     0.019032\n",
       "MSFT    0.019778\n",
       "dtype: float64"
      ]
     },
     "execution_count": 6,
     "metadata": {},
     "output_type": "execute_result"
    }
   ],
   "source": [
    "retorno = stock_ad.pct_change().dropna()\n",
    "retorno.std()\n"
   ]
  },
  {
   "cell_type": "markdown",
   "id": "886952db",
   "metadata": {},
   "source": [
    "+ c. Calcular los retornos anualizados de IBM y MSFT  ( Utilizar la función anual_ret del kit)"
   ]
  },
  {
   "cell_type": "code",
   "execution_count": 4,
   "id": "f6f0dc9d",
   "metadata": {},
   "outputs": [
    {
     "name": "stdout",
     "output_type": "stream",
     "text": [
      "El retorno anualizado es: Ticker\n",
      "IBM     0.058080\n",
      "MSFT    0.459287\n",
      "dtype: float64\n"
     ]
    }
   ],
   "source": [
    "kit.ret_d(stock_ad,252)"
   ]
  },
  {
   "cell_type": "code",
   "execution_count": 4,
   "id": "7418b358",
   "metadata": {},
   "outputs": [
    {
     "name": "stdout",
     "output_type": "stream",
     "text": [
      "Ticker\n",
      "IBM     inf\n",
      "MSFT    inf\n",
      "dtype: float64\n"
     ]
    }
   ],
   "source": [
    "kit.rent1lin(stock_ad,252)"
   ]
  },
  {
   "cell_type": "markdown",
   "id": "e0211ea5",
   "metadata": {},
   "source": [
    "+ d. Calcular la volatilidad anualizada de IBM y MSFT . ( Utilizar la función desvesta  del kit)"
   ]
  },
  {
   "cell_type": "code",
   "execution_count": 20,
   "id": "2b484a04",
   "metadata": {},
   "outputs": [
    {
     "name": "stdout",
     "output_type": "stream",
     "text": [
      "La volatilidad anualizada es: Ticker\n",
      "IBM     0.302117\n",
      "MSFT    0.313964\n",
      "dtype: float64\n"
     ]
    }
   ],
   "source": [
    "kit.desvast(stock_ad,tiempo=\"anual\")"
   ]
  },
  {
   "cell_type": "markdown",
   "id": "2a31b155",
   "metadata": {},
   "source": [
    "+ e. Para una inversión de 1000U$,  cual es el percentil 1\\% de los retornos de IBM? y para MSFT?\n"
   ]
  },
  {
   "cell_type": "code",
   "execution_count": 9,
   "id": "dc39f577",
   "metadata": {},
   "outputs": [
    {
     "data": {
      "text/html": [
       "<div>\n",
       "<style scoped>\n",
       "    .dataframe tbody tr th:only-of-type {\n",
       "        vertical-align: middle;\n",
       "    }\n",
       "\n",
       "    .dataframe tbody tr th {\n",
       "        vertical-align: top;\n",
       "    }\n",
       "\n",
       "    .dataframe thead th {\n",
       "        text-align: right;\n",
       "    }\n",
       "</style>\n",
       "<table border=\"1\" class=\"dataframe\">\n",
       "  <thead>\n",
       "    <tr style=\"text-align: right;\">\n",
       "      <th>Ticker</th>\n",
       "      <th>IBM</th>\n",
       "      <th>MSFT</th>\n",
       "    </tr>\n",
       "    <tr>\n",
       "      <th>Date</th>\n",
       "      <th></th>\n",
       "      <th></th>\n",
       "    </tr>\n",
       "  </thead>\n",
       "  <tbody>\n",
       "    <tr>\n",
       "      <th>2019-03-13 00:00:00+00:00</th>\n",
       "      <td>102.138069</td>\n",
       "      <td>108.599686</td>\n",
       "    </tr>\n",
       "    <tr>\n",
       "      <th>2019-03-14 00:00:00+00:00</th>\n",
       "      <td>102.307602</td>\n",
       "      <td>108.685051</td>\n",
       "    </tr>\n",
       "    <tr>\n",
       "      <th>2019-03-15 00:00:00+00:00</th>\n",
       "      <td>102.779358</td>\n",
       "      <td>109.937035</td>\n",
       "    </tr>\n",
       "    <tr>\n",
       "      <th>2019-03-18 00:00:00+00:00</th>\n",
       "      <td>103.354340</td>\n",
       "      <td>111.511497</td>\n",
       "    </tr>\n",
       "    <tr>\n",
       "      <th>2019-03-19 00:00:00+00:00</th>\n",
       "      <td>103.560760</td>\n",
       "      <td>111.587379</td>\n",
       "    </tr>\n",
       "    <tr>\n",
       "      <th>...</th>\n",
       "      <td>...</td>\n",
       "      <td>...</td>\n",
       "    </tr>\n",
       "    <tr>\n",
       "      <th>2021-10-01 00:00:00+00:00</th>\n",
       "      <td>119.380226</td>\n",
       "      <td>281.840118</td>\n",
       "    </tr>\n",
       "    <tr>\n",
       "      <th>2021-10-04 00:00:00+00:00</th>\n",
       "      <td>120.038292</td>\n",
       "      <td>276.000549</td>\n",
       "    </tr>\n",
       "    <tr>\n",
       "      <th>2021-10-05 00:00:00+00:00</th>\n",
       "      <td>119.238632</td>\n",
       "      <td>281.508698</td>\n",
       "    </tr>\n",
       "    <tr>\n",
       "      <th>2021-10-06 00:00:00+00:00</th>\n",
       "      <td>118.580627</td>\n",
       "      <td>285.749451</td>\n",
       "    </tr>\n",
       "    <tr>\n",
       "      <th>2021-10-07 00:00:00+00:00</th>\n",
       "      <td>118.122467</td>\n",
       "      <td>287.445709</td>\n",
       "    </tr>\n",
       "  </tbody>\n",
       "</table>\n",
       "<p>650 rows × 2 columns</p>\n",
       "</div>"
      ],
      "text/plain": [
       "Ticker                            IBM        MSFT\n",
       "Date                                             \n",
       "2019-03-13 00:00:00+00:00  102.138069  108.599686\n",
       "2019-03-14 00:00:00+00:00  102.307602  108.685051\n",
       "2019-03-15 00:00:00+00:00  102.779358  109.937035\n",
       "2019-03-18 00:00:00+00:00  103.354340  111.511497\n",
       "2019-03-19 00:00:00+00:00  103.560760  111.587379\n",
       "...                               ...         ...\n",
       "2021-10-01 00:00:00+00:00  119.380226  281.840118\n",
       "2021-10-04 00:00:00+00:00  120.038292  276.000549\n",
       "2021-10-05 00:00:00+00:00  119.238632  281.508698\n",
       "2021-10-06 00:00:00+00:00  118.580627  285.749451\n",
       "2021-10-07 00:00:00+00:00  118.122467  287.445709\n",
       "\n",
       "[650 rows x 2 columns]"
      ]
     },
     "execution_count": 9,
     "metadata": {},
     "output_type": "execute_result"
    }
   ],
   "source": [
    "stock_ad"
   ]
  },
  {
   "cell_type": "code",
   "execution_count": 10,
   "id": "44d0cc51",
   "metadata": {},
   "outputs": [
    {
     "data": {
      "text/plain": [
       "Date\n",
       "2019-03-13 00:00:00+00:00    102.138069\n",
       "2019-03-14 00:00:00+00:00    102.307602\n",
       "2019-03-15 00:00:00+00:00    102.779358\n",
       "2019-03-18 00:00:00+00:00    103.354340\n",
       "2019-03-19 00:00:00+00:00    103.560760\n",
       "                                ...    \n",
       "2021-10-01 00:00:00+00:00    119.380226\n",
       "2021-10-04 00:00:00+00:00    120.038292\n",
       "2021-10-05 00:00:00+00:00    119.238632\n",
       "2021-10-06 00:00:00+00:00    118.580627\n",
       "2021-10-07 00:00:00+00:00    118.122467\n",
       "Name: IBM, Length: 650, dtype: float64"
      ]
     },
     "execution_count": 10,
     "metadata": {},
     "output_type": "execute_result"
    }
   ],
   "source": [
    "IBM = stock_ad[\"IBM\"]\n",
    "IBM"
   ]
  },
  {
   "cell_type": "code",
   "execution_count": 11,
   "id": "09878305",
   "metadata": {},
   "outputs": [
    {
     "data": {
      "text/plain": [
       "Date\n",
       "2019-03-14 00:00:00+00:00    0.001660\n",
       "2019-03-15 00:00:00+00:00    0.004611\n",
       "2019-03-18 00:00:00+00:00    0.005594\n",
       "2019-03-19 00:00:00+00:00    0.001997\n",
       "2019-03-20 00:00:00+00:00   -0.006335\n",
       "                               ...   \n",
       "2021-10-01 00:00:00+00:00    0.031599\n",
       "2021-10-04 00:00:00+00:00    0.005512\n",
       "2021-10-05 00:00:00+00:00   -0.006662\n",
       "2021-10-06 00:00:00+00:00   -0.005518\n",
       "2021-10-07 00:00:00+00:00   -0.003864\n",
       "Name: IBM, Length: 649, dtype: float64"
      ]
     },
     "execution_count": 11,
     "metadata": {},
     "output_type": "execute_result"
    }
   ],
   "source": [
    "retorno_IBM = IBM.pct_change().dropna()\n",
    "retorno_IBM"
   ]
  },
  {
   "cell_type": "code",
   "execution_count": 12,
   "id": "65384380",
   "metadata": {},
   "outputs": [
    {
     "data": {
      "text/plain": [
       "np.float64(-0.05488443470431955)"
      ]
     },
     "execution_count": 12,
     "metadata": {},
     "output_type": "execute_result"
    }
   ],
   "source": [
    "percentil_IBM = np.percentile(retorno_IBM, 1)\n",
    "percentil_IBM"
   ]
  },
  {
   "cell_type": "code",
   "execution_count": 13,
   "id": "a4079b99",
   "metadata": {},
   "outputs": [
    {
     "data": {
      "text/plain": [
       "np.float64(-54.88443470431955)"
      ]
     },
     "execution_count": 13,
     "metadata": {},
     "output_type": "execute_result"
    }
   ],
   "source": [
    "r_IBM = percentil_IBM * 1000\n",
    "r_IBM"
   ]
  },
  {
   "cell_type": "code",
   "execution_count": 14,
   "id": "65bd512d",
   "metadata": {},
   "outputs": [
    {
     "data": {
      "text/plain": [
       "Date\n",
       "2019-03-13 00:00:00+00:00    108.599686\n",
       "2019-03-14 00:00:00+00:00    108.685051\n",
       "2019-03-15 00:00:00+00:00    109.937035\n",
       "2019-03-18 00:00:00+00:00    111.511497\n",
       "2019-03-19 00:00:00+00:00    111.587379\n",
       "                                ...    \n",
       "2021-10-01 00:00:00+00:00    281.840118\n",
       "2021-10-04 00:00:00+00:00    276.000549\n",
       "2021-10-05 00:00:00+00:00    281.508698\n",
       "2021-10-06 00:00:00+00:00    285.749451\n",
       "2021-10-07 00:00:00+00:00    287.445709\n",
       "Name: MSFT, Length: 650, dtype: float64"
      ]
     },
     "execution_count": 14,
     "metadata": {},
     "output_type": "execute_result"
    }
   ],
   "source": [
    "MSFT = stock_ad[\"MSFT\"]\n",
    "MSFT"
   ]
  },
  {
   "cell_type": "code",
   "execution_count": 15,
   "id": "5dcf1a77",
   "metadata": {},
   "outputs": [
    {
     "data": {
      "text/plain": [
       "Date\n",
       "2019-03-14 00:00:00+00:00    0.000786\n",
       "2019-03-15 00:00:00+00:00    0.011519\n",
       "2019-03-18 00:00:00+00:00    0.014321\n",
       "2019-03-19 00:00:00+00:00    0.000680\n",
       "2019-03-20 00:00:00+00:00   -0.001105\n",
       "                               ...   \n",
       "2021-10-01 00:00:00+00:00    0.025468\n",
       "2021-10-04 00:00:00+00:00   -0.020719\n",
       "2021-10-05 00:00:00+00:00    0.019957\n",
       "2021-10-06 00:00:00+00:00    0.015064\n",
       "2021-10-07 00:00:00+00:00    0.005936\n",
       "Name: MSFT, Length: 649, dtype: float64"
      ]
     },
     "execution_count": 15,
     "metadata": {},
     "output_type": "execute_result"
    }
   ],
   "source": [
    "retorno_MSFT = MSFT.pct_change().dropna()\n",
    "retorno_MSFT"
   ]
  },
  {
   "cell_type": "code",
   "execution_count": 16,
   "id": "f3f8cd8e",
   "metadata": {},
   "outputs": [
    {
     "data": {
      "text/plain": [
       "np.float64(-0.051714801057122846)"
      ]
     },
     "execution_count": 16,
     "metadata": {},
     "output_type": "execute_result"
    }
   ],
   "source": [
    "percentil_MSFT = np.percentile(retorno_MSFT, 1)\n",
    "percentil_MSFT"
   ]
  },
  {
   "cell_type": "code",
   "execution_count": 17,
   "id": "7729758e",
   "metadata": {},
   "outputs": [
    {
     "data": {
      "text/plain": [
       "np.float64(-51.71480105712285)"
      ]
     },
     "execution_count": 17,
     "metadata": {},
     "output_type": "execute_result"
    }
   ],
   "source": [
    "r_MSFT = percentil_MSFT * 1000    \n",
    "r_MSFT"
   ]
  },
  {
   "cell_type": "markdown",
   "id": "6daf85f9",
   "metadata": {},
   "source": [
    "----------------------------------------------------------------------------------------------------------------------------"
   ]
  }
 ],
 "metadata": {
  "kernelspec": {
   "display_name": "Python 3",
   "language": "python",
   "name": "python3"
  },
  "language_info": {
   "codemirror_mode": {
    "name": "ipython",
    "version": 3
   },
   "file_extension": ".py",
   "mimetype": "text/x-python",
   "name": "python",
   "nbconvert_exporter": "python",
   "pygments_lexer": "ipython3",
   "version": "3.12.2"
  }
 },
 "nbformat": 4,
 "nbformat_minor": 5
}
