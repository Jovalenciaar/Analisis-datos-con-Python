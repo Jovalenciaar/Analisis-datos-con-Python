{
 "cells": [
  {
   "cell_type": "markdown",
   "id": "e7e9f48b-3692-41aa-8148-01a9bcac8f12",
   "metadata": {},
   "source": [
    "### SHARPE RATIO"
   ]
  },
  {
   "cell_type": "markdown",
   "id": "41113c91-3fac-43ad-a7e9-e410527622d3",
   "metadata": {
    "tags": []
   },
   "source": [
    "La expresión matemática del Ratio de Sharpe es:\n",
    "    \n",
    "#### S=$\\frac{R_p-R_f}{σ_p}$\n",
    "\n",
    " - Rp: Es la rentabilidad esperada (promedio aritmético) del activo o  la cartera, del cual estamos calculando el ratio. \n",
    " - Rf: Es la rentabilidad esperada (promedio aritmético) del activo sin riesgo (risk free asset)\n",
    " - σp: Es la desviación estándar del rendimiento del activo o la cartera "
   ]
  },
  {
   "cell_type": "markdown",
   "id": "7a8cf10a-a374-4b67-8186-7f61d4ba2920",
   "metadata": {
    "tags": []
   },
   "source": [
    "Este índice mide el exceso de rendimiento de la inversión por unidad de riesgo asumiendo que los retornos se distribuyen normalmente. Cuanto mayor sea el índice de Sharpe, mejor será el rendimiento ajustado al riesgo de la inversión.\n",
    "\n",
    "Si se desea expresar el índice de Sharpe en términos anuales, debes ajustar los valores  a un horizonte temporal anual"
   ]
  },
  {
   "cell_type": "markdown",
   "id": "002d0f74-d2ee-410f-9f13-1f98226b4d89",
   "metadata": {
    "tags": []
   },
   "source": [
    "### Ratio de Sharpe diario"
   ]
  },
  {
   "cell_type": "markdown",
   "id": "51b1fad3-7009-4aad-8d1e-37dbf1640392",
   "metadata": {},
   "source": [
    "**Para AMZ en la ventana de tiempo: '2021-01-01' a'2023-01-01'**"
   ]
  },
  {
   "cell_type": "code",
   "execution_count": 11,
   "id": "42f42fc1",
   "metadata": {},
   "outputs": [],
   "source": [
    "import kit"
   ]
  },
  {
   "cell_type": "code",
   "execution_count": 1,
   "id": "03104115-911a-4fd4-b8f8-e82b921675c1",
   "metadata": {
    "tags": []
   },
   "outputs": [
    {
     "name": "stderr",
     "output_type": "stream",
     "text": [
      "[*********************100%***********************]  1 of 1 completed"
     ]
    },
    {
     "name": "stdout",
     "output_type": "stream",
     "text": [
      "Date\n",
      "2021-01-04    159.331497\n",
      "2021-01-05    160.925507\n",
      "2021-01-06    156.919006\n",
      "2021-01-07    158.108002\n",
      "2021-01-08    159.134995\n",
      "Name: Adj Close, dtype: float64\n"
     ]
    },
    {
     "name": "stderr",
     "output_type": "stream",
     "text": [
      "\n"
     ]
    }
   ],
   "source": [
    "import pandas as pd  \n",
    "import datetime  \n",
    "import yfinance as yf\n",
    "\n",
    "symbol = ['AMZN']  \n",
    "#'^IRX': Distribución precios del activo sin riesgo (bonos de EE. UU.)\n",
    "\n",
    "start_date = '2021-01-01'\n",
    "end_date = '2023-01-01'\n",
    "\n",
    "stocks = yf.download(symbol, start=start_date, end=end_date)\n",
    "stocks_ad= stocks['Adj Close']\n",
    "print(stocks_ad.head())     "
   ]
  },
  {
   "cell_type": "code",
   "execution_count": null,
   "id": "7845cc2e-f903-4b48-920b-a77102a68c4d",
   "metadata": {
    "tags": []
   },
   "outputs": [],
   "source": [
    "# Calcular rendimiento promedio de los rendimientos diarios y desviación estándar\n",
    "returns  \n",
    "Rd \n",
    "Sd \n"
   ]
  },
  {
   "cell_type": "code",
   "execution_count": 6,
   "id": "37b8636a",
   "metadata": {},
   "outputs": [
    {
     "data": {
      "text/plain": [
       "Date\n",
       "2021-01-05    0.010004\n",
       "2021-01-06   -0.024897\n",
       "2021-01-07    0.007577\n",
       "2021-01-08    0.006496\n",
       "2021-01-11   -0.021519\n",
       "                ...   \n",
       "2022-12-23    0.017425\n",
       "2022-12-27   -0.025924\n",
       "2022-12-28   -0.014692\n",
       "2022-12-29    0.028844\n",
       "2022-12-30   -0.002138\n",
       "Name: Adj Close, Length: 502, dtype: float64"
      ]
     },
     "execution_count": 6,
     "metadata": {},
     "output_type": "execute_result"
    }
   ],
   "source": [
    "retornos = stocks_ad.pct_change().dropna()\n",
    "retornos\n"
   ]
  },
  {
   "cell_type": "code",
   "execution_count": 7,
   "id": "bb348e47",
   "metadata": {},
   "outputs": [
    {
     "data": {
      "text/plain": [
       "np.float64(-0.4727972718503022)"
      ]
     },
     "execution_count": 7,
     "metadata": {},
     "output_type": "execute_result"
    }
   ],
   "source": [
    "ret_acum = (1+retornos).product()-1\n",
    "ret_acum"
   ]
  },
  {
   "cell_type": "code",
   "execution_count": 10,
   "id": "45545c1c",
   "metadata": {},
   "outputs": [
    {
     "data": {
      "text/plain": [
       "np.float64(-0.0012744265128061816)"
      ]
     },
     "execution_count": 10,
     "metadata": {},
     "output_type": "execute_result"
    }
   ],
   "source": [
    "ret_prom=(ret_acum+1)**(1/retornos.shape[0])-1\n",
    "ret_prom"
   ]
  },
  {
   "cell_type": "code",
   "execution_count": 13,
   "id": "eb5d5607",
   "metadata": {},
   "outputs": [
    {
     "name": "stdout",
     "output_type": "stream",
     "text": [
      "El retorno promedio diario es: -0.0012744265128061816\n"
     ]
    }
   ],
   "source": [
    "kit.rpm(stocks_ad)"
   ]
  },
  {
   "cell_type": "markdown",
   "id": "8557b8f2-ff7a-4881-9788-0e13a23dc76e",
   "metadata": {
    "tags": []
   },
   "source": [
    "**El stock libre de riesgo: '2021-01-01' a'2023-01-01'**"
   ]
  },
  {
   "cell_type": "code",
   "execution_count": 15,
   "id": "bc2e81b0-6135-4788-bf71-fb737ba3899a",
   "metadata": {
    "tags": []
   },
   "outputs": [
    {
     "name": "stderr",
     "output_type": "stream",
     "text": [
      "[*********************100%***********************]  1 of 1 completed\n"
     ]
    },
    {
     "data": {
      "text/plain": [
       "Date\n",
       "2021-01-04    0.068\n",
       "2021-01-05    0.078\n",
       "2021-01-06    0.078\n",
       "2021-01-07    0.080\n",
       "2021-01-08    0.080\n",
       "              ...  \n",
       "2022-12-23    4.193\n",
       "2022-12-27    4.195\n",
       "2022-12-28    4.338\n",
       "2022-12-29    4.295\n",
       "2022-12-30    4.260\n",
       "Name: Adj Close, Length: 503, dtype: float64"
      ]
     },
     "execution_count": 15,
     "metadata": {},
     "output_type": "execute_result"
    }
   ],
   "source": [
    "# descargar '^IRX', start='2021-01-01', end='2023-01-01'\n",
    "\n",
    "IRX = yf.download('^IRX', start='2021-01-01', end='2023-01-01')[\"Adj Close\"]\n",
    "IRX\n"
   ]
  },
  {
   "cell_type": "markdown",
   "id": "2b6f506c-b366-4d1e-b93f-8d3e68d429d9",
   "metadata": {},
   "source": [
    "El ticker: **'^IRX'** hace referencia al rendimiento anualizado de los bonos del Tesoro de EE. UU.( T-Bill) a 13 semanas (3 meses).\n",
    "\n",
    "Los datos son reportados en porcentaje (%) y representan el retorno anualizado que recibirían los inversores a partir del momento de la compra.\n",
    "\n",
    "Por ejemplo el rendimiento de 0.068 corresponde a un 0.68% anual, es decir que si se compra un T-Bill a 13 semanas el 4 de enero de 2021, y si este rendimiento se mantuviera constante durante todo un año, se obtendría un retorno anual de 0.068%.\n",
    "\n",
    "Para obtener el rendimiento correspondiente a los 3 meses reales (13 semanas), simplemente se divide el rendimiento anual entre 4 (porque hay 4 periodos de 13 semanas en un año):\n",
    "\n",
    "\n",
    "Rendimiento diario compuesto\n",
    "\n",
    "$$\\left(1+\\frac{0.068\\%}{100}\\right)^{\\frac{1}{252}}-1=0.000002697$$\n",
    "\n",
    "\n",
    "\n",
    "\n",
    "\n",
    "\n",
    "\n"
   ]
  },
  {
   "cell_type": "code",
   "execution_count": 16,
   "id": "518b38ff-d2b9-434b-90b9-1429565f0124",
   "metadata": {
    "tags": []
   },
   "outputs": [
    {
     "data": {
      "text/plain": [
       "Date\n",
       "2021-01-04    0.00068\n",
       "2021-01-05    0.00078\n",
       "2021-01-06    0.00078\n",
       "2021-01-07    0.00080\n",
       "2021-01-08    0.00080\n",
       "               ...   \n",
       "2022-12-23    0.04193\n",
       "2022-12-27    0.04195\n",
       "2022-12-28    0.04338\n",
       "2022-12-29    0.04295\n",
       "2022-12-30    0.04260\n",
       "Name: Adj Close, Length: 503, dtype: float64"
      ]
     },
     "execution_count": 16,
     "metadata": {},
     "output_type": "execute_result"
    }
   ],
   "source": [
    "# pasar a decimal el libre de riesgo:\n",
    "IRX_2 = IRX/100\n",
    "IRX_2\n"
   ]
  },
  {
   "cell_type": "code",
   "execution_count": 18,
   "id": "754af6bf-3a67-4c79-85a2-4b7c5ff30ea9",
   "metadata": {
    "tags": []
   },
   "outputs": [
    {
     "name": "stderr",
     "output_type": "stream",
     "text": [
      "C:\\Users\\Lenovo\\AppData\\Local\\Temp\\ipykernel_37792\\2019565226.py:2: FutureWarning: 'Y' is deprecated and will be removed in a future version, please use 'YE' instead.\n",
      "  IRX_anual = IRX.resample('Y').apply(lambda x: x.iloc[0])/100\n"
     ]
    },
    {
     "data": {
      "text/plain": [
       "Date\n",
       "2021-12-31    0.00068\n",
       "2022-12-31    0.00053\n",
       "Freq: YE-DEC, Name: Adj Close, dtype: float64"
      ]
     },
     "execution_count": 18,
     "metadata": {},
     "output_type": "execute_result"
    }
   ],
   "source": [
    "#Calcular el anual del libre de riesgo\n",
    "IRX_anual = IRX.resample('Y').apply(lambda x: x.iloc[0])/100\n"
   ]
  },
  {
   "cell_type": "code",
   "execution_count": 20,
   "id": "17949eaf-5fc6-4ced-9a11-f4161e4f51ff",
   "metadata": {
    "tags": []
   },
   "outputs": [],
   "source": [
    "# pasar a diario el libre de riesgo:\n"
   ]
  },
  {
   "cell_type": "code",
   "execution_count": null,
   "id": "301204d2-b1d9-42fc-ae4f-01632f8616db",
   "metadata": {
    "tags": []
   },
   "outputs": [],
   "source": [
    "#calcular la media del dirio libre de riesgo\n"
   ]
  },
  {
   "cell_type": "code",
   "execution_count": null,
   "id": "6561644b-4470-4e41-91cf-683f82ab46cb",
   "metadata": {
    "tags": []
   },
   "outputs": [],
   "source": [
    "# Ratio de Sharpe\n",
    "\n",
    "RS=(Rd-Rfd)/Sd\n",
    "RS"
   ]
  },
  {
   "cell_type": "code",
   "execution_count": null,
   "id": "c66d68ae-ed5f-47e7-8e97-1685dc3f85ca",
   "metadata": {},
   "outputs": [],
   "source": []
  },
  {
   "cell_type": "markdown",
   "id": "83841919-61fb-4b1b-8f86-c1fbfecd5add",
   "metadata": {
    "tags": []
   },
   "source": [
    "### Ratio de Sharpe mensual"
   ]
  },
  {
   "cell_type": "code",
   "execution_count": null,
   "id": "0b3a622c-23b0-42ff-80e2-00742fcf20ac",
   "metadata": {
    "tags": []
   },
   "outputs": [],
   "source": [
    "ret_mes =returns.resample('M').apply(lambda x: (1+ x).product()-1)\n",
    "ret_mes.head()"
   ]
  },
  {
   "cell_type": "code",
   "execution_count": null,
   "id": "6d985f62-fe59-4cb6-a7c9-692e2eaaac95",
   "metadata": {
    "tags": []
   },
   "outputs": [],
   "source": []
  },
  {
   "cell_type": "code",
   "execution_count": null,
   "id": "e45f8c74-f797-44e0-98c0-c2359dad30d0",
   "metadata": {
    "tags": []
   },
   "outputs": [],
   "source": []
  },
  {
   "cell_type": "code",
   "execution_count": null,
   "id": "d69cfb97-4e25-48f3-9dfd-64a0343a8e8c",
   "metadata": {
    "tags": []
   },
   "outputs": [],
   "source": []
  },
  {
   "cell_type": "code",
   "execution_count": null,
   "id": "9bcdf5e7-aa3f-4912-b029-43e07ddfeb04",
   "metadata": {},
   "outputs": [],
   "source": []
  },
  {
   "cell_type": "code",
   "execution_count": null,
   "id": "d14f3399-5eac-467b-a42e-2b0cd73fea81",
   "metadata": {},
   "outputs": [],
   "source": []
  },
  {
   "cell_type": "code",
   "execution_count": null,
   "id": "afac91dc-0746-4eba-98de-ede3492fe385",
   "metadata": {},
   "outputs": [],
   "source": []
  },
  {
   "cell_type": "code",
   "execution_count": null,
   "id": "11f29bfa-0bb9-4b0c-9b55-4a2660329331",
   "metadata": {},
   "outputs": [],
   "source": []
  },
  {
   "cell_type": "code",
   "execution_count": null,
   "id": "1bc0de35-296c-4fe8-80fc-fc1ce9ead1fb",
   "metadata": {},
   "outputs": [],
   "source": []
  }
 ],
 "metadata": {
  "kernelspec": {
   "display_name": "Python 3",
   "language": "python",
   "name": "python3"
  },
  "language_info": {
   "codemirror_mode": {
    "name": "ipython",
    "version": 3
   },
   "file_extension": ".py",
   "mimetype": "text/x-python",
   "name": "python",
   "nbconvert_exporter": "python",
   "pygments_lexer": "ipython3",
   "version": "3.12.2"
  }
 },
 "nbformat": 4,
 "nbformat_minor": 5
}
