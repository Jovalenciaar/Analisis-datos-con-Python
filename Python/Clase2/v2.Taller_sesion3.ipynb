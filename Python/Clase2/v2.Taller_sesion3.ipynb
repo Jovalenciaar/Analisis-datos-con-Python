{
 "cells": [
  {
   "cell_type": "markdown",
   "id": "a296f198-ab9e-4096-a527-129f53056748",
   "metadata": {},
   "source": [
    "### Taller-Clase3\n",
    "\n"
   ]
  },
  {
   "cell_type": "markdown",
   "id": "544fd4fc-8fa4-4e90-98e9-b248f3a89830",
   "metadata": {
    "tags": []
   },
   "source": [
    "**Ejercicios a realizar**"
   ]
  },
  {
   "cell_type": "markdown",
   "id": "87a71050-8f04-4e35-b9e2-c5ff9b37559d",
   "metadata": {},
   "source": [
    " En la pagina: https://www.dividendmax.com/market-index-constituents/ibex-35\n",
    "  se encuentran los stocks que actualmente confroman el IBEX 35\n",
    " \n",
    "    "
   ]
  },
  {
   "cell_type": "markdown",
   "id": "8dedd59c-9c2c-4342-814b-391f533ed0dd",
   "metadata": {},
   "source": [
    "##### 1. Ventana de tiempo de cada stock ( Desde cuando esta cotizando cada stock?)"
   ]
  },
  {
   "cell_type": "code",
   "execution_count": 1,
   "id": "70ac6af5",
   "metadata": {},
   "outputs": [],
   "source": [
    "import pandas as pd\n",
    "import numpy as np\n",
    "import yfinance as yf\n",
    "import kit\n",
    "import datetime\n",
    "import matplotlib.pyplot as plt"
   ]
  },
  {
   "cell_type": "code",
   "execution_count": 8,
   "id": "fb19ad5a",
   "metadata": {},
   "outputs": [],
   "source": [
    "texto = \"\"\"\n",
    "ANA\n",
    "ACX\n",
    "ACS\n",
    "AENA\n",
    "AMS\n",
    "BBVA\n",
    "SAB\n",
    "SAN\n",
    "BKT\n",
    "CABK\n",
    "CLNX\n",
    "ENG\n",
    "ELE\n",
    "FER\n",
    "GRF\n",
    "IBE\n",
    "IDR\n",
    "ITX\n",
    "IAG\n",
    "MAP\n",
    "TL5\n",
    "MEL\n",
    "MRL\n",
    "NTGY\n",
    "RED\n",
    "REP\n",
    "SGRE\n",
    "TRE\n",
    "TEF\n",
    "VIS\n",
    "\n",
    "\n",
    "\"\"\""
   ]
  },
  {
   "cell_type": "code",
   "execution_count": 9,
   "id": "f0d91a2f",
   "metadata": {},
   "outputs": [
    {
     "data": {
      "text/plain": [
       "['',\n",
       " 'ANA',\n",
       " 'ACX',\n",
       " 'ACS',\n",
       " 'AENA',\n",
       " 'AMS',\n",
       " 'BBVA',\n",
       " 'SAB',\n",
       " 'SAN',\n",
       " 'BKT',\n",
       " 'CABK',\n",
       " 'CLNX',\n",
       " 'ENG',\n",
       " 'ELE',\n",
       " 'FER',\n",
       " 'GRF',\n",
       " 'IBE',\n",
       " 'IDR',\n",
       " 'ITX',\n",
       " 'IAG',\n",
       " 'MAP',\n",
       " 'TL5',\n",
       " 'MEL',\n",
       " 'MRL',\n",
       " 'NTGY',\n",
       " 'RED',\n",
       " 'REP',\n",
       " 'SGRE',\n",
       " 'TRE',\n",
       " 'TEF',\n",
       " 'VIS',\n",
       " '',\n",
       " '']"
      ]
     },
     "execution_count": 9,
     "metadata": {},
     "output_type": "execute_result"
    }
   ],
   "source": [
    "lista = texto.splitlines() # Toma cada lina como un elemento de la lista\n",
    "lista"
   ]
  },
  {
   "cell_type": "code",
   "execution_count": 10,
   "id": "137b332e",
   "metadata": {},
   "outputs": [],
   "source": [
    "lista_nueva = []\n",
    "\n",
    "for i in lista: #vamos a dejar en la lista solo las lineas no vacías\n",
    "    if i: # verdadero o falso. Considera los vacios o nan's falso\n",
    "        lista_nueva.append(i)"
   ]
  },
  {
   "cell_type": "code",
   "execution_count": 11,
   "id": "edee06d9",
   "metadata": {},
   "outputs": [
    {
     "data": {
      "text/plain": [
       "['ANA',\n",
       " 'ACX',\n",
       " 'ACS',\n",
       " 'AENA',\n",
       " 'AMS',\n",
       " 'BBVA',\n",
       " 'SAB',\n",
       " 'SAN',\n",
       " 'BKT',\n",
       " 'CABK',\n",
       " 'CLNX',\n",
       " 'ENG',\n",
       " 'ELE',\n",
       " 'FER',\n",
       " 'GRF',\n",
       " 'IBE',\n",
       " 'IDR',\n",
       " 'ITX',\n",
       " 'IAG',\n",
       " 'MAP',\n",
       " 'TL5',\n",
       " 'MEL',\n",
       " 'MRL',\n",
       " 'NTGY',\n",
       " 'RED',\n",
       " 'REP',\n",
       " 'SGRE',\n",
       " 'TRE',\n",
       " 'TEF',\n",
       " 'VIS']"
      ]
     },
     "execution_count": 11,
     "metadata": {},
     "output_type": "execute_result"
    }
   ],
   "source": [
    "lista_nueva"
   ]
  },
  {
   "cell_type": "code",
   "execution_count": 12,
   "id": "fde0aef6",
   "metadata": {},
   "outputs": [],
   "source": [
    "stocks = [\"ANA\",\"ACX\",\"ACS\",\"AENA\",\"AMS\",\"BBVA\",\"SAB\",\n",
    "\"SAN\",\"BKT\",\"CABK\",\"CLNX\",\"ENG\",\"ELE\",\"FER\",\"GRF\",\"IBE\",\"IDR\",\"ITX\",\"IAG\",\"MAP\",\"TL5\",\n",
    "\"MEL\",\"MRL\",\"NTGY\",\"RED\",\"REP\",\"SGRE\",\"TRE\",\"TEF\",\"VIS\"]"
   ]
  },
  {
   "cell_type": "code",
   "execution_count": 18,
   "id": "77193d90",
   "metadata": {},
   "outputs": [
    {
     "name": "stderr",
     "output_type": "stream",
     "text": [
      "[*********************100%***********************]  30 of 30 completed\n",
      "\n",
      "4 Failed downloads:\n",
      "['SGRE', 'NTGY', 'TL5', 'AENA']: YFTzMissingError('$%ticker%: possibly delisted; no timezone found')\n"
     ]
    },
    {
     "name": "stdout",
     "output_type": "stream",
     "text": [
      "Para 1-ANA, la fecha inicial es 2018-07-05 y la fecha final es 2022-03-02\n",
      "Para 2-ACX, la fecha inicial es 2005-04-22 y la fecha final es 2018-06-28\n",
      "Para 3-ACS, la fecha inicial es 1999-09-28 y la fecha final es 2018-08-08\n",
      "Para 4-AENA, la fecha inicial es None y la fecha final es None\n",
      "Para 5-AMS, la fecha inicial es 1984-07-03 y la fecha final es 2024-10-21\n",
      "Para 6-BBVA, la fecha inicial es 1988-12-15 y la fecha final es 2024-10-21\n",
      "Para 7-SAB, la fecha inicial es 2016-12-06 y la fecha final es 2022-03-02\n",
      "Para 8-SAN, la fecha inicial es 1987-07-30 y la fecha final es 2024-10-18\n",
      "Para 9-BKT, la fecha inicial es 1988-07-22 y la fecha final es 2024-10-21\n",
      "Para 10-CABK, la fecha inicial es 2001-10-09 y la fecha final es 2022-03-02\n",
      "Para 11-CLNX, la fecha inicial es 2018-05-31 y la fecha final es 2018-06-28\n",
      "Para 12-ENG, la fecha inicial es 1995-01-20 y la fecha final es 2024-10-21\n",
      "Para 13-ELE, la fecha inicial es 2000-01-04 y la fecha final es 2018-06-28\n",
      "Para 14-FER, la fecha inicial es 2012-08-13 y la fecha final es 2024-10-18\n",
      "Para 15-GRF, la fecha inicial es 2004-01-23 y la fecha final es 2024-10-21\n",
      "Para 16-IBE, la fecha inicial es 2007-12-28 y la fecha final es 2018-06-28\n",
      "Para 17-IDR, la fecha inicial es 1999-10-27 y la fecha final es 2024-10-21\n",
      "Para 18-ITX, la fecha inicial es 2007-11-20 y la fecha final es 2018-06-28\n",
      "Para 19-IAG, la fecha inicial es 2003-07-15 y la fecha final es 2024-10-21\n",
      "Para 20-MAP, la fecha inicial es 2014-10-03 y la fecha final es 2018-06-28\n",
      "Para 21-TL5, la fecha inicial es None y la fecha final es None\n",
      "Para 22-MEL, la fecha inicial es 2008-11-06 y la fecha final es 2018-06-28\n",
      "Para 23-MRL, la fecha inicial es 2011-01-21 y la fecha final es 2018-06-28\n",
      "Para 24-NTGY, la fecha inicial es None y la fecha final es None\n",
      "Para 25-RED, la fecha inicial es 2021-02-04 y la fecha final es 2022-03-02\n",
      "Para 26-REP, la fecha inicial es 2007-12-28 y la fecha final es 2018-06-28\n",
      "Para 27-SGRE, la fecha inicial es None y la fecha final es None\n",
      "Para 28-TRE, la fecha inicial es 2012-06-18 y la fecha final es 2022-03-02\n",
      "Para 29-TEF, la fecha inicial es 1987-06-12 y la fecha final es 2024-10-21\n",
      "Para 30-VIS, la fecha inicial es 2004-09-29 y la fecha final es 2024-10-21\n"
     ]
    }
   ],
   "source": [
    "df = yf.download(stocks)\n",
    "df_adj = df['Adj Close']\n",
    "df_adj.index = pd.to_datetime(df_adj.index, format='%Y-%m-%d')\n",
    "df_adj.index = df_adj.index.strftime('%Y-%m-%d')\n",
    "k = 0 # Enumera los stocks\n",
    "for i in stocks:\n",
    "   desde = df_adj[i].first_valid_index()\n",
    "   hasta = df_adj[i].last_valid_index()\n",
    "   k += 1\n",
    "   print(f\"Para {k}-{i}, la fecha inicial es {desde} y la fecha final es {hasta}\")"
   ]
  },
  {
   "cell_type": "markdown",
   "id": "cf406a2b",
   "metadata": {},
   "source": [
    "----------------------"
   ]
  },
  {
   "cell_type": "markdown",
   "id": "605fc16e-2e28-4642-bc25-b1d0cd0a378d",
   "metadata": {},
   "source": [
    "##### 2. Para los bancos 'BBVA', 'BKT'y 'SAN'  en la ventana de tiempo del  '2020-01-01'hasta '2024-10-17'"
   ]
  },
  {
   "cell_type": "code",
   "execution_count": 37,
   "id": "297e7892",
   "metadata": {},
   "outputs": [
    {
     "name": "stderr",
     "output_type": "stream",
     "text": [
      "[*********************100%***********************]  3 of 3 completed\n"
     ]
    },
    {
     "data": {
      "text/html": [
       "<div>\n",
       "<style scoped>\n",
       "    .dataframe tbody tr th:only-of-type {\n",
       "        vertical-align: middle;\n",
       "    }\n",
       "\n",
       "    .dataframe tbody tr th {\n",
       "        vertical-align: top;\n",
       "    }\n",
       "\n",
       "    .dataframe thead tr th {\n",
       "        text-align: left;\n",
       "    }\n",
       "\n",
       "    .dataframe thead tr:last-of-type th {\n",
       "        text-align: right;\n",
       "    }\n",
       "</style>\n",
       "<table border=\"1\" class=\"dataframe\">\n",
       "  <thead>\n",
       "    <tr>\n",
       "      <th>Price</th>\n",
       "      <th colspan=\"3\" halign=\"left\">Adj Close</th>\n",
       "    </tr>\n",
       "    <tr>\n",
       "      <th>Ticker</th>\n",
       "      <th>BBVA</th>\n",
       "      <th>BKT</th>\n",
       "      <th>SAN</th>\n",
       "    </tr>\n",
       "    <tr>\n",
       "      <th>Date</th>\n",
       "      <th></th>\n",
       "      <th></th>\n",
       "      <th></th>\n",
       "    </tr>\n",
       "  </thead>\n",
       "  <tbody>\n",
       "    <tr>\n",
       "      <th>2020-01-02 00:00:00+00:00</th>\n",
       "      <td>4.321987</td>\n",
       "      <td>12.539912</td>\n",
       "      <td>3.845528</td>\n",
       "    </tr>\n",
       "    <tr>\n",
       "      <th>2020-01-03 00:00:00+00:00</th>\n",
       "      <td>4.216204</td>\n",
       "      <td>12.539912</td>\n",
       "      <td>3.729806</td>\n",
       "    </tr>\n",
       "    <tr>\n",
       "      <th>2020-01-06 00:00:00+00:00</th>\n",
       "      <td>4.246428</td>\n",
       "      <td>12.519140</td>\n",
       "      <td>3.747609</td>\n",
       "    </tr>\n",
       "    <tr>\n",
       "      <th>2020-01-07 00:00:00+00:00</th>\n",
       "      <td>4.185981</td>\n",
       "      <td>12.519140</td>\n",
       "      <td>3.676396</td>\n",
       "    </tr>\n",
       "    <tr>\n",
       "      <th>2020-01-08 00:00:00+00:00</th>\n",
       "      <td>4.231316</td>\n",
       "      <td>12.519140</td>\n",
       "      <td>3.667494</td>\n",
       "    </tr>\n",
       "    <tr>\n",
       "      <th>...</th>\n",
       "      <td>...</td>\n",
       "      <td>...</td>\n",
       "      <td>...</td>\n",
       "    </tr>\n",
       "    <tr>\n",
       "      <th>2024-10-11 00:00:00+00:00</th>\n",
       "      <td>10.180000</td>\n",
       "      <td>12.271714</td>\n",
       "      <td>5.010000</td>\n",
       "    </tr>\n",
       "    <tr>\n",
       "      <th>2024-10-14 00:00:00+00:00</th>\n",
       "      <td>10.230000</td>\n",
       "      <td>12.232000</td>\n",
       "      <td>5.030000</td>\n",
       "    </tr>\n",
       "    <tr>\n",
       "      <th>2024-10-15 00:00:00+00:00</th>\n",
       "      <td>10.140000</td>\n",
       "      <td>12.240000</td>\n",
       "      <td>5.020000</td>\n",
       "    </tr>\n",
       "    <tr>\n",
       "      <th>2024-10-16 00:00:00+00:00</th>\n",
       "      <td>10.060000</td>\n",
       "      <td>12.280000</td>\n",
       "      <td>5.010000</td>\n",
       "    </tr>\n",
       "    <tr>\n",
       "      <th>2024-10-17 00:00:00+00:00</th>\n",
       "      <td>9.870000</td>\n",
       "      <td>12.250000</td>\n",
       "      <td>4.990000</td>\n",
       "    </tr>\n",
       "  </tbody>\n",
       "</table>\n",
       "<p>1207 rows × 3 columns</p>\n",
       "</div>"
      ],
      "text/plain": [
       "Price                      Adj Close                     \n",
       "Ticker                          BBVA        BKT       SAN\n",
       "Date                                                     \n",
       "2020-01-02 00:00:00+00:00   4.321987  12.539912  3.845528\n",
       "2020-01-03 00:00:00+00:00   4.216204  12.539912  3.729806\n",
       "2020-01-06 00:00:00+00:00   4.246428  12.519140  3.747609\n",
       "2020-01-07 00:00:00+00:00   4.185981  12.519140  3.676396\n",
       "2020-01-08 00:00:00+00:00   4.231316  12.519140  3.667494\n",
       "...                              ...        ...       ...\n",
       "2024-10-11 00:00:00+00:00  10.180000  12.271714  5.010000\n",
       "2024-10-14 00:00:00+00:00  10.230000  12.232000  5.030000\n",
       "2024-10-15 00:00:00+00:00  10.140000  12.240000  5.020000\n",
       "2024-10-16 00:00:00+00:00  10.060000  12.280000  5.010000\n",
       "2024-10-17 00:00:00+00:00   9.870000  12.250000  4.990000\n",
       "\n",
       "[1207 rows x 3 columns]"
      ]
     },
     "execution_count": 37,
     "metadata": {},
     "output_type": "execute_result"
    }
   ],
   "source": [
    "stocks_2 = [\"BBVA\", \"BKT\", \"SAN\"]\n",
    "\n",
    "bancos = yf.download(stocks_2, start=\"2020-01-01\", end=\"2024-10-18\")\n",
    "bancos_adj = bancos[['Adj Close']]\n",
    "#bancos_adj.index = pd.to_datetime(bancos_adj.index, format='%Y-%m-%d')\n",
    "#bancos_adj.index = bancos_adj.index.strftime('%Y-%m-%d')\n",
    "bancos_adj"
   ]
  },
  {
   "cell_type": "markdown",
   "id": "e3adc29f",
   "metadata": {},
   "source": [
    " **I-Parte: Calcular algunos indicadores de rentabilidad:**\n",
    " \n",
    "**A**. Calcular la rentabilidad de los bancos en  la ventana de tiempo "
   ]
  },
  {
   "cell_type": "code",
   "execution_count": 40,
   "id": "def87c61",
   "metadata": {},
   "outputs": [
    {
     "data": {
      "text/html": [
       "<div>\n",
       "<style scoped>\n",
       "    .dataframe tbody tr th:only-of-type {\n",
       "        vertical-align: middle;\n",
       "    }\n",
       "\n",
       "    .dataframe tbody tr th {\n",
       "        vertical-align: top;\n",
       "    }\n",
       "\n",
       "    .dataframe thead tr th {\n",
       "        text-align: left;\n",
       "    }\n",
       "\n",
       "    .dataframe thead tr:last-of-type th {\n",
       "        text-align: right;\n",
       "    }\n",
       "</style>\n",
       "<table border=\"1\" class=\"dataframe\">\n",
       "  <thead>\n",
       "    <tr>\n",
       "      <th>Price</th>\n",
       "      <th colspan=\"3\" halign=\"left\">Adj Close</th>\n",
       "    </tr>\n",
       "    <tr>\n",
       "      <th>Ticker</th>\n",
       "      <th>BBVA</th>\n",
       "      <th>BKT</th>\n",
       "      <th>SAN</th>\n",
       "    </tr>\n",
       "    <tr>\n",
       "      <th>Date</th>\n",
       "      <th></th>\n",
       "      <th></th>\n",
       "      <th></th>\n",
       "    </tr>\n",
       "  </thead>\n",
       "  <tbody>\n",
       "    <tr>\n",
       "      <th>2020-01-02 00:00:00+00:00</th>\n",
       "      <td>NaN</td>\n",
       "      <td>NaN</td>\n",
       "      <td>NaN</td>\n",
       "    </tr>\n",
       "    <tr>\n",
       "      <th>2020-01-03 00:00:00+00:00</th>\n",
       "      <td>-0.024475</td>\n",
       "      <td>0.000000</td>\n",
       "      <td>-0.030093</td>\n",
       "    </tr>\n",
       "    <tr>\n",
       "      <th>2020-01-06 00:00:00+00:00</th>\n",
       "      <td>0.007168</td>\n",
       "      <td>-0.001656</td>\n",
       "      <td>0.004773</td>\n",
       "    </tr>\n",
       "    <tr>\n",
       "      <th>2020-01-07 00:00:00+00:00</th>\n",
       "      <td>-0.014235</td>\n",
       "      <td>0.000000</td>\n",
       "      <td>-0.019002</td>\n",
       "    </tr>\n",
       "    <tr>\n",
       "      <th>2020-01-08 00:00:00+00:00</th>\n",
       "      <td>0.010830</td>\n",
       "      <td>0.000000</td>\n",
       "      <td>-0.002421</td>\n",
       "    </tr>\n",
       "    <tr>\n",
       "      <th>...</th>\n",
       "      <td>...</td>\n",
       "      <td>...</td>\n",
       "      <td>...</td>\n",
       "    </tr>\n",
       "    <tr>\n",
       "      <th>2024-10-11 00:00:00+00:00</th>\n",
       "      <td>0.011928</td>\n",
       "      <td>0.000810</td>\n",
       "      <td>0.008048</td>\n",
       "    </tr>\n",
       "    <tr>\n",
       "      <th>2024-10-14 00:00:00+00:00</th>\n",
       "      <td>0.004912</td>\n",
       "      <td>-0.003236</td>\n",
       "      <td>0.003992</td>\n",
       "    </tr>\n",
       "    <tr>\n",
       "      <th>2024-10-15 00:00:00+00:00</th>\n",
       "      <td>-0.008798</td>\n",
       "      <td>0.000654</td>\n",
       "      <td>-0.001988</td>\n",
       "    </tr>\n",
       "    <tr>\n",
       "      <th>2024-10-16 00:00:00+00:00</th>\n",
       "      <td>-0.007890</td>\n",
       "      <td>0.003268</td>\n",
       "      <td>-0.001992</td>\n",
       "    </tr>\n",
       "    <tr>\n",
       "      <th>2024-10-17 00:00:00+00:00</th>\n",
       "      <td>-0.018887</td>\n",
       "      <td>-0.002443</td>\n",
       "      <td>-0.003992</td>\n",
       "    </tr>\n",
       "  </tbody>\n",
       "</table>\n",
       "<p>1207 rows × 3 columns</p>\n",
       "</div>"
      ],
      "text/plain": [
       "Price                     Adj Close                    \n",
       "Ticker                         BBVA       BKT       SAN\n",
       "Date                                                   \n",
       "2020-01-02 00:00:00+00:00       NaN       NaN       NaN\n",
       "2020-01-03 00:00:00+00:00 -0.024475  0.000000 -0.030093\n",
       "2020-01-06 00:00:00+00:00  0.007168 -0.001656  0.004773\n",
       "2020-01-07 00:00:00+00:00 -0.014235  0.000000 -0.019002\n",
       "2020-01-08 00:00:00+00:00  0.010830  0.000000 -0.002421\n",
       "...                             ...       ...       ...\n",
       "2024-10-11 00:00:00+00:00  0.011928  0.000810  0.008048\n",
       "2024-10-14 00:00:00+00:00  0.004912 -0.003236  0.003992\n",
       "2024-10-15 00:00:00+00:00 -0.008798  0.000654 -0.001988\n",
       "2024-10-16 00:00:00+00:00 -0.007890  0.003268 -0.001992\n",
       "2024-10-17 00:00:00+00:00 -0.018887 -0.002443 -0.003992\n",
       "\n",
       "[1207 rows x 3 columns]"
      ]
     },
     "execution_count": 40,
     "metadata": {},
     "output_type": "execute_result"
    }
   ],
   "source": [
    "R =  bancos_adj.pct_change()\n",
    "R"
   ]
  },
  {
   "cell_type": "markdown",
   "id": "a986d78a",
   "metadata": {},
   "source": [
    "---------------------------"
   ]
  },
  {
   "cell_type": "markdown",
   "id": "3127dd92",
   "metadata": {},
   "source": [
    "**B**. Calcular la rentabilidad acumulada por el método:\n",
    "####  Acumulación paso a paso\n",
    "$$R_{acumulado}=\\frac{Precio_{final}}{Precio_{inicial}}-1$$\n",
    "\n",
    "#sugerencia: \n",
    "+ Seleccione las columnas corresondiente a los bancos y las filas correspondientes a las fechas\n",
    "+ cuidado con las fechas hay que reestructurarlas\n",
    "\n",
    "Bancos =stocks_a[['BBVA','BKT','SAN']]['2020-01-01': '2024-10-17']"
   ]
  },
  {
   "cell_type": "code",
   "execution_count": 26,
   "id": "2b0e77c8",
   "metadata": {},
   "outputs": [
    {
     "data": {
      "text/html": [
       "<div>\n",
       "<style scoped>\n",
       "    .dataframe tbody tr th:only-of-type {\n",
       "        vertical-align: middle;\n",
       "    }\n",
       "\n",
       "    .dataframe tbody tr th {\n",
       "        vertical-align: top;\n",
       "    }\n",
       "\n",
       "    .dataframe thead tr th {\n",
       "        text-align: left;\n",
       "    }\n",
       "\n",
       "    .dataframe thead tr:last-of-type th {\n",
       "        text-align: right;\n",
       "    }\n",
       "</style>\n",
       "<table border=\"1\" class=\"dataframe\">\n",
       "  <thead>\n",
       "    <tr>\n",
       "      <th>Price</th>\n",
       "      <th colspan=\"3\" halign=\"left\">Adj Close</th>\n",
       "    </tr>\n",
       "    <tr>\n",
       "      <th>Ticker</th>\n",
       "      <th>BBVA</th>\n",
       "      <th>BKT</th>\n",
       "      <th>SAN</th>\n",
       "    </tr>\n",
       "    <tr>\n",
       "      <th>Date</th>\n",
       "      <th></th>\n",
       "      <th></th>\n",
       "      <th></th>\n",
       "    </tr>\n",
       "  </thead>\n",
       "  <tbody>\n",
       "    <tr>\n",
       "      <th>2020-01-02</th>\n",
       "      <td>4.321987</td>\n",
       "      <td>12.539912</td>\n",
       "      <td>3.845528</td>\n",
       "    </tr>\n",
       "    <tr>\n",
       "      <th>2020-01-03</th>\n",
       "      <td>4.216204</td>\n",
       "      <td>12.539912</td>\n",
       "      <td>3.729806</td>\n",
       "    </tr>\n",
       "    <tr>\n",
       "      <th>2020-01-06</th>\n",
       "      <td>4.246428</td>\n",
       "      <td>12.519140</td>\n",
       "      <td>3.747609</td>\n",
       "    </tr>\n",
       "  </tbody>\n",
       "</table>\n",
       "</div>"
      ],
      "text/plain": [
       "Price      Adj Close                     \n",
       "Ticker          BBVA        BKT       SAN\n",
       "Date                                     \n",
       "2020-01-02  4.321987  12.539912  3.845528\n",
       "2020-01-03  4.216204  12.539912  3.729806\n",
       "2020-01-06  4.246428  12.519140  3.747609"
      ]
     },
     "execution_count": 26,
     "metadata": {},
     "output_type": "execute_result"
    }
   ],
   "source": [
    "bancos_adj.head(3)\n"
   ]
  },
  {
   "cell_type": "code",
   "execution_count": 27,
   "id": "0116d807",
   "metadata": {},
   "outputs": [
    {
     "data": {
      "text/html": [
       "<div>\n",
       "<style scoped>\n",
       "    .dataframe tbody tr th:only-of-type {\n",
       "        vertical-align: middle;\n",
       "    }\n",
       "\n",
       "    .dataframe tbody tr th {\n",
       "        vertical-align: top;\n",
       "    }\n",
       "\n",
       "    .dataframe thead tr th {\n",
       "        text-align: left;\n",
       "    }\n",
       "\n",
       "    .dataframe thead tr:last-of-type th {\n",
       "        text-align: right;\n",
       "    }\n",
       "</style>\n",
       "<table border=\"1\" class=\"dataframe\">\n",
       "  <thead>\n",
       "    <tr>\n",
       "      <th>Price</th>\n",
       "      <th colspan=\"3\" halign=\"left\">Adj Close</th>\n",
       "    </tr>\n",
       "    <tr>\n",
       "      <th>Ticker</th>\n",
       "      <th>BBVA</th>\n",
       "      <th>BKT</th>\n",
       "      <th>SAN</th>\n",
       "    </tr>\n",
       "    <tr>\n",
       "      <th>Date</th>\n",
       "      <th></th>\n",
       "      <th></th>\n",
       "      <th></th>\n",
       "    </tr>\n",
       "  </thead>\n",
       "  <tbody>\n",
       "    <tr>\n",
       "      <th>2024-10-15</th>\n",
       "      <td>10.14</td>\n",
       "      <td>12.24</td>\n",
       "      <td>5.02</td>\n",
       "    </tr>\n",
       "    <tr>\n",
       "      <th>2024-10-16</th>\n",
       "      <td>10.06</td>\n",
       "      <td>12.28</td>\n",
       "      <td>5.01</td>\n",
       "    </tr>\n",
       "    <tr>\n",
       "      <th>2024-10-17</th>\n",
       "      <td>9.87</td>\n",
       "      <td>12.25</td>\n",
       "      <td>4.99</td>\n",
       "    </tr>\n",
       "  </tbody>\n",
       "</table>\n",
       "</div>"
      ],
      "text/plain": [
       "Price      Adj Close             \n",
       "Ticker          BBVA    BKT   SAN\n",
       "Date                             \n",
       "2024-10-15     10.14  12.24  5.02\n",
       "2024-10-16     10.06  12.28  5.01\n",
       "2024-10-17      9.87  12.25  4.99"
      ]
     },
     "execution_count": 27,
     "metadata": {},
     "output_type": "execute_result"
    }
   ],
   "source": [
    "bancos_adj.tail(3)"
   ]
  },
  {
   "cell_type": "code",
   "execution_count": 28,
   "id": "8f225527",
   "metadata": {},
   "outputs": [
    {
     "data": {
      "text/plain": [
       "Price      Ticker\n",
       "Adj Close  BBVA      1.283672\n",
       "           BKT      -0.023119\n",
       "           SAN       0.297611\n",
       "dtype: float64"
      ]
     },
     "execution_count": 28,
     "metadata": {},
     "output_type": "execute_result"
    }
   ],
   "source": [
    "rentabilidad_acum = (bancos_adj.iloc[-1]/ bancos_adj.iloc[0])-1\n",
    "rentabilidad_acum"
   ]
  },
  {
   "cell_type": "code",
   "execution_count": 29,
   "id": "2e3691df",
   "metadata": {},
   "outputs": [
    {
     "name": "stdout",
     "output_type": "stream",
     "text": [
      "El retorno acumulado es: Price      Ticker\n",
      "Adj Close  BBVA      1.283672\n",
      "           BKT      -0.023119\n",
      "           SAN       0.297611\n",
      "dtype: float64\n"
     ]
    }
   ],
   "source": [
    "kit.ret_acum(bancos_adj)"
   ]
  },
  {
   "cell_type": "code",
   "execution_count": 31,
   "id": "412f8b77",
   "metadata": {},
   "outputs": [
    {
     "data": {
      "text/plain": [
       "Price      Ticker\n",
       "Adj Close  BBVA      0.026185\n",
       "           BKT       0.007529\n",
       "           SAN       0.025687\n",
       "dtype: float64"
      ]
     },
     "execution_count": 31,
     "metadata": {},
     "output_type": "execute_result"
    }
   ],
   "source": [
    "R.std()"
   ]
  },
  {
   "cell_type": "code",
   "execution_count": 33,
   "id": "5f6b5a92",
   "metadata": {},
   "outputs": [
    {
     "name": "stdout",
     "output_type": "stream",
     "text": [
      "La volatilidad anualizada es: Price      Ticker\n",
      "Adj Close  BBVA      0.415678\n",
      "           BKT       0.119526\n",
      "           SAN       0.407769\n",
      "dtype: float64\n"
     ]
    }
   ],
   "source": [
    "kit.desvast(bancos_adj, \"anual\")"
   ]
  },
  {
   "cell_type": "markdown",
   "id": "6d0056e2",
   "metadata": {},
   "source": [
    "-----"
   ]
  },
  {
   "cell_type": "markdown",
   "id": "7c7dda4c",
   "metadata": {},
   "source": [
    "**C**. Calcular la rentabilidad anual para cada banco. Cuidado no se pide la rentabilidad promedio"
   ]
  },
  {
   "cell_type": "code",
   "execution_count": 41,
   "id": "db5a53ce",
   "metadata": {},
   "outputs": [
    {
     "name": "stderr",
     "output_type": "stream",
     "text": [
      "C:\\Users\\Lenovo\\AppData\\Local\\Temp\\ipykernel_41456\\1156179595.py:1: FutureWarning: 'Y' is deprecated and will be removed in a future version, please use 'YE' instead.\n",
      "  ret = R.resample(\"Y\").apply(lambda x : (1+x).prod()-1)\n"
     ]
    },
    {
     "data": {
      "text/html": [
       "<div>\n",
       "<style scoped>\n",
       "    .dataframe tbody tr th:only-of-type {\n",
       "        vertical-align: middle;\n",
       "    }\n",
       "\n",
       "    .dataframe tbody tr th {\n",
       "        vertical-align: top;\n",
       "    }\n",
       "\n",
       "    .dataframe thead tr th {\n",
       "        text-align: left;\n",
       "    }\n",
       "\n",
       "    .dataframe thead tr:last-of-type th {\n",
       "        text-align: right;\n",
       "    }\n",
       "</style>\n",
       "<table border=\"1\" class=\"dataframe\">\n",
       "  <thead>\n",
       "    <tr>\n",
       "      <th>Price</th>\n",
       "      <th colspan=\"3\" halign=\"left\">Adj Close</th>\n",
       "    </tr>\n",
       "    <tr>\n",
       "      <th>Ticker</th>\n",
       "      <th>BBVA</th>\n",
       "      <th>BKT</th>\n",
       "      <th>SAN</th>\n",
       "    </tr>\n",
       "    <tr>\n",
       "      <th>Date</th>\n",
       "      <th></th>\n",
       "      <th></th>\n",
       "      <th></th>\n",
       "    </tr>\n",
       "  </thead>\n",
       "  <tbody>\n",
       "    <tr>\n",
       "      <th>2020-12-31 00:00:00+00:00</th>\n",
       "      <td>-0.086007</td>\n",
       "      <td>0.074535</td>\n",
       "      <td>-0.293982</td>\n",
       "    </tr>\n",
       "    <tr>\n",
       "      <th>2021-12-31 00:00:00+00:00</th>\n",
       "      <td>0.204518</td>\n",
       "      <td>-0.005211</td>\n",
       "      <td>0.094526</td>\n",
       "    </tr>\n",
       "    <tr>\n",
       "      <th>2022-12-31 00:00:00+00:00</th>\n",
       "      <td>0.100961</td>\n",
       "      <td>-0.215760</td>\n",
       "      <td>-0.066226</td>\n",
       "    </tr>\n",
       "    <tr>\n",
       "      <th>2023-12-31 00:00:00+00:00</th>\n",
       "      <td>0.624813</td>\n",
       "      <td>0.076669</td>\n",
       "      <td>0.461897</td>\n",
       "    </tr>\n",
       "    <tr>\n",
       "      <th>2024-12-31 00:00:00+00:00</th>\n",
       "      <td>0.159584</td>\n",
       "      <td>0.082328</td>\n",
       "      <td>0.230109</td>\n",
       "    </tr>\n",
       "  </tbody>\n",
       "</table>\n",
       "</div>"
      ],
      "text/plain": [
       "Price                     Adj Close                    \n",
       "Ticker                         BBVA       BKT       SAN\n",
       "Date                                                   \n",
       "2020-12-31 00:00:00+00:00 -0.086007  0.074535 -0.293982\n",
       "2021-12-31 00:00:00+00:00  0.204518 -0.005211  0.094526\n",
       "2022-12-31 00:00:00+00:00  0.100961 -0.215760 -0.066226\n",
       "2023-12-31 00:00:00+00:00  0.624813  0.076669  0.461897\n",
       "2024-12-31 00:00:00+00:00  0.159584  0.082328  0.230109"
      ]
     },
     "execution_count": 41,
     "metadata": {},
     "output_type": "execute_result"
    }
   ],
   "source": [
    "\n",
    "ret = R.resample(\"Y\").apply(lambda x : (1+x).prod()-1)\n",
    "ret"
   ]
  },
  {
   "cell_type": "markdown",
   "id": "8acda444",
   "metadata": {},
   "source": [
    "-----"
   ]
  },
  {
   "cell_type": "markdown",
   "id": "903cbb5a",
   "metadata": {},
   "source": [
    "**D** Con los datos anteriores Y calculando volatilidades hacer una análisis de los bancos bajo estudio en la ventana de tiempo propuesta."
   ]
  },
  {
   "cell_type": "code",
   "execution_count": 42,
   "id": "c00c07b4",
   "metadata": {},
   "outputs": [
    {
     "data": {
      "text/plain": [
       "Price      Ticker\n",
       "Adj Close  BBVA      0.261594\n",
       "           BKT       0.127239\n",
       "           SAN       0.287095\n",
       "dtype: float64"
      ]
     },
     "execution_count": 42,
     "metadata": {},
     "output_type": "execute_result"
    }
   ],
   "source": [
    "ret.std()"
   ]
  },
  {
   "cell_type": "code",
   "execution_count": 43,
   "id": "6047f996",
   "metadata": {},
   "outputs": [
    {
     "data": {
      "text/plain": [
       "Price      Ticker\n",
       "Adj Close  BBVA      2.428995\n",
       "           BKT       1.337282\n",
       "           SAN       0.853997\n",
       "dtype: float64"
      ]
     },
     "execution_count": 43,
     "metadata": {},
     "output_type": "execute_result"
    }
   ],
   "source": [
    "Volatilidad = bancos_adj.std()\n",
    "Volatilidad"
   ]
  },
  {
   "cell_type": "markdown",
   "id": "95f59d63",
   "metadata": {},
   "source": [
    "----------------------------------------------------------------------------"
   ]
  },
  {
   "cell_type": "markdown",
   "id": "e43e9dfd",
   "metadata": {},
   "source": [
    "**II-Ahora analizaremos la reacción de los bancos a un evento**\n",
    "\n",
    "**E**. Calcular los splits de cada Banco en la ventana de tiempo"
   ]
  },
  {
   "cell_type": "code",
   "execution_count": 48,
   "id": "fd0082cd",
   "metadata": {},
   "outputs": [
    {
     "data": {
      "text/html": [
       "<div>\n",
       "<style scoped>\n",
       "    .dataframe tbody tr th:only-of-type {\n",
       "        vertical-align: middle;\n",
       "    }\n",
       "\n",
       "    .dataframe tbody tr th {\n",
       "        vertical-align: top;\n",
       "    }\n",
       "\n",
       "    .dataframe thead th {\n",
       "        text-align: right;\n",
       "    }\n",
       "</style>\n",
       "<table border=\"1\" class=\"dataframe\">\n",
       "  <thead>\n",
       "    <tr style=\"text-align: right;\">\n",
       "      <th>Ticker</th>\n",
       "      <th>ACS</th>\n",
       "      <th>ACX</th>\n",
       "      <th>AENA</th>\n",
       "      <th>AMS</th>\n",
       "      <th>ANA</th>\n",
       "      <th>BBVA</th>\n",
       "      <th>BKT</th>\n",
       "      <th>CABK</th>\n",
       "      <th>CLNX</th>\n",
       "      <th>ELE</th>\n",
       "      <th>...</th>\n",
       "      <th>NTGY</th>\n",
       "      <th>RED</th>\n",
       "      <th>REP</th>\n",
       "      <th>SAB</th>\n",
       "      <th>SAN</th>\n",
       "      <th>SGRE</th>\n",
       "      <th>TEF</th>\n",
       "      <th>TL5</th>\n",
       "      <th>TRE</th>\n",
       "      <th>VIS</th>\n",
       "    </tr>\n",
       "    <tr>\n",
       "      <th>Date</th>\n",
       "      <th></th>\n",
       "      <th></th>\n",
       "      <th></th>\n",
       "      <th></th>\n",
       "      <th></th>\n",
       "      <th></th>\n",
       "      <th></th>\n",
       "      <th></th>\n",
       "      <th></th>\n",
       "      <th></th>\n",
       "      <th></th>\n",
       "      <th></th>\n",
       "      <th></th>\n",
       "      <th></th>\n",
       "      <th></th>\n",
       "      <th></th>\n",
       "      <th></th>\n",
       "      <th></th>\n",
       "      <th></th>\n",
       "      <th></th>\n",
       "      <th></th>\n",
       "    </tr>\n",
       "  </thead>\n",
       "  <tbody>\n",
       "    <tr>\n",
       "      <th>1984-07-03 00:00:00+00:00</th>\n",
       "      <td>NaN</td>\n",
       "      <td>NaN</td>\n",
       "      <td>NaN</td>\n",
       "      <td>4.569290</td>\n",
       "      <td>NaN</td>\n",
       "      <td>NaN</td>\n",
       "      <td>NaN</td>\n",
       "      <td>NaN</td>\n",
       "      <td>NaN</td>\n",
       "      <td>NaN</td>\n",
       "      <td>...</td>\n",
       "      <td>NaN</td>\n",
       "      <td>NaN</td>\n",
       "      <td>NaN</td>\n",
       "      <td>NaN</td>\n",
       "      <td>NaN</td>\n",
       "      <td>NaN</td>\n",
       "      <td>NaN</td>\n",
       "      <td>NaN</td>\n",
       "      <td>NaN</td>\n",
       "      <td>NaN</td>\n",
       "    </tr>\n",
       "    <tr>\n",
       "      <th>1984-07-05 00:00:00+00:00</th>\n",
       "      <td>NaN</td>\n",
       "      <td>NaN</td>\n",
       "      <td>NaN</td>\n",
       "      <td>4.370626</td>\n",
       "      <td>NaN</td>\n",
       "      <td>NaN</td>\n",
       "      <td>NaN</td>\n",
       "      <td>NaN</td>\n",
       "      <td>NaN</td>\n",
       "      <td>NaN</td>\n",
       "      <td>...</td>\n",
       "      <td>NaN</td>\n",
       "      <td>NaN</td>\n",
       "      <td>NaN</td>\n",
       "      <td>NaN</td>\n",
       "      <td>NaN</td>\n",
       "      <td>NaN</td>\n",
       "      <td>NaN</td>\n",
       "      <td>NaN</td>\n",
       "      <td>NaN</td>\n",
       "      <td>NaN</td>\n",
       "    </tr>\n",
       "    <tr>\n",
       "      <th>1984-07-06 00:00:00+00:00</th>\n",
       "      <td>NaN</td>\n",
       "      <td>NaN</td>\n",
       "      <td>NaN</td>\n",
       "      <td>4.370626</td>\n",
       "      <td>NaN</td>\n",
       "      <td>NaN</td>\n",
       "      <td>NaN</td>\n",
       "      <td>NaN</td>\n",
       "      <td>NaN</td>\n",
       "      <td>NaN</td>\n",
       "      <td>...</td>\n",
       "      <td>NaN</td>\n",
       "      <td>NaN</td>\n",
       "      <td>NaN</td>\n",
       "      <td>NaN</td>\n",
       "      <td>NaN</td>\n",
       "      <td>NaN</td>\n",
       "      <td>NaN</td>\n",
       "      <td>NaN</td>\n",
       "      <td>NaN</td>\n",
       "      <td>NaN</td>\n",
       "    </tr>\n",
       "    <tr>\n",
       "      <th>1984-07-09 00:00:00+00:00</th>\n",
       "      <td>NaN</td>\n",
       "      <td>NaN</td>\n",
       "      <td>NaN</td>\n",
       "      <td>4.370626</td>\n",
       "      <td>NaN</td>\n",
       "      <td>NaN</td>\n",
       "      <td>NaN</td>\n",
       "      <td>NaN</td>\n",
       "      <td>NaN</td>\n",
       "      <td>NaN</td>\n",
       "      <td>...</td>\n",
       "      <td>NaN</td>\n",
       "      <td>NaN</td>\n",
       "      <td>NaN</td>\n",
       "      <td>NaN</td>\n",
       "      <td>NaN</td>\n",
       "      <td>NaN</td>\n",
       "      <td>NaN</td>\n",
       "      <td>NaN</td>\n",
       "      <td>NaN</td>\n",
       "      <td>NaN</td>\n",
       "    </tr>\n",
       "    <tr>\n",
       "      <th>1984-07-10 00:00:00+00:00</th>\n",
       "      <td>NaN</td>\n",
       "      <td>NaN</td>\n",
       "      <td>NaN</td>\n",
       "      <td>4.370626</td>\n",
       "      <td>NaN</td>\n",
       "      <td>NaN</td>\n",
       "      <td>NaN</td>\n",
       "      <td>NaN</td>\n",
       "      <td>NaN</td>\n",
       "      <td>NaN</td>\n",
       "      <td>...</td>\n",
       "      <td>NaN</td>\n",
       "      <td>NaN</td>\n",
       "      <td>NaN</td>\n",
       "      <td>NaN</td>\n",
       "      <td>NaN</td>\n",
       "      <td>NaN</td>\n",
       "      <td>NaN</td>\n",
       "      <td>NaN</td>\n",
       "      <td>NaN</td>\n",
       "      <td>NaN</td>\n",
       "    </tr>\n",
       "    <tr>\n",
       "      <th>...</th>\n",
       "      <td>...</td>\n",
       "      <td>...</td>\n",
       "      <td>...</td>\n",
       "      <td>...</td>\n",
       "      <td>...</td>\n",
       "      <td>...</td>\n",
       "      <td>...</td>\n",
       "      <td>...</td>\n",
       "      <td>...</td>\n",
       "      <td>...</td>\n",
       "      <td>...</td>\n",
       "      <td>...</td>\n",
       "      <td>...</td>\n",
       "      <td>...</td>\n",
       "      <td>...</td>\n",
       "      <td>...</td>\n",
       "      <td>...</td>\n",
       "      <td>...</td>\n",
       "      <td>...</td>\n",
       "      <td>...</td>\n",
       "      <td>...</td>\n",
       "    </tr>\n",
       "    <tr>\n",
       "      <th>2024-10-15 00:00:00+00:00</th>\n",
       "      <td>NaN</td>\n",
       "      <td>NaN</td>\n",
       "      <td>NaN</td>\n",
       "      <td>3.170000</td>\n",
       "      <td>NaN</td>\n",
       "      <td>10.140</td>\n",
       "      <td>12.24</td>\n",
       "      <td>NaN</td>\n",
       "      <td>NaN</td>\n",
       "      <td>NaN</td>\n",
       "      <td>...</td>\n",
       "      <td>NaN</td>\n",
       "      <td>NaN</td>\n",
       "      <td>NaN</td>\n",
       "      <td>NaN</td>\n",
       "      <td>2222100.0</td>\n",
       "      <td>NaN</td>\n",
       "      <td>346600.0</td>\n",
       "      <td>NaN</td>\n",
       "      <td>NaN</td>\n",
       "      <td>43900.0</td>\n",
       "    </tr>\n",
       "    <tr>\n",
       "      <th>2024-10-16 00:00:00+00:00</th>\n",
       "      <td>NaN</td>\n",
       "      <td>NaN</td>\n",
       "      <td>NaN</td>\n",
       "      <td>3.220000</td>\n",
       "      <td>NaN</td>\n",
       "      <td>10.060</td>\n",
       "      <td>12.28</td>\n",
       "      <td>NaN</td>\n",
       "      <td>NaN</td>\n",
       "      <td>NaN</td>\n",
       "      <td>...</td>\n",
       "      <td>NaN</td>\n",
       "      <td>NaN</td>\n",
       "      <td>NaN</td>\n",
       "      <td>NaN</td>\n",
       "      <td>2109300.0</td>\n",
       "      <td>NaN</td>\n",
       "      <td>363400.0</td>\n",
       "      <td>NaN</td>\n",
       "      <td>NaN</td>\n",
       "      <td>43400.0</td>\n",
       "    </tr>\n",
       "    <tr>\n",
       "      <th>2024-10-17 00:00:00+00:00</th>\n",
       "      <td>NaN</td>\n",
       "      <td>NaN</td>\n",
       "      <td>NaN</td>\n",
       "      <td>3.230000</td>\n",
       "      <td>NaN</td>\n",
       "      <td>9.870</td>\n",
       "      <td>12.25</td>\n",
       "      <td>NaN</td>\n",
       "      <td>NaN</td>\n",
       "      <td>NaN</td>\n",
       "      <td>...</td>\n",
       "      <td>NaN</td>\n",
       "      <td>NaN</td>\n",
       "      <td>NaN</td>\n",
       "      <td>NaN</td>\n",
       "      <td>2897100.0</td>\n",
       "      <td>NaN</td>\n",
       "      <td>501100.0</td>\n",
       "      <td>NaN</td>\n",
       "      <td>NaN</td>\n",
       "      <td>58300.0</td>\n",
       "    </tr>\n",
       "    <tr>\n",
       "      <th>2024-10-18 00:00:00+00:00</th>\n",
       "      <td>NaN</td>\n",
       "      <td>NaN</td>\n",
       "      <td>NaN</td>\n",
       "      <td>3.230000</td>\n",
       "      <td>NaN</td>\n",
       "      <td>10.080</td>\n",
       "      <td>12.17</td>\n",
       "      <td>NaN</td>\n",
       "      <td>NaN</td>\n",
       "      <td>NaN</td>\n",
       "      <td>...</td>\n",
       "      <td>NaN</td>\n",
       "      <td>NaN</td>\n",
       "      <td>NaN</td>\n",
       "      <td>NaN</td>\n",
       "      <td>2053300.0</td>\n",
       "      <td>NaN</td>\n",
       "      <td>335900.0</td>\n",
       "      <td>NaN</td>\n",
       "      <td>NaN</td>\n",
       "      <td>37400.0</td>\n",
       "    </tr>\n",
       "    <tr>\n",
       "      <th>2024-10-21 00:00:00+00:00</th>\n",
       "      <td>NaN</td>\n",
       "      <td>NaN</td>\n",
       "      <td>NaN</td>\n",
       "      <td>3.190000</td>\n",
       "      <td>NaN</td>\n",
       "      <td>9.845</td>\n",
       "      <td>12.14</td>\n",
       "      <td>NaN</td>\n",
       "      <td>NaN</td>\n",
       "      <td>NaN</td>\n",
       "      <td>...</td>\n",
       "      <td>NaN</td>\n",
       "      <td>NaN</td>\n",
       "      <td>NaN</td>\n",
       "      <td>NaN</td>\n",
       "      <td>NaN</td>\n",
       "      <td>NaN</td>\n",
       "      <td>158922.0</td>\n",
       "      <td>NaN</td>\n",
       "      <td>NaN</td>\n",
       "      <td>15837.0</td>\n",
       "    </tr>\n",
       "  </tbody>\n",
       "</table>\n",
       "<p>10157 rows × 180 columns</p>\n",
       "</div>"
      ],
      "text/plain": [
       "Ticker                     ACS  ACX  AENA       AMS  ANA    BBVA    BKT  CABK  \\\n",
       "Date                                                                            \n",
       "1984-07-03 00:00:00+00:00  NaN  NaN   NaN  4.569290  NaN     NaN    NaN   NaN   \n",
       "1984-07-05 00:00:00+00:00  NaN  NaN   NaN  4.370626  NaN     NaN    NaN   NaN   \n",
       "1984-07-06 00:00:00+00:00  NaN  NaN   NaN  4.370626  NaN     NaN    NaN   NaN   \n",
       "1984-07-09 00:00:00+00:00  NaN  NaN   NaN  4.370626  NaN     NaN    NaN   NaN   \n",
       "1984-07-10 00:00:00+00:00  NaN  NaN   NaN  4.370626  NaN     NaN    NaN   NaN   \n",
       "...                        ...  ...   ...       ...  ...     ...    ...   ...   \n",
       "2024-10-15 00:00:00+00:00  NaN  NaN   NaN  3.170000  NaN  10.140  12.24   NaN   \n",
       "2024-10-16 00:00:00+00:00  NaN  NaN   NaN  3.220000  NaN  10.060  12.28   NaN   \n",
       "2024-10-17 00:00:00+00:00  NaN  NaN   NaN  3.230000  NaN   9.870  12.25   NaN   \n",
       "2024-10-18 00:00:00+00:00  NaN  NaN   NaN  3.230000  NaN  10.080  12.17   NaN   \n",
       "2024-10-21 00:00:00+00:00  NaN  NaN   NaN  3.190000  NaN   9.845  12.14   NaN   \n",
       "\n",
       "Ticker                     CLNX  ELE  ...  NTGY  RED  REP  SAB        SAN  \\\n",
       "Date                                  ...                                   \n",
       "1984-07-03 00:00:00+00:00   NaN  NaN  ...   NaN  NaN  NaN  NaN        NaN   \n",
       "1984-07-05 00:00:00+00:00   NaN  NaN  ...   NaN  NaN  NaN  NaN        NaN   \n",
       "1984-07-06 00:00:00+00:00   NaN  NaN  ...   NaN  NaN  NaN  NaN        NaN   \n",
       "1984-07-09 00:00:00+00:00   NaN  NaN  ...   NaN  NaN  NaN  NaN        NaN   \n",
       "1984-07-10 00:00:00+00:00   NaN  NaN  ...   NaN  NaN  NaN  NaN        NaN   \n",
       "...                         ...  ...  ...   ...  ...  ...  ...        ...   \n",
       "2024-10-15 00:00:00+00:00   NaN  NaN  ...   NaN  NaN  NaN  NaN  2222100.0   \n",
       "2024-10-16 00:00:00+00:00   NaN  NaN  ...   NaN  NaN  NaN  NaN  2109300.0   \n",
       "2024-10-17 00:00:00+00:00   NaN  NaN  ...   NaN  NaN  NaN  NaN  2897100.0   \n",
       "2024-10-18 00:00:00+00:00   NaN  NaN  ...   NaN  NaN  NaN  NaN  2053300.0   \n",
       "2024-10-21 00:00:00+00:00   NaN  NaN  ...   NaN  NaN  NaN  NaN        NaN   \n",
       "\n",
       "Ticker                     SGRE       TEF  TL5  TRE      VIS  \n",
       "Date                                                          \n",
       "1984-07-03 00:00:00+00:00   NaN       NaN  NaN  NaN      NaN  \n",
       "1984-07-05 00:00:00+00:00   NaN       NaN  NaN  NaN      NaN  \n",
       "1984-07-06 00:00:00+00:00   NaN       NaN  NaN  NaN      NaN  \n",
       "1984-07-09 00:00:00+00:00   NaN       NaN  NaN  NaN      NaN  \n",
       "1984-07-10 00:00:00+00:00   NaN       NaN  NaN  NaN      NaN  \n",
       "...                         ...       ...  ...  ...      ...  \n",
       "2024-10-15 00:00:00+00:00   NaN  346600.0  NaN  NaN  43900.0  \n",
       "2024-10-16 00:00:00+00:00   NaN  363400.0  NaN  NaN  43400.0  \n",
       "2024-10-17 00:00:00+00:00   NaN  501100.0  NaN  NaN  58300.0  \n",
       "2024-10-18 00:00:00+00:00   NaN  335900.0  NaN  NaN  37400.0  \n",
       "2024-10-21 00:00:00+00:00   NaN  158922.0  NaN  NaN  15837.0  \n",
       "\n",
       "[10157 rows x 180 columns]"
      ]
     },
     "execution_count": 48,
     "metadata": {},
     "output_type": "execute_result"
    }
   ],
   "source": [
    "df.columns = df.columns.get_level_values(1)\n",
    "df"
   ]
  },
  {
   "cell_type": "code",
   "execution_count": 49,
   "id": "4e5487e2",
   "metadata": {},
   "outputs": [
    {
     "data": {
      "text/html": [
       "<div>\n",
       "<style scoped>\n",
       "    .dataframe tbody tr th:only-of-type {\n",
       "        vertical-align: middle;\n",
       "    }\n",
       "\n",
       "    .dataframe tbody tr th {\n",
       "        vertical-align: top;\n",
       "    }\n",
       "\n",
       "    .dataframe thead th {\n",
       "        text-align: right;\n",
       "    }\n",
       "</style>\n",
       "<table border=\"1\" class=\"dataframe\">\n",
       "  <thead>\n",
       "    <tr style=\"text-align: right;\">\n",
       "      <th>Ticker</th>\n",
       "      <th>BBVA</th>\n",
       "      <th>BBVA</th>\n",
       "      <th>BBVA</th>\n",
       "      <th>BBVA</th>\n",
       "      <th>BBVA</th>\n",
       "      <th>BBVA</th>\n",
       "      <th>BKT</th>\n",
       "      <th>BKT</th>\n",
       "      <th>BKT</th>\n",
       "      <th>BKT</th>\n",
       "      <th>BKT</th>\n",
       "      <th>BKT</th>\n",
       "      <th>SAN</th>\n",
       "      <th>SAN</th>\n",
       "      <th>SAN</th>\n",
       "      <th>SAN</th>\n",
       "      <th>SAN</th>\n",
       "      <th>SAN</th>\n",
       "    </tr>\n",
       "    <tr>\n",
       "      <th>Date</th>\n",
       "      <th></th>\n",
       "      <th></th>\n",
       "      <th></th>\n",
       "      <th></th>\n",
       "      <th></th>\n",
       "      <th></th>\n",
       "      <th></th>\n",
       "      <th></th>\n",
       "      <th></th>\n",
       "      <th></th>\n",
       "      <th></th>\n",
       "      <th></th>\n",
       "      <th></th>\n",
       "      <th></th>\n",
       "      <th></th>\n",
       "      <th></th>\n",
       "      <th></th>\n",
       "      <th></th>\n",
       "    </tr>\n",
       "  </thead>\n",
       "  <tbody>\n",
       "    <tr>\n",
       "      <th>2020-01-02 00:00:00+00:00</th>\n",
       "      <td>4.321987</td>\n",
       "      <td>5.72</td>\n",
       "      <td>5.72</td>\n",
       "      <td>5.63</td>\n",
       "      <td>5.66</td>\n",
       "      <td>2571200.0</td>\n",
       "      <td>12.539903</td>\n",
       "      <td>18.120001</td>\n",
       "      <td>18.120001</td>\n",
       "      <td>18.030001</td>\n",
       "      <td>18.059999</td>\n",
       "      <td>41433.0</td>\n",
       "      <td>3.845528</td>\n",
       "      <td>4.32</td>\n",
       "      <td>4.32</td>\n",
       "      <td>4.24</td>\n",
       "      <td>4.28</td>\n",
       "      <td>8285800.0</td>\n",
       "    </tr>\n",
       "    <tr>\n",
       "      <th>2020-01-03 00:00:00+00:00</th>\n",
       "      <td>4.216204</td>\n",
       "      <td>5.58</td>\n",
       "      <td>5.63</td>\n",
       "      <td>5.57</td>\n",
       "      <td>5.58</td>\n",
       "      <td>3094900.0</td>\n",
       "      <td>12.539903</td>\n",
       "      <td>18.120001</td>\n",
       "      <td>18.180000</td>\n",
       "      <td>18.090000</td>\n",
       "      <td>18.090000</td>\n",
       "      <td>60933.0</td>\n",
       "      <td>3.729805</td>\n",
       "      <td>4.19</td>\n",
       "      <td>4.22</td>\n",
       "      <td>4.18</td>\n",
       "      <td>4.18</td>\n",
       "      <td>6606900.0</td>\n",
       "    </tr>\n",
       "  </tbody>\n",
       "</table>\n",
       "</div>"
      ],
      "text/plain": [
       "Ticker                         BBVA  BBVA  BBVA  BBVA  BBVA       BBVA  \\\n",
       "Date                                                                     \n",
       "2020-01-02 00:00:00+00:00  4.321987  5.72  5.72  5.63  5.66  2571200.0   \n",
       "2020-01-03 00:00:00+00:00  4.216204  5.58  5.63  5.57  5.58  3094900.0   \n",
       "\n",
       "Ticker                           BKT        BKT        BKT        BKT  \\\n",
       "Date                                                                    \n",
       "2020-01-02 00:00:00+00:00  12.539903  18.120001  18.120001  18.030001   \n",
       "2020-01-03 00:00:00+00:00  12.539903  18.120001  18.180000  18.090000   \n",
       "\n",
       "Ticker                           BKT      BKT       SAN   SAN   SAN   SAN  \\\n",
       "Date                                                                        \n",
       "2020-01-02 00:00:00+00:00  18.059999  41433.0  3.845528  4.32  4.32  4.24   \n",
       "2020-01-03 00:00:00+00:00  18.090000  60933.0  3.729805  4.19  4.22  4.18   \n",
       "\n",
       "Ticker                      SAN        SAN  \n",
       "Date                                        \n",
       "2020-01-02 00:00:00+00:00  4.28  8285800.0  \n",
       "2020-01-03 00:00:00+00:00  4.18  6606900.0  "
      ]
     },
     "execution_count": 49,
     "metadata": {},
     "output_type": "execute_result"
    }
   ],
   "source": [
    "B = df[[\"BBVA\", \"BKT\", \"SAN\"]]['2020-01-01': '2024-10-17']\n",
    "B.head(2)\n"
   ]
  },
  {
   "cell_type": "code",
   "execution_count": 50,
   "id": "ca3ee2bb",
   "metadata": {},
   "outputs": [
    {
     "name": "stdout",
     "output_type": "stream",
     "text": [
      "dict_items([('BBVA', Date\n",
      "1997-07-22 00:00:00-04:00    3.000000\n",
      "1998-07-14 00:00:00-04:00    3.000000\n",
      "2009-04-07 00:00:00-04:00    1.016100\n",
      "2011-03-29 00:00:00-04:00    1.016949\n",
      "Name: Stock Splits, dtype: float64), ('BKT', Date\n",
      "2022-10-18 00:00:00-04:00    0.333333\n",
      "Name: Stock Splits, dtype: float64), ('SAN', Date\n",
      "1997-06-23 00:00:00-04:00    3.00\n",
      "1998-07-06 00:00:00-04:00    2.00\n",
      "1998-08-18 00:00:00-04:00    1.02\n",
      "1999-06-21 00:00:00-04:00    2.00\n",
      "Name: Stock Splits, dtype: float64)])\n"
     ]
    }
   ],
   "source": [
    "splits_info = {}\n",
    "\n",
    "\n",
    "for i in B:\n",
    "    B_inf = yf.Ticker(i)\n",
    "    splits_info[i] = B_inf.splits\n",
    "print(splits_info.items())"
   ]
  },
  {
   "cell_type": "code",
   "execution_count": 250,
   "id": "e7a2ec86",
   "metadata": {},
   "outputs": [
    {
     "name": "stdout",
     "output_type": "stream",
     "text": [
      "Date\n",
      "2022-10-18 00:00:00-04:00    0.333333\n",
      "Name: Stock Splits, dtype: float64\n"
     ]
    }
   ],
   "source": [
    "Splits = yf.Ticker(\"ENG\").splits\n",
    "print(Splits)"
   ]
  },
  {
   "cell_type": "markdown",
   "id": "09a61eb5",
   "metadata": {},
   "source": [
    "-------------"
   ]
  },
  {
   "cell_type": "markdown",
   "id": "f248045c",
   "metadata": {},
   "source": [
    "**F** De los splits del paso anterior: seleccionar el split 'S' con fecha: **'YY-mm-dd'** que esté más próximo al 2024. Que dia de la semana se llevo a cabo este split?"
   ]
  },
  {
   "cell_type": "code",
   "execution_count": 104,
   "id": "7969c259",
   "metadata": {},
   "outputs": [
    {
     "data": {
      "text/plain": [
       "'Monday'"
      ]
     },
     "execution_count": 104,
     "metadata": {},
     "output_type": "execute_result"
    }
   ],
   "source": [
    "from datetime import datetime\n",
    "\n",
    "fecha_SAN = datetime(1999,6,21)\n",
    "dia_semana = fecha_SAN.strftime(\"%A\")\n",
    "dia_semana"
   ]
  },
  {
   "cell_type": "code",
   "execution_count": 105,
   "id": "916565f3",
   "metadata": {},
   "outputs": [
    {
     "data": {
      "text/plain": [
       "'Tuesday'"
      ]
     },
     "execution_count": 105,
     "metadata": {},
     "output_type": "execute_result"
    }
   ],
   "source": [
    "fecha_BBVA = datetime(2011,3,29)\n",
    "dia_semana = fecha_BBVA.strftime(\"%A\")\n",
    "dia_semana"
   ]
  },
  {
   "cell_type": "code",
   "execution_count": 106,
   "id": "c690915e",
   "metadata": {},
   "outputs": [
    {
     "data": {
      "text/plain": [
       "'Tuesday'"
      ]
     },
     "execution_count": 106,
     "metadata": {},
     "output_type": "execute_result"
    }
   ],
   "source": [
    "fecha_BKT = datetime(2022,10,18)\n",
    "dia_semana = fecha_BBVA.strftime(\"%A\")\n",
    "dia_semana"
   ]
  },
  {
   "cell_type": "markdown",
   "id": "e28f5985",
   "metadata": {},
   "source": [
    "------------------"
   ]
  },
  {
   "cell_type": "code",
   "execution_count": 54,
   "id": "daf1dba7",
   "metadata": {},
   "outputs": [
    {
     "data": {
      "text/html": [
       "<div>\n",
       "<style scoped>\n",
       "    .dataframe tbody tr th:only-of-type {\n",
       "        vertical-align: middle;\n",
       "    }\n",
       "\n",
       "    .dataframe tbody tr th {\n",
       "        vertical-align: top;\n",
       "    }\n",
       "\n",
       "    .dataframe thead th {\n",
       "        text-align: right;\n",
       "    }\n",
       "</style>\n",
       "<table border=\"1\" class=\"dataframe\">\n",
       "  <thead>\n",
       "    <tr style=\"text-align: right;\">\n",
       "      <th>Ticker</th>\n",
       "      <th>SAN</th>\n",
       "      <th>BBVA</th>\n",
       "      <th>BKT</th>\n",
       "    </tr>\n",
       "    <tr>\n",
       "      <th>Date</th>\n",
       "      <th></th>\n",
       "      <th></th>\n",
       "      <th></th>\n",
       "    </tr>\n",
       "  </thead>\n",
       "  <tbody>\n",
       "    <tr>\n",
       "      <th>2022-10-12</th>\n",
       "      <td>2.155078</td>\n",
       "      <td>3.861365</td>\n",
       "      <td>10.082991</td>\n",
       "    </tr>\n",
       "    <tr>\n",
       "      <th>2022-10-13</th>\n",
       "      <td>2.265595</td>\n",
       "      <td>4.061842</td>\n",
       "      <td>10.055268</td>\n",
       "    </tr>\n",
       "    <tr>\n",
       "      <th>2022-10-14</th>\n",
       "      <td>2.237966</td>\n",
       "      <td>3.992111</td>\n",
       "      <td>10.055268</td>\n",
       "    </tr>\n",
       "    <tr>\n",
       "      <th>2022-10-17</th>\n",
       "      <td>2.311644</td>\n",
       "      <td>4.157723</td>\n",
       "      <td>10.004865</td>\n",
       "    </tr>\n",
       "    <tr>\n",
       "      <th>2022-10-18</th>\n",
       "      <td>2.394531</td>\n",
       "      <td>4.253603</td>\n",
       "      <td>10.004865</td>\n",
       "    </tr>\n",
       "    <tr>\n",
       "      <th>2022-10-19</th>\n",
       "      <td>2.357692</td>\n",
       "      <td>4.210021</td>\n",
       "      <td>9.962864</td>\n",
       "    </tr>\n",
       "    <tr>\n",
       "      <th>2022-10-20</th>\n",
       "      <td>2.376112</td>\n",
       "      <td>4.288469</td>\n",
       "      <td>9.920864</td>\n",
       "    </tr>\n",
       "    <tr>\n",
       "      <th>2022-10-21</th>\n",
       "      <td>2.412951</td>\n",
       "      <td>4.332050</td>\n",
       "      <td>9.769654</td>\n",
       "    </tr>\n",
       "  </tbody>\n",
       "</table>\n",
       "</div>"
      ],
      "text/plain": [
       "Ticker           SAN      BBVA        BKT\n",
       "Date                                     \n",
       "2022-10-12  2.155078  3.861365  10.082991\n",
       "2022-10-13  2.265595  4.061842  10.055268\n",
       "2022-10-14  2.237966  3.992111  10.055268\n",
       "2022-10-17  2.311644  4.157723  10.004865\n",
       "2022-10-18  2.394531  4.253603  10.004865\n",
       "2022-10-19  2.357692  4.210021   9.962864\n",
       "2022-10-20  2.376112  4.288469   9.920864\n",
       "2022-10-21  2.412951  4.332050   9.769654"
      ]
     },
     "execution_count": 54,
     "metadata": {},
     "output_type": "execute_result"
    }
   ],
   "source": [
    "#SAN = df_adj[[\"SAN\",\"BBVA\", \"BKT\"]][\"1999-06-15\":\"1999-06-24\"]\n",
    "#BBVA =df_adj[[\"SAN\",\"BBVA\", \"BKT\"]][\"2011-03-23\": \"2011-04-01\"]\n",
    "BKT = df_adj[[\"SAN\",\"BBVA\",\"BKT\"]][\"2022-10-12\": \"2022-10-21\"]\n",
    "BKT.index = pd.to_datetime(BKT.index, format='%Y-%m-%d')\n",
    "BKT.index = BKT.index.strftime('%Y-%m-%d')\n",
    "BKT\n",
    "\n",
    "#General = pd.concat([SAN, BBVA, BKT], axis=1)\n",
    "#General\n"
   ]
  },
  {
   "cell_type": "code",
   "execution_count": 55,
   "id": "327239de",
   "metadata": {},
   "outputs": [
    {
     "data": {
      "text/html": [
       "<div>\n",
       "<style scoped>\n",
       "    .dataframe tbody tr th:only-of-type {\n",
       "        vertical-align: middle;\n",
       "    }\n",
       "\n",
       "    .dataframe tbody tr th {\n",
       "        vertical-align: top;\n",
       "    }\n",
       "\n",
       "    .dataframe thead th {\n",
       "        text-align: right;\n",
       "    }\n",
       "</style>\n",
       "<table border=\"1\" class=\"dataframe\">\n",
       "  <thead>\n",
       "    <tr style=\"text-align: right;\">\n",
       "      <th>Ticker</th>\n",
       "      <th>SAN</th>\n",
       "      <th>BBVA</th>\n",
       "      <th>BKT</th>\n",
       "    </tr>\n",
       "    <tr>\n",
       "      <th>Date</th>\n",
       "      <th></th>\n",
       "      <th></th>\n",
       "      <th></th>\n",
       "    </tr>\n",
       "  </thead>\n",
       "  <tbody>\n",
       "    <tr>\n",
       "      <th>2022-10-13</th>\n",
       "      <td>0.051282</td>\n",
       "      <td>0.051919</td>\n",
       "      <td>-0.002749</td>\n",
       "    </tr>\n",
       "    <tr>\n",
       "      <th>2022-10-14</th>\n",
       "      <td>-0.012195</td>\n",
       "      <td>-0.017167</td>\n",
       "      <td>0.000000</td>\n",
       "    </tr>\n",
       "    <tr>\n",
       "      <th>2022-10-17</th>\n",
       "      <td>0.032922</td>\n",
       "      <td>0.041485</td>\n",
       "      <td>-0.005013</td>\n",
       "    </tr>\n",
       "    <tr>\n",
       "      <th>2022-10-18</th>\n",
       "      <td>0.035856</td>\n",
       "      <td>0.023061</td>\n",
       "      <td>0.000000</td>\n",
       "    </tr>\n",
       "    <tr>\n",
       "      <th>2022-10-19</th>\n",
       "      <td>-0.015385</td>\n",
       "      <td>-0.010246</td>\n",
       "      <td>-0.004198</td>\n",
       "    </tr>\n",
       "    <tr>\n",
       "      <th>2022-10-20</th>\n",
       "      <td>0.007813</td>\n",
       "      <td>0.018634</td>\n",
       "      <td>-0.004216</td>\n",
       "    </tr>\n",
       "    <tr>\n",
       "      <th>2022-10-21</th>\n",
       "      <td>0.015504</td>\n",
       "      <td>0.010162</td>\n",
       "      <td>-0.015242</td>\n",
       "    </tr>\n",
       "  </tbody>\n",
       "</table>\n",
       "</div>"
      ],
      "text/plain": [
       "Ticker           SAN      BBVA       BKT\n",
       "Date                                    \n",
       "2022-10-13  0.051282  0.051919 -0.002749\n",
       "2022-10-14 -0.012195 -0.017167  0.000000\n",
       "2022-10-17  0.032922  0.041485 -0.005013\n",
       "2022-10-18  0.035856  0.023061  0.000000\n",
       "2022-10-19 -0.015385 -0.010246 -0.004198\n",
       "2022-10-20  0.007813  0.018634 -0.004216\n",
       "2022-10-21  0.015504  0.010162 -0.015242"
      ]
     },
     "execution_count": 55,
     "metadata": {},
     "output_type": "execute_result"
    }
   ],
   "source": [
    "retorno_BKT = BKT.pct_change().dropna()\n",
    "retorno_BKT"
   ]
  },
  {
   "cell_type": "code",
   "execution_count": 56,
   "id": "b824e429",
   "metadata": {},
   "outputs": [
    {
     "name": "stdout",
     "output_type": "stream",
     "text": [
      "El retorno acumulado es: Ticker\n",
      "SAN     0.119658\n",
      "BBVA    0.121896\n",
      "BKT    -0.031076\n",
      "dtype: float64\n"
     ]
    }
   ],
   "source": [
    "kit.ret_acum(BKT)"
   ]
  },
  {
   "cell_type": "markdown",
   "id": "b384b0dd",
   "metadata": {},
   "source": [
    "**G** Con la función: df.mean(axis=1)\n",
    "Calcular el promedio aritmético de las rentabilidades en cada linea"
   ]
  },
  {
   "cell_type": "code",
   "execution_count": 59,
   "id": "ee70c630",
   "metadata": {},
   "outputs": [
    {
     "data": {
      "text/plain": [
       "Date\n",
       "2022-10-13    0.033484\n",
       "2022-10-14   -0.009787\n",
       "2022-10-17    0.023131\n",
       "2022-10-18    0.019639\n",
       "2022-10-19   -0.009943\n",
       "2022-10-20    0.007410\n",
       "2022-10-21    0.003475\n",
       "dtype: float64"
      ]
     },
     "execution_count": 59,
     "metadata": {},
     "output_type": "execute_result"
    }
   ],
   "source": [
    "y = retorno_BKT.mean(axis=1)\n",
    "y"
   ]
  },
  {
   "cell_type": "markdown",
   "id": "cf1cda65",
   "metadata": {},
   "source": [
    "---------------"
   ]
  },
  {
   "cell_type": "markdown",
   "id": "b843d2ca",
   "metadata": {},
   "source": [
    "**H** Graficar las rentabilidades medias del paso anterior vs la fechas."
   ]
  },
  {
   "cell_type": "code",
   "execution_count": 61,
   "id": "c0429017",
   "metadata": {},
   "outputs": [
    {
     "data": {
      "image/png": "[encoded data removed]",
      "text/plain": [
       "<Figure size 1000x500 with 1 Axes>"
      ]
     },
     "metadata": {},
     "output_type": "display_data"
    }
   ],
   "source": [
    "plt.style.use(\"default\")\n",
    "fig = plt.figure(figsize = (10,5))\n",
    "ax = y.plot(kind=\"bar\")\n",
    "ax.set_title(\"Rendimientos medios\")\n",
    "ax.set_xlabel(\"Fecha\")\n",
    "ax.axhline(0, color=\"black\", linewidth=1.0, alpha=0.5)\n",
    "plt.show()\n"
   ]
  },
  {
   "cell_type": "markdown",
   "id": "6afef0d8",
   "metadata": {},
   "source": [
    "------------------"
   ]
  },
  {
   "cell_type": "markdown",
   "id": "79563dba-c1b0-4b04-b355-870fd9ebb010",
   "metadata": {},
   "source": [
    "3. para el evento S2 correspondiente al split de ENG (Enagas SA)  más cercano al 2024, analizar si tuvo efecto en la rentablidad media de los tres bancos bajo analisis en la ventana de tiempo correspondiente a 3 dias antes del evento y 3 dias despues. "
   ]
  },
  {
   "cell_type": "code",
   "execution_count": 29,
   "id": "8ddbc0c4",
   "metadata": {},
   "outputs": [
    {
     "data": {
      "text/plain": [
       "Date\n",
       "2023-12-01 00:00:00-05:00    0.125\n",
       "Name: Stock Splits, dtype: float64"
      ]
     },
     "execution_count": 29,
     "metadata": {},
     "output_type": "execute_result"
    }
   ],
   "source": [
    "ENG_splits = yf.Ticker(\"ENG\").splits\n",
    "ENG_splits"
   ]
  },
  {
   "cell_type": "code",
   "execution_count": 109,
   "id": "3f60b9ea",
   "metadata": {},
   "outputs": [
    {
     "data": {
      "text/html": [
       "<div>\n",
       "<style scoped>\n",
       "    .dataframe tbody tr th:only-of-type {\n",
       "        vertical-align: middle;\n",
       "    }\n",
       "\n",
       "    .dataframe tbody tr th {\n",
       "        vertical-align: top;\n",
       "    }\n",
       "\n",
       "    .dataframe thead th {\n",
       "        text-align: right;\n",
       "    }\n",
       "</style>\n",
       "<table border=\"1\" class=\"dataframe\">\n",
       "  <thead>\n",
       "    <tr style=\"text-align: right;\">\n",
       "      <th>Ticker</th>\n",
       "      <th>ENG</th>\n",
       "      <th>BBVA</th>\n",
       "      <th>SAN</th>\n",
       "      <th>BKT</th>\n",
       "    </tr>\n",
       "    <tr>\n",
       "      <th>Date</th>\n",
       "      <th></th>\n",
       "      <th></th>\n",
       "      <th></th>\n",
       "      <th></th>\n",
       "    </tr>\n",
       "  </thead>\n",
       "  <tbody>\n",
       "    <tr>\n",
       "      <th>2022-10-14</th>\n",
       "      <td>8.56</td>\n",
       "      <td>3.992111</td>\n",
       "      <td>2.237966</td>\n",
       "      <td>10.055267</td>\n",
       "    </tr>\n",
       "    <tr>\n",
       "      <th>2022-10-17</th>\n",
       "      <td>8.24</td>\n",
       "      <td>4.157723</td>\n",
       "      <td>2.311644</td>\n",
       "      <td>10.004867</td>\n",
       "    </tr>\n",
       "    <tr>\n",
       "      <th>2022-10-18</th>\n",
       "      <td>7.92</td>\n",
       "      <td>4.253603</td>\n",
       "      <td>2.394531</td>\n",
       "      <td>10.004867</td>\n",
       "    </tr>\n",
       "    <tr>\n",
       "      <th>2022-10-19</th>\n",
       "      <td>8.00</td>\n",
       "      <td>4.210021</td>\n",
       "      <td>2.357692</td>\n",
       "      <td>9.962865</td>\n",
       "    </tr>\n",
       "    <tr>\n",
       "      <th>2022-10-20</th>\n",
       "      <td>7.92</td>\n",
       "      <td>4.288468</td>\n",
       "      <td>2.376112</td>\n",
       "      <td>9.920861</td>\n",
       "    </tr>\n",
       "    <tr>\n",
       "      <th>2022-10-21</th>\n",
       "      <td>8.08</td>\n",
       "      <td>4.332051</td>\n",
       "      <td>2.412951</td>\n",
       "      <td>9.769653</td>\n",
       "    </tr>\n",
       "    <tr>\n",
       "      <th>2022-10-24</th>\n",
       "      <td>7.92</td>\n",
       "      <td>4.480229</td>\n",
       "      <td>2.468209</td>\n",
       "      <td>9.853659</td>\n",
       "    </tr>\n",
       "    <tr>\n",
       "      <th>2022-10-25</th>\n",
       "      <td>8.48</td>\n",
       "      <td>4.541245</td>\n",
       "      <td>2.523468</td>\n",
       "      <td>9.954462</td>\n",
       "    </tr>\n",
       "    <tr>\n",
       "      <th>2022-10-26</th>\n",
       "      <td>8.64</td>\n",
       "      <td>4.558677</td>\n",
       "      <td>2.477419</td>\n",
       "      <td>10.164473</td>\n",
       "    </tr>\n",
       "    <tr>\n",
       "      <th>2022-10-27</th>\n",
       "      <td>8.32</td>\n",
       "      <td>4.532528</td>\n",
       "      <td>2.403741</td>\n",
       "      <td>10.214876</td>\n",
       "    </tr>\n",
       "    <tr>\n",
       "      <th>2022-10-28</th>\n",
       "      <td>8.16</td>\n",
       "      <td>4.558677</td>\n",
       "      <td>2.468209</td>\n",
       "      <td>10.248476</td>\n",
       "    </tr>\n",
       "  </tbody>\n",
       "</table>\n",
       "</div>"
      ],
      "text/plain": [
       "Ticker       ENG      BBVA       SAN        BKT\n",
       "Date                                           \n",
       "2022-10-14  8.56  3.992111  2.237966  10.055267\n",
       "2022-10-17  8.24  4.157723  2.311644  10.004867\n",
       "2022-10-18  7.92  4.253603  2.394531  10.004867\n",
       "2022-10-19  8.00  4.210021  2.357692   9.962865\n",
       "2022-10-20  7.92  4.288468  2.376112   9.920861\n",
       "2022-10-21  8.08  4.332051  2.412951   9.769653\n",
       "2022-10-24  7.92  4.480229  2.468209   9.853659\n",
       "2022-10-25  8.48  4.541245  2.523468   9.954462\n",
       "2022-10-26  8.64  4.558677  2.477419  10.164473\n",
       "2022-10-27  8.32  4.532528  2.403741  10.214876\n",
       "2022-10-28  8.16  4.558677  2.468209  10.248476"
      ]
     },
     "execution_count": 109,
     "metadata": {},
     "output_type": "execute_result"
    }
   ],
   "source": [
    "EN = df_adj[[\"ENG\",\"BBVA\",\"SAN\",\"BKT\"]][\"2022-10-14\": \"2022-10-30\"]\n",
    "EN.index = pd.to_datetime(EN.index, format='%Y-%m-%d')\n",
    "EN.index = EN.index.strftime('%Y-%m-%d')\n",
    "EN"
   ]
  },
  {
   "cell_type": "code",
   "execution_count": 110,
   "id": "8967ce88",
   "metadata": {},
   "outputs": [
    {
     "data": {
      "text/html": [
       "<div>\n",
       "<style scoped>\n",
       "    .dataframe tbody tr th:only-of-type {\n",
       "        vertical-align: middle;\n",
       "    }\n",
       "\n",
       "    .dataframe tbody tr th {\n",
       "        vertical-align: top;\n",
       "    }\n",
       "\n",
       "    .dataframe thead th {\n",
       "        text-align: right;\n",
       "    }\n",
       "</style>\n",
       "<table border=\"1\" class=\"dataframe\">\n",
       "  <thead>\n",
       "    <tr style=\"text-align: right;\">\n",
       "      <th>Ticker</th>\n",
       "      <th>ENG</th>\n",
       "      <th>BBVA</th>\n",
       "      <th>SAN</th>\n",
       "      <th>BKT</th>\n",
       "    </tr>\n",
       "    <tr>\n",
       "      <th>Date</th>\n",
       "      <th></th>\n",
       "      <th></th>\n",
       "      <th></th>\n",
       "      <th></th>\n",
       "    </tr>\n",
       "  </thead>\n",
       "  <tbody>\n",
       "    <tr>\n",
       "      <th>2022-10-17</th>\n",
       "      <td>-0.037383</td>\n",
       "      <td>0.041485</td>\n",
       "      <td>0.032922</td>\n",
       "      <td>-0.005012</td>\n",
       "    </tr>\n",
       "    <tr>\n",
       "      <th>2022-10-18</th>\n",
       "      <td>-0.038835</td>\n",
       "      <td>0.023061</td>\n",
       "      <td>0.035857</td>\n",
       "      <td>0.000000</td>\n",
       "    </tr>\n",
       "    <tr>\n",
       "      <th>2022-10-19</th>\n",
       "      <td>0.010101</td>\n",
       "      <td>-0.010246</td>\n",
       "      <td>-0.015385</td>\n",
       "      <td>-0.004198</td>\n",
       "    </tr>\n",
       "    <tr>\n",
       "      <th>2022-10-20</th>\n",
       "      <td>-0.010000</td>\n",
       "      <td>0.018633</td>\n",
       "      <td>0.007812</td>\n",
       "      <td>-0.004216</td>\n",
       "    </tr>\n",
       "    <tr>\n",
       "      <th>2022-10-21</th>\n",
       "      <td>0.020202</td>\n",
       "      <td>0.010163</td>\n",
       "      <td>0.015504</td>\n",
       "      <td>-0.015241</td>\n",
       "    </tr>\n",
       "    <tr>\n",
       "      <th>2022-10-24</th>\n",
       "      <td>-0.019802</td>\n",
       "      <td>0.034205</td>\n",
       "      <td>0.022901</td>\n",
       "      <td>0.008599</td>\n",
       "    </tr>\n",
       "    <tr>\n",
       "      <th>2022-10-25</th>\n",
       "      <td>0.070707</td>\n",
       "      <td>0.013619</td>\n",
       "      <td>0.022388</td>\n",
       "      <td>0.010230</td>\n",
       "    </tr>\n",
       "    <tr>\n",
       "      <th>2022-10-26</th>\n",
       "      <td>0.018868</td>\n",
       "      <td>0.003839</td>\n",
       "      <td>-0.018248</td>\n",
       "      <td>0.021097</td>\n",
       "    </tr>\n",
       "    <tr>\n",
       "      <th>2022-10-27</th>\n",
       "      <td>-0.037037</td>\n",
       "      <td>-0.005736</td>\n",
       "      <td>-0.029740</td>\n",
       "      <td>0.004959</td>\n",
       "    </tr>\n",
       "    <tr>\n",
       "      <th>2022-10-28</th>\n",
       "      <td>-0.019231</td>\n",
       "      <td>0.005769</td>\n",
       "      <td>0.026820</td>\n",
       "      <td>0.003289</td>\n",
       "    </tr>\n",
       "  </tbody>\n",
       "</table>\n",
       "</div>"
      ],
      "text/plain": [
       "Ticker           ENG      BBVA       SAN       BKT\n",
       "Date                                              \n",
       "2022-10-17 -0.037383  0.041485  0.032922 -0.005012\n",
       "2022-10-18 -0.038835  0.023061  0.035857  0.000000\n",
       "2022-10-19  0.010101 -0.010246 -0.015385 -0.004198\n",
       "2022-10-20 -0.010000  0.018633  0.007812 -0.004216\n",
       "2022-10-21  0.020202  0.010163  0.015504 -0.015241\n",
       "2022-10-24 -0.019802  0.034205  0.022901  0.008599\n",
       "2022-10-25  0.070707  0.013619  0.022388  0.010230\n",
       "2022-10-26  0.018868  0.003839 -0.018248  0.021097\n",
       "2022-10-27 -0.037037 -0.005736 -0.029740  0.004959\n",
       "2022-10-28 -0.019231  0.005769  0.026820  0.003289"
      ]
     },
     "execution_count": 110,
     "metadata": {},
     "output_type": "execute_result"
    }
   ],
   "source": [
    "retornos_EN = EN.pct_change().dropna()\n",
    "retornos_EN\n"
   ]
  },
  {
   "cell_type": "code",
   "execution_count": 111,
   "id": "7a06a025",
   "metadata": {},
   "outputs": [
    {
     "data": {
      "text/plain": [
       "Date\n",
       "2022-10-17    0.008003\n",
       "2022-10-18    0.005021\n",
       "2022-10-19   -0.004932\n",
       "2022-10-20    0.003057\n",
       "2022-10-21    0.007657\n",
       "2022-10-24    0.011476\n",
       "2022-10-25    0.029236\n",
       "2022-10-26    0.006389\n",
       "2022-10-27   -0.016889\n",
       "2022-10-28    0.004162\n",
       "dtype: float64"
      ]
     },
     "execution_count": 111,
     "metadata": {},
     "output_type": "execute_result"
    }
   ],
   "source": [
    "f = retornos_EN.mean(axis=1)\n",
    "f\n"
   ]
  },
  {
   "cell_type": "code",
   "execution_count": 112,
   "id": "e4bfae32",
   "metadata": {},
   "outputs": [
    {
     "data": {
      "image/png": "[encoded data removed]",
      "text/plain": [
       "<Figure size 1000x500 with 1 Axes>"
      ]
     },
     "metadata": {},
     "output_type": "display_data"
    }
   ],
   "source": [
    "plt.style.use(\"ggplot\")\n",
    "fig = plt.figure(figsize=(10,5))\n",
    "ax = f.plot(kind=\"bar\")\n",
    "ax.set_title(\"Rendimientos medios antes y despues con ENG, Split = 2023-12-01\")\n",
    "ax.set_xlabel(\"Fecha\")\n",
    "ax.axhline(0, color=\"white\", linewidth=1.0, alpha=0.5)\n",
    "plt.show()"
   ]
  },
  {
   "cell_type": "code",
   "execution_count": 106,
   "id": "cb1ca144",
   "metadata": {},
   "outputs": [
    {
     "data": {
      "text/html": [
       "<div>\n",
       "<style scoped>\n",
       "    .dataframe tbody tr th:only-of-type {\n",
       "        vertical-align: middle;\n",
       "    }\n",
       "\n",
       "    .dataframe tbody tr th {\n",
       "        vertical-align: top;\n",
       "    }\n",
       "\n",
       "    .dataframe thead th {\n",
       "        text-align: right;\n",
       "    }\n",
       "</style>\n",
       "<table border=\"1\" class=\"dataframe\">\n",
       "  <thead>\n",
       "    <tr style=\"text-align: right;\">\n",
       "      <th>Ticker</th>\n",
       "      <th>BBVA</th>\n",
       "      <th>SAN</th>\n",
       "      <th>BKT</th>\n",
       "    </tr>\n",
       "    <tr>\n",
       "      <th>Date</th>\n",
       "      <th></th>\n",
       "      <th></th>\n",
       "      <th></th>\n",
       "    </tr>\n",
       "  </thead>\n",
       "  <tbody>\n",
       "    <tr>\n",
       "      <th>2022-10-17</th>\n",
       "      <td>0.041485</td>\n",
       "      <td>0.032922</td>\n",
       "      <td>-0.005012</td>\n",
       "    </tr>\n",
       "    <tr>\n",
       "      <th>2022-10-18</th>\n",
       "      <td>0.023061</td>\n",
       "      <td>0.035857</td>\n",
       "      <td>0.000000</td>\n",
       "    </tr>\n",
       "    <tr>\n",
       "      <th>2022-10-19</th>\n",
       "      <td>-0.010246</td>\n",
       "      <td>-0.015385</td>\n",
       "      <td>-0.004198</td>\n",
       "    </tr>\n",
       "    <tr>\n",
       "      <th>2022-10-20</th>\n",
       "      <td>0.018633</td>\n",
       "      <td>0.007812</td>\n",
       "      <td>-0.004216</td>\n",
       "    </tr>\n",
       "    <tr>\n",
       "      <th>2022-10-21</th>\n",
       "      <td>0.010163</td>\n",
       "      <td>0.015504</td>\n",
       "      <td>-0.015241</td>\n",
       "    </tr>\n",
       "    <tr>\n",
       "      <th>2022-10-24</th>\n",
       "      <td>0.034205</td>\n",
       "      <td>0.022901</td>\n",
       "      <td>0.008599</td>\n",
       "    </tr>\n",
       "    <tr>\n",
       "      <th>2022-10-25</th>\n",
       "      <td>0.013619</td>\n",
       "      <td>0.022388</td>\n",
       "      <td>0.010230</td>\n",
       "    </tr>\n",
       "    <tr>\n",
       "      <th>2022-10-26</th>\n",
       "      <td>0.003839</td>\n",
       "      <td>-0.018248</td>\n",
       "      <td>0.021097</td>\n",
       "    </tr>\n",
       "    <tr>\n",
       "      <th>2022-10-27</th>\n",
       "      <td>-0.005736</td>\n",
       "      <td>-0.029740</td>\n",
       "      <td>0.004959</td>\n",
       "    </tr>\n",
       "    <tr>\n",
       "      <th>2022-10-28</th>\n",
       "      <td>0.005769</td>\n",
       "      <td>0.026820</td>\n",
       "      <td>0.003289</td>\n",
       "    </tr>\n",
       "  </tbody>\n",
       "</table>\n",
       "</div>"
      ],
      "text/plain": [
       "Ticker          BBVA       SAN       BKT\n",
       "Date                                    \n",
       "2022-10-17  0.041485  0.032922 -0.005012\n",
       "2022-10-18  0.023061  0.035857  0.000000\n",
       "2022-10-19 -0.010246 -0.015385 -0.004198\n",
       "2022-10-20  0.018633  0.007812 -0.004216\n",
       "2022-10-21  0.010163  0.015504 -0.015241\n",
       "2022-10-24  0.034205  0.022901  0.008599\n",
       "2022-10-25  0.013619  0.022388  0.010230\n",
       "2022-10-26  0.003839 -0.018248  0.021097\n",
       "2022-10-27 -0.005736 -0.029740  0.004959\n",
       "2022-10-28  0.005769  0.026820  0.003289"
      ]
     },
     "execution_count": 106,
     "metadata": {},
     "output_type": "execute_result"
    }
   ],
   "source": [
    "EN_2 = df_adj[[\"BBVA\",\"SAN\",\"BKT\"]][\"2022-10-14\": \"2022-10-30\"]\n",
    "EN_2.index = pd.to_datetime(EN_2.index, format='%Y-%m-%d')\n",
    "EN_2.index = EN_2.index.strftime('%Y-%m-%d')\n",
    "retornos_EN_2 = EN_2.pct_change().dropna()\n",
    "retornos_EN_2"
   ]
  },
  {
   "cell_type": "code",
   "execution_count": 107,
   "id": "6e80b8bd",
   "metadata": {},
   "outputs": [
    {
     "data": {
      "text/plain": [
       "Date\n",
       "2022-10-17    0.023131\n",
       "2022-10-18    0.019639\n",
       "2022-10-19   -0.009943\n",
       "2022-10-20    0.007410\n",
       "2022-10-21    0.003475\n",
       "2022-10-24    0.021901\n",
       "2022-10-25    0.015412\n",
       "2022-10-26    0.002229\n",
       "2022-10-27   -0.010172\n",
       "2022-10-28    0.011959\n",
       "dtype: float64"
      ]
     },
     "execution_count": 107,
     "metadata": {},
     "output_type": "execute_result"
    }
   ],
   "source": [
    "h = retornos_EN_2.mean(axis=1)\n",
    "h"
   ]
  },
  {
   "cell_type": "code",
   "execution_count": 108,
   "id": "c52834a4",
   "metadata": {},
   "outputs": [
    {
     "data": {
      "image/png": "[encoded data removed]",
      "text/plain": [
       "<Figure size 1000x500 with 1 Axes>"
      ]
     },
     "metadata": {},
     "output_type": "display_data"
    }
   ],
   "source": [
    "plt.style.use(\"ggplot\")\n",
    "fig = plt.figure(figsize=(10,5))\n",
    "ax = h.plot(kind=\"bar\")\n",
    "ax.set_title(\"Rendimientos medios antes y despues sin ENG Split = 2023-12-01\")\n",
    "ax.set_xlabel(\"Fecha\")\n",
    "ax.axhline(0, color=\"white\", linewidth=1.0, alpha=0.5)\n",
    "plt.show()"
   ]
  },
  {
   "cell_type": "markdown",
   "id": "f30bcce3",
   "metadata": {},
   "source": [
    "--------------------"
   ]
  },
  {
   "cell_type": "markdown",
   "id": "a88f0b59-8c03-46b1-9d97-12fc0e24aab6",
   "metadata": {},
   "source": [
    "4. para el evento S3 correspondiente al split de IDR (Indra Sistemas - Class A Shares)  más cercano al 2024, analizar si tuvo efecto en la rentablidad media de los tres bancos bajo analisis en la ventana de tiempo correspondiente a 3 dias antes del evento y 3 dias despues. "
   ]
  },
  {
   "cell_type": "code",
   "execution_count": 55,
   "id": "f49c757c",
   "metadata": {},
   "outputs": [
    {
     "data": {
      "text/plain": [
       "Date\n",
       "2021-12-06 00:00:00-05:00    0.071429\n",
       "Name: Stock Splits, dtype: float64"
      ]
     },
     "execution_count": 55,
     "metadata": {},
     "output_type": "execute_result"
    }
   ],
   "source": [
    "IDR_splits = yf.Ticker(\"IDR\").splits\n",
    "IDR_splits"
   ]
  },
  {
   "cell_type": "code",
   "execution_count": 56,
   "id": "962029ea",
   "metadata": {},
   "outputs": [
    {
     "data": {
      "text/html": [
       "<div>\n",
       "<style scoped>\n",
       "    .dataframe tbody tr th:only-of-type {\n",
       "        vertical-align: middle;\n",
       "    }\n",
       "\n",
       "    .dataframe tbody tr th {\n",
       "        vertical-align: top;\n",
       "    }\n",
       "\n",
       "    .dataframe thead th {\n",
       "        text-align: right;\n",
       "    }\n",
       "</style>\n",
       "<table border=\"1\" class=\"dataframe\">\n",
       "  <thead>\n",
       "    <tr style=\"text-align: right;\">\n",
       "      <th>Ticker</th>\n",
       "      <th>IDR</th>\n",
       "      <th>BBVA</th>\n",
       "      <th>SAN</th>\n",
       "      <th>BKT</th>\n",
       "    </tr>\n",
       "    <tr>\n",
       "      <th>Date</th>\n",
       "      <th></th>\n",
       "      <th></th>\n",
       "      <th></th>\n",
       "      <th></th>\n",
       "    </tr>\n",
       "  </thead>\n",
       "  <tbody>\n",
       "    <tr>\n",
       "      <th>2021-11-30 00:00:00+00:00</th>\n",
       "      <td>6.300</td>\n",
       "      <td>4.296130</td>\n",
       "      <td>2.809072</td>\n",
       "      <td>13.785927</td>\n",
       "    </tr>\n",
       "    <tr>\n",
       "      <th>2021-12-01 00:00:00+00:00</th>\n",
       "      <td>5.600</td>\n",
       "      <td>4.271811</td>\n",
       "      <td>2.791007</td>\n",
       "      <td>13.739035</td>\n",
       "    </tr>\n",
       "    <tr>\n",
       "      <th>2021-12-02 00:00:00+00:00</th>\n",
       "      <td>6.104</td>\n",
       "      <td>4.393401</td>\n",
       "      <td>2.863266</td>\n",
       "      <td>13.551471</td>\n",
       "    </tr>\n",
       "    <tr>\n",
       "      <th>2021-12-03 00:00:00+00:00</th>\n",
       "      <td>6.090</td>\n",
       "      <td>4.360977</td>\n",
       "      <td>2.836169</td>\n",
       "      <td>13.528025</td>\n",
       "    </tr>\n",
       "    <tr>\n",
       "      <th>2021-12-06 00:00:00+00:00</th>\n",
       "      <td>6.500</td>\n",
       "      <td>4.547413</td>\n",
       "      <td>2.863266</td>\n",
       "      <td>13.551471</td>\n",
       "    </tr>\n",
       "    <tr>\n",
       "      <th>2021-12-07 00:00:00+00:00</th>\n",
       "      <td>6.000</td>\n",
       "      <td>4.644684</td>\n",
       "      <td>2.872299</td>\n",
       "      <td>13.551471</td>\n",
       "    </tr>\n",
       "    <tr>\n",
       "      <th>2021-12-08 00:00:00+00:00</th>\n",
       "      <td>6.250</td>\n",
       "      <td>4.733849</td>\n",
       "      <td>2.809072</td>\n",
       "      <td>13.528025</td>\n",
       "    </tr>\n",
       "    <tr>\n",
       "      <th>2021-12-09 00:00:00+00:00</th>\n",
       "      <td>6.010</td>\n",
       "      <td>4.620366</td>\n",
       "      <td>2.718748</td>\n",
       "      <td>13.574920</td>\n",
       "    </tr>\n",
       "  </tbody>\n",
       "</table>\n",
       "</div>"
      ],
      "text/plain": [
       "Ticker                       IDR      BBVA       SAN        BKT\n",
       "Date                                                           \n",
       "2021-11-30 00:00:00+00:00  6.300  4.296130  2.809072  13.785927\n",
       "2021-12-01 00:00:00+00:00  5.600  4.271811  2.791007  13.739035\n",
       "2021-12-02 00:00:00+00:00  6.104  4.393401  2.863266  13.551471\n",
       "2021-12-03 00:00:00+00:00  6.090  4.360977  2.836169  13.528025\n",
       "2021-12-06 00:00:00+00:00  6.500  4.547413  2.863266  13.551471\n",
       "2021-12-07 00:00:00+00:00  6.000  4.644684  2.872299  13.551471\n",
       "2021-12-08 00:00:00+00:00  6.250  4.733849  2.809072  13.528025\n",
       "2021-12-09 00:00:00+00:00  6.010  4.620366  2.718748  13.574920"
      ]
     },
     "execution_count": 56,
     "metadata": {},
     "output_type": "execute_result"
    }
   ],
   "source": [
    "IDR = df_adj[[\"IDR\",\"BBVA\",\"SAN\",\"BKT\"]][\"2021-11-30\": \"2021-12-09\"]\n",
    "IDR.index = pd.to_datetime(IDR.index, format='%Y-%m-%d')\n",
    "#IDR.index = EN.index.strftime('%Y-%m-%d')\n",
    "IDR"
   ]
  },
  {
   "cell_type": "code",
   "execution_count": 57,
   "id": "d9367b5c",
   "metadata": {},
   "outputs": [
    {
     "data": {
      "text/html": [
       "<div>\n",
       "<style scoped>\n",
       "    .dataframe tbody tr th:only-of-type {\n",
       "        vertical-align: middle;\n",
       "    }\n",
       "\n",
       "    .dataframe tbody tr th {\n",
       "        vertical-align: top;\n",
       "    }\n",
       "\n",
       "    .dataframe thead th {\n",
       "        text-align: right;\n",
       "    }\n",
       "</style>\n",
       "<table border=\"1\" class=\"dataframe\">\n",
       "  <thead>\n",
       "    <tr style=\"text-align: right;\">\n",
       "      <th>Ticker</th>\n",
       "      <th>IDR</th>\n",
       "      <th>BBVA</th>\n",
       "      <th>SAN</th>\n",
       "      <th>BKT</th>\n",
       "    </tr>\n",
       "    <tr>\n",
       "      <th>Date</th>\n",
       "      <th></th>\n",
       "      <th></th>\n",
       "      <th></th>\n",
       "      <th></th>\n",
       "    </tr>\n",
       "  </thead>\n",
       "  <tbody>\n",
       "    <tr>\n",
       "      <th>2021-12-01</th>\n",
       "      <td>-0.111111</td>\n",
       "      <td>-0.005661</td>\n",
       "      <td>-0.006431</td>\n",
       "      <td>-0.003401</td>\n",
       "    </tr>\n",
       "    <tr>\n",
       "      <th>2021-12-02</th>\n",
       "      <td>0.090000</td>\n",
       "      <td>0.028463</td>\n",
       "      <td>0.025890</td>\n",
       "      <td>-0.013652</td>\n",
       "    </tr>\n",
       "    <tr>\n",
       "      <th>2021-12-03</th>\n",
       "      <td>-0.002294</td>\n",
       "      <td>-0.007380</td>\n",
       "      <td>-0.009464</td>\n",
       "      <td>-0.001730</td>\n",
       "    </tr>\n",
       "    <tr>\n",
       "      <th>2021-12-06</th>\n",
       "      <td>0.067323</td>\n",
       "      <td>0.042751</td>\n",
       "      <td>0.009554</td>\n",
       "      <td>0.001733</td>\n",
       "    </tr>\n",
       "    <tr>\n",
       "      <th>2021-12-07</th>\n",
       "      <td>-0.076923</td>\n",
       "      <td>0.021390</td>\n",
       "      <td>0.003155</td>\n",
       "      <td>0.000000</td>\n",
       "    </tr>\n",
       "    <tr>\n",
       "      <th>2021-12-08</th>\n",
       "      <td>0.041667</td>\n",
       "      <td>0.019197</td>\n",
       "      <td>-0.022013</td>\n",
       "      <td>-0.001730</td>\n",
       "    </tr>\n",
       "    <tr>\n",
       "      <th>2021-12-09</th>\n",
       "      <td>-0.038400</td>\n",
       "      <td>-0.023973</td>\n",
       "      <td>-0.032154</td>\n",
       "      <td>0.003467</td>\n",
       "    </tr>\n",
       "  </tbody>\n",
       "</table>\n",
       "</div>"
      ],
      "text/plain": [
       "Ticker           IDR      BBVA       SAN       BKT\n",
       "Date                                              \n",
       "2021-12-01 -0.111111 -0.005661 -0.006431 -0.003401\n",
       "2021-12-02  0.090000  0.028463  0.025890 -0.013652\n",
       "2021-12-03 -0.002294 -0.007380 -0.009464 -0.001730\n",
       "2021-12-06  0.067323  0.042751  0.009554  0.001733\n",
       "2021-12-07 -0.076923  0.021390  0.003155  0.000000\n",
       "2021-12-08  0.041667  0.019197 -0.022013 -0.001730\n",
       "2021-12-09 -0.038400 -0.023973 -0.032154  0.003467"
      ]
     },
     "execution_count": 57,
     "metadata": {},
     "output_type": "execute_result"
    }
   ],
   "source": [
    "IDR = df_adj[[\"IDR\",\"BBVA\",\"SAN\",\"BKT\"]][\"2021-11-30\": \"2021-12-09\"]\n",
    "IDR.index = pd.to_datetime(IDR.index, format='%Y-%m-%d')\n",
    "IDR.index = IDR.index.strftime('%Y-%m-%d')\n",
    "retornos_IDR = IDR.pct_change().dropna()\n",
    "retornos_IDR\n"
   ]
  },
  {
   "cell_type": "code",
   "execution_count": 79,
   "id": "810f4176",
   "metadata": {},
   "outputs": [
    {
     "data": {
      "text/plain": [
       "Date\n",
       "2021-12-01   -0.031651\n",
       "2021-12-02    0.032675\n",
       "2021-12-03   -0.005217\n",
       "2021-12-06    0.030340\n",
       "2021-12-07   -0.013094\n",
       "2021-12-08    0.009280\n",
       "2021-12-09   -0.022765\n",
       "dtype: float64"
      ]
     },
     "execution_count": 79,
     "metadata": {},
     "output_type": "execute_result"
    }
   ],
   "source": [
    "g = retornos_IDR.mean(axis=1)\n",
    "g"
   ]
  },
  {
   "cell_type": "code",
   "execution_count": 64,
   "id": "afce187b",
   "metadata": {},
   "outputs": [
    {
     "data": {
      "image/png": "[encoded data removed]",
      "text/plain": [
       "<Figure size 1000x500 with 1 Axes>"
      ]
     },
     "metadata": {},
     "output_type": "display_data"
    }
   ],
   "source": [
    "plt.style.use('fivethirtyeight')\n",
    "\n",
    "fig = plt.figure(figsize=(10, 5))\n",
    "ax = g.plot(kind=\"bar\")\n",
    "ax.set_title(\"Rendimientos medios antes de despues con IDR, Split 2021-12-06\")\n",
    "ax.set_xlabel(\"Fecha\")\n",
    "ax.axhline(0, color=\"black\", linewidth=1.0, alpha=0.5)\n",
    "plt.show()"
   ]
  },
  {
   "cell_type": "code",
   "execution_count": 77,
   "id": "5322d85f",
   "metadata": {},
   "outputs": [
    {
     "data": {
      "text/html": [
       "<div>\n",
       "<style scoped>\n",
       "    .dataframe tbody tr th:only-of-type {\n",
       "        vertical-align: middle;\n",
       "    }\n",
       "\n",
       "    .dataframe tbody tr th {\n",
       "        vertical-align: top;\n",
       "    }\n",
       "\n",
       "    .dataframe thead th {\n",
       "        text-align: right;\n",
       "    }\n",
       "</style>\n",
       "<table border=\"1\" class=\"dataframe\">\n",
       "  <thead>\n",
       "    <tr style=\"text-align: right;\">\n",
       "      <th>Ticker</th>\n",
       "      <th>BBVA</th>\n",
       "      <th>SAN</th>\n",
       "      <th>BKT</th>\n",
       "    </tr>\n",
       "    <tr>\n",
       "      <th>Date</th>\n",
       "      <th></th>\n",
       "      <th></th>\n",
       "      <th></th>\n",
       "    </tr>\n",
       "  </thead>\n",
       "  <tbody>\n",
       "    <tr>\n",
       "      <th>2021-12-01</th>\n",
       "      <td>-0.005661</td>\n",
       "      <td>-0.006431</td>\n",
       "      <td>-0.003401</td>\n",
       "    </tr>\n",
       "    <tr>\n",
       "      <th>2021-12-02</th>\n",
       "      <td>0.028463</td>\n",
       "      <td>0.025890</td>\n",
       "      <td>-0.013652</td>\n",
       "    </tr>\n",
       "    <tr>\n",
       "      <th>2021-12-03</th>\n",
       "      <td>-0.007380</td>\n",
       "      <td>-0.009464</td>\n",
       "      <td>-0.001730</td>\n",
       "    </tr>\n",
       "    <tr>\n",
       "      <th>2021-12-06</th>\n",
       "      <td>0.042751</td>\n",
       "      <td>0.009554</td>\n",
       "      <td>0.001733</td>\n",
       "    </tr>\n",
       "    <tr>\n",
       "      <th>2021-12-07</th>\n",
       "      <td>0.021390</td>\n",
       "      <td>0.003155</td>\n",
       "      <td>0.000000</td>\n",
       "    </tr>\n",
       "    <tr>\n",
       "      <th>2021-12-08</th>\n",
       "      <td>0.019197</td>\n",
       "      <td>-0.022013</td>\n",
       "      <td>-0.001730</td>\n",
       "    </tr>\n",
       "    <tr>\n",
       "      <th>2021-12-09</th>\n",
       "      <td>-0.023973</td>\n",
       "      <td>-0.032154</td>\n",
       "      <td>0.003467</td>\n",
       "    </tr>\n",
       "  </tbody>\n",
       "</table>\n",
       "</div>"
      ],
      "text/plain": [
       "Ticker          BBVA       SAN       BKT\n",
       "Date                                    \n",
       "2021-12-01 -0.005661 -0.006431 -0.003401\n",
       "2021-12-02  0.028463  0.025890 -0.013652\n",
       "2021-12-03 -0.007380 -0.009464 -0.001730\n",
       "2021-12-06  0.042751  0.009554  0.001733\n",
       "2021-12-07  0.021390  0.003155  0.000000\n",
       "2021-12-08  0.019197 -0.022013 -0.001730\n",
       "2021-12-09 -0.023973 -0.032154  0.003467"
      ]
     },
     "execution_count": 77,
     "metadata": {},
     "output_type": "execute_result"
    }
   ],
   "source": [
    "IDR_2 = df_adj[[\"BBVA\",\"SAN\",\"BKT\"]][\"2021-11-30\": \"2021-12-09\"]\n",
    "IDR_2.index = pd.to_datetime(IDR_2.index, format='%Y-%m-%d')\n",
    "IDR_2.index = IDR_2.index.strftime('%Y-%m-%d')\n",
    "retornos_IDR_2 = IDR_2.pct_change().dropna()\n",
    "retornos_IDR_2"
   ]
  },
  {
   "cell_type": "code",
   "execution_count": 80,
   "id": "ace0d8b2",
   "metadata": {},
   "outputs": [
    {
     "data": {
      "text/plain": [
       "Date\n",
       "2021-12-01   -0.005164\n",
       "2021-12-02    0.013567\n",
       "2021-12-03   -0.006191\n",
       "2021-12-06    0.018013\n",
       "2021-12-07    0.008182\n",
       "2021-12-08   -0.001515\n",
       "2021-12-09   -0.017553\n",
       "dtype: float64"
      ]
     },
     "execution_count": 80,
     "metadata": {},
     "output_type": "execute_result"
    }
   ],
   "source": [
    "g_2 = retornos_IDR_2.mean(axis=1)\n",
    "g_2"
   ]
  },
  {
   "cell_type": "code",
   "execution_count": 81,
   "id": "b2384e0e",
   "metadata": {},
   "outputs": [
    {
     "data": {
      "image/png": "[encoded data removed]",
      "text/plain": [
       "<Figure size 1000x500 with 1 Axes>"
      ]
     },
     "metadata": {},
     "output_type": "display_data"
    }
   ],
   "source": [
    "plt.style.use('fivethirtyeight')\n",
    "\n",
    "fig = plt.figure(figsize=(10, 5))\n",
    "ax = g_2.plot(kind=\"bar\")\n",
    "ax.set_title(\"Rendimientos medios antes de despues sin IDR, Split 2021-12-06\")\n",
    "ax.set_xlabel(\"Fecha\")\n",
    "ax.axhline(0, color=\"black\", linewidth=1.0, alpha=0.5)\n",
    "plt.show()"
   ]
  },
  {
   "cell_type": "markdown",
   "id": "5d3fd7e7",
   "metadata": {},
   "source": [
    "---------------"
   ]
  },
  {
   "cell_type": "code",
   "execution_count": 6,
   "id": "9ebb77ce",
   "metadata": {},
   "outputs": [
    {
     "data": {
      "text/plain": [
       "Date\n",
       "2013-12-10 00:00:00-05:00    0.526653\n",
       "2014-07-02 00:00:00-04:00    0.388672\n",
       "2014-11-04 00:00:00-05:00    0.476000\n",
       "2019-11-06 00:00:00-05:00    0.452000\n",
       "2020-05-14 00:00:00-04:00    0.338000\n",
       "2020-11-04 00:00:00-05:00    0.235000\n",
       "2021-05-13 00:00:00-04:00    0.238000\n",
       "2021-11-03 00:00:00-04:00    0.353000\n",
       "2022-05-11 00:00:00-04:00    0.293000\n",
       "2022-11-03 00:00:00-04:00    0.407000\n",
       "2023-07-05 00:00:00-04:00    0.312000\n",
       "2023-10-25 00:00:00-04:00    0.453000\n",
       "2024-05-20 00:00:00-04:00    0.330000\n",
       "Name: Dividends, dtype: float64"
      ]
     },
     "execution_count": 6,
     "metadata": {},
     "output_type": "execute_result"
    }
   ],
   "source": [
    "GRF_dividends = yf.Ticker(\"FER\").dividends\n",
    "GRF_dividends"
   ]
  },
  {
   "cell_type": "code",
   "execution_count": 13,
   "id": "ce74db5e",
   "metadata": {},
   "outputs": [
    {
     "ename": "NameError",
     "evalue": "name 'fecha_SAN' is not defined",
     "output_type": "error",
     "traceback": [
      "\u001b[1;31m---------------------------------------------------------------------------\u001b[0m",
      "\u001b[1;31mNameError\u001b[0m                                 Traceback (most recent call last)",
      "Cell \u001b[1;32mIn[13], line 4\u001b[0m\n\u001b[0;32m      1\u001b[0m \u001b[38;5;28;01mfrom\u001b[39;00m \u001b[38;5;21;01mdatetime\u001b[39;00m \u001b[38;5;28;01mimport\u001b[39;00m datetime\n\u001b[0;32m      3\u001b[0m fecha_BKT\u001b[38;5;241m=\u001b[39m datetime(\u001b[38;5;241m1999\u001b[39m,\u001b[38;5;241m6\u001b[39m,\u001b[38;5;241m21\u001b[39m)\n\u001b[1;32m----> 4\u001b[0m dia_semana \u001b[38;5;241m=\u001b[39m \u001b[43mfecha_SAN\u001b[49m\u001b[38;5;241m.\u001b[39mstrftime(\u001b[38;5;124m\"\u001b[39m\u001b[38;5;124m%\u001b[39m\u001b[38;5;124mA\u001b[39m\u001b[38;5;124m\"\u001b[39m)\n\u001b[0;32m      5\u001b[0m dia_semana\n",
      "\u001b[1;31mNameError\u001b[0m: name 'fecha_SAN' is not defined"
     ]
    }
   ],
   "source": [
    "from datetime import datetime\n",
    "\n",
    "fecha_BKT= datetime(1999,6,21)\n",
    "dia_semana = fecha_SAN.strftime(\"%A\")\n",
    "dia_semana"
   ]
  },
  {
   "cell_type": "code",
   "execution_count": 16,
   "id": "3ae5d33c",
   "metadata": {},
   "outputs": [
    {
     "data": {
      "text/html": [
       "<div>\n",
       "<style scoped>\n",
       "    .dataframe tbody tr th:only-of-type {\n",
       "        vertical-align: middle;\n",
       "    }\n",
       "\n",
       "    .dataframe tbody tr th {\n",
       "        vertical-align: top;\n",
       "    }\n",
       "\n",
       "    .dataframe thead th {\n",
       "        text-align: right;\n",
       "    }\n",
       "</style>\n",
       "<table border=\"1\" class=\"dataframe\">\n",
       "  <thead>\n",
       "    <tr style=\"text-align: right;\">\n",
       "      <th>Ticker</th>\n",
       "      <th>FER</th>\n",
       "      <th>BBVA</th>\n",
       "      <th>BKT</th>\n",
       "      <th>SAN</th>\n",
       "    </tr>\n",
       "    <tr>\n",
       "      <th>Date</th>\n",
       "      <th></th>\n",
       "      <th></th>\n",
       "      <th></th>\n",
       "      <th></th>\n",
       "    </tr>\n",
       "  </thead>\n",
       "  <tbody>\n",
       "    <tr>\n",
       "      <th>2023-06-29</th>\n",
       "      <td>0.000000</td>\n",
       "      <td>0.012016</td>\n",
       "      <td>-0.008183</td>\n",
       "      <td>0.013889</td>\n",
       "    </tr>\n",
       "    <tr>\n",
       "      <th>2023-06-30</th>\n",
       "      <td>0.000000</td>\n",
       "      <td>0.013193</td>\n",
       "      <td>0.004125</td>\n",
       "      <td>0.016438</td>\n",
       "    </tr>\n",
       "    <tr>\n",
       "      <th>2023-07-03</th>\n",
       "      <td>0.000000</td>\n",
       "      <td>0.007812</td>\n",
       "      <td>0.000822</td>\n",
       "      <td>0.010782</td>\n",
       "    </tr>\n",
       "    <tr>\n",
       "      <th>2023-07-05</th>\n",
       "      <td>0.010318</td>\n",
       "      <td>-0.023256</td>\n",
       "      <td>-0.004926</td>\n",
       "      <td>-0.032000</td>\n",
       "    </tr>\n",
       "    <tr>\n",
       "      <th>2023-07-06</th>\n",
       "      <td>0.000000</td>\n",
       "      <td>-0.014550</td>\n",
       "      <td>0.002475</td>\n",
       "      <td>-0.027548</td>\n",
       "    </tr>\n",
       "    <tr>\n",
       "      <th>2023-07-07</th>\n",
       "      <td>0.000000</td>\n",
       "      <td>0.018792</td>\n",
       "      <td>0.004115</td>\n",
       "      <td>0.014164</td>\n",
       "    </tr>\n",
       "    <tr>\n",
       "      <th>2023-07-10</th>\n",
       "      <td>0.000000</td>\n",
       "      <td>-0.001318</td>\n",
       "      <td>-0.004098</td>\n",
       "      <td>0.002793</td>\n",
       "    </tr>\n",
       "  </tbody>\n",
       "</table>\n",
       "</div>"
      ],
      "text/plain": [
       "Ticker           FER      BBVA       BKT       SAN\n",
       "Date                                              \n",
       "2023-06-29  0.000000  0.012016 -0.008183  0.013889\n",
       "2023-06-30  0.000000  0.013193  0.004125  0.016438\n",
       "2023-07-03  0.000000  0.007812  0.000822  0.010782\n",
       "2023-07-05  0.010318 -0.023256 -0.004926 -0.032000\n",
       "2023-07-06  0.000000 -0.014550  0.002475 -0.027548\n",
       "2023-07-07  0.000000  0.018792  0.004115  0.014164\n",
       "2023-07-10  0.000000 -0.001318 -0.004098  0.002793"
      ]
     },
     "execution_count": 16,
     "metadata": {},
     "output_type": "execute_result"
    }
   ],
   "source": [
    "BB = df_adj[[\"FER\",\"BBVA\",\"BKT\",\"SAN\"]][\"2023-06-28\": \"2023-07-10\"]\n",
    "BB.index = pd.to_datetime(BB.index, format='%Y-%m-%d')\n",
    "BB.index = BB.index.strftime('%Y-%m-%d')\n",
    "retornos_BB = BB.pct_change().dropna()\n",
    "retornos_BB"
   ]
  },
  {
   "cell_type": "code",
   "execution_count": 17,
   "id": "d03546fb",
   "metadata": {},
   "outputs": [
    {
     "data": {
      "text/plain": [
       "Date\n",
       "2023-06-29    0.004430\n",
       "2023-06-30    0.008439\n",
       "2023-07-03    0.004854\n",
       "2023-07-05   -0.012466\n",
       "2023-07-06   -0.009906\n",
       "2023-07-07    0.009268\n",
       "2023-07-10   -0.000656\n",
       "dtype: float64"
      ]
     },
     "execution_count": 17,
     "metadata": {},
     "output_type": "execute_result"
    }
   ],
   "source": [
    "t = retornos_BB.mean(axis=1)\n",
    "t\n"
   ]
  },
  {
   "cell_type": "code",
   "execution_count": 12,
   "id": "fd3f3426",
   "metadata": {},
   "outputs": [
    {
     "data": {
      "text/plain": [
       "np.float64(0.00926790647120529)"
      ]
     },
     "execution_count": 12,
     "metadata": {},
     "output_type": "execute_result"
    }
   ],
   "source": [
    "t.max()"
   ]
  },
  {
   "cell_type": "code",
   "execution_count": null,
   "id": "b1105460",
   "metadata": {},
   "outputs": [],
   "source": []
  },
  {
   "cell_type": "code",
   "execution_count": 129,
   "id": "fc9703d6",
   "metadata": {},
   "outputs": [
    {
     "data": {
      "text/html": [
       "<div>\n",
       "<style scoped>\n",
       "    .dataframe tbody tr th:only-of-type {\n",
       "        vertical-align: middle;\n",
       "    }\n",
       "\n",
       "    .dataframe tbody tr th {\n",
       "        vertical-align: top;\n",
       "    }\n",
       "\n",
       "    .dataframe thead th {\n",
       "        text-align: right;\n",
       "    }\n",
       "</style>\n",
       "<table border=\"1\" class=\"dataframe\">\n",
       "  <thead>\n",
       "    <tr style=\"text-align: right;\">\n",
       "      <th>Ticker</th>\n",
       "      <th>FER</th>\n",
       "      <th>BBVA</th>\n",
       "      <th>BKT</th>\n",
       "      <th>SAN</th>\n",
       "    </tr>\n",
       "    <tr>\n",
       "      <th>Date</th>\n",
       "      <th></th>\n",
       "      <th></th>\n",
       "      <th></th>\n",
       "      <th></th>\n",
       "    </tr>\n",
       "  </thead>\n",
       "  <tbody>\n",
       "    <tr>\n",
       "      <th>2023-06-29</th>\n",
       "      <td>0.0</td>\n",
       "      <td>0.012016</td>\n",
       "      <td>-0.008183</td>\n",
       "      <td>0.013889</td>\n",
       "    </tr>\n",
       "    <tr>\n",
       "      <th>2023-06-30</th>\n",
       "      <td>0.0</td>\n",
       "      <td>0.013193</td>\n",
       "      <td>0.004125</td>\n",
       "      <td>0.016438</td>\n",
       "    </tr>\n",
       "    <tr>\n",
       "      <th>2023-07-03</th>\n",
       "      <td>0.0</td>\n",
       "      <td>0.007812</td>\n",
       "      <td>0.000822</td>\n",
       "      <td>0.010782</td>\n",
       "    </tr>\n",
       "  </tbody>\n",
       "</table>\n",
       "</div>"
      ],
      "text/plain": [
       "Ticker      FER      BBVA       BKT       SAN\n",
       "Date                                         \n",
       "2023-06-29  0.0  0.012016 -0.008183  0.013889\n",
       "2023-06-30  0.0  0.013193  0.004125  0.016438\n",
       "2023-07-03  0.0  0.007812  0.000822  0.010782"
      ]
     },
     "execution_count": 129,
     "metadata": {},
     "output_type": "execute_result"
    }
   ],
   "source": [
    "BB = df_adj[[\"FER\",\"BBVA\",\"BKT\",\"SAN\"]][\"2023-06-28\": \"2023-07-04\"]\n",
    "BB.index = pd.to_datetime(BB.index, format='%Y-%m-%d')\n",
    "BB.index = BB.index.strftime('%Y-%m-%d')\n",
    "retornos_BB_1 = BB.pct_change().dropna()\n",
    "retornos_BB_1"
   ]
  },
  {
   "cell_type": "code",
   "execution_count": 132,
   "id": "df26ea58",
   "metadata": {},
   "outputs": [
    {
     "data": {
      "text/plain": [
       "Date\n",
       "2023-06-29    0.004430\n",
       "2023-06-30    0.008439\n",
       "2023-07-03    0.004854\n",
       "dtype: float64"
      ]
     },
     "execution_count": 132,
     "metadata": {},
     "output_type": "execute_result"
    }
   ],
   "source": [
    "w = retornos_BB_1.mean(axis=1)\n",
    "w\n"
   ]
  },
  {
   "cell_type": "code",
   "execution_count": 133,
   "id": "40f11537",
   "metadata": {},
   "outputs": [
    {
     "data": {
      "text/plain": [
       "np.float64(0.005907832520706101)"
      ]
     },
     "execution_count": 133,
     "metadata": {},
     "output_type": "execute_result"
    }
   ],
   "source": [
    "w.mean()"
   ]
  },
  {
   "cell_type": "code",
   "execution_count": 128,
   "id": "01824d7f",
   "metadata": {},
   "outputs": [
    {
     "data": {
      "image/png": "[encoded data removed]",
      "text/plain": [
       "<Figure size 1000x500 with 1 Axes>"
      ]
     },
     "metadata": {},
     "output_type": "display_data"
    }
   ],
   "source": [
    "plt.style.use('fivethirtyeight')\n",
    "\n",
    "fig = plt.figure(figsize=(10, 5))\n",
    "ax = t.plot(kind=\"bar\")\n",
    "ax.set_title(\"Rendimientos medios antes de despues sin IDR, Split 2021-12-06\")\n",
    "ax.set_xlabel(\"Fecha\")\n",
    "ax.axhline(0, color=\"black\", linewidth=1.0, alpha=0.5)\n",
    "plt.show()"
   ]
  },
  {
   "cell_type": "code",
   "execution_count": 101,
   "id": "b2c62e61",
   "metadata": {},
   "outputs": [
    {
     "data": {
      "text/html": [
       "<div>\n",
       "<style scoped>\n",
       "    .dataframe tbody tr th:only-of-type {\n",
       "        vertical-align: middle;\n",
       "    }\n",
       "\n",
       "    .dataframe tbody tr th {\n",
       "        vertical-align: top;\n",
       "    }\n",
       "\n",
       "    .dataframe thead th {\n",
       "        text-align: right;\n",
       "    }\n",
       "</style>\n",
       "<table border=\"1\" class=\"dataframe\">\n",
       "  <thead>\n",
       "    <tr style=\"text-align: right;\">\n",
       "      <th>Ticker</th>\n",
       "      <th>GRF</th>\n",
       "      <th>BBVA</th>\n",
       "      <th>BKT</th>\n",
       "    </tr>\n",
       "    <tr>\n",
       "      <th>Date</th>\n",
       "      <th></th>\n",
       "      <th></th>\n",
       "      <th></th>\n",
       "    </tr>\n",
       "  </thead>\n",
       "  <tbody>\n",
       "    <tr>\n",
       "      <th>2005-05-03</th>\n",
       "      <td>-0.055866</td>\n",
       "      <td>0.007663</td>\n",
       "      <td>0.002732</td>\n",
       "    </tr>\n",
       "    <tr>\n",
       "      <th>2005-05-04</th>\n",
       "      <td>0.000000</td>\n",
       "      <td>0.010773</td>\n",
       "      <td>0.001362</td>\n",
       "    </tr>\n",
       "    <tr>\n",
       "      <th>2005-05-05</th>\n",
       "      <td>0.000000</td>\n",
       "      <td>-0.002508</td>\n",
       "      <td>0.002722</td>\n",
       "    </tr>\n",
       "    <tr>\n",
       "      <th>2005-05-06</th>\n",
       "      <td>0.035503</td>\n",
       "      <td>-0.003143</td>\n",
       "      <td>-0.001357</td>\n",
       "    </tr>\n",
       "    <tr>\n",
       "      <th>2005-05-09</th>\n",
       "      <td>-0.028572</td>\n",
       "      <td>-0.000631</td>\n",
       "      <td>0.013586</td>\n",
       "    </tr>\n",
       "    <tr>\n",
       "      <th>2005-05-10</th>\n",
       "      <td>-0.017647</td>\n",
       "      <td>-0.015142</td>\n",
       "      <td>-0.002680</td>\n",
       "    </tr>\n",
       "    <tr>\n",
       "      <th>2005-05-11</th>\n",
       "      <td>0.101797</td>\n",
       "      <td>0.012812</td>\n",
       "      <td>-0.002689</td>\n",
       "    </tr>\n",
       "    <tr>\n",
       "      <th>2005-05-12</th>\n",
       "      <td>0.018750</td>\n",
       "      <td>-0.008223</td>\n",
       "      <td>-0.005292</td>\n",
       "    </tr>\n",
       "    <tr>\n",
       "      <th>2005-05-13</th>\n",
       "      <td>0.000000</td>\n",
       "      <td>-0.000637</td>\n",
       "      <td>-0.004093</td>\n",
       "    </tr>\n",
       "    <tr>\n",
       "      <th>2005-05-16</th>\n",
       "      <td>0.000000</td>\n",
       "      <td>0.011487</td>\n",
       "      <td>0.009590</td>\n",
       "    </tr>\n",
       "    <tr>\n",
       "      <th>2005-05-17</th>\n",
       "      <td>0.006135</td>\n",
       "      <td>-0.005678</td>\n",
       "      <td>0.000000</td>\n",
       "    </tr>\n",
       "    <tr>\n",
       "      <th>2005-05-18</th>\n",
       "      <td>0.006098</td>\n",
       "      <td>0.017132</td>\n",
       "      <td>0.004070</td>\n",
       "    </tr>\n",
       "    <tr>\n",
       "      <th>2005-05-19</th>\n",
       "      <td>0.000000</td>\n",
       "      <td>0.001871</td>\n",
       "      <td>-0.004054</td>\n",
       "    </tr>\n",
       "    <tr>\n",
       "      <th>2005-05-20</th>\n",
       "      <td>-0.006061</td>\n",
       "      <td>-0.010585</td>\n",
       "      <td>-0.004071</td>\n",
       "    </tr>\n",
       "    <tr>\n",
       "      <th>2005-05-23</th>\n",
       "      <td>0.000000</td>\n",
       "      <td>0.008181</td>\n",
       "      <td>0.001362</td>\n",
       "    </tr>\n",
       "    <tr>\n",
       "      <th>2005-05-24</th>\n",
       "      <td>0.000000</td>\n",
       "      <td>-0.003121</td>\n",
       "      <td>0.001361</td>\n",
       "    </tr>\n",
       "    <tr>\n",
       "      <th>2005-05-25</th>\n",
       "      <td>0.000000</td>\n",
       "      <td>-0.008140</td>\n",
       "      <td>0.012229</td>\n",
       "    </tr>\n",
       "    <tr>\n",
       "      <th>2005-05-26</th>\n",
       "      <td>0.000000</td>\n",
       "      <td>0.003788</td>\n",
       "      <td>0.000000</td>\n",
       "    </tr>\n",
       "    <tr>\n",
       "      <th>2005-05-27</th>\n",
       "      <td>0.000000</td>\n",
       "      <td>-0.003773</td>\n",
       "      <td>-0.002685</td>\n",
       "    </tr>\n",
       "  </tbody>\n",
       "</table>\n",
       "</div>"
      ],
      "text/plain": [
       "Ticker           GRF      BBVA       BKT\n",
       "Date                                    \n",
       "2005-05-03 -0.055866  0.007663  0.002732\n",
       "2005-05-04  0.000000  0.010773  0.001362\n",
       "2005-05-05  0.000000 -0.002508  0.002722\n",
       "2005-05-06  0.035503 -0.003143 -0.001357\n",
       "2005-05-09 -0.028572 -0.000631  0.013586\n",
       "2005-05-10 -0.017647 -0.015142 -0.002680\n",
       "2005-05-11  0.101797  0.012812 -0.002689\n",
       "2005-05-12  0.018750 -0.008223 -0.005292\n",
       "2005-05-13  0.000000 -0.000637 -0.004093\n",
       "2005-05-16  0.000000  0.011487  0.009590\n",
       "2005-05-17  0.006135 -0.005678  0.000000\n",
       "2005-05-18  0.006098  0.017132  0.004070\n",
       "2005-05-19  0.000000  0.001871 -0.004054\n",
       "2005-05-20 -0.006061 -0.010585 -0.004071\n",
       "2005-05-23  0.000000  0.008181  0.001362\n",
       "2005-05-24  0.000000 -0.003121  0.001361\n",
       "2005-05-25  0.000000 -0.008140  0.012229\n",
       "2005-05-26  0.000000  0.003788  0.000000\n",
       "2005-05-27  0.000000 -0.003773 -0.002685"
      ]
     },
     "execution_count": 101,
     "metadata": {},
     "output_type": "execute_result"
    }
   ],
   "source": [
    "BB_3 = df_adj[[\"GRF\",\"BBVA\",\"BKT\"]][\"2005-05-01\": \"2005-05-30\"]\n",
    "BB_3.index = pd.to_datetime(BB_3.index, format='%Y-%m-%d')\n",
    "BB_3.index = BB_3.index.strftime('%Y-%m-%d')\n",
    "retornos_BB_3 = BB_3.pct_change().dropna()\n",
    "retornos_BB_3"
   ]
  },
  {
   "cell_type": "code",
   "execution_count": 102,
   "id": "521386af",
   "metadata": {},
   "outputs": [
    {
     "data": {
      "text/plain": [
       "Date\n",
       "2005-05-03   -0.015157\n",
       "2005-05-04    0.004045\n",
       "2005-05-05    0.000071\n",
       "2005-05-06    0.010334\n",
       "2005-05-09   -0.005205\n",
       "2005-05-10   -0.011823\n",
       "2005-05-11    0.037307\n",
       "2005-05-12    0.001745\n",
       "2005-05-13   -0.001577\n",
       "2005-05-16    0.007025\n",
       "2005-05-17    0.000152\n",
       "2005-05-18    0.009100\n",
       "2005-05-19   -0.000727\n",
       "2005-05-20   -0.006905\n",
       "2005-05-23    0.003181\n",
       "2005-05-24   -0.000587\n",
       "2005-05-25    0.001363\n",
       "2005-05-26    0.001263\n",
       "2005-05-27   -0.002153\n",
       "dtype: float64"
      ]
     },
     "execution_count": 102,
     "metadata": {},
     "output_type": "execute_result"
    }
   ],
   "source": [
    "e = retornos_BB_3.mean(axis=1)\n",
    "e"
   ]
  },
  {
   "cell_type": "markdown",
   "id": "ad64705d",
   "metadata": {},
   "source": [
    "---------------"
   ]
  },
  {
   "cell_type": "code",
   "execution_count": 104,
   "id": "f993eedd",
   "metadata": {},
   "outputs": [
    {
     "name": "stderr",
     "output_type": "stream",
     "text": [
      "[*********************100%***********************]  3 of 3 completed\n"
     ]
    },
    {
     "data": {
      "text/html": [
       "<div>\n",
       "<style scoped>\n",
       "    .dataframe tbody tr th:only-of-type {\n",
       "        vertical-align: middle;\n",
       "    }\n",
       "\n",
       "    .dataframe tbody tr th {\n",
       "        vertical-align: top;\n",
       "    }\n",
       "\n",
       "    .dataframe thead tr th {\n",
       "        text-align: left;\n",
       "    }\n",
       "\n",
       "    .dataframe thead tr:last-of-type th {\n",
       "        text-align: right;\n",
       "    }\n",
       "</style>\n",
       "<table border=\"1\" class=\"dataframe\">\n",
       "  <thead>\n",
       "    <tr>\n",
       "      <th>Price</th>\n",
       "      <th colspan=\"3\" halign=\"left\">Adj Close</th>\n",
       "    </tr>\n",
       "    <tr>\n",
       "      <th>Ticker</th>\n",
       "      <th>BBVA</th>\n",
       "      <th>BKT</th>\n",
       "      <th>SAN</th>\n",
       "    </tr>\n",
       "    <tr>\n",
       "      <th>Date</th>\n",
       "      <th></th>\n",
       "      <th></th>\n",
       "      <th></th>\n",
       "    </tr>\n",
       "  </thead>\n",
       "  <tbody>\n",
       "    <tr>\n",
       "      <th>2024-10-01 00:00:00+00:00</th>\n",
       "      <td>9.963692</td>\n",
       "      <td>12.440500</td>\n",
       "      <td>4.82</td>\n",
       "    </tr>\n",
       "    <tr>\n",
       "      <th>2024-10-02 00:00:00+00:00</th>\n",
       "      <td>9.886153</td>\n",
       "      <td>12.371000</td>\n",
       "      <td>4.89</td>\n",
       "    </tr>\n",
       "    <tr>\n",
       "      <th>2024-10-03 00:00:00+00:00</th>\n",
       "      <td>10.002461</td>\n",
       "      <td>12.410714</td>\n",
       "      <td>4.89</td>\n",
       "    </tr>\n",
       "    <tr>\n",
       "      <th>2024-10-04 00:00:00+00:00</th>\n",
       "      <td>10.205999</td>\n",
       "      <td>12.361072</td>\n",
       "      <td>4.95</td>\n",
       "    </tr>\n",
       "    <tr>\n",
       "      <th>2024-10-07 00:00:00+00:00</th>\n",
       "      <td>10.293231</td>\n",
       "      <td>12.321357</td>\n",
       "      <td>5.01</td>\n",
       "    </tr>\n",
       "    <tr>\n",
       "      <th>2024-10-08 00:00:00+00:00</th>\n",
       "      <td>10.205999</td>\n",
       "      <td>12.222072</td>\n",
       "      <td>5.01</td>\n",
       "    </tr>\n",
       "    <tr>\n",
       "      <th>2024-10-09 00:00:00+00:00</th>\n",
       "      <td>10.150000</td>\n",
       "      <td>12.271714</td>\n",
       "      <td>4.97</td>\n",
       "    </tr>\n",
       "    <tr>\n",
       "      <th>2024-10-10 00:00:00+00:00</th>\n",
       "      <td>10.060000</td>\n",
       "      <td>12.261786</td>\n",
       "      <td>4.97</td>\n",
       "    </tr>\n",
       "    <tr>\n",
       "      <th>2024-10-11 00:00:00+00:00</th>\n",
       "      <td>10.180000</td>\n",
       "      <td>12.271714</td>\n",
       "      <td>5.01</td>\n",
       "    </tr>\n",
       "    <tr>\n",
       "      <th>2024-10-14 00:00:00+00:00</th>\n",
       "      <td>10.230000</td>\n",
       "      <td>12.232000</td>\n",
       "      <td>5.03</td>\n",
       "    </tr>\n",
       "    <tr>\n",
       "      <th>2024-10-15 00:00:00+00:00</th>\n",
       "      <td>10.140000</td>\n",
       "      <td>12.240000</td>\n",
       "      <td>5.02</td>\n",
       "    </tr>\n",
       "    <tr>\n",
       "      <th>2024-10-16 00:00:00+00:00</th>\n",
       "      <td>10.060000</td>\n",
       "      <td>12.280000</td>\n",
       "      <td>5.01</td>\n",
       "    </tr>\n",
       "    <tr>\n",
       "      <th>2024-10-17 00:00:00+00:00</th>\n",
       "      <td>9.870000</td>\n",
       "      <td>12.250000</td>\n",
       "      <td>4.99</td>\n",
       "    </tr>\n",
       "    <tr>\n",
       "      <th>2024-10-18 00:00:00+00:00</th>\n",
       "      <td>10.080000</td>\n",
       "      <td>12.170000</td>\n",
       "      <td>5.04</td>\n",
       "    </tr>\n",
       "  </tbody>\n",
       "</table>\n",
       "</div>"
      ],
      "text/plain": [
       "Price                      Adj Close                 \n",
       "Ticker                          BBVA        BKT   SAN\n",
       "Date                                                 \n",
       "2024-10-01 00:00:00+00:00   9.963692  12.440500  4.82\n",
       "2024-10-02 00:00:00+00:00   9.886153  12.371000  4.89\n",
       "2024-10-03 00:00:00+00:00  10.002461  12.410714  4.89\n",
       "2024-10-04 00:00:00+00:00  10.205999  12.361072  4.95\n",
       "2024-10-07 00:00:00+00:00  10.293231  12.321357  5.01\n",
       "2024-10-08 00:00:00+00:00  10.205999  12.222072  5.01\n",
       "2024-10-09 00:00:00+00:00  10.150000  12.271714  4.97\n",
       "2024-10-10 00:00:00+00:00  10.060000  12.261786  4.97\n",
       "2024-10-11 00:00:00+00:00  10.180000  12.271714  5.01\n",
       "2024-10-14 00:00:00+00:00  10.230000  12.232000  5.03\n",
       "2024-10-15 00:00:00+00:00  10.140000  12.240000  5.02\n",
       "2024-10-16 00:00:00+00:00  10.060000  12.280000  5.01\n",
       "2024-10-17 00:00:00+00:00   9.870000  12.250000  4.99\n",
       "2024-10-18 00:00:00+00:00  10.080000  12.170000  5.04"
      ]
     },
     "execution_count": 104,
     "metadata": {},
     "output_type": "execute_result"
    }
   ],
   "source": [
    "stocks_2 = [\"BBVA\", \"BKT\", \"SAN\"]\n",
    "\n",
    "bancos = yf.download(stocks_2, start=\"2024-10-01\", end=\"2024-10-19\")\n",
    "bancos_adj = bancos[['Adj Close']]\n",
    "bancos_adj"
   ]
  }
 ],
 "metadata": {
  "kernelspec": {
   "display_name": "Python 3",
   "language": "python",
   "name": "python3"
  },
  "language_info": {
   "codemirror_mode": {
    "name": "ipython",
    "version": 3
   },
   "file_extension": ".py",
   "mimetype": "text/x-python",
   "name": "python",
   "nbconvert_exporter": "python",
   "pygments_lexer": "ipython3",
   "version": "3.12.2"
  }
 },
 "nbformat": 4,
 "nbformat_minor": 5
}
