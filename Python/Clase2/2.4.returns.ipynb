{
 "cells": [
  {
   "cell_type": "markdown",
   "id": "be95cdec-8b35-421c-806a-f478ad9b3a4b",
   "metadata": {},
   "source": [
    "## Rentabilidad sobre otros horizontes"
   ]
  },
  {
   "cell_type": "markdown",
   "id": "de0da51f-a06a-48db-9e1a-5ee82060810c",
   "metadata": {},
   "source": [
    "Con nuestra función ' anual_ret' o las fórmulas podemos calcular los retornos 'promedio' sobre cualquier horizonte.\n",
    "Pero si no queremos los retornos promedios, y si queremos los valores del retorno acumulado en cada mes o en cada año?\n"
   ]
  },
  {
   "cell_type": "markdown",
   "id": "15d5fd0d-6aae-48ce-85bd-b4d9f9aa515a",
   "metadata": {},
   "source": [
    "**El objetivo**\n",
    "\n",
    "De este cuaderno  es conocer otra forma de calcular la rentabilidad por un horizonte de tiempo pero no promedio, sino periodo por periodo"
   ]
  },
  {
   "cell_type": "code",
   "execution_count": 1,
   "id": "ff0d03f3-8e9e-45cc-bfa7-2049667a8214",
   "metadata": {},
   "outputs": [],
   "source": [
    "# leer el archivo NFLX.csv\n",
    "import yfinance as  yf\n",
    "import pandas as pd\n",
    "import datetime\n",
    "import kit\n",
    "import numpy as np\n",
    "import matplotlib.pyplot as plt\n",
    "import seaborn as sns"
   ]
  },
  {
   "cell_type": "code",
   "execution_count": 2,
   "id": "bf70fb59-ec56-4aaf-85c4-716f9aefb754",
   "metadata": {
    "tags": []
   },
   "outputs": [
    {
     "data": {
      "text/html": [
       "<div>\n",
       "<style scoped>\n",
       "    .dataframe tbody tr th:only-of-type {\n",
       "        vertical-align: middle;\n",
       "    }\n",
       "\n",
       "    .dataframe tbody tr th {\n",
       "        vertical-align: top;\n",
       "    }\n",
       "\n",
       "    .dataframe thead th {\n",
       "        text-align: right;\n",
       "    }\n",
       "</style>\n",
       "<table border=\"1\" class=\"dataframe\">\n",
       "  <thead>\n",
       "    <tr style=\"text-align: right;\">\n",
       "      <th></th>\n",
       "      <th>Adj Close</th>\n",
       "    </tr>\n",
       "    <tr>\n",
       "      <th>Date</th>\n",
       "      <th></th>\n",
       "    </tr>\n",
       "  </thead>\n",
       "  <tbody>\n",
       "    <tr>\n",
       "      <th>2020-10-05</th>\n",
       "      <td>520.650024</td>\n",
       "    </tr>\n",
       "    <tr>\n",
       "      <th>2020-10-06</th>\n",
       "      <td>505.869995</td>\n",
       "    </tr>\n",
       "    <tr>\n",
       "      <th>2020-10-07</th>\n",
       "      <td>534.659973</td>\n",
       "    </tr>\n",
       "    <tr>\n",
       "      <th>2020-10-08</th>\n",
       "      <td>531.789978</td>\n",
       "    </tr>\n",
       "    <tr>\n",
       "      <th>2020-10-09</th>\n",
       "      <td>539.440002</td>\n",
       "    </tr>\n",
       "    <tr>\n",
       "      <th>...</th>\n",
       "      <td>...</td>\n",
       "    </tr>\n",
       "    <tr>\n",
       "      <th>2021-09-27</th>\n",
       "      <td>592.640015</td>\n",
       "    </tr>\n",
       "    <tr>\n",
       "      <th>2021-09-28</th>\n",
       "      <td>583.849976</td>\n",
       "    </tr>\n",
       "    <tr>\n",
       "      <th>2021-09-29</th>\n",
       "      <td>599.059998</td>\n",
       "    </tr>\n",
       "    <tr>\n",
       "      <th>2021-09-30</th>\n",
       "      <td>610.340027</td>\n",
       "    </tr>\n",
       "    <tr>\n",
       "      <th>2021-10-01</th>\n",
       "      <td>613.150024</td>\n",
       "    </tr>\n",
       "  </tbody>\n",
       "</table>\n",
       "<p>251 rows × 1 columns</p>\n",
       "</div>"
      ],
      "text/plain": [
       "             Adj Close\n",
       "Date                  \n",
       "2020-10-05  520.650024\n",
       "2020-10-06  505.869995\n",
       "2020-10-07  534.659973\n",
       "2020-10-08  531.789978\n",
       "2020-10-09  539.440002\n",
       "...                ...\n",
       "2021-09-27  592.640015\n",
       "2021-09-28  583.849976\n",
       "2021-09-29  599.059998\n",
       "2021-09-30  610.340027\n",
       "2021-10-01  613.150024\n",
       "\n",
       "[251 rows x 1 columns]"
      ]
     },
     "execution_count": 2,
     "metadata": {},
     "output_type": "execute_result"
    }
   ],
   "source": [
    "df = pd.read_csv('C:/Users/Lenovo/Programacion/Python/BBDD/NFLX.csv', index_col=0)\n",
    "df_adf = df[[\"Adj Close\"]]\n",
    "df_adf"
   ]
  },
  {
   "cell_type": "code",
   "execution_count": 6,
   "id": "26eb6956-2b0f-4f87-9d44-ff68158af132",
   "metadata": {
    "tags": []
   },
   "outputs": [
    {
     "data": {
      "text/html": [
       "<div>\n",
       "<style scoped>\n",
       "    .dataframe tbody tr th:only-of-type {\n",
       "        vertical-align: middle;\n",
       "    }\n",
       "\n",
       "    .dataframe tbody tr th {\n",
       "        vertical-align: top;\n",
       "    }\n",
       "\n",
       "    .dataframe thead th {\n",
       "        text-align: right;\n",
       "    }\n",
       "</style>\n",
       "<table border=\"1\" class=\"dataframe\">\n",
       "  <thead>\n",
       "    <tr style=\"text-align: right;\">\n",
       "      <th></th>\n",
       "      <th>Adj Close</th>\n",
       "    </tr>\n",
       "    <tr>\n",
       "      <th>Date</th>\n",
       "      <th></th>\n",
       "    </tr>\n",
       "  </thead>\n",
       "  <tbody>\n",
       "    <tr>\n",
       "      <th>2020-10-06</th>\n",
       "      <td>-0.028388</td>\n",
       "    </tr>\n",
       "    <tr>\n",
       "      <th>2020-10-07</th>\n",
       "      <td>0.056912</td>\n",
       "    </tr>\n",
       "    <tr>\n",
       "      <th>2020-10-08</th>\n",
       "      <td>-0.005368</td>\n",
       "    </tr>\n",
       "    <tr>\n",
       "      <th>2020-10-09</th>\n",
       "      <td>0.014385</td>\n",
       "    </tr>\n",
       "    <tr>\n",
       "      <th>2020-10-12</th>\n",
       "      <td>0.000686</td>\n",
       "    </tr>\n",
       "    <tr>\n",
       "      <th>...</th>\n",
       "      <td>...</td>\n",
       "    </tr>\n",
       "    <tr>\n",
       "      <th>2021-09-27</th>\n",
       "      <td>0.000422</td>\n",
       "    </tr>\n",
       "    <tr>\n",
       "      <th>2021-09-28</th>\n",
       "      <td>-0.014832</td>\n",
       "    </tr>\n",
       "    <tr>\n",
       "      <th>2021-09-29</th>\n",
       "      <td>0.026051</td>\n",
       "    </tr>\n",
       "    <tr>\n",
       "      <th>2021-09-30</th>\n",
       "      <td>0.018830</td>\n",
       "    </tr>\n",
       "    <tr>\n",
       "      <th>2021-10-01</th>\n",
       "      <td>0.004604</td>\n",
       "    </tr>\n",
       "  </tbody>\n",
       "</table>\n",
       "<p>250 rows × 1 columns</p>\n",
       "</div>"
      ],
      "text/plain": [
       "            Adj Close\n",
       "Date                 \n",
       "2020-10-06  -0.028388\n",
       "2020-10-07   0.056912\n",
       "2020-10-08  -0.005368\n",
       "2020-10-09   0.014385\n",
       "2020-10-12   0.000686\n",
       "...               ...\n",
       "2021-09-27   0.000422\n",
       "2021-09-28  -0.014832\n",
       "2021-09-29   0.026051\n",
       "2021-09-30   0.018830\n",
       "2021-10-01   0.004604\n",
       "\n",
       "[250 rows x 1 columns]"
      ]
     },
     "execution_count": 6,
     "metadata": {},
     "output_type": "execute_result"
    }
   ],
   "source": [
    "r = df_adf.pct_change().dropna()\n",
    "r"
   ]
  },
  {
   "cell_type": "code",
   "execution_count": 4,
   "id": "511215e3-adea-4fe9-aa57-ac25a58d37bd",
   "metadata": {
    "tags": []
   },
   "outputs": [
    {
     "name": "stdout",
     "output_type": "stream",
     "text": [
      "El retorno promedio diario es: Adj Close    0.000654\n",
      "dtype: float64\n"
     ]
    }
   ],
   "source": [
    "## retorno diario\n",
    "kit.rpm(df_adf)"
   ]
  },
  {
   "cell_type": "code",
   "execution_count": 5,
   "id": "5008a9a8-d6dd-46e1-9108-deef94d7f05a",
   "metadata": {
    "tags": []
   },
   "outputs": [
    {
     "name": "stdout",
     "output_type": "stream",
     "text": [
      "El retorno anualizado es: Adj Close    0.014495\n",
      "dtype: float64\n"
     ]
    }
   ],
   "source": [
    "# retorno mensual\n",
    "kit.ret_d(df_adf,22)"
   ]
  },
  {
   "cell_type": "code",
   "execution_count": 6,
   "id": "3ed66cf7-a73a-45fa-9a18-159d436d11a1",
   "metadata": {
    "tags": []
   },
   "outputs": [
    {
     "name": "stdout",
     "output_type": "stream",
     "text": [
      "El retorno anualizado es: Adj Close    0.179204\n",
      "dtype: float64\n"
     ]
    }
   ],
   "source": [
    "# retorno anual\n",
    "kit.ret_d(df_adf,252)"
   ]
  },
  {
   "cell_type": "markdown",
   "id": "88b4e3f4-f5dc-4df0-a7ae-ddfbf859731f",
   "metadata": {},
   "source": [
    "### Calcular las rentabilidades periodo por periodo\n",
    "\n",
    "Debemos tener los retornos en un DataFrame y el index debe ser declarado como fecha"
   ]
  },
  {
   "cell_type": "code",
   "execution_count": 10,
   "id": "b8cc5e3d-e130-441a-94f3-ddbf6d17cad0",
   "metadata": {
    "tags": []
   },
   "outputs": [
    {
     "data": {
      "text/plain": [
       "DatetimeIndex(['2020-10-06', '2020-10-07', '2020-10-08', '2020-10-09',\n",
       "               '2020-10-12', '2020-10-13', '2020-10-14', '2020-10-15',\n",
       "               '2020-10-16', '2020-10-19',\n",
       "               ...\n",
       "               '2021-09-20', '2021-09-21', '2021-09-22', '2021-09-23',\n",
       "               '2021-09-24', '2021-09-27', '2021-09-28', '2021-09-29',\n",
       "               '2021-09-30', '2021-10-01'],\n",
       "              dtype='datetime64[ns]', name='Date', length=250, freq=None)"
      ]
     },
     "execution_count": 10,
     "metadata": {},
     "output_type": "execute_result"
    }
   ],
   "source": [
    "r.index = pd.to_datetime(r.index, format=\"%Y-%m-%d\")\n",
    "r.index"
   ]
  },
  {
   "cell_type": "code",
   "execution_count": 11,
   "id": "fd6e4124-f886-4cda-af4a-78d86cbda933",
   "metadata": {
    "tags": []
   },
   "outputs": [
    {
     "data": {
      "text/plain": [
       "dtype('<M8[ns]')"
      ]
     },
     "execution_count": 11,
     "metadata": {},
     "output_type": "execute_result"
    }
   ],
   "source": [
    "(r.index).dtype"
   ]
  },
  {
   "cell_type": "markdown",
   "id": "2c73281c-ea47-41e9-99ba-3639720eef6a",
   "metadata": {
    "tags": []
   },
   "source": [
    "#### Rentabilidad  para cada mes de la ventana de tiempo"
   ]
  },
  {
   "cell_type": "markdown",
   "id": "c1667662-7e82-4b6b-a2f4-49a153e7a524",
   "metadata": {},
   "source": [
    "\n",
    "La función `resample` en Pandas se utiliza para reasignar la frecuencia temporal de los \n",
    "datos en series temporales. Es decir, te permite agrupar o modificar la frecuencia \n",
    "de tus datos temporales en intervalos diferentes a los originales. \n",
    "Por ejemplo, si tienes datos diarios, puedes reagruparlos en datos mensuales o \n",
    "trimestrales, o si tienes datos por minutos, puedes reducirlos a datos por horas"
   ]
  },
  {
   "cell_type": "code",
   "execution_count": 12,
   "id": "8c1000ce-8f82-408c-8c35-5a76d12231f8",
   "metadata": {
    "tags": []
   },
   "outputs": [
    {
     "name": "stdout",
     "output_type": "stream",
     "text": [
      "            Adj Close\n",
      "Date                 \n",
      "2020-10-31  -0.086258\n",
      "2020-11-30   0.031446\n",
      "2020-12-31   0.101956\n",
      "2021-01-31  -0.015424\n",
      "2021-02-28   0.012134\n",
      "2021-03-31  -0.031901\n",
      "2021-04-30  -0.015700\n",
      "2021-05-31  -0.020761\n",
      "2021-06-30   0.050516\n",
      "2021-07-31  -0.020144\n",
      "2021-08-31   0.099735\n",
      "2021-09-30   0.072296\n",
      "2021-10-31   0.004604\n"
     ]
    },
    {
     "name": "stderr",
     "output_type": "stream",
     "text": [
      "C:\\Users\\Lenovo\\AppData\\Local\\Temp\\ipykernel_31648\\3572150291.py:2: FutureWarning: 'M' is deprecated and will be removed in a future version, please use 'ME' instead.\n",
      "  ret_mes = r.resample('M').apply(lambda x: (1 + x).prod() - 1)\n"
     ]
    }
   ],
   "source": [
    "# vamos acumular los retornos en cada mes, obteniendo los retornos acumulados para cada mes\n",
    "ret_mes = r.resample('M').apply(lambda x: (1 + x).prod() - 1)\n",
    "\n",
    "print(ret_mes)\n"
   ]
  },
  {
   "cell_type": "markdown",
   "id": "ca32d166-0f99-4e8d-bbe1-35e22c218d68",
   "metadata": {
    "tags": []
   },
   "source": [
    "#### Rentabilidad  para cada año de la ventana de tiempo"
   ]
  },
  {
   "cell_type": "code",
   "execution_count": 13,
   "id": "a1504d6a-f590-4379-bd29-275c0926a6dd",
   "metadata": {
    "tags": []
   },
   "outputs": [
    {
     "name": "stderr",
     "output_type": "stream",
     "text": [
      "C:\\Users\\Lenovo\\AppData\\Local\\Temp\\ipykernel_31648\\3573951134.py:3: FutureWarning: 'Y' is deprecated and will be removed in a future version, please use 'YE' instead.\n",
      "  ret_year = r.resample(\"Y\").apply(lambda x :( 1 + x).prod()-1)\n"
     ]
    },
    {
     "data": {
      "text/html": [
       "<div>\n",
       "<style scoped>\n",
       "    .dataframe tbody tr th:only-of-type {\n",
       "        vertical-align: middle;\n",
       "    }\n",
       "\n",
       "    .dataframe tbody tr th {\n",
       "        vertical-align: top;\n",
       "    }\n",
       "\n",
       "    .dataframe thead th {\n",
       "        text-align: right;\n",
       "    }\n",
       "</style>\n",
       "<table border=\"1\" class=\"dataframe\">\n",
       "  <thead>\n",
       "    <tr style=\"text-align: right;\">\n",
       "      <th></th>\n",
       "      <th>Adj Close</th>\n",
       "    </tr>\n",
       "    <tr>\n",
       "      <th>Date</th>\n",
       "      <th></th>\n",
       "    </tr>\n",
       "  </thead>\n",
       "  <tbody>\n",
       "    <tr>\n",
       "      <th>2020-12-31</th>\n",
       "      <td>0.038567</td>\n",
       "    </tr>\n",
       "    <tr>\n",
       "      <th>2021-12-31</th>\n",
       "      <td>0.133930</td>\n",
       "    </tr>\n",
       "  </tbody>\n",
       "</table>\n",
       "</div>"
      ],
      "text/plain": [
       "            Adj Close\n",
       "Date                 \n",
       "2020-12-31   0.038567\n",
       "2021-12-31   0.133930"
      ]
     },
     "execution_count": 13,
     "metadata": {},
     "output_type": "execute_result"
    }
   ],
   "source": [
    "# vamos acumular los retornos en cada año, obteniendo los retornos acumulados por año\n",
    "\n",
    "ret_year = r.resample(\"Y\").apply(lambda x :( 1 + x).prod()-1)\n",
    "ret_year\n"
   ]
  },
  {
   "cell_type": "markdown",
   "id": "68c65970-4377-43b7-8ca0-9ead80a3456d",
   "metadata": {
    "tags": []
   },
   "source": [
    "#### Rentabilidad  para cada trimestre de la ventana de tiempo"
   ]
  },
  {
   "cell_type": "code",
   "execution_count": 15,
   "id": "74160c74-74e4-4921-992c-5d1e163c2381",
   "metadata": {
    "tags": []
   },
   "outputs": [
    {
     "name": "stderr",
     "output_type": "stream",
     "text": [
      "C:\\Users\\Lenovo\\AppData\\Local\\Temp\\ipykernel_31648\\718809530.py:2: FutureWarning: 'Q' is deprecated and will be removed in a future version, please use 'QE' instead.\n",
      "  ret_mes = r.resample(\"Q\").apply(lambda x: (1 + x).prod() - 1)\n"
     ]
    },
    {
     "data": {
      "text/html": [
       "<div>\n",
       "<style scoped>\n",
       "    .dataframe tbody tr th:only-of-type {\n",
       "        vertical-align: middle;\n",
       "    }\n",
       "\n",
       "    .dataframe tbody tr th {\n",
       "        vertical-align: top;\n",
       "    }\n",
       "\n",
       "    .dataframe thead th {\n",
       "        text-align: right;\n",
       "    }\n",
       "</style>\n",
       "<table border=\"1\" class=\"dataframe\">\n",
       "  <thead>\n",
       "    <tr style=\"text-align: right;\">\n",
       "      <th></th>\n",
       "      <th>Adj Close</th>\n",
       "    </tr>\n",
       "    <tr>\n",
       "      <th>Date</th>\n",
       "      <th></th>\n",
       "    </tr>\n",
       "  </thead>\n",
       "  <tbody>\n",
       "    <tr>\n",
       "      <th>2020-12-31</th>\n",
       "      <td>0.038567</td>\n",
       "    </tr>\n",
       "    <tr>\n",
       "      <th>2021-03-31</th>\n",
       "      <td>-0.035267</td>\n",
       "    </tr>\n",
       "    <tr>\n",
       "      <th>2021-06-30</th>\n",
       "      <td>0.012556</td>\n",
       "    </tr>\n",
       "    <tr>\n",
       "      <th>2021-09-30</th>\n",
       "      <td>0.155487</td>\n",
       "    </tr>\n",
       "    <tr>\n",
       "      <th>2021-12-31</th>\n",
       "      <td>0.004604</td>\n",
       "    </tr>\n",
       "  </tbody>\n",
       "</table>\n",
       "</div>"
      ],
      "text/plain": [
       "            Adj Close\n",
       "Date                 \n",
       "2020-12-31   0.038567\n",
       "2021-03-31  -0.035267\n",
       "2021-06-30   0.012556\n",
       "2021-09-30   0.155487\n",
       "2021-12-31   0.004604"
      ]
     },
     "execution_count": 15,
     "metadata": {},
     "output_type": "execute_result"
    }
   ],
   "source": [
    "# vamos acumular los retornos trimestrales, obteniendo los retornos acumulados por trimestre\n",
    "ret_mes = r.resample(\"Q\").apply(lambda x: (1 + x).prod() - 1)\n",
    "ret_mes\n"
   ]
  }
 ],
 "metadata": {
  "kernelspec": {
   "display_name": "Python 3",
   "language": "python",
   "name": "python3"
  },
  "language_info": {
   "codemirror_mode": {
    "name": "ipython",
    "version": 3
   },
   "file_extension": ".py",
   "mimetype": "text/x-python",
   "name": "python",
   "nbconvert_exporter": "python",
   "pygments_lexer": "ipython3",
   "version": "3.12.2"
  }
 },
 "nbformat": 4,
 "nbformat_minor": 5
}
