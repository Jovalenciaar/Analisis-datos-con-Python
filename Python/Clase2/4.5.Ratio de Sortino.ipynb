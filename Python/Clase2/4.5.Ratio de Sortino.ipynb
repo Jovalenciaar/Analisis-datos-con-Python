{
 "cells": [
  {
   "cell_type": "markdown",
   "id": "461651aa-ac00-433b-9cf2-9fb38869b2e9",
   "metadata": {},
   "source": [
    "## <span style=\"color:red\">RATIO DE SORTINO-trimestral </span>"
   ]
  },
  {
   "cell_type": "markdown",
   "id": "bca65651-7e35-4a7c-a42a-a2a6934e42d1",
   "metadata": {},
   "source": [
    "El ratio de Sortino es una medida de rendimiento ajustada al riesgo que se centra en la volatilidad negativa de una inversión, en contraposición al índice de Sharpe, que se basa en la volatilidad total. La razón de Sortino se calcula dividiendo el exceso de rendimiento (rendimiento por encima de un umbral de riesgo deseado) por la desviación estándar de los retornos negativos. "
   ]
  },
  {
   "cell_type": "markdown",
   "id": "cc8218a9-4f6c-41d2-a774-c3bf6a141489",
   "metadata": {},
   "source": [
    " La expresión matemática del índice de Sortino es:\n",
    "\n",
    "Indice de Sortino==$\\frac{R_p-R_f}{DR}$\n",
    "\n",
    "Donde:\n",
    "\n",
    "$R_p$  es el rendimiento promedio de la inversión o cartera.\n",
    "\n",
    "$R_f$  es la tasa de retorno libre de riesgo, generalmente se toma las letras del tesoro a corto plazo.\n",
    "\n",
    "$R_p-R_f$ exceso de rendimiento\n",
    "\n",
    "$DR$ (downside risk)  es la desviación estándar de los retornos **negativos**, es decir, la volatilidad de los retornos por debajo de un umbral de riesgo deseado. En este caso el umbral es cero y debemos obtener la volatilidad para los retornos negativos\n",
    "\n",
    "La interpretación del índice de Sortino se basa en la idea de que los inversores se preocupan más por las pérdidas que por la volatilidad en general. Cuanto mayor sea el índice de Sortino, mejor será el rendimiento ajustado al riesgo de la inversión en el sentido que está generando rendimientos por encima de un umbral de riesgo específico (considerado \"deseado\") con una volatilidad limitada en las pérdidas.\n",
    "\n",
    "Una interpretación común es que un índice de Sortino más alto indica una inversión que ha logrado generar retornos positivos con menos volatilidad negativa, lo que se considera favorable en términos de la gestión del riesgo. No obstante, como con cualquier métrica de rendimiento, es importante considerar otros factores y no tomar decisiones basadas únicamente en el índice de Sortino, ya que no proporciona una imagen completa del riesgo y el rendimiento de una inversión. Debe utilizarse en conjunto con otras métricas y un análisis más detallado.\n",
    "\n",
    "Ventana de tiempo:\n",
    "\n",
    "Anual es la unidad más común y útil para la mayoría de los inversionistas y análisis de largo plazo.\n",
    "Trimestral, mensual o diaria pueden ser útiles en escenarios de corto plazo."
   ]
  },
  {
   "cell_type": "markdown",
   "id": "ef822fc9-3822-4d0e-912a-3b96ad5b8e41",
   "metadata": {},
   "source": [
    "### Para un stock\n"
   ]
  },
  {
   "cell_type": "markdown",
   "id": "3d44fd0a-1a5c-4743-8a98-a387bfd9d86c",
   "metadata": {
    "tags": []
   },
   "source": [
    "Descarga de los stocks y sleccionar los precios 'Adj Close'"
   ]
  },
  {
   "cell_type": "code",
   "execution_count": 1,
   "id": "6e6edb09-b947-4330-b3f5-f0ec9004fdb9",
   "metadata": {
    "tags": []
   },
   "outputs": [
    {
     "name": "stderr",
     "output_type": "stream",
     "text": [
      "[*********************100%***********************]  1 of 1 completed\n"
     ]
    }
   ],
   "source": [
    "import pandas as pd\n",
    "import numpy as np\n",
    "import datetime\n",
    "import yfinance as yf\n",
    "\n",
    "symbol=['PHM.MC']\n",
    "stocks = yf.download(symbol,'2021-01-01','2023-01-01')\n",
    "stocks_df = stocks['Adj Close']"
   ]
  },
  {
   "cell_type": "code",
   "execution_count": 29,
   "id": "880a05be-367d-42e8-b0c1-bf6a57a002ba",
   "metadata": {
    "tags": []
   },
   "outputs": [
    {
     "name": "stdout",
     "output_type": "stream",
     "text": [
      "El DS par  ['PHM.MC'] es: 0.0943016172892525\n",
      "El exceso de retorno para   ['PHM.MC'] es: -0.021964899537092873\n",
      "El Ratio de Sortino trimestral para el stock ['PHM.MC'] es: -0.23292176919638258\n"
     ]
    }
   ],
   "source": [
    "# rendimientos trimestrales del activo\n",
    "\n",
    "stoc_tri =stocks_df.resample('Q').apply(lambda x: (x.pct_change()+1).product()-1)\n",
    "\n",
    "\n",
    "#valor rentabilidad trimestral promedio del activo\n",
    "#Este valor es importante porque es preciso y coincide con el vencimiento del libre de riesgo\n",
    "\n",
    "rpa=(stoc_tri+1).product()**(1/len(stoc_tri))-1\n",
    "\n",
    "#volatilidad de retornos Trimestrales negativos del stock\n",
    "#Este valor es importante porque es preciso y coincide con el vencimiento del libre de riesgo\n",
    "\n",
    "Rendimientos_negativos = stoc_tri[stoc_tri < 0]\n",
    "DS =Rendimientos_negativos.std()\n",
    "print(f'El DS par  {symbol} es: {DS}')\n",
    "\n",
    "#excesos de rentabilidad trimestral, vimos el promedio trimestral del libre de riesgo\n",
    "#en la ventana '2021-01-01','2023-01-01' es 0.0017\n",
    "\n",
    "excess=rpa-0.0017\n",
    "print(f'El exceso de retorno para   {symbol} es: {excess}')\n",
    "\n",
    "#ratio de Sortino Trimestral\n",
    "ratio_sortino=excess/DS\n",
    "\n",
    "print(f'El Ratio de Sortino trimestral para el stock {symbol} es: {ratio_sortino}')\n"
   ]
  },
  {
   "cell_type": "markdown",
   "id": "074f7d69-192b-4d97-a554-1c465e748427",
   "metadata": {},
   "source": [
    "**Análisis** "
   ]
  },
  {
   "cell_type": "markdown",
   "id": "4cc22093-bd00-4030-9b0f-a3e18bca6ed8",
   "metadata": {
    "tags": []
   },
   "source": [
    "El numerador (rendimiento promedio menos el rendimiento mínimo aceptable) es negativo, lo que indica que las pérdidas superan con creces el rendimiento esperado.\n",
    "\n",
    "El denominador (desviación estándar de las pérdidas) es bajo, lo que sugiere que hay una baja volatilidad negativa, es decir, los retornos negativos son poco frecuentes y/o severos\n",
    "\n",
    "+ Pérdidas diarias significativas.\n",
    "+ Baja volatilidad negativa.\n",
    "+ Un desempeño muy inferior al objetivo establecido."
   ]
  },
  {
   "cell_type": "markdown",
   "id": "2a12ab71-ac4d-4852-bf70-d187f0b66d39",
   "metadata": {},
   "source": [
    "### Ejercicio"
   ]
  },
  {
   "cell_type": "markdown",
   "id": "c8e3d7fc-4c71-4c90-bd10-105403347c8d",
   "metadata": {
    "tags": []
   },
   "source": [
    "Calcular el ratio de Sortino para AMZ a nivel anual en el periodo: '2021-01-01','2023-01-01'"
   ]
  },
  {
   "cell_type": "markdown",
   "id": "4b9d2613-560b-4475-9089-0ef64eac3d0b",
   "metadata": {},
   "source": [
    "sugerencia: utilizar el libre de riesgo anual calculado a partir del trimestral en esta ventana de tiempo. Cuadreno 4.3 libre de riesgo."
   ]
  }
 ],
 "metadata": {
  "kernelspec": {
   "display_name": "Python 3",
   "language": "python",
   "name": "python3"
  },
  "language_info": {
   "codemirror_mode": {
    "name": "ipython",
    "version": 3
   },
   "file_extension": ".py",
   "mimetype": "text/x-python",
   "name": "python",
   "nbconvert_exporter": "python",
   "pygments_lexer": "ipython3",
   "version": "3.12.2"
  }
 },
 "nbformat": 4,
 "nbformat_minor": 5
}
