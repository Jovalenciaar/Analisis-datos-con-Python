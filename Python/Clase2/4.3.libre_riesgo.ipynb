{
 "cells": [
  {
   "cell_type": "markdown",
   "id": "e7e9f48b-3692-41aa-8148-01a9bcac8f12",
   "metadata": {},
   "source": [
    "## <span style=\"color:red\"> Activo libre de riesgo </span>"
   ]
  },
  {
   "cell_type": "markdown",
   "id": "85734662-c58d-4775-a0a7-9c84309a0739",
   "metadata": {
    "tags": []
   },
   "source": [
    "Luz Mary Pinzon: luzmary.pinzon@upf.edu"
   ]
  },
  {
   "cell_type": "markdown",
   "id": "7a8cf10a-a374-4b67-8186-7f61d4ba2920",
   "metadata": {
    "tags": []
   },
   "source": [
    "\n",
    "Un **activo libre de riesgo** es una inversión que se considera segura y que proporciona un retorno predecible, sin riesgo de pérdida de capital. En otras palabras, se espera que el rendimiento de un activo libre de riesgo se mantenga constante y que el inversionista reciba el retorno prometido."
   ]
  },
  {
   "cell_type": "markdown",
   "id": "4135c5a7-a7d6-4310-813d-e99ee4c66c81",
   "metadata": {},
   "source": [
    "**Ejemplos:**"
   ]
  },
  {
   "cell_type": "markdown",
   "id": "63e732f8-2539-4959-aaac-e33db2c64a46",
   "metadata": {},
   "source": [
    "**Letras:**\n",
    "\n",
    "Son títulos de deuda a corto plazo emitidos por el gobierno o empresas. Su vencimiento suele ser inferior a un año. Por ejemplo, las letras del Tesoro de EE. UU. (T-Bills) se emiten con vencimientos de 4, 8, 13, 26, o 52 semanas.\n",
    "Generalmente no pagan intereses periódicos. Se venden con un descuento sobre su valor nominal, y el inversionista recibe el valor nominal completo al vencimiento. La diferencia entre el precio de compra y el valor nominal es el **rendimiento** del inversionista"
   ]
  },
  {
   "cell_type": "markdown",
   "id": "a7465e26-dc08-42a8-a51c-423fb70ffd66",
   "metadata": {},
   "source": [
    "**Letras del Tesoro:**\n",
    "\n",
    "Letras emitidas por el gobierno de un país con buena calificación crediticia (como letras del Tesoro de EE. UU.) son considerados activos libres de riesgo, ya que el gobierno tiene la capacidad de imprimir dinero para pagar su deuda.\n",
    "\n",
    "**Depósitos a plazo fijo:**\n",
    "\n",
    "Los depósitos en cuentas de ahorros o certificados de depósito en bancos asegurados son considerados también como activos libres de riesgo, siempre y cuando estén protegidos por seguros de depósitos.\n",
    "\n"
   ]
  },
  {
   "cell_type": "markdown",
   "id": "c25b94ed-cbc0-4ca3-b046-fbbec944985f",
   "metadata": {},
   "source": [
    "**Bonos:**\n",
    "\n",
    "Son títulos de deuda a largo plazo. Los bonos pueden tener vencimientos de varios años, comúnmente entre 5 y 30 años, aunque algunos bonos especiales pueden tener plazos aún más largos.\n",
    "Suelen pagar intereses periódicos (cupón) durante la vida del bono, además de devolver el valor nominal al vencimiento. Los cupones se pagan con una frecuencia que puede ser anual, semestral o trimestral."
   ]
  },
  {
   "cell_type": "markdown",
   "id": "d21954fa-8c32-46d8-88d7-a9c6a30e5e69",
   "metadata": {},
   "source": [
    "**Ejemplos en Europa:**\n",
    "    \n",
    "+ Bonos del Tesoro de Países Bajos. NL10\n",
    "+ Bonos del Gobierno Francés (OAT).FR10\n",
    "+ Bonos del Gobierno Suizo. CH10\n"
   ]
  },
  {
   "cell_type": "markdown",
   "id": "d43348e7-d9f3-468e-8981-42223bfa8598",
   "metadata": {},
   "source": [
    "**periodos de tiempo**\n",
    "\n",
    "Por ejemplo para los Bonos del Gobierno Alemán (Bunds)\n",
    "\n",
    "+ Bonos a 10 años del gobierno alemán (Bund) DE10Y.GB  BUND.BE\n",
    "+ Bonos a 5 años del gobierno alemán.DE5Y.GB\n",
    "+ Bonos a 30 años del gobierno alemán. DE30Y.GB"
   ]
  },
  {
   "cell_type": "markdown",
   "id": "cbb957b8-9df0-468e-b065-5093438deab3",
   "metadata": {
    "tags": []
   },
   "source": [
    "Para calcular los ratios de Sharpe y de Sortino se utilizan más las letras del tesoro que tienen ventanas de tiempo más cortas, así se puede alinear el horizonte del libre de riesgo con el horizonte de tiempo del stock, que produce el horizonte de tiempo del Ratio buscado "
   ]
  },
  {
   "cell_type": "markdown",
   "id": "99e69802-42f1-4422-90f4-57a5431243c6",
   "metadata": {
    "tags": []
   },
   "source": [
    "**Ejemplo: bonos del Tesoro de EE. UU.( T-Bill) a 13 semanas (3 meses).**"
   ]
  },
  {
   "cell_type": "markdown",
   "id": "75a667b7-c279-4566-aa70-588200f0d814",
   "metadata": {},
   "source": []
  },
  {
   "cell_type": "markdown",
   "id": "259a8b87-6ef8-4eec-8624-b6179ab1fca9",
   "metadata": {},
   "source": [
    "Los datos relacionados con el  ticker: **'^IRX'** hacen referencia al **rendimiento** anualizado de las letras del Tesoro de EE. UU.( T-Bill) a 13 semanas (3 meses).\n",
    "\n",
    "Los datos son reportados en porcentaje (%) porque son muy pequeños,  y representan el **retorno anualizado**  a partir del momento de la compra. Esto con el fin de poder comparar diferentes inversiones en un mismo horizonte(anual).Sin embargo, si la letra es a 3 meses, se vencerá a los tres meses y el inversor recibirá el retorno correspondiente a dicho periodo.\n",
    "Esto es lo que vamos a aclarar y calcular a continuación\n"
   ]
  },
  {
   "cell_type": "markdown",
   "id": "0eb8c6b7-508b-4f38-b320-b326a191d492",
   "metadata": {},
   "source": [
    "**Objetivo**\n",
    "\n",
    "Analizar la rentabilidad de letra `'^IRX'` en horizontes mensuales y anuales, y en  el horizonte establecido de 3 meses, durante el periodo comprendido entre el '2021-01-01' y el '2023-01-01'.\"\n",
    "\n"
   ]
  },
  {
   "cell_type": "markdown",
   "id": "36bfbb5c-3b2f-4497-a637-ebbe4e9322df",
   "metadata": {
    "tags": []
   },
   "source": [
    "#### 1.Descargar los datos y seleccionar: adj price"
   ]
  },
  {
   "cell_type": "code",
   "execution_count": 1,
   "id": "5346feb7",
   "metadata": {},
   "outputs": [],
   "source": [
    "import kit"
   ]
  },
  {
   "cell_type": "code",
   "execution_count": 2,
   "id": "0e125feb-4b41-4978-9168-11ad42974b4d",
   "metadata": {
    "tags": []
   },
   "outputs": [
    {
     "name": "stderr",
     "output_type": "stream",
     "text": [
      "[*********************100%***********************]  1 of 1 completed\n"
     ]
    },
    {
     "data": {
      "text/plain": [
       "Date\n",
       "2021-01-04    0.068\n",
       "2021-01-05    0.078\n",
       "2021-01-06    0.078\n",
       "2021-01-07    0.080\n",
       "2021-01-08    0.080\n",
       "Name: Adj Close, dtype: float64"
      ]
     },
     "execution_count": 2,
     "metadata": {},
     "output_type": "execute_result"
    }
   ],
   "source": [
    "import pandas as pd  \n",
    "import datetime  \n",
    "import yfinance as yf\n",
    "\n",
    "\n",
    "stocks = yf.download( '^IRX', '2021-01-01','2023-01-01')\n",
    "stocks_ad= stocks['Adj Close']\n",
    "stocks_ad.head()\n",
    "\n"
   ]
  },
  {
   "cell_type": "markdown",
   "id": "d65bb172-9243-44b1-9a7d-7f806949efef",
   "metadata": {},
   "source": [
    "#### 2.Seleccionamos la fecha del segundo trimestre "
   ]
  },
  {
   "cell_type": "code",
   "execution_count": 2,
   "id": "63b5dc91-6d3f-4d57-b8c0-453a0910a31f",
   "metadata": {
    "tags": []
   },
   "outputs": [
    {
     "data": {
      "text/plain": [
       "np.float64(0.00800000037997961)"
      ]
     },
     "execution_count": 2,
     "metadata": {},
     "output_type": "execute_result"
    }
   ],
   "source": [
    "stocks_ad.loc['2021-04-01']"
   ]
  },
  {
   "cell_type": "markdown",
   "id": "9b80d133-bcb7-43f1-8e43-2919b8abaf3d",
   "metadata": {
    "tags": []
   },
   "source": [
    "**Rendimientos**"
   ]
  },
  {
   "cell_type": "markdown",
   "id": "791ec29a-f2b1-42d7-802f-3118ce6ca91b",
   "metadata": {},
   "source": [
    "Una inversion en esta letra  **a lo largo de**  este periodo de tiempo: '2021-01-01','2023-01-01', significa varias compras trimestrales, que se corresponden con el periodo de vencimiento de la letra.\n",
    "\n",
    "**Primera Compra**\n",
    "Se invierte  el 2021-01-04 y a los 3 meses (2021-03-31) se termina la inversión.\n",
    "\n",
    "El valor señalado el 2021-01-04 fue de 0.068, en decimal: 0.00068 que corresponde a la rentabilidad anual, por tanto \n",
    "\n",
    "El inversionista recibirá $\\frac{0.00068}{4}=0.00017$\n",
    "\n",
    "**Segunda compra** El inversionista vuelve a invertir en la misma letra el 2021-04-01 sabiendo que tendra un retorno anual(%) de 0.008, así a los 3 meses (2021-06-30) se termina la inversión\n",
    "\n",
    "El inversionista recibirá $\\frac{0.00008}{4}=0.00002$\n",
    "\n",
    "Etc.."
   ]
  },
  {
   "cell_type": "markdown",
   "id": "c909a716-63fe-43c5-bfaf-a54edc4c4227",
   "metadata": {
    "tags": []
   },
   "source": [
    "**Vamos hacer el proceso con python**"
   ]
  },
  {
   "cell_type": "markdown",
   "id": "b8b5c2ae-d610-4e74-b293-dbea6940d59c",
   "metadata": {
    "tags": []
   },
   "source": [
    "**Paso 1.** \n",
    "\n",
    "De los datos descargados correspondientes al periodo '2021-01-01','2023-01-01'  extraemos solo los que corresponden a cada trimestre\n",
    " \n",
    " Hay dos maneras:"
   ]
  },
  {
   "cell_type": "code",
   "execution_count": 8,
   "id": "84abb60c-c76c-4cba-bfd4-41eebf80ce4b",
   "metadata": {
    "tags": []
   },
   "outputs": [
    {
     "name": "stderr",
     "output_type": "stream",
     "text": [
      "C:\\Users\\Lenovo\\AppData\\Local\\Temp\\ipykernel_28152\\4141797914.py:5: FutureWarning: 'Q' is deprecated and will be removed in a future version, please use 'QE' instead.\n",
      "  libre_tri =stocks_ad.resample('Q').apply(lambda x: x.iloc[0])/100/4\n"
     ]
    },
    {
     "data": {
      "text/plain": [
       "Date\n",
       "2021-03-31    0.000170\n",
       "2021-06-30    0.000020\n",
       "2021-09-30    0.000100\n",
       "2021-12-31    0.000070\n",
       "2022-03-31    0.000132\n",
       "2022-06-30    0.001250\n",
       "2022-09-30    0.004008\n",
       "2022-12-31    0.007875\n",
       "Freq: QE-DEC, Name: Adj Close, dtype: float64"
      ]
     },
     "execution_count": 8,
     "metadata": {},
     "output_type": "execute_result"
    }
   ],
   "source": [
    "#Forma 1:\n",
    "#Extraer el primer dato de rentabilidad  de cada trimestre resample\n",
    "#y convertirlo en un decimal trimestral\n",
    "\n",
    "libre_tri =stocks_ad.resample('Q').apply(lambda x: x.iloc[0])/100/4\n",
    "libre_tri "
   ]
  },
  {
   "cell_type": "code",
   "execution_count": 9,
   "id": "dd01fa1d-c621-4530-9ca0-52f00f90abdc",
   "metadata": {
    "tags": []
   },
   "outputs": [
    {
     "name": "stderr",
     "output_type": "stream",
     "text": [
      "C:\\Users\\Lenovo\\AppData\\Local\\Temp\\ipykernel_28152\\3248537055.py:5: FutureWarning: 'Q' is deprecated and will be removed in a future version, please use 'QE' instead.\n",
      "  libre_tri =stocks_ad.resample('Q').first()/100/4\n"
     ]
    },
    {
     "data": {
      "text/plain": [
       "Date\n",
       "2021-03-31    0.000170\n",
       "2021-06-30    0.000020\n",
       "2021-09-30    0.000100\n",
       "2021-12-31    0.000070\n",
       "2022-03-31    0.000132\n",
       "2022-06-30    0.001250\n",
       "2022-09-30    0.004008\n",
       "2022-12-31    0.007875\n",
       "Freq: QE-DEC, Name: Adj Close, dtype: float64"
      ]
     },
     "execution_count": 9,
     "metadata": {},
     "output_type": "execute_result"
    }
   ],
   "source": [
    "#Forma 2:\n",
    "#Extraer el primer dato de rentabilidad  de cada trimestre resample\n",
    "#y convertirlo en un decimal trimestral\n",
    "\n",
    "libre_tri =stocks_ad.resample('Q').first()/100/4\n",
    "libre_tri "
   ]
  },
  {
   "cell_type": "markdown",
   "id": "3b58c881-fe6b-4757-afe6-5c4841cf5f55",
   "metadata": {},
   "source": [
    "**Paso 2**\n",
    "\n",
    "Calculamos rendimiento acumulado y rendimiento promedio trimestral"
   ]
  },
  {
   "cell_type": "code",
   "execution_count": 32,
   "id": "b81a47b6-6f6a-4910-9ee9-12f6b6f96da4",
   "metadata": {
    "tags": []
   },
   "outputs": [
    {
     "name": "stdout",
     "output_type": "stream",
     "text": [
      "la rentabilidad acumuada es:0.01367803423064462\n",
      "la rentabilidad  promedio trimestral es:0.0016996094850070254\n"
     ]
    }
   ],
   "source": [
    "# El rendimiento acumulado me dara  el valor de la  rentabilidad de dicha letra sobre toda la ventana de análisis.\n",
    "\n",
    "ret_ac=(libre_tri + 1).product()-1\n",
    "print(f'la rentabilidad acumuada es:{ret_ac}')\n",
    "\n",
    "#La rentabilidad promedio  para el trimestre. \n",
    "#Este valor es muy importante porque es muy preciso para el libre de riesgo \n",
    "\n",
    "ret_tri_prom=(ret_ac+1)**(1/libre_tri .shape[0])-1\n",
    "print(f'la rentabilidad  promedio trimestral es:{ret_tri_prom}')\n",
    "\n"
   ]
  },
  {
   "cell_type": "markdown",
   "id": "c2d99d66-620d-4f6b-8a1d-58fe55d3d8d9",
   "metadata": {
    "tags": []
   },
   "source": [
    "**Paso 3**\n",
    "\n",
    "A partir la rentabilidad trimestral calcular el rendimiento mensual y anual"
   ]
  },
  {
   "cell_type": "code",
   "execution_count": 17,
   "id": "11f29bfa-0bb9-4b0c-9b55-4a2660329331",
   "metadata": {},
   "outputs": [
    {
     "name": "stdout",
     "output_type": "stream",
     "text": [
      "la rentabilidad mensual es:0.0005662158341217527\n"
     ]
    }
   ],
   "source": [
    "# rentabilidad mensual promedio\n",
    "##Este valor es aproximado para el libre de riesgo \n",
    "\n",
    "rent_mes= (ret_tri_prom+1)**(1/3)-1\n",
    "print(f'la rentabilidad mensual es:{rent_mes}')"
   ]
  },
  {
   "cell_type": "code",
   "execution_count": 18,
   "id": "1bc0de35-296c-4fe8-80fc-fc1ce9ead1fb",
   "metadata": {},
   "outputs": [
    {
     "name": "stdout",
     "output_type": "stream",
     "text": [
      "la rentabilidad anual es:0.006815789621241741\n"
     ]
    }
   ],
   "source": [
    "#Es la rentabilidad anual promedio\n",
    "##Este valor es aproximado para el libre de riesgo \n",
    "\n",
    "rent_año= (ret_tri_prom+1)**(4)-1\n",
    "print(f'la rentabilidad anual es:{rent_año}')"
   ]
  },
  {
   "cell_type": "markdown",
   "id": "3f025834-2727-4c90-8ac1-bb8d64f3b502",
   "metadata": {},
   "source": [
    "**Observación**\n",
    "\n",
    "Si se quiere calcular ratios trimestrales, el retorno promedio `'^IRX'` (0.00017) será  el libre de riesgo adecuado para el calculo debido a que el ratio y el libre de riesgo está en el mismo horizonte.\n",
    "\n",
    "\n",
    "Si se quiere calcular ratios mensuales, lo más adecuado es buscar un libre de riesgo con vencimiento mensual. (Idem para ratios anuales)\n",
    "\n",
    "Sin embargo, si no tiene acceso a libre de riesgos mensuales o anuales, se puede considerar una aproximación a partir de los retornos de `'^IRX'`\n",
    "\n",
    "una aproximación a un retorno libre de riesgo que se utilizara para calcular los ratios, será:\n",
    "$$mensual=0.000566$$\n",
    "$$Anual=0.006816$$\n",
    "\n"
   ]
  }
 ],
 "metadata": {
  "kernelspec": {
   "display_name": "Python 3",
   "language": "python",
   "name": "python3"
  },
  "language_info": {
   "codemirror_mode": {
    "name": "ipython",
    "version": 3
   },
   "file_extension": ".py",
   "mimetype": "text/x-python",
   "name": "python",
   "nbconvert_exporter": "python",
   "pygments_lexer": "ipython3",
   "version": "3.12.2"
  }
 },
 "nbformat": 4,
 "nbformat_minor": 5
}
