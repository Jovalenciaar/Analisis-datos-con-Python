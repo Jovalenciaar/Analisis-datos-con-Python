{
 "cells": [
  {
   "cell_type": "markdown",
   "id": "08be79ee-ded3-468b-8a76-b91036368cc8",
   "metadata": {
    "tags": []
   },
   "source": [
    "### Taller- sesión 4"
   ]
  },
  {
   "cell_type": "markdown",
   "id": "6df8fb6c-4354-4cf8-a62a-71dc185090b6",
   "metadata": {},
   "source": [
    "1. Leer el cuaderno 4.3"
   ]
  },
  {
   "cell_type": "markdown",
   "id": "01f59c09-9aba-41f9-b4d6-6dd08860eb88",
   "metadata": {},
   "source": [
    "2. Leer el cuaderno 4.3  y hacer el ejercicio propuesto "
   ]
  },
  {
   "cell_type": "markdown",
   "id": "12ab3560-c00b-4ad4-a1e2-46a986030b73",
   "metadata": {
    "tags": []
   },
   "source": [
    "3. Leer el cuaderno 4.4  y hacer el ejercicio propuesto "
   ]
  },
  {
   "cell_type": "markdown",
   "id": "f5bd6b35-44c8-4444-8dcf-3020b83eb1a0",
   "metadata": {
    "tags": []
   },
   "source": [
    "4. continuar con los ejercicios de este taller"
   ]
  },
  {
   "cell_type": "markdown",
   "id": "fb94d21f-cd61-486e-ac24-70e0dca72d40",
   "metadata": {},
   "source": [
    "##### Lista de algunas acciones con el nombre de la empresa y el ticker, correspondientes al IBEX 35"
   ]
  },
  {
   "cell_type": "code",
   "execution_count": 1,
   "id": "0473fd69-0361-4739-acfe-8970d0fcb0e8",
   "metadata": {
    "jupyter": {
     "source_hidden": true
    },
    "tags": []
   },
   "outputs": [],
   "source": [
    "texto = \"\"\"\n",
    "Acciona - ANA.MC\n",
    "Acerinox - ACX.MC\n",
    "Actividades de Construcción y Servicios, S.A - ACS.MC\n",
    "Aena - AENA.MC\n",
    "Amadeus - AMS.MC\n",
    "ArcelorMittal - MTS.MC\n",
    "Banco Sabadell - SAB.MC\n",
    "Banco Santander - SAN.MC\n",
    "Bankinter - BKT.MC\n",
    "BBVA - BBVA.MC\n",
    "CaixaBank - CABK.MC\n",
    "Cellnex - CLNX.MC\n",
    "Endesa - ELE.MC\n",
    "Enagás - ENG.MC\n",
    "Ferrovial - FER.MC\n",
    "Fluidra - FDR.MC\n",
    "Grifols - GRF.MC\n",
    "IAG (International Airlines Group) - IAG.MC\n",
    "Iberdrola - IBE.MC\n",
    "Inditex - ITX.MC\n",
    "Inmobiliaria Colonial - COL.MC\n",
    "Logista - LOG.MC\n",
    "Mapfre - MAP.MC\n",
    "Meliá Hotels - MEL.MC\n",
    "Merlin Properties - MRL.MC\n",
    "Naturgy - NTGY.MC\n",
    "PharmaMar - PHM.MC\n",
    "Rovi - ROVI.MC\n",
    "Repsol - REP.MC\n",
    "Sacyr - SCYR.MC\n",
    "Telefónica - TEF.MC\n",
    "Unicaja Banco - UNI.MC\n",
    "Viscofan - VIS.MC\n",
    "\"\"\""
   ]
  },
  {
   "cell_type": "code",
   "execution_count": 2,
   "id": "f77b731f-b05a-4267-bab5-9aa95bff1b02",
   "metadata": {
    "jupyter": {
     "source_hidden": true
    },
    "tags": []
   },
   "outputs": [],
   "source": [
    "symbol=\"\"\"\n",
    "ANA.MC\n",
    "ACX.MC\n",
    "ACS.MC\n",
    "AENA.MC\n",
    "AMS.MC\n",
    "MTS.MC\n",
    "SAB.MC\n",
    "SAN.MC\n",
    "BKT.MC\n",
    "BBVA.MC\n",
    "CABK.MC\n",
    "CLNX.MC\n",
    "ELE.MC\n",
    "ENG.MC\n",
    "FER.MC\n",
    "FDR.MC\n",
    "GRF.MC\n",
    "IAG.MC\n",
    "IBE.MC\n",
    "ITX.MC\n",
    "COL.MC\n",
    "LOG.MC\n",
    "MAP.MC\n",
    "MEL.MC\n",
    "MRL.MC\n",
    "NTGY.MC\n",
    "PHM.MC\n",
    "ROVI.MC\n",
    "REP.MC\n",
    "SCYR.MC\n",
    "TEF.MC\n",
    "UNI.MC\n",
    "VIS.MC\n",
    "\"\"\""
   ]
  },
  {
   "cell_type": "code",
   "execution_count": 3,
   "id": "88c6038a-fbef-49f3-953d-23c94b482f88",
   "metadata": {
    "collapsed": true,
    "jupyter": {
     "outputs_hidden": true
    },
    "tags": []
   },
   "outputs": [
    {
     "data": {
      "text/plain": [
       "['ANA.MC',\n",
       " 'ACX.MC',\n",
       " 'ACS.MC',\n",
       " 'AENA.MC',\n",
       " 'AMS.MC',\n",
       " 'MTS.MC',\n",
       " 'SAB.MC',\n",
       " 'SAN.MC',\n",
       " 'BKT.MC',\n",
       " 'BBVA.MC',\n",
       " 'CABK.MC',\n",
       " 'CLNX.MC',\n",
       " 'ELE.MC',\n",
       " 'ENG.MC',\n",
       " 'FER.MC',\n",
       " 'FDR.MC',\n",
       " 'GRF.MC',\n",
       " 'IAG.MC',\n",
       " 'IBE.MC',\n",
       " 'ITX.MC',\n",
       " 'COL.MC',\n",
       " 'LOG.MC',\n",
       " 'MAP.MC',\n",
       " 'MEL.MC',\n",
       " 'MRL.MC',\n",
       " 'NTGY.MC',\n",
       " 'PHM.MC',\n",
       " 'ROVI.MC',\n",
       " 'REP.MC',\n",
       " 'SCYR.MC',\n",
       " 'TEF.MC',\n",
       " 'UNI.MC',\n",
       " 'VIS.MC']"
      ]
     },
     "execution_count": 3,
     "metadata": {},
     "output_type": "execute_result"
    }
   ],
   "source": [
    "lista = symbol.splitlines() # toma cada linea como un elemento de la lista\n",
    "\n",
    "lista_nueva=[]\n",
    "\n",
    "for item in lista:# vamos a dejar en la lista solo las lineas no vacias\n",
    "    if item:# veraddero o falso. Considera los vacios o nan's falso\n",
    "        lista_nueva.append(item)\n",
    "    \n",
    "lista_nueva  "
   ]
  },
  {
   "cell_type": "markdown",
   "id": "ee83b303-9333-4fc4-b28c-4d0eb55586d9",
   "metadata": {
    "tags": []
   },
   "source": [
    "##### 4.a. Descargar los precios de las acciones dadas en la lista, en la siguiente ventana de tiempo: \n",
    "con start_date = \"2017-10-01\"\n",
    "\n",
    "end_date = \"2024-10-02\""
   ]
  },
  {
   "cell_type": "code",
   "execution_count": 4,
   "id": "a9bae836-da0c-46dc-960c-75f5f73c86c7",
   "metadata": {
    "collapsed": true,
    "jupyter": {
     "outputs_hidden": true
    },
    "tags": []
   },
   "outputs": [
    {
     "name": "stderr",
     "output_type": "stream",
     "text": [
      "[*********************100%***********************]  33 of 33 completed\n"
     ]
    },
    {
     "data": {
      "text/html": [
       "<div>\n",
       "<style scoped>\n",
       "    .dataframe tbody tr th:only-of-type {\n",
       "        vertical-align: middle;\n",
       "    }\n",
       "\n",
       "    .dataframe tbody tr th {\n",
       "        vertical-align: top;\n",
       "    }\n",
       "\n",
       "    .dataframe thead th {\n",
       "        text-align: right;\n",
       "    }\n",
       "</style>\n",
       "<table border=\"1\" class=\"dataframe\">\n",
       "  <thead>\n",
       "    <tr style=\"text-align: right;\">\n",
       "      <th>Ticker</th>\n",
       "      <th>ACS.MC</th>\n",
       "      <th>ACX.MC</th>\n",
       "      <th>AENA.MC</th>\n",
       "      <th>AMS.MC</th>\n",
       "      <th>ANA.MC</th>\n",
       "      <th>BBVA.MC</th>\n",
       "      <th>BKT.MC</th>\n",
       "      <th>CABK.MC</th>\n",
       "      <th>CLNX.MC</th>\n",
       "      <th>COL.MC</th>\n",
       "      <th>...</th>\n",
       "      <th>NTGY.MC</th>\n",
       "      <th>PHM.MC</th>\n",
       "      <th>REP.MC</th>\n",
       "      <th>ROVI.MC</th>\n",
       "      <th>SAB.MC</th>\n",
       "      <th>SAN.MC</th>\n",
       "      <th>SCYR.MC</th>\n",
       "      <th>TEF.MC</th>\n",
       "      <th>UNI.MC</th>\n",
       "      <th>VIS.MC</th>\n",
       "    </tr>\n",
       "    <tr>\n",
       "      <th>Date</th>\n",
       "      <th></th>\n",
       "      <th></th>\n",
       "      <th></th>\n",
       "      <th></th>\n",
       "      <th></th>\n",
       "      <th></th>\n",
       "      <th></th>\n",
       "      <th></th>\n",
       "      <th></th>\n",
       "      <th></th>\n",
       "      <th></th>\n",
       "      <th></th>\n",
       "      <th></th>\n",
       "      <th></th>\n",
       "      <th></th>\n",
       "      <th></th>\n",
       "      <th></th>\n",
       "      <th></th>\n",
       "      <th></th>\n",
       "      <th></th>\n",
       "      <th></th>\n",
       "    </tr>\n",
       "  </thead>\n",
       "  <tbody>\n",
       "    <tr>\n",
       "      <th>2017-10-02 00:00:00+00:00</th>\n",
       "      <td>19.887533</td>\n",
       "      <td>8.185725</td>\n",
       "      <td>124.084824</td>\n",
       "      <td>51.139973</td>\n",
       "      <td>53.695652</td>\n",
       "      <td>4.977023</td>\n",
       "      <td>3.918319</td>\n",
       "      <td>2.880248</td>\n",
       "      <td>14.470339</td>\n",
       "      <td>6.653817</td>\n",
       "      <td>...</td>\n",
       "      <td>12.358001</td>\n",
       "      <td>36.083733</td>\n",
       "      <td>10.033270</td>\n",
       "      <td>14.465506</td>\n",
       "      <td>1.225819</td>\n",
       "      <td>4.324577</td>\n",
       "      <td>1.557106</td>\n",
       "      <td>5.473709</td>\n",
       "      <td>1.043173</td>\n",
       "      <td>41.307461</td>\n",
       "    </tr>\n",
       "    <tr>\n",
       "      <th>2017-10-03 00:00:00+00:00</th>\n",
       "      <td>19.550831</td>\n",
       "      <td>8.226249</td>\n",
       "      <td>123.757629</td>\n",
       "      <td>51.325768</td>\n",
       "      <td>53.520615</td>\n",
       "      <td>5.021521</td>\n",
       "      <td>3.931179</td>\n",
       "      <td>2.926451</td>\n",
       "      <td>14.260185</td>\n",
       "      <td>6.651411</td>\n",
       "      <td>...</td>\n",
       "      <td>12.268087</td>\n",
       "      <td>36.253933</td>\n",
       "      <td>10.036506</td>\n",
       "      <td>14.134234</td>\n",
       "      <td>1.226547</td>\n",
       "      <td>4.334250</td>\n",
       "      <td>1.545008</td>\n",
       "      <td>5.445889</td>\n",
       "      <td>1.053171</td>\n",
       "      <td>41.480801</td>\n",
       "    </tr>\n",
       "  </tbody>\n",
       "</table>\n",
       "<p>2 rows × 33 columns</p>\n",
       "</div>"
      ],
      "text/plain": [
       "Ticker                        ACS.MC    ACX.MC     AENA.MC     AMS.MC  \\\n",
       "Date                                                                    \n",
       "2017-10-02 00:00:00+00:00  19.887533  8.185725  124.084824  51.139973   \n",
       "2017-10-03 00:00:00+00:00  19.550831  8.226249  123.757629  51.325768   \n",
       "\n",
       "Ticker                        ANA.MC   BBVA.MC    BKT.MC   CABK.MC    CLNX.MC  \\\n",
       "Date                                                                            \n",
       "2017-10-02 00:00:00+00:00  53.695652  4.977023  3.918319  2.880248  14.470339   \n",
       "2017-10-03 00:00:00+00:00  53.520615  5.021521  3.931179  2.926451  14.260185   \n",
       "\n",
       "Ticker                       COL.MC  ...    NTGY.MC     PHM.MC     REP.MC  \\\n",
       "Date                                 ...                                    \n",
       "2017-10-02 00:00:00+00:00  6.653817  ...  12.358001  36.083733  10.033270   \n",
       "2017-10-03 00:00:00+00:00  6.651411  ...  12.268087  36.253933  10.036506   \n",
       "\n",
       "Ticker                       ROVI.MC    SAB.MC    SAN.MC   SCYR.MC    TEF.MC  \\\n",
       "Date                                                                           \n",
       "2017-10-02 00:00:00+00:00  14.465506  1.225819  4.324577  1.557106  5.473709   \n",
       "2017-10-03 00:00:00+00:00  14.134234  1.226547  4.334250  1.545008  5.445889   \n",
       "\n",
       "Ticker                       UNI.MC     VIS.MC  \n",
       "Date                                            \n",
       "2017-10-02 00:00:00+00:00  1.043173  41.307461  \n",
       "2017-10-03 00:00:00+00:00  1.053171  41.480801  \n",
       "\n",
       "[2 rows x 33 columns]"
      ]
     },
     "execution_count": 4,
     "metadata": {},
     "output_type": "execute_result"
    }
   ],
   "source": [
    "import pandas as pd  \n",
    "import datetime  \n",
    "import yfinance as yf\n",
    "\n",
    "symbols =lista_nueva \n",
    "\n",
    "start_date = \"2017-10-01\"\n",
    "end_date = \"2024-10-02\"\n",
    "\n",
    "stocks = yf.download(symbols,start=start_date, end=end_date )\n",
    "stocks_a=stocks['Adj Close']\n",
    "stocks_a.head(2)"
   ]
  },
  {
   "cell_type": "code",
   "execution_count": 91,
   "id": "33d19270-cca0-40a8-8942-4226be0158ad",
   "metadata": {
    "collapsed": true,
    "jupyter": {
     "outputs_hidden": true,
     "source_hidden": true
    },
    "tags": []
   },
   "outputs": [
    {
     "name": "stdout",
     "output_type": "stream",
     "text": [
      "para '1-ACS.MC': inicia en  2017-10-02 00:00:00+00:00 y finaliza en 2024-10-01 00:00:00+00:00\n",
      "para '2-ACX.MC': inicia en  2017-10-02 00:00:00+00:00 y finaliza en 2024-10-01 00:00:00+00:00\n",
      "para '3-AENA.MC': inicia en  2017-10-02 00:00:00+00:00 y finaliza en 2024-10-01 00:00:00+00:00\n",
      "para '4-AMS.MC': inicia en  2017-10-02 00:00:00+00:00 y finaliza en 2024-10-01 00:00:00+00:00\n",
      "para '5-ANA.MC': inicia en  2017-10-02 00:00:00+00:00 y finaliza en 2024-10-01 00:00:00+00:00\n",
      "para '6-BBVA.MC': inicia en  2017-10-02 00:00:00+00:00 y finaliza en 2024-10-01 00:00:00+00:00\n",
      "para '7-BKT.MC': inicia en  2017-10-02 00:00:00+00:00 y finaliza en 2024-10-01 00:00:00+00:00\n",
      "para '8-CABK.MC': inicia en  2017-10-02 00:00:00+00:00 y finaliza en 2024-10-01 00:00:00+00:00\n",
      "para '9-CLNX.MC': inicia en  2017-10-02 00:00:00+00:00 y finaliza en 2024-10-01 00:00:00+00:00\n",
      "para '10-COL.MC': inicia en  2017-10-02 00:00:00+00:00 y finaliza en 2024-10-01 00:00:00+00:00\n",
      "para '11-ELE.MC': inicia en  2017-10-02 00:00:00+00:00 y finaliza en 2024-10-01 00:00:00+00:00\n",
      "para '12-ENG.MC': inicia en  2017-10-02 00:00:00+00:00 y finaliza en 2024-10-01 00:00:00+00:00\n",
      "para '13-FDR.MC': inicia en  2017-10-02 00:00:00+00:00 y finaliza en 2024-10-01 00:00:00+00:00\n",
      "para '14-FER.MC': inicia en  2017-10-02 00:00:00+00:00 y finaliza en 2024-10-01 00:00:00+00:00\n",
      "para '15-GRF.MC': inicia en  2017-10-02 00:00:00+00:00 y finaliza en 2024-10-01 00:00:00+00:00\n",
      "para '16-IAG.MC': inicia en  2017-10-02 00:00:00+00:00 y finaliza en 2024-10-01 00:00:00+00:00\n",
      "para '17-IBE.MC': inicia en  2017-10-02 00:00:00+00:00 y finaliza en 2024-10-01 00:00:00+00:00\n",
      "para '18-ITX.MC': inicia en  2017-10-02 00:00:00+00:00 y finaliza en 2024-10-01 00:00:00+00:00\n",
      "para '19-LOG.MC': inicia en  2017-10-02 00:00:00+00:00 y finaliza en 2024-10-01 00:00:00+00:00\n",
      "para '20-MAP.MC': inicia en  2017-10-02 00:00:00+00:00 y finaliza en 2024-10-01 00:00:00+00:00\n",
      "para '21-MEL.MC': inicia en  2017-10-02 00:00:00+00:00 y finaliza en 2024-10-01 00:00:00+00:00\n",
      "para '22-MRL.MC': inicia en  2017-10-02 00:00:00+00:00 y finaliza en 2024-10-01 00:00:00+00:00\n",
      "para '23-MTS.MC': inicia en  2017-10-02 00:00:00+00:00 y finaliza en 2024-10-01 00:00:00+00:00\n",
      "para '24-NTGY.MC': inicia en  2017-10-02 00:00:00+00:00 y finaliza en 2024-10-01 00:00:00+00:00\n",
      "para '25-PHM.MC': inicia en  2017-10-02 00:00:00+00:00 y finaliza en 2024-10-01 00:00:00+00:00\n",
      "para '26-REP.MC': inicia en  2017-10-02 00:00:00+00:00 y finaliza en 2024-10-01 00:00:00+00:00\n",
      "para '27-ROVI.MC': inicia en  2017-10-02 00:00:00+00:00 y finaliza en 2024-10-01 00:00:00+00:00\n",
      "para '28-SAB.MC': inicia en  2017-10-02 00:00:00+00:00 y finaliza en 2024-10-01 00:00:00+00:00\n",
      "para '29-SAN.MC': inicia en  2017-10-02 00:00:00+00:00 y finaliza en 2024-10-01 00:00:00+00:00\n",
      "para '30-SCYR.MC': inicia en  2017-10-02 00:00:00+00:00 y finaliza en 2024-10-01 00:00:00+00:00\n",
      "para '31-TEF.MC': inicia en  2017-10-02 00:00:00+00:00 y finaliza en 2024-10-01 00:00:00+00:00\n",
      "para '32-UNI.MC': inicia en  2017-10-02 00:00:00+00:00 y finaliza en 2024-10-01 00:00:00+00:00\n",
      "para '33-VIS.MC': inicia en  2017-10-02 00:00:00+00:00 y finaliza en 2024-10-01 00:00:00+00:00\n"
     ]
    }
   ],
   "source": [
    "# Encontrar el índice del primer registro con información para cada columna\n",
    "k=0\n",
    "for columna in stocks_a.columns:\n",
    "    primer_indice_con_informacion = stocks_a[columna].first_valid_index()\n",
    "    ultimo_indice_no_nulo = stocks_a[columna].last_valid_index()\n",
    "    k +=1\n",
    "    print(f\"para '{k}-{columna}': inicia en  {primer_indice_con_informacion} y finaliza en {ultimo_indice_no_nulo}\")\n"
   ]
  },
  {
   "cell_type": "markdown",
   "id": "d3929125-54b6-4d7f-8261-f25ecc429aba",
   "metadata": {},
   "source": [
    "**4.b Para las siguientes entidades bancarias que cotizan en el IBEX 35 Calcular a nivel anual, en la ventana de tiempo del \"2017-10-01\" al \"2024-10-02\"  El ratio de Sharpe y  EL ratio de Sortino**\n",
    "\n",
    "Sugerencia: revise como se calcula el libre de riesgo\n",
    "\n",
    "* Banco Sabadell - SAB.MC\n",
    "* Banco Santander - SAN.MC\n",
    "* Bankinter - BKT.MC\n",
    "* BBVA - BBVA.MC\n",
    "* CaixaBank - CABK.MC\n",
    "* Unicaja Banco - UNI.MC"
   ]
  },
  {
   "cell_type": "code",
   "execution_count": 234,
   "id": "08f06856-ffa0-4feb-b257-f096fcf006b7",
   "metadata": {
    "tags": []
   },
   "outputs": [
    {
     "name": "stderr",
     "output_type": "stream",
     "text": [
      "[*********************100%***********************]  6 of 6 completed"
     ]
    },
    {
     "name": "stdout",
     "output_type": "stream",
     "text": [
      "los retornos anualesPrice                     Adj Close                                          \\\n",
      "Ticker                      BBVA.MC    BKT.MC   CABK.MC    SAB.MC    SAN.MC   \n",
      "Date                                                                          \n",
      "2017-12-31 00:00:00+00:00 -0.024678  0.008505 -0.023123 -0.006023 -0.050550   \n",
      "2018-12-31 00:00:00+00:00 -0.317039 -0.071913 -0.170672 -0.374105 -0.239483   \n",
      "2019-12-31 00:00:00+00:00  0.124862 -0.002033 -0.073549  0.085965 -0.008991   \n",
      "2020-12-31 00:00:00+00:00 -0.165427 -0.313227 -0.245469 -0.654099 -0.314964   \n",
      "2021-12-31 00:00:00+00:00  0.322094  0.516021  0.144811  0.701553  0.173003   \n",
      "2022-12-31 00:00:00+00:00  0.148902  0.441458  0.597473  0.564540 -0.010769   \n",
      "2023-12-31 00:00:00+00:00  0.524918 -0.017195  0.074347  0.287607  0.382136   \n",
      "2024-12-31 00:00:00+00:00  0.144278  0.304628  0.442949  0.654458  0.158277   \n",
      "\n",
      "Price                                \n",
      "Ticker                       UNI.MC  \n",
      "Date                                 \n",
      "2017-12-31 00:00:00+00:00  0.049521  \n",
      "2018-12-31 00:00:00+00:00 -0.096383  \n",
      "2019-12-31 00:00:00+00:00 -0.119798  \n",
      "2020-12-31 00:00:00+00:00 -0.270408  \n",
      "2021-12-31 00:00:00+00:00  0.227722  \n",
      "2022-12-31 00:00:00+00:00  0.199069  \n",
      "2023-12-31 00:00:00+00:00 -0.115949  \n",
      "2024-12-31 00:00:00+00:00  0.226331  \n",
      "\n",
      "los retornos anuales promedio: Price      Ticker \n",
      "Adj Close  BBVA.MC    0.065194\n",
      "           BKT.MC     0.076049\n",
      "           CABK.MC    0.060971\n",
      "           SAB.MC     0.035833\n",
      "           SAN.MC    -0.011637\n",
      "           UNI.MC    -0.003543\n",
      "dtype: float64\n",
      "\n",
      "volatilidad anual: Price      Ticker \n",
      "Adj Close  BBVA.MC    0.265800\n",
      "           BKT.MC     0.283805\n",
      "           CABK.MC    0.294059\n",
      "           SAB.MC     0.492620\n",
      "           SAN.MC     0.226569\n",
      "           UNI.MC     0.190532\n",
      "dtype: float64\n",
      "\n",
      "El Ratio de Sharpe anual es: Price      Ticker \n",
      "Adj Close  BBVA.MC    0.162696\n",
      "           BKT.MC     0.190622\n",
      "           CABK.MC    0.132699\n",
      "           SAB.MC     0.028182\n",
      "           SAN.MC    -0.148241\n",
      "           UNI.MC    -0.133800\n",
      "dtype: float64\n"
     ]
    },
    {
     "name": "stderr",
     "output_type": "stream",
     "text": [
      "\n"
     ]
    }
   ],
   "source": [
    "#ratio de Sharpe\n",
    "\n",
    "import pandas as pd  \n",
    "import datetime  \n",
    "import yfinance as yf\n",
    "\n",
    "symbol=['SAB.MC','SAN.MC','BKT.MC','BBVA.MC','CABK.MC','UNI.MC']\n",
    "stocks = yf.download(symbol, '2017-10-01','2024-10-02')\n",
    "stoc_ad= stocks[['Adj Close']]\n",
    "\n",
    "# rendimientos anuales del activo\n",
    "\n",
    "stoc_anual =stoc_ad.resample('Y').apply(lambda x: (x.pct_change()+1).product()-1)\n",
    "print(f'los retornos anuales{stoc_anual}\\n')\n",
    "\n",
    "#valor rentabilidad anual promedio del activo.\n",
    "###Este horizonte no coincide con el vencimiento del libre de riesgo \n",
    "\n",
    "rpa=(stoc_anual+1).product()**(1/len(stoc_anual))-1\n",
    "print(f'los retornos anuales promedio: {rpa}\\n')\n",
    "\n",
    "#volatilidad anual del stock.\n",
    "###Este valor es importante porque es preciso con la volatilidad anual\n",
    "vol=stoc_anual.std()\n",
    "print(f'volatilidad anual: {vol}\\n')\n",
    "\n",
    "#excesos de rentabilidad anual. Estimada a partir del '^IRX' 0.021949763756623275\n",
    "excess=rpa-0.021949763756623275\n",
    "\n",
    "#ratio de Sharpe anual\n",
    "ratio_sharpe=excess/vol\n",
    "\n",
    "print(f'El Ratio de Sharpe anual es: {ratio_sharpe}')"
   ]
  },
  {
   "cell_type": "code",
   "execution_count": 4,
   "id": "ced01e17-bf30-41a6-8897-0b72a2d92f89",
   "metadata": {
    "jupyter": {
     "source_hidden": true
    },
    "tags": []
   },
   "outputs": [
    {
     "name": "stderr",
     "output_type": "stream",
     "text": [
      "[*********************100%***********************]  6 of 6 completed"
     ]
    },
    {
     "name": "stdout",
     "output_type": "stream",
     "text": [
      "El DS par  ['SAB.MC', 'SAN.MC', 'BKT.MC', 'BBVA.MC', 'CABK.MC', 'UNI.MC'] es: Price      Ticker \n",
      "Adj Close  BBVA.MC    0.146214\n",
      "           BKT.MC     0.144573\n",
      "           CABK.MC    0.099304\n",
      "           SAB.MC     0.325034\n",
      "           SAN.MC     0.142516\n",
      "           UNI.MC     0.080505\n",
      "dtype: float64\n",
      "El exceso de retorno para   ['SAB.MC', 'SAN.MC', 'BKT.MC', 'BBVA.MC', 'CABK.MC', 'UNI.MC'] es: Price      Ticker \n",
      "Adj Close  BBVA.MC    0.058378\n",
      "           BKT.MC     0.069233\n",
      "           CABK.MC    0.054155\n",
      "           SAB.MC     0.029017\n",
      "           SAN.MC    -0.018453\n",
      "           UNI.MC    -0.010359\n",
      "dtype: float64\n",
      "El Ratio de Sortino anual  es: Price      Ticker \n",
      "Adj Close  BBVA.MC    0.399266\n",
      "           BKT.MC     0.478881\n",
      "           CABK.MC    0.545348\n",
      "           SAB.MC     0.089273\n",
      "           SAN.MC    -0.129481\n",
      "           UNI.MC    -0.128680\n",
      "dtype: float64\n"
     ]
    },
    {
     "name": "stderr",
     "output_type": "stream",
     "text": [
      "\n",
      "C:\\Users\\Lenovo\\AppData\\Local\\Temp\\ipykernel_23920\\3267290978.py:13: FutureWarning: 'Y' is deprecated and will be removed in a future version, please use 'YE' instead.\n",
      "  stoc_anual =stocks_df.resample('Y').apply(lambda x: (x.pct_change()+1).product()-1)\n"
     ]
    }
   ],
   "source": [
    "#ratio de Sortino\n",
    "\n",
    "import pandas as pd  \n",
    "import datetime  \n",
    "import yfinance as yf\n",
    "\n",
    "symbol=['SAB.MC','SAN.MC','BKT.MC','BBVA.MC','CABK.MC','UNI.MC']\n",
    "stocks = yf.download(symbol, '2017-10-01','2024-10-02')\n",
    "stocks_df= stocks[['Adj Close']]\n",
    "\n",
    "# rendimientos anuales del activo\n",
    "\n",
    "stoc_anual =stocks_df.resample('Y').apply(lambda x: (x.pct_change()+1).product()-1)\n",
    "#print(f'anual {stoc_anual}')\n",
    "\n",
    "#valor rentabilidad trimestral promedio del activo\n",
    "#Este valor es importante porque es preciso y coincide con el vencimiento del libre de riesgo\n",
    "\n",
    "rpa=(stoc_anual+1).product()**(1/len(stoc_anual))-1\n",
    "\n",
    "#volatilidad de retornos Trimestrales negativos del stock\n",
    "#Este valor es importante porque es preciso y coincide con el vencimiento del libre de riesgo\n",
    "\n",
    "Rendimientos_negativos = stoc_anual[stoc_anual < 0]\n",
    "DS =Rendimientos_negativos.std()\n",
    "print(f'El DS par  {symbol} es: {DS}')\n",
    "\n",
    "#excesos de rentabilidad anual, vimos el promedio anual del libre de riesgo\n",
    "#en la ventana '2021-01-01','2023-01-01' es 0.006816\n",
    "\n",
    "excess=rpa-0.006816\n",
    "print(f'El exceso de retorno para   {symbol} es: {excess}')\n",
    "\n",
    "#ratio de Sortino Trimestral\n",
    "ratio_sortino=excess/DS\n",
    "\n",
    "print(f'El Ratio de Sortino anual  es: {ratio_sortino}')"
   ]
  },
  {
   "cell_type": "code",
   "execution_count": null,
   "id": "565ae4b3-6588-4d3a-afad-d39a8f80dfd1",
   "metadata": {},
   "outputs": [],
   "source": []
  },
  {
   "cell_type": "markdown",
   "id": "0f1a3163-e109-459c-82c6-ac60062696e0",
   "metadata": {},
   "source": [
    "**4.c. Puede demostrar que alguna de las acciones de la lista dada presenta tendencia en rentabilidad y decir cual es la tendencia?**"
   ]
  },
  {
   "cell_type": "code",
   "execution_count": 255,
   "id": "1c42fd8c-5a6d-4c6c-a356-2a231ba0161f",
   "metadata": {
    "tags": []
   },
   "outputs": [
    {
     "name": "stderr",
     "output_type": "stream",
     "text": [
      "[*********************100%***********************]  31 of 31 completed\n"
     ]
    },
    {
     "name": "stdout",
     "output_type": "stream",
     "text": [
      "Para {'ACS.MC'}  Valor p: 3.631836185467285e-24\n",
      "Para {'ACX.MC'}  Valor p: 0.0\n",
      "Para {'AENA.MC'}  Valor p: 5.232338749057605e-21\n",
      "Para {'AMS.MC'}  Valor p: 3.798520528282852e-17\n",
      "Para {'ANA.MC'}  Valor p: 1.6191864934004793e-29\n",
      "Para {'BBVA.MC'}  Valor p: 5.96188088047552e-28\n",
      "Para {'BKT.MC'}  Valor p: 5.176392987230772e-27\n",
      "Para {'CABK.MC'}  Valor p: 3.631831236546143e-30\n",
      "Para {'CLNX.MC'}  Valor p: 2.5750850058450976e-21\n",
      "Para {'COL.MC'}  Valor p: 1.7461950839381534e-27\n",
      "Para {'ELE.MC'}  Valor p: 0.0\n",
      "Para {'ENG.MC'}  Valor p: 0.0\n",
      "Para {'FDR.MC'}  Valor p: 0.0\n",
      "Para {'FER.MC'}  Valor p: 0.0\n",
      "Para {'IBE.MC'}  Valor p: 0.0\n",
      "Para {'ITX.MC'}  Valor p: 3.699970041962241e-30\n",
      "Para {'LOG.MC'}  Valor p: 1.878969627731165e-28\n",
      "Para {'MAP.MC'}  Valor p: 4.163627601758445e-30\n",
      "Para {'MEL.MC'}  Valor p: 1.172329973371062e-24\n",
      "Para {'MRL.MC'}  Valor p: 5.861439597073244e-30\n",
      "Para {'MTS.MC'}  Valor p: 8.668212784890704e-28\n",
      "Para {'NTGY.MC'}  Valor p: 0.0\n",
      "Para {'PHM.MC'}  Valor p: 0.0\n",
      "Para {'REP.MC'}  Valor p: 5.347023165730774e-27\n",
      "Para {'ROVI.MC'}  Valor p: 0.0\n",
      "Para {'SAB.MC'}  Valor p: 5.462338962898591e-20\n",
      "Para {'SAN.MC'}  Valor p: 6.290751497679506e-23\n",
      "Para {'SCYR.MC'}  Valor p: 7.339850801074774e-26\n",
      "Para {'TEF.MC'}  Valor p: 1.4945780335873385e-15\n",
      "Para {'UNI.MC'}  Valor p: 0.0\n",
      "Para {'VIS.MC'}  Valor p: 0.0\n"
     ]
    }
   ],
   "source": [
    "from statsmodels.tsa.stattools import adfuller\n",
    "import pandas as pd  \n",
    "import datetime  \n",
    "import yfinance as yf\n",
    "\n",
    "lista2=set(lista_nueva)\n",
    "\n",
    "symbols =lista2-{'GRF.MC', 'IAG.MC'} \n",
    "\n",
    "start_date = \"2017-10-01\"\n",
    "end_date = \"2024-10-02\"\n",
    "\n",
    "stocks = yf.download(symbols,start=start_date, end=end_date )\n",
    "stocks_a=stocks['Adj Close']\n",
    "r=stocks_a.pct_change()\n",
    "r.columns\n",
    "\n",
    "for symbol in r.columns:\n",
    "    result = adfuller(r[symbol].dropna())\n",
    "    print('Para', {symbol},' Valor p:', result[1])\n",
    "\n"
   ]
  },
  {
   "cell_type": "markdown",
   "id": "0eeae6d9-ac60-4a07-96e0-1f5a4a6a834f",
   "metadata": {},
   "source": [
    "Ho: la serie no es estacionaria\n",
    "\n",
    "H1: la serie es estacionaria\n",
    "\n",
    "Todas las series de retornos tienen un p-valor menor que 0.05 lo que significa que todas los retornos son estacionarios"
   ]
  },
  {
   "cell_type": "code",
   "execution_count": 247,
   "id": "c8c5bcf9-6a06-498d-a11e-847efb8b4cd0",
   "metadata": {
    "tags": []
   },
   "outputs": [
    {
     "name": "stderr",
     "output_type": "stream",
     "text": [
      "[*********************100%***********************]  31 of 31 completed\n"
     ]
    },
    {
     "name": "stdout",
     "output_type": "stream",
     "text": [
      "Reporte para AENA.MC: con registros iniciales (1791,) con (42,) outliers superiores y (53,) outliers inferiores\n",
      "Reporte para MTS.MC: con registros iniciales (1791,) con (33,) outliers superiores y (39,) outliers inferiores\n",
      "Reporte para MEL.MC: con registros iniciales (1791,) con (40,) outliers superiores y (46,) outliers inferiores\n",
      "Reporte para BBVA.MC: con registros iniciales (1791,) con (43,) outliers superiores y (53,) outliers inferiores\n",
      "Reporte para AMS.MC: con registros iniciales (1791,) con (46,) outliers superiores y (64,) outliers inferiores\n",
      "Reporte para VIS.MC: con registros iniciales (1791,) con (40,) outliers superiores y (41,) outliers inferiores\n",
      "Reporte para ANA.MC: con registros iniciales (1791,) con (29,) outliers superiores y (36,) outliers inferiores\n",
      "Reporte para ELE.MC: con registros iniciales (1791,) con (30,) outliers superiores y (24,) outliers inferiores\n",
      "Reporte para COL.MC: con registros iniciales (1791,) con (38,) outliers superiores y (41,) outliers inferiores\n",
      "Reporte para ITX.MC: con registros iniciales (1791,) con (42,) outliers superiores y (40,) outliers inferiores\n",
      "Reporte para ROVI.MC: con registros iniciales (1791,) con (30,) outliers superiores y (34,) outliers inferiores\n",
      "Reporte para PHM.MC: con registros iniciales (1791,) con (62,) outliers superiores y (45,) outliers inferiores\n",
      "Reporte para FER.MC: con registros iniciales (1791,) con (36,) outliers superiores y (42,) outliers inferiores\n",
      "Reporte para SAN.MC: con registros iniciales (1791,) con (34,) outliers superiores y (37,) outliers inferiores\n",
      "Reporte para IBE.MC: con registros iniciales (1791,) con (40,) outliers superiores y (37,) outliers inferiores\n",
      "Reporte para UNI.MC: con registros iniciales (1791,) con (37,) outliers superiores y (47,) outliers inferiores\n",
      "Reporte para SAB.MC: con registros iniciales (1791,) con (51,) outliers superiores y (53,) outliers inferiores\n",
      "Reporte para ACS.MC: con registros iniciales (1791,) con (50,) outliers superiores y (56,) outliers inferiores\n",
      "Reporte para MRL.MC: con registros iniciales (1791,) con (52,) outliers superiores y (52,) outliers inferiores\n",
      "Reporte para REP.MC: con registros iniciales (1791,) con (40,) outliers superiores y (40,) outliers inferiores\n",
      "Reporte para SCYR.MC: con registros iniciales (1791,) con (43,) outliers superiores y (43,) outliers inferiores\n",
      "Reporte para LOG.MC: con registros iniciales (1791,) con (31,) outliers superiores y (44,) outliers inferiores\n",
      "Reporte para ENG.MC: con registros iniciales (1791,) con (21,) outliers superiores y (33,) outliers inferiores\n",
      "Reporte para FDR.MC: con registros iniciales (1791,) con (34,) outliers superiores y (43,) outliers inferiores\n",
      "Reporte para TEF.MC: con registros iniciales (1791,) con (31,) outliers superiores y (41,) outliers inferiores\n",
      "Reporte para ACX.MC: con registros iniciales (1791,) con (32,) outliers superiores y (29,) outliers inferiores\n",
      "Reporte para NTGY.MC: con registros iniciales (1791,) con (41,) outliers superiores y (61,) outliers inferiores\n",
      "Reporte para CABK.MC: con registros iniciales (1791,) con (40,) outliers superiores y (33,) outliers inferiores\n",
      "Reporte para CLNX.MC: con registros iniciales (1791,) con (35,) outliers superiores y (24,) outliers inferiores\n",
      "Reporte para MAP.MC: con registros iniciales (1791,) con (33,) outliers superiores y (45,) outliers inferiores\n",
      "Reporte para BKT.MC: con registros iniciales (1791,) con (47,) outliers superiores y (57,) outliers inferiores\n"
     ]
    }
   ],
   "source": [
    "from statsmodels.tsa.stattools import adfuller\n",
    "import pandas as pd  \n",
    "import datetime  \n",
    "import yfinance as yf\n",
    "\n",
    "lista2=set(lista_nueva)\n",
    "\n",
    "symbols =lista2-{'GRF.MC', 'IAG.MC'} \n",
    "\n",
    "start_date = \"2017-10-01\"\n",
    "end_date = \"2024-10-02\"\n",
    "\n",
    "stocks = yf.download(symbols,start=start_date, end=end_date )\n",
    "stocks_a=stocks['Adj Close']\n",
    "\n",
    "\n",
    "r=stocks_a.pct_change()\n",
    "r.columns\n",
    "\n",
    "for i in symbols:\n",
    "    Q1 = r[i].quantile(0.25)\n",
    "    Q3 = r[i].quantile(0.75)\n",
    "    \n",
    "    # Calcular el IQR (Rango Intercuartil)\n",
    "    IQR = Q3 - Q1\n",
    "\n",
    "    # Definir los límites superior e inferior para identificar outliers\n",
    "    limite_superior = Q3 + 1.5 * IQR\n",
    "    limite_inferior = Q1 - 1.5 * IQR\n",
    "\n",
    "    # Filtrar los outliers\n",
    "    datos_max = r[i][ (r[i] >= limite_superior)]\n",
    "    datos_min = r[i][(r[i]<= limite_inferior)]\n",
    "    \n",
    "    \n",
    "    print(f'Reporte para {i}: con registros iniciales {r[i].shape} con {datos_max.shape} outliers superiores y {datos_min.shape} outliers inferiores')"
   ]
  },
  {
   "cell_type": "markdown",
   "id": "c40c9a3a-1b99-409f-807f-bb2c18f094c0",
   "metadata": {
    "tags": []
   },
   "source": [
    "**4.d La invasión Rusa a Ucrania**,también conocida como la guerra de Ucrania, inició el 24 de febrero de 2022,ha impactado especialmente a empresas en sectores como energía, infraestructuras, banca, seguros y construcción, que suelen tener alta exposición en Europa.\n",
    "\n",
    "Considerando las empresas de energia: \n",
    "* REP.MC - Repsol\n",
    "* IBE.MC - Iberdrola\n",
    "* ELE.MC - Endesa\n",
    "* NTGY.MC - Naturgy\n",
    "\n",
    "El sector Financiero y de seguros:\n",
    "* Banco Sabadell - SAB.MC\n",
    "* Banco Santander - SAN.MC\n",
    "* Bankinter - BKT.MC\n",
    "* BBVA - BBVA.MC\n",
    "* CaixaBank - CABK.MC\n",
    "* Unicaja Banco - UNI.MC\n",
    "* MAP.MC - Mapfre\n",
    "\n",
    "Analice 3 dias antes y 3 dias después del evento para ver si el evento tiene impacto en la rentabilidad media del sector energético o del sector financiero y de seguros.  \n",
    "\n",
    "\n"
   ]
  },
  {
   "cell_type": "code",
   "execution_count": 237,
   "id": "85398684-a5e7-41a7-8765-afa31faed4e3",
   "metadata": {
    "tags": []
   },
   "outputs": [
    {
     "name": "stderr",
     "output_type": "stream",
     "text": [
      "[*********************100%***********************]  31 of 31 completed\n",
      "C:\\Users\\luz_m\\AppData\\Local\\Temp\\ipykernel_17208\\1874788428.py:24: FutureWarning: Indexing a timezone-aware DatetimeIndex with a timezone-naive datetime is deprecated and will raise KeyError in a future version. Use a timezone-aware object instead.\n",
      "  event_idx = r.index.get_loc(event)\n"
     ]
    },
    {
     "name": "stdout",
     "output_type": "stream",
     "text": [
      "energia:Ticker                       REP.MC    IBE.MC    ELE.MC   NTGY.MC\n",
      "Date                                                             \n",
      "2022-02-21 00:00:00+00:00 -0.009715 -0.018299 -0.025040 -0.046952\n",
      "2022-02-22 00:00:00+00:00 -0.013081  0.011404 -0.010929 -0.013397\n",
      "2022-02-23 00:00:00+00:00 -0.008894  0.013010  0.030110  0.005256\n",
      "2022-02-24 00:00:00+00:00 -0.003167  0.009418 -0.021453 -0.018736\n",
      "2022-02-25 00:00:00+00:00  0.023301  0.052163  0.067142  0.044849\n",
      "2022-02-28 00:00:00+00:00  0.002760  0.025796  0.010016  0.021249\n",
      "2022-03-01 00:00:00+00:00  0.020299 -0.061690 -0.074752 -0.034124\n",
      "energia:Date\n",
      "2022-02-21 00:00:00+00:00   -0.025002\n",
      "2022-02-22 00:00:00+00:00   -0.006501\n",
      "2022-02-23 00:00:00+00:00    0.009870\n",
      "2022-02-24 00:00:00+00:00   -0.008485\n",
      "2022-02-25 00:00:00+00:00    0.046864\n",
      "2022-02-28 00:00:00+00:00    0.014955\n",
      "2022-03-01 00:00:00+00:00   -0.037567\n",
      "dtype: float64\n"
     ]
    },
    {
     "data": {
      "image/png": "[encoded data removed]",
      "text/plain": [
       "<Figure size 640x480 with 1 Axes>"
      ]
     },
     "metadata": {},
     "output_type": "display_data"
    },
    {
     "name": "stdout",
     "output_type": "stream",
     "text": [
      "financiero:Ticker                       SAB.MC    SAN.MC    BKT.MC   BBVA.MC   CABK.MC  \\\n",
      "Date                                                                          \n",
      "2022-02-21 00:00:00+00:00 -0.024989 -0.010987 -0.019524 -0.015931 -0.015451   \n",
      "2022-02-22 00:00:00+00:00 -0.017918 -0.001218 -0.010138  0.003914 -0.001256   \n",
      "2022-02-23 00:00:00+00:00 -0.034642 -0.013409 -0.014265  0.001949 -0.029227   \n",
      "2022-02-24 00:00:00+00:00 -0.070096 -0.076911 -0.050464 -0.062788 -0.056005   \n",
      "2022-02-25 00:00:00+00:00  0.049395  0.043500  0.023837  0.025665  0.038409   \n",
      "2022-02-28 00:00:00+00:00 -0.050257 -0.042969 -0.027481 -0.026679 -0.029062   \n",
      "2022-03-01 00:00:00+00:00 -0.068921 -0.051935 -0.063383 -0.038941 -0.042177   \n",
      "\n",
      "Ticker                       UNI.MC    MAP.MC  \n",
      "Date                                           \n",
      "2022-02-21 00:00:00+00:00 -0.009567 -0.010554  \n",
      "2022-02-22 00:00:00+00:00 -0.007118 -0.011200  \n",
      "2022-02-23 00:00:00+00:00 -0.013825 -0.012675  \n",
      "2022-02-24 00:00:00+00:00 -0.096573 -0.043704  \n",
      "2022-02-25 00:00:00+00:00  0.030460  0.027135  \n",
      "2022-02-28 00:00:00+00:00 -0.064696 -0.020300  \n",
      "2022-03-01 00:00:00+00:00 -0.047108 -0.027817  \n",
      "financiero:Date\n",
      "2022-02-21 00:00:00+00:00   -0.015286\n",
      "2022-02-22 00:00:00+00:00   -0.006419\n",
      "2022-02-23 00:00:00+00:00   -0.016585\n",
      "2022-02-24 00:00:00+00:00   -0.065220\n",
      "2022-02-25 00:00:00+00:00    0.034057\n",
      "2022-02-28 00:00:00+00:00   -0.037349\n",
      "2022-03-01 00:00:00+00:00   -0.048612\n",
      "dtype: float64\n"
     ]
    }
   ],
   "source": [
    "from statsmodels.tsa.stattools import adfuller\n",
    "import pandas as pd  \n",
    "import datetime  \n",
    "import yfinance as yf\n",
    "\n",
    "lista2=set(lista_nueva)\n",
    "\n",
    "symbols =lista2-{'GRF.MC', 'IAG.MC'} \n",
    "\n",
    "start_date = \"2017-10-01\"\n",
    "end_date = \"2024-10-02\"\n",
    "\n",
    "stocks = yf.download(symbols,start=start_date, end=end_date )\n",
    "stocks_a=stocks['Adj Close']\n",
    "r=stocks_a.pct_change()\n",
    "\n",
    "###########################################33\n",
    "#especifique fecha del event\n",
    "event = pd.to_datetime(event).tz_localize('UTC')\n",
    "\n",
    "event = pd.to_datetime('2022-02-24')\n",
    "\n",
    "# obtenga la posión de esta fecha en el archivo\n",
    "event_idx = r.index.get_loc(event)\n",
    "\n",
    "#filtre el archivo \n",
    "tiempos = r.iloc[event_idx - 3:event_idx + 4]\n",
    "\n",
    "\n",
    "#############################333\n",
    "#sector energetico\n",
    "import matplotlib.pyplot as plt\n",
    "\n",
    "\n",
    "energia=tiempos[['REP.MC','IBE.MC','ELE.MC','NTGY.MC']]\n",
    "energia.mean(axis=1)\n",
    "\n",
    "print(f'energia:{energia}')\n",
    "print(f'energia:{energia.mean(axis=1)}')\n",
    "\n",
    "energia.mean(axis=1).plot(label=\"Sector energético\")\n",
    "##############################################\n",
    "\n",
    "financiero=tiempos[['SAB.MC','SAN.MC','BKT.MC','BBVA.MC','CABK.MC','UNI.MC','MAP.MC']]\n",
    "financiero.mean(axis=1)\n",
    "financiero.mean(axis=1).plot(label=\"Sector financiero\")\n",
    "plt.legend()\n",
    "plt.show()\n",
    "\n",
    "print(f'financiero:{financiero}')\n",
    "print(f'financiero:{financiero.mean(axis=1)}')"
   ]
  },
  {
   "cell_type": "code",
   "execution_count": null,
   "id": "50ac29e7-2513-4c80-afab-e46ca3fbe742",
   "metadata": {},
   "outputs": [],
   "source": []
  }
 ],
 "metadata": {
  "kernelspec": {
   "display_name": "Python 3",
   "language": "python",
   "name": "python3"
  },
  "language_info": {
   "codemirror_mode": {
    "name": "ipython",
    "version": 3
   },
   "file_extension": ".py",
   "mimetype": "text/x-python",
   "name": "python",
   "nbconvert_exporter": "python",
   "pygments_lexer": "ipython3",
   "version": "3.12.2"
  }
 },
 "nbformat": 4,
 "nbformat_minor": 5
}
