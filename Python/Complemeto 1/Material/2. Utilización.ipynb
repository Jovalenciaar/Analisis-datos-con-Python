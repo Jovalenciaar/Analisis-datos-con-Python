{
 "cells": [
  {
   "attachments": {
    "b3522031-7c6e-4875-960c-9bbbc48b2173.png": {
     "image/png": "[encoded data removed]"
    }
   },
   "cell_type": "markdown",
   "id": "d62273a5-626b-419c-9c69-bd7f7a0cee8e",
   "metadata": {},
   "source": [
    "![image.png](attachment:b3522031-7c6e-4875-960c-9bbbc48b2173.png)"
   ]
  },
  {
   "cell_type": "markdown",
   "id": "5bb4a53e-454c-4bf0-9737-eabce265f07a",
   "metadata": {
    "tags": []
   },
   "source": [
    "Luz Mary Pinzón S. luzmary.pinzon@upf.edu"
   ]
  },
  {
   "cell_type": "markdown",
   "id": "a75a0c76-1c87-41ab-9cc5-dd40f4c4f62c",
   "metadata": {
    "tags": []
   },
   "source": [
    "# 2. Utilización de tipo de datos basicos "
   ]
  },
  {
   "cell_type": "markdown",
   "id": "bfb1c2cd-fcfc-4044-9ff3-232711aa5f6f",
   "metadata": {
    "tags": []
   },
   "source": [
    "Las variables en Python puede ser:\n",
    "    \n",
    "![Parte de la imagen](imagenes/Tipo_de_datos.png)"
   ]
  },
  {
   "cell_type": "markdown",
   "id": "ad2d2c64-9383-49a4-83b1-96a72892df8b",
   "metadata": {},
   "source": [
    "## <span style=\"color:red\">Operadores</span>\n",
    "1. De asignación\n",
    "2. Aritméticos\n",
    "3. Relacionales\n",
    "4. Lógicos\n"
   ]
  },
  {
   "cell_type": "markdown",
   "id": "4fdec984-1d34-4a43-9460-9e139f26b14e",
   "metadata": {},
   "source": [
    "## <span style=\"color:red\">1. Operadores de asignacion</span>"
   ]
  },
  {
   "cell_type": "markdown",
   "id": "897ac4d7-48b3-4982-8de1-69f47b26491c",
   "metadata": {},
   "source": [
    "sirve para asignar valores a una variable"
   ]
  },
  {
   "cell_type": "code",
   "execution_count": 2,
   "id": "3de7b0ee",
   "metadata": {},
   "outputs": [],
   "source": [
    "x =2"
   ]
  },
  {
   "cell_type": "code",
   "execution_count": 3,
   "id": "a647f12c",
   "metadata": {},
   "outputs": [],
   "source": [
    "z = \"karla\""
   ]
  },
  {
   "cell_type": "markdown",
   "id": "e85098ed-4244-4681-8db7-1d62cb973550",
   "metadata": {},
   "source": [
    "## <span style=\"color:red\">2. Operadores aritméticos</span>\n",
    "\n",
    "![Parte de la imagen](imagenes/Operadores2.png)"
   ]
  },
  {
   "cell_type": "code",
   "execution_count": 4,
   "id": "21c23b5d-5881-452b-b31d-27b85e077909",
   "metadata": {},
   "outputs": [
    {
     "data": {
      "text/plain": [
       "5.333333333333333"
      ]
     },
     "execution_count": 4,
     "metadata": {},
     "output_type": "execute_result"
    }
   ],
   "source": [
    "16/3"
   ]
  },
  {
   "cell_type": "code",
   "execution_count": 5,
   "id": "c151f967-ddbc-4bb0-88d1-578693f78629",
   "metadata": {},
   "outputs": [
    {
     "data": {
      "text/plain": [
       "1"
      ]
     },
     "execution_count": 5,
     "metadata": {},
     "output_type": "execute_result"
    }
   ],
   "source": [
    "16 % 3\n"
   ]
  },
  {
   "cell_type": "code",
   "execution_count": 6,
   "id": "518e941b-2959-4af9-9486-09f62f9659f5",
   "metadata": {},
   "outputs": [
    {
     "data": {
      "text/plain": [
       "5"
      ]
     },
     "execution_count": 6,
     "metadata": {},
     "output_type": "execute_result"
    }
   ],
   "source": [
    "16 // 3"
   ]
  },
  {
   "cell_type": "markdown",
   "id": "695d0c89-98de-4c93-8b59-a606e032b8b7",
   "metadata": {},
   "source": [
    "## <span style=\"color:red\">3. Operadores relacionales</span>"
   ]
  },
  {
   "cell_type": "markdown",
   "id": "739669cf-1813-43c9-a3d1-e862922b833a",
   "metadata": {},
   "source": [
    "![Parte de la imagen](imagenes/Relaciones.png)"
   ]
  },
  {
   "cell_type": "markdown",
   "id": "157b776c-7f40-4da8-9b1d-c6547d9dd4f1",
   "metadata": {},
   "source": [
    "El resultado de una operación relacional solo puede ser de tipo booleno:\n",
    "\n",
    "    - True\n",
    "    - False"
   ]
  },
  {
   "cell_type": "code",
   "execution_count": 7,
   "id": "04083a0b-e674-4adf-b5a9-294d5c267abf",
   "metadata": {},
   "outputs": [
    {
     "data": {
      "text/plain": [
       "False"
      ]
     },
     "execution_count": 7,
     "metadata": {},
     "output_type": "execute_result"
    }
   ],
   "source": [
    "7 > 8"
   ]
  },
  {
   "cell_type": "code",
   "execution_count": 8,
   "id": "e479ab4a-5ece-43d8-ba4d-5ae36e9e3745",
   "metadata": {},
   "outputs": [
    {
     "data": {
      "text/plain": [
       "False"
      ]
     },
     "execution_count": 8,
     "metadata": {},
     "output_type": "execute_result"
    }
   ],
   "source": [
    "4 == 7"
   ]
  },
  {
   "cell_type": "markdown",
   "id": "1fcc6f8b-8a68-469c-abac-05f37a422e69",
   "metadata": {},
   "source": [
    "## <span style=\"color:red\">4.Operadores Lógicos</span>"
   ]
  },
  {
   "cell_type": "code",
   "execution_count": null,
   "id": "f95292dc-469a-46e0-bc95-cb5dad27f129",
   "metadata": {},
   "outputs": [],
   "source": [
    "and, or, not"
   ]
  },
  {
   "cell_type": "code",
   "execution_count": 9,
   "id": "dcc563e4-2955-4718-8d2c-bbd6da5a65d1",
   "metadata": {
    "tags": []
   },
   "outputs": [
    {
     "data": {
      "text/plain": [
       "False"
      ]
     },
     "execution_count": 9,
     "metadata": {},
     "output_type": "execute_result"
    }
   ],
   "source": [
    "(7>3) and (4==0)"
   ]
  },
  {
   "cell_type": "code",
   "execution_count": 10,
   "id": "1dec170f-e2c0-458d-b199-4205ea8048f6",
   "metadata": {
    "tags": []
   },
   "outputs": [
    {
     "data": {
      "text/plain": [
       "True"
      ]
     },
     "execution_count": 10,
     "metadata": {},
     "output_type": "execute_result"
    }
   ],
   "source": [
    "(7>3) or (4==0)\n"
   ]
  },
  {
   "cell_type": "code",
   "execution_count": 11,
   "id": "a6e0bb83-912c-4001-9b23-b1780338c67f",
   "metadata": {
    "tags": []
   },
   "outputs": [
    {
     "data": {
      "text/plain": [
       "False"
      ]
     },
     "execution_count": 11,
     "metadata": {},
     "output_type": "execute_result"
    }
   ],
   "source": [
    "4 ==5 "
   ]
  },
  {
   "cell_type": "code",
   "execution_count": 12,
   "id": "cda54b6b-382f-4c22-91fb-715c11a9670a",
   "metadata": {
    "tags": []
   },
   "outputs": [
    {
     "data": {
      "text/plain": [
       "True"
      ]
     },
     "execution_count": 12,
     "metadata": {},
     "output_type": "execute_result"
    }
   ],
   "source": [
    "not (4==5)"
   ]
  },
  {
   "cell_type": "markdown",
   "id": "ba4c1cce-23bf-4047-938a-5b14600a102e",
   "metadata": {},
   "source": [
    "## <span style=\"color:red\">Ejercicios</span>\n",
    "Hay que tener encuenta que los número enteros se especifican  por la palabra `int` y los reales por `float` para transformar los valores leidos\n",
    "\n",
    "Para cadenas de texto se especifican con  `str`\n"
   ]
  },
  {
   "cell_type": "markdown",
   "id": "a752ee14-d8dd-49e6-adaf-2440bad93bbb",
   "metadata": {},
   "source": [
    "Solicitar dos numeros al usuario e imprimir  la suma como resultado"
   ]
  },
  {
   "cell_type": "code",
   "execution_count": 17,
   "id": "a5715875-9b05-43ea-8fea-4343496960d8",
   "metadata": {},
   "outputs": [
    {
     "name": "stdout",
     "output_type": "stream",
     "text": [
      "50\n"
     ]
    }
   ],
   "source": [
    "numero1= int(input(\"escriba un numero\"))\n",
    "numero2 = int(input(\"escriba otro numero\"))\n",
    "print(numero1+numero2)\n"
   ]
  },
  {
   "cell_type": "markdown",
   "id": "2180d75b-fa48-42ad-baff-288784c5b729",
   "metadata": {},
   "source": [
    "Solicitar dos numeros reales al usuario e imprimir el resultado del producto de los números"
   ]
  },
  {
   "cell_type": "code",
   "execution_count": 24,
   "id": "881b9b84-7ba5-4021-b07e-fdee655ff7a7",
   "metadata": {},
   "outputs": [
    {
     "name": "stdout",
     "output_type": "stream",
     "text": [
      "116.54999999999998\n"
     ]
    }
   ],
   "source": [
    "n1= float(input(\"escriba un numero\"))\n",
    "n2 = float(input(\"escriba otro numero\"))\n",
    "print(n1*n2)"
   ]
  },
  {
   "cell_type": "markdown",
   "id": "6210dd06-3a67-4478-9491-49c42a17a53f",
   "metadata": {},
   "source": [
    "Solicitar dos palabras"
   ]
  },
  {
   "cell_type": "code",
   "execution_count": 22,
   "id": "a6efbad9-cf40-4314-82cf-efc631fa772e",
   "metadata": {},
   "outputs": [
    {
     "name": "stdout",
     "output_type": "stream",
     "text": [
      "azul,amarillo\n"
     ]
    }
   ],
   "source": [
    "z = str(input(\"Escribe una palabra\"))\n",
    "x = str(input(\"Escribe otra palabra\"))\n",
    "print(z +\",\"+ x)"
   ]
  },
  {
   "cell_type": "markdown",
   "id": "70009ed8-8467-4ac1-8572-5f319354c173",
   "metadata": {},
   "source": [
    "## <span style=\"color:red\">Redondeo de números reales</span>\n",
    "comando `round` y `format`"
   ]
  },
  {
   "cell_type": "code",
   "execution_count": 25,
   "id": "3fa7daf9-3d5c-41cb-8e39-e70cb2878f7c",
   "metadata": {},
   "outputs": [
    {
     "name": "stdout",
     "output_type": "stream",
     "text": [
      "11.219999999999999\n"
     ]
    }
   ],
   "source": [
    "n1= float(input(\"escriba un numero\"))\n",
    "n2 = float(input(\"escriba otro numero\"))\n",
    "print(n1*n2)"
   ]
  },
  {
   "cell_type": "code",
   "execution_count": 29,
   "id": "66f4bda6-4422-43a1-a72f-bcc1de20a38f",
   "metadata": {},
   "outputs": [
    {
     "name": "stdout",
     "output_type": "stream",
     "text": [
      "5.645959200000001\n"
     ]
    }
   ],
   "source": [
    "n1= float(input(\"escriba un numero\"))\n",
    "n2 = float(input(\"escriba otro numero\"))\n",
    "result = round(n1*n2,2)\n",
    "print(result)"
   ]
  },
  {
   "cell_type": "code",
   "execution_count": 32,
   "id": "fa670797-e4b0-41be-8374-27dcb224cac7",
   "metadata": {},
   "outputs": [
    {
     "data": {
      "text/plain": [
       "6374416246.93"
      ]
     },
     "execution_count": 32,
     "metadata": {},
     "output_type": "execute_result"
    }
   ],
   "source": [
    "round(23**7.2,2)"
   ]
  },
  {
   "cell_type": "code",
   "execution_count": 38,
   "id": "62943cde-2303-413f-93ea-6650acc5f684",
   "metadata": {},
   "outputs": [
    {
     "name": "stdout",
     "output_type": "stream",
     "text": [
      "340.48\n"
     ]
    }
   ],
   "source": [
    "print(f\"{2.3**7:.5}\")\n"
   ]
  },
  {
   "cell_type": "markdown",
   "id": "d2392b16",
   "metadata": {},
   "source": [
    "Hacer el cociente entre un numero entero y un real redondeadoa 2 decimales el resultado\n"
   ]
  },
  {
   "cell_type": "code",
   "execution_count": 3,
   "id": "6b11aa6b",
   "metadata": {},
   "outputs": [
    {
     "name": "stdout",
     "output_type": "stream",
     "text": [
      "15.38\n"
     ]
    }
   ],
   "source": [
    "x1 = int(input(\"escriba un numero\"))\n",
    "x2 = float(input(\"escriba otro numero\"))\n",
    "result = round(x1/x2,2)\n",
    "print(result)"
   ]
  },
  {
   "cell_type": "code",
   "execution_count": 1,
   "id": "0c3641c2",
   "metadata": {},
   "outputs": [
    {
     "name": "stdout",
     "output_type": "stream",
     "text": [
      "6.452\n"
     ]
    }
   ],
   "source": [
    "lado = float(input(\"escriba el lado a del cuadrado\"))\n",
    "result = round(lado**2,3)\n",
    "print(result)\n"
   ]
  },
  {
   "cell_type": "code",
   "execution_count": 2,
   "id": "d75c44e6",
   "metadata": {},
   "outputs": [
    {
     "name": "stdout",
     "output_type": "stream",
     "text": [
      "10.5\n"
     ]
    }
   ],
   "source": [
    "lado2 = float(input(\"escriba el lado a del cuadrado\"))\n",
    "result = round(lado2*3,3)   \n",
    "print(result)"
   ]
  },
  {
   "cell_type": "markdown",
   "id": "f6b6d832-542b-405b-aaea-a2dc49284a2f",
   "metadata": {},
   "source": [
    "# <span style=\"color:green\">Resumen</span>"
   ]
  },
  {
   "cell_type": "markdown",
   "id": "5e55ca57-5f45-4b87-b59b-ec61aa73d4c6",
   "metadata": {},
   "source": [
    "- Tipos de Datos\n",
    "- operadores\n",
    "- redondeo"
   ]
  },
  {
   "cell_type": "code",
   "execution_count": null,
   "id": "89fb7435-2a17-4cbb-8fa6-fc08a9deb288",
   "metadata": {},
   "outputs": [],
   "source": []
  },
  {
   "cell_type": "markdown",
   "id": "59a6cab5",
   "metadata": {},
   "source": [
    "### We have different types of date like:\n",
    "\n",
    "- Boolean\n",
    "- Float\n",
    "- Inter\n",
    "- String\n",
    "\n",
    "### Also we have three types of operatos like:\n",
    "\n",
    "#### Aritmeticos\n",
    "\n",
    "- Suma (+)\n",
    "- Resta (-)\n",
    "- Division o Cociente (/)\n",
    "- Multiplicacion o Producto (*)\n",
    "- Dicision sin decimales (//)\n",
    "- Potencia (**)\n",
    "- Raiz (** (1/n))\n",
    "- Parte entera de una numero o modulo (%)\n",
    "\n",
    "#### Logicos\n",
    "\n",
    "- And \"It's TRUE if the two variables are TRUE\n",
    "- Or \"It's TRUE if just one variables is TRUE\n",
    "- Not \"Give the value TRUE is the variable is False and vice versa\n",
    "\n",
    "\n",
    "#### Relaciones\n",
    "\n",
    "- Mayor o Mayor e igual ( > , >)\n",
    "- Meno o Menor e igual (< , =<)\n",
    "- Igual (==)\n",
    "- Diferente (!=)\n"
   ]
  }
 ],
 "metadata": {
  "kernelspec": {
   "display_name": "Python 3",
   "language": "python",
   "name": "python3"
  },
  "language_info": {
   "codemirror_mode": {
    "name": "ipython",
    "version": 3
   },
   "file_extension": ".py",
   "mimetype": "text/x-python",
   "name": "python",
   "nbconvert_exporter": "python",
   "pygments_lexer": "ipython3",
   "version": "3.12.2"
  }
 },
 "nbformat": 4,
 "nbformat_minor": 5
}
