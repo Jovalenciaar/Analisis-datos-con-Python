{
 "cells": [
  {
   "cell_type": "markdown",
   "id": "939e1fc4-e0d5-4fb5-9f76-7c95cdae2451",
   "metadata": {},
   "source": [
    "![Parte de la imagen](imagenes/Logo.png)"
   ]
  },
  {
   "cell_type": "code",
   "execution_count": 164,
   "id": "789baf82-9728-4915-ad5b-424843162a51",
   "metadata": {
    "tags": []
   },
   "outputs": [
    {
     "name": "stdin",
     "output_type": "stream",
     "text": [
      "Ingresos anuales 50000\n",
      "Puntaje Crediticio 300\n"
     ]
    },
    {
     "name": "stdout",
     "output_type": "stream",
     "text": [
      "préstamo estándar\n"
     ]
    }
   ],
   "source": [
    "ingresosanuales=int(input('Ingresos anuales'))\n",
    "\n",
    "puntaje=int(input('Puntaje Crediticio'))\n",
    "\n",
    "\n",
    "\n",
    "if ingresosanuales >= 50000:\n",
    "    if puntaje >= 700:\n",
    "        print('tasa preferencial')\n",
    "    else:\n",
    "        print('préstamo estándar')\n",
    "\n",
    "else:\n",
    "    print('no cumple los requisitos')"
   ]
  },
  {
   "cell_type": "code",
   "execution_count": 90,
   "id": "fecb7b1f-00a5-4b78-b093-4839071acee9",
   "metadata": {
    "tags": []
   },
   "outputs": [
    {
     "name": "stdin",
     "output_type": "stream",
     "text": [
      "Ingrese invesrión 100\n",
      "Ingrese interés en % 2.5\n",
      "Ingrese tiempo en años 2\n"
     ]
    },
    {
     "name": "stdout",
     "output_type": "stream",
     "text": [
      "Después de 2.0 años, su inversión de 100.0 en un tipo de interés de 2.5 ontendrá una ganancia de 5.0\n"
     ]
    }
   ],
   "source": [
    "inversion=float(input(\"Ingrese invesrión\"))\n",
    "\n",
    "interes=float(input(\"Ingrese interés en %\"))\n",
    "\n",
    "tiempo=float(input(\"Ingrese tiempo en años\"))\n",
    "\n",
    "ins = inversion * (interes/100) * tiempo\n",
    "\n",
    "print(f\"Después de {tiempo} años, su inversión de {inversion} en un tipo de interés de {interes} ontendrá una ganancia de {ins}\")"
   ]
  },
  {
   "cell_type": "code",
   "execution_count": 146,
   "id": "e8c9ae26-8780-45d1-9e21-8fc3508ebe2f",
   "metadata": {
    "tags": []
   },
   "outputs": [
    {
     "name": "stdout",
     "output_type": "stream",
     "text": [
      "**********\n",
      "Calcladora\n",
      "**********\n",
      "Menu\n",
      "1. Raiz cuadrada\n",
      "2. Modulo de division\n",
      "3. Division\n",
      "4. Multiplicacion\n",
      "5. Salir\n",
      "\n"
     ]
    },
    {
     "name": "stdin",
     "output_type": "stream",
     "text": [
      "opcion: 1\n",
      "numero: 4\n"
     ]
    },
    {
     "name": "stdout",
     "output_type": "stream",
     "text": [
      "La raiz cuadrada es: 2.0\n"
     ]
    },
    {
     "name": "stdin",
     "output_type": "stream",
     "text": [
      "opcion: 2\n",
      "numerador: 5\n",
      "denominador: 2\n"
     ]
    },
    {
     "name": "stdout",
     "output_type": "stream",
     "text": [
      "El modulo de la division es: 1\n"
     ]
    },
    {
     "name": "stdin",
     "output_type": "stream",
     "text": [
      "opcion: 5\n"
     ]
    }
   ],
   "source": [
    "fin=False\n",
    "print(\"\"\"**********\n",
    "Calcladora\n",
    "**********\n",
    "Menu\n",
    "1. Raiz cuadrada\n",
    "2. Modulo de division\n",
    "3. Division\n",
    "4. Multiplicacion\n",
    "5. Salir\n",
    "\"\"\"\n",
    ")\n",
    "while not(fin):\n",
    "        opc=int(input(\"opcion:\"))\n",
    "\n",
    "        if (opc==1):\n",
    "                sum1=int(input(\"numero:\"))\n",
    "                print(\"La raiz cuadrada es:\", math.sqrt(sum1))\n",
    "\n",
    "        elif (opc==2):\n",
    "                sum1=int(input(\"numerador:\"))\n",
    "                sum2=int(input(\"denominador:\"))\n",
    "                print(\"El modulo de la division es:\", sum1 % sum2)\n",
    "\n",
    "        elif (opc==3):\n",
    "                sum1=int(input(\"numerador:\"))\n",
    "                sum2=int(input(\"denominador:\"))\n",
    "                print(\"El resultado de la division es:\", sum1 / sum2)\n",
    "\n",
    "        elif (opc==4):\n",
    "                sum1=int(input(\"numero1:\"))\n",
    "                sum2=int(input(\"numero2:\"))\n",
    "                print(\"El resultado de la multiplicacion es:\", sum1 * sum2)\n",
    "\n",
    "        elif (opc==5):\n",
    "                fin=True"
   ]
  }
 ],
 "metadata": {
  "kernelspec": {
   "display_name": "Python 3 (ipykernel)",
   "language": "python",
   "name": "python3"
  },
  "language_info": {
   "codemirror_mode": {
    "name": "ipython",
    "version": 3
   },
   "file_extension": ".py",
   "mimetype": "text/x-python",
   "name": "python",
   "nbconvert_exporter": "python",
   "pygments_lexer": "ipython3",
   "version": "3.11.4"
  }
 },
 "nbformat": 4,
 "nbformat_minor": 5
}
