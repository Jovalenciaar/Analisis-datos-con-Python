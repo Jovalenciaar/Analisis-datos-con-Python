{
 "cells": [
  {
   "cell_type": "markdown",
   "id": "73b50ef2-0c2a-4e0b-b7b3-8f7f940000b9",
   "metadata": {},
   "source": [
    "### 5. Bucles-loops\n",
    "\n",
    "Un bucle es la repetición de la ejecución de un bloque de instrucciones y cada repetición se llama interación. Hay diferentes tipos de bucles."
   ]
  },
  {
   "cell_type": "markdown",
   "id": "a26fbbd6-f5d9-4e26-a563-85a97550f9d6",
   "metadata": {},
   "source": [
    "## while"
   ]
  },
  {
   "cell_type": "markdown",
   "id": "af4ce8ba-75ce-401d-abb1-e830039565c7",
   "metadata": {
    "tags": []
   },
   "source": [
    "### Ejemplo 1\n",
    "\n",
    "El usuario da un número y el programa encuentra el número dado por el usuario\n"
   ]
  },
  {
   "cell_type": "code",
   "execution_count": 8,
   "id": "08b1c5b4-2064-4c3e-82bb-7ccdbbfdedcb",
   "metadata": {
    "tags": []
   },
   "outputs": [
    {
     "name": "stdout",
     "output_type": "stream",
     "text": [
      "1\n",
      "2\n",
      "done\n"
     ]
    }
   ],
   "source": [
    "n = int(input('cuál es el número?:'))\n",
    "i=1\n",
    "while i <= n:\n",
    "        print(i)    \n",
    "        i+=1\n",
    "print('done')"
   ]
  },
  {
   "cell_type": "code",
   "execution_count": 20,
   "id": "7fc39ec4",
   "metadata": {},
   "outputs": [
    {
     "name": "stdout",
     "output_type": "stream",
     "text": [
      "2\n",
      "4\n",
      "6\n",
      "8\n",
      "10\n",
      "12\n",
      "14\n",
      "16\n",
      "18\n",
      "20\n",
      "done\n"
     ]
    }
   ],
   "source": [
    "n = int(input('cuál es el número?:'))\n",
    "i=1\n",
    "while i <= n:\n",
    "    if i%2==0:\n",
    "        print(i)  \n",
    "    else:  \n",
    "        pass\n",
    "    i+=1\n",
    "print('done')"
   ]
  },
  {
   "cell_type": "markdown",
   "id": "d5e1e2c7-6f28-4981-a69c-29327db8a863",
   "metadata": {},
   "source": [
    "### Ejemplo 2:\n",
    "\n",
    "El usuario da un número y el programa encuentra los números pares anteriores al número dado"
   ]
  },
  {
   "cell_type": "code",
   "execution_count": 5,
   "id": "b481d529-ae8c-42ba-96ed-653465cde6d3",
   "metadata": {
    "tags": []
   },
   "outputs": [
    {
     "name": "stdout",
     "output_type": "stream",
     "text": [
      "cuál es el número?: 25\n"
     ]
    },
    {
     "name": "stdout",
     "output_type": "stream",
     "text": [
      "2\n",
      "4\n",
      "6\n",
      "8\n",
      "10\n",
      "12\n",
      "14\n",
      "16\n",
      "18\n",
      "20\n",
      "22\n",
      "24\n",
      "done\n"
     ]
    }
   ],
   "source": []
  },
  {
   "cell_type": "markdown",
   "id": "a20fb741-82a9-4142-bd7c-a068d86ae67d",
   "metadata": {},
   "source": [
    " ### Ejercicio 1:\n",
    "calcular el tiempo que tomará duplicar una inversión a una tasa de interés fija.\n",
    "\n",
    "El programa solicita al usuario ingresar la inversión inicial y la tasa de interés anual en formato decimal. Luego, utiliza un bucle while para calcular cuántos años tomará duplicar la inversión inicial a la tasa de interés dada.\n",
    "Revise el siguiente programa, entiende todo?\n"
   ]
  },
  {
   "cell_type": "code",
   "execution_count": 2,
   "id": "801d1919-ae54-4833-9fd4-6836c9d91268",
   "metadata": {
    "tags": []
   },
   "outputs": [
    {
     "name": "stdout",
     "output_type": "stream",
     "text": [
      "Tomará 15 años duplicar su inversión inicial de $5000.00 a una tasa de interés del 5.0% anual.\n"
     ]
    }
   ],
   "source": [
    "inversion_inicial = float(input(\"Ingrese la inversión inicial: \"))\n",
    "tasa_interes_anual = float(input(\"Ingrese la tasa de interés anual (en decimal): \"))\n",
    "\n",
    "saldo = inversion_inicial\n",
    "tiempo = 0\n",
    "\n",
    "while saldo < inversion_inicial * 2:\n",
    "    saldo += saldo * tasa_interes_anual     # es igual a saldo = 1+(saldo * tasa_interes_anual)\n",
    "    tiempo += 1\n",
    "    \n",
    "\n",
    "\n",
    "print(f\"Tomará {tiempo} años duplicar su inversión inicial de ${inversion_inicial:.2f} a una tasa de interés del {tasa_interes_anual*100}% anual.\")"
   ]
  },
  {
   "cell_type": "markdown",
   "id": "1b3fc005-a296-46cd-86d7-ab88f535d60d",
   "metadata": {
    "tags": []
   },
   "source": [
    "### Ejercicio 2:(opcional)\n",
    "\n",
    "Escriba un programa que calcule cuántos años le llevara a alguien ahorrar una cierta cantidad de dinero a una tasa de interés fija anual\n",
    "\n",
    "solicite al cliente:\n",
    "\n",
    "meta_ahorro =\"Ingrese la cantidad que desea ahorrar \"\n",
    "\n",
    "tasa_interes_anual =\"Ingrese la tasa de interés anual (en decimal) \"\n",
    "\n",
    "saldo_inicial=\"Ingrese su saldo inicial \"\n"
   ]
  },
  {
   "cell_type": "code",
   "execution_count": 15,
   "id": "4830ee55-3fee-43b3-9b52-cf76d0127bb0",
   "metadata": {
    "tags": []
   },
   "outputs": [
    {
     "name": "stdout",
     "output_type": "stream",
     "text": [
      "Le llevara 1 anos en ahorrar la cantidad de 5000.0\n"
     ]
    }
   ],
   "source": [
    "meta_ahorro =float(input(\"Ingrese la cantidad que desea ahorrar \"))\n",
    "tasa_interes_anual =float(input(\"Ingrese la tasa de interés anual (en decimal) \"))\n",
    "saldo_inicial=float(input(\"Ingrese su saldo inicial \"))\n",
    "\n",
    "tiempo = 0\n",
    "\n",
    "while saldo_inicial < meta_ahorro:\n",
    "    saldo_inicial += saldo_inicial * tasa_interes_anual\n",
    "    tiempo +=1\n",
    "print(f\"Le llevara {tiempo} anos en ahorrar la cantidad de {meta_ahorro}\")"
   ]
  },
  {
   "cell_type": "markdown",
   "id": "087c0130-6abb-481d-af6c-d5cfac2b2540",
   "metadata": {
    "tags": []
   },
   "source": []
  },
  {
   "cell_type": "code",
   "execution_count": null,
   "id": "70009102",
   "metadata": {},
   "outputs": [],
   "source": [
    "monto_inicial = float(input(\"Ingrese el monto inicial\"))\n",
    "tasa_interes_anual = float(input(\"Ingrese la tasa de interés anual (en porcentaje sin el símbolo %)\"))\n",
    "year = float(input(\"Cuantos años desea dejar su inversión\"))\n",
    "\n"
   ]
  }
 ],
 "metadata": {
  "kernelspec": {
   "display_name": "Python 3",
   "language": "python",
   "name": "python3"
  },
  "language_info": {
   "codemirror_mode": {
    "name": "ipython",
    "version": 3
   },
   "file_extension": ".py",
   "mimetype": "text/x-python",
   "name": "python",
   "nbconvert_exporter": "python",
   "pygments_lexer": "ipython3",
   "version": "3.12.2"
  }
 },
 "nbformat": 4,
 "nbformat_minor": 5
}
