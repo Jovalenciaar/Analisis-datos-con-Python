{
 "cells": [
  {
   "cell_type": "markdown",
   "metadata": {},
   "source": [
    "<figure>\n",
    "<img src=\"../Imagenes/Logo.png\" width=\"1000\" height=\"800\" align=\"center\"/>\n",
    "</figure>"
   ]
  },
  {
   "cell_type": "markdown",
   "metadata": {},
   "source": [
    "Luz Mary Pinzón S. luzmary.pinzon@upf.edu"
   ]
  },
  {
   "cell_type": "markdown",
   "metadata": {},
   "source": [
    "# Estadística Básica"
   ]
  },
  {
   "cell_type": "code",
   "execution_count": 2,
   "metadata": {},
   "outputs": [],
   "source": [
    "import pandas as pd\n",
    "NFLX=pd.read_csv(\"NFLX.csv\",\n",
    "                 index_col=0)"
   ]
  },
  {
   "cell_type": "code",
   "execution_count": 2,
   "metadata": {},
   "outputs": [
    {
     "data": {
      "text/html": [
       "<div>\n",
       "<style scoped>\n",
       "    .dataframe tbody tr th:only-of-type {\n",
       "        vertical-align: middle;\n",
       "    }\n",
       "\n",
       "    .dataframe tbody tr th {\n",
       "        vertical-align: top;\n",
       "    }\n",
       "\n",
       "    .dataframe thead th {\n",
       "        text-align: right;\n",
       "    }\n",
       "</style>\n",
       "<table border=\"1\" class=\"dataframe\">\n",
       "  <thead>\n",
       "    <tr style=\"text-align: right;\">\n",
       "      <th></th>\n",
       "      <th>Open</th>\n",
       "      <th>High</th>\n",
       "      <th>Low</th>\n",
       "      <th>Close</th>\n",
       "      <th>Adj Close</th>\n",
       "      <th>Volume</th>\n",
       "    </tr>\n",
       "    <tr>\n",
       "      <th>Date</th>\n",
       "      <th></th>\n",
       "      <th></th>\n",
       "      <th></th>\n",
       "      <th></th>\n",
       "      <th></th>\n",
       "      <th></th>\n",
       "    </tr>\n",
       "  </thead>\n",
       "  <tbody>\n",
       "    <tr>\n",
       "      <th>2020-10-05</th>\n",
       "      <td>506.799988</td>\n",
       "      <td>520.989990</td>\n",
       "      <td>501.700012</td>\n",
       "      <td>520.650024</td>\n",
       "      <td>520.650024</td>\n",
       "      <td>4088100</td>\n",
       "    </tr>\n",
       "    <tr>\n",
       "      <th>2020-10-06</th>\n",
       "      <td>518.719971</td>\n",
       "      <td>521.820007</td>\n",
       "      <td>504.160004</td>\n",
       "      <td>505.869995</td>\n",
       "      <td>505.869995</td>\n",
       "      <td>4199000</td>\n",
       "    </tr>\n",
       "    <tr>\n",
       "      <th>2020-10-07</th>\n",
       "      <td>518.000000</td>\n",
       "      <td>536.489990</td>\n",
       "      <td>515.820007</td>\n",
       "      <td>534.659973</td>\n",
       "      <td>534.659973</td>\n",
       "      <td>7988700</td>\n",
       "    </tr>\n",
       "    <tr>\n",
       "      <th>2020-10-08</th>\n",
       "      <td>533.479980</td>\n",
       "      <td>535.000000</td>\n",
       "      <td>524.150024</td>\n",
       "      <td>531.789978</td>\n",
       "      <td>531.789978</td>\n",
       "      <td>5386500</td>\n",
       "    </tr>\n",
       "    <tr>\n",
       "      <th>2020-10-09</th>\n",
       "      <td>537.830017</td>\n",
       "      <td>544.280029</td>\n",
       "      <td>535.000000</td>\n",
       "      <td>539.440002</td>\n",
       "      <td>539.440002</td>\n",
       "      <td>4781300</td>\n",
       "    </tr>\n",
       "  </tbody>\n",
       "</table>\n",
       "</div>"
      ],
      "text/plain": [
       "                  Open        High         Low       Close   Adj Close  \\\n",
       "Date                                                                     \n",
       "2020-10-05  506.799988  520.989990  501.700012  520.650024  520.650024   \n",
       "2020-10-06  518.719971  521.820007  504.160004  505.869995  505.869995   \n",
       "2020-10-07  518.000000  536.489990  515.820007  534.659973  534.659973   \n",
       "2020-10-08  533.479980  535.000000  524.150024  531.789978  531.789978   \n",
       "2020-10-09  537.830017  544.280029  535.000000  539.440002  539.440002   \n",
       "\n",
       "             Volume  \n",
       "Date                 \n",
       "2020-10-05  4088100  \n",
       "2020-10-06  4199000  \n",
       "2020-10-07  7988700  \n",
       "2020-10-08  5386500  \n",
       "2020-10-09  4781300  "
      ]
     },
     "execution_count": 2,
     "metadata": {},
     "output_type": "execute_result"
    }
   ],
   "source": [
    "NFLX.head(5)"
   ]
  },
  {
   "cell_type": "code",
   "execution_count": 3,
   "metadata": {},
   "outputs": [
    {
     "data": {
      "text/plain": [
       "(251, 6)"
      ]
     },
     "execution_count": 3,
     "metadata": {},
     "output_type": "execute_result"
    }
   ],
   "source": [
    "### tamaño del archivo\n",
    "NFLX.shape "
   ]
  },
  {
   "cell_type": "markdown",
   "metadata": {},
   "source": [
    "## Trabajemos con las columnas (Variables)"
   ]
  },
  {
   "cell_type": "code",
   "execution_count": 6,
   "metadata": {},
   "outputs": [
    {
     "data": {
      "text/plain": [
       "Index(['Open', 'High', 'Low', 'Close', 'Adj Close', 'Volume'], dtype='object')"
      ]
     },
     "execution_count": 6,
     "metadata": {},
     "output_type": "execute_result"
    }
   ],
   "source": [
    " # nombres de las columnas\n",
    "NFLX.columns"
   ]
  },
  {
   "cell_type": "code",
   "execution_count": 5,
   "metadata": {},
   "outputs": [
    {
     "data": {
      "text/plain": [
       "Index(['2020-10-05', '2020-10-06', '2020-10-07', '2020-10-08', '2020-10-09',\n",
       "       '2020-10-12', '2020-10-13', '2020-10-14', '2020-10-15', '2020-10-16',\n",
       "       ...\n",
       "       '2021-09-20', '2021-09-21', '2021-09-22', '2021-09-23', '2021-09-24',\n",
       "       '2021-09-27', '2021-09-28', '2021-09-29', '2021-09-30', '2021-10-01'],\n",
       "      dtype='object', name='Date', length=251)"
      ]
     },
     "execution_count": 5,
     "metadata": {},
     "output_type": "execute_result"
    }
   ],
   "source": [
    " # valores del index\n",
    "NFLX.index"
   ]
  },
  {
   "cell_type": "code",
   "execution_count": 4,
   "metadata": {},
   "outputs": [
    {
     "data": {
      "text/plain": [
       "(True, False)"
      ]
     },
     "execution_count": 4,
     "metadata": {},
     "output_type": "execute_result"
    }
   ],
   "source": [
    " # Conocer si las variablee 'Open'y 'Diff' son  columnas del DataFrame\n",
    "'Open' in NFLX.columns, 'Diff' in NFLX.columns"
   ]
  },
  {
   "cell_type": "code",
   "execution_count": 6,
   "metadata": {
    "tags": []
   },
   "outputs": [
    {
     "data": {
      "text/html": [
       "<div>\n",
       "<style scoped>\n",
       "    .dataframe tbody tr th:only-of-type {\n",
       "        vertical-align: middle;\n",
       "    }\n",
       "\n",
       "    .dataframe tbody tr th {\n",
       "        vertical-align: top;\n",
       "    }\n",
       "\n",
       "    .dataframe thead th {\n",
       "        text-align: right;\n",
       "    }\n",
       "</style>\n",
       "<table border=\"1\" class=\"dataframe\">\n",
       "  <thead>\n",
       "    <tr style=\"text-align: right;\">\n",
       "      <th></th>\n",
       "      <th>Open</th>\n",
       "    </tr>\n",
       "    <tr>\n",
       "      <th>Date</th>\n",
       "      <th></th>\n",
       "    </tr>\n",
       "  </thead>\n",
       "  <tbody>\n",
       "    <tr>\n",
       "      <th>2020-10-05</th>\n",
       "      <td>506.799988</td>\n",
       "    </tr>\n",
       "    <tr>\n",
       "      <th>2020-10-06</th>\n",
       "      <td>518.719971</td>\n",
       "    </tr>\n",
       "    <tr>\n",
       "      <th>2020-10-07</th>\n",
       "      <td>518.000000</td>\n",
       "    </tr>\n",
       "    <tr>\n",
       "      <th>2020-10-08</th>\n",
       "      <td>533.479980</td>\n",
       "    </tr>\n",
       "    <tr>\n",
       "      <th>2020-10-09</th>\n",
       "      <td>537.830017</td>\n",
       "    </tr>\n",
       "    <tr>\n",
       "      <th>...</th>\n",
       "      <td>...</td>\n",
       "    </tr>\n",
       "    <tr>\n",
       "      <th>2021-09-27</th>\n",
       "      <td>587.950012</td>\n",
       "    </tr>\n",
       "    <tr>\n",
       "      <th>2021-09-28</th>\n",
       "      <td>589.000000</td>\n",
       "    </tr>\n",
       "    <tr>\n",
       "      <th>2021-09-29</th>\n",
       "      <td>589.010010</td>\n",
       "    </tr>\n",
       "    <tr>\n",
       "      <th>2021-09-30</th>\n",
       "      <td>608.049988</td>\n",
       "    </tr>\n",
       "    <tr>\n",
       "      <th>2021-10-01</th>\n",
       "      <td>604.239990</td>\n",
       "    </tr>\n",
       "  </tbody>\n",
       "</table>\n",
       "<p>251 rows × 1 columns</p>\n",
       "</div>"
      ],
      "text/plain": [
       "                  Open\n",
       "Date                  \n",
       "2020-10-05  506.799988\n",
       "2020-10-06  518.719971\n",
       "2020-10-07  518.000000\n",
       "2020-10-08  533.479980\n",
       "2020-10-09  537.830017\n",
       "...                ...\n",
       "2021-09-27  587.950012\n",
       "2021-09-28  589.000000\n",
       "2021-09-29  589.010010\n",
       "2021-09-30  608.049988\n",
       "2021-10-01  604.239990\n",
       "\n",
       "[251 rows x 1 columns]"
      ]
     },
     "execution_count": 6,
     "metadata": {},
     "output_type": "execute_result"
    }
   ],
   "source": [
    " # imprime la columna Open\n",
    "NFLX[[\"Open\"]] "
   ]
  },
  {
   "cell_type": "code",
   "execution_count": 9,
   "metadata": {
    "collapsed": true,
    "jupyter": {
     "outputs_hidden": true
    },
    "tags": []
   },
   "outputs": [
    {
     "data": {
      "text/html": [
       "<div>\n",
       "<style scoped>\n",
       "    .dataframe tbody tr th:only-of-type {\n",
       "        vertical-align: middle;\n",
       "    }\n",
       "\n",
       "    .dataframe tbody tr th {\n",
       "        vertical-align: top;\n",
       "    }\n",
       "\n",
       "    .dataframe thead th {\n",
       "        text-align: right;\n",
       "    }\n",
       "</style>\n",
       "<table border=\"1\" class=\"dataframe\">\n",
       "  <thead>\n",
       "    <tr style=\"text-align: right;\">\n",
       "      <th></th>\n",
       "      <th>Open</th>\n",
       "    </tr>\n",
       "    <tr>\n",
       "      <th>Date</th>\n",
       "      <th></th>\n",
       "    </tr>\n",
       "  </thead>\n",
       "  <tbody>\n",
       "    <tr>\n",
       "      <th>2020-10-05</th>\n",
       "      <td>506.799988</td>\n",
       "    </tr>\n",
       "    <tr>\n",
       "      <th>2020-10-06</th>\n",
       "      <td>518.719971</td>\n",
       "    </tr>\n",
       "    <tr>\n",
       "      <th>2020-10-07</th>\n",
       "      <td>518.000000</td>\n",
       "    </tr>\n",
       "    <tr>\n",
       "      <th>2020-10-08</th>\n",
       "      <td>533.479980</td>\n",
       "    </tr>\n",
       "    <tr>\n",
       "      <th>2020-10-09</th>\n",
       "      <td>537.830017</td>\n",
       "    </tr>\n",
       "    <tr>\n",
       "      <th>...</th>\n",
       "      <td>...</td>\n",
       "    </tr>\n",
       "    <tr>\n",
       "      <th>2021-09-27</th>\n",
       "      <td>587.950012</td>\n",
       "    </tr>\n",
       "    <tr>\n",
       "      <th>2021-09-28</th>\n",
       "      <td>589.000000</td>\n",
       "    </tr>\n",
       "    <tr>\n",
       "      <th>2021-09-29</th>\n",
       "      <td>589.010010</td>\n",
       "    </tr>\n",
       "    <tr>\n",
       "      <th>2021-09-30</th>\n",
       "      <td>608.049988</td>\n",
       "    </tr>\n",
       "    <tr>\n",
       "      <th>2021-10-01</th>\n",
       "      <td>604.239990</td>\n",
       "    </tr>\n",
       "  </tbody>\n",
       "</table>\n",
       "<p>251 rows × 1 columns</p>\n",
       "</div>"
      ],
      "text/plain": [
       "                  Open\n",
       "Date                  \n",
       "2020-10-05  506.799988\n",
       "2020-10-06  518.719971\n",
       "2020-10-07  518.000000\n",
       "2020-10-08  533.479980\n",
       "2020-10-09  537.830017\n",
       "...                ...\n",
       "2021-09-27  587.950012\n",
       "2021-09-28  589.000000\n",
       "2021-09-29  589.010010\n",
       "2021-09-30  608.049988\n",
       "2021-10-01  604.239990\n",
       "\n",
       "[251 rows x 1 columns]"
      ]
     },
     "execution_count": 9,
     "metadata": {},
     "output_type": "execute_result"
    }
   ],
   "source": [
    " # Selecciona la columna Open en el DataFrame\n",
    "NFLX[[\"Open\"]] "
   ]
  },
  {
   "cell_type": "code",
   "execution_count": 7,
   "metadata": {
    "tags": []
   },
   "outputs": [
    {
     "data": {
      "text/html": [
       "<div>\n",
       "<style scoped>\n",
       "    .dataframe tbody tr th:only-of-type {\n",
       "        vertical-align: middle;\n",
       "    }\n",
       "\n",
       "    .dataframe tbody tr th {\n",
       "        vertical-align: top;\n",
       "    }\n",
       "\n",
       "    .dataframe thead th {\n",
       "        text-align: right;\n",
       "    }\n",
       "</style>\n",
       "<table border=\"1\" class=\"dataframe\">\n",
       "  <thead>\n",
       "    <tr style=\"text-align: right;\">\n",
       "      <th></th>\n",
       "      <th>Open</th>\n",
       "      <th>Close</th>\n",
       "    </tr>\n",
       "    <tr>\n",
       "      <th>Date</th>\n",
       "      <th></th>\n",
       "      <th></th>\n",
       "    </tr>\n",
       "  </thead>\n",
       "  <tbody>\n",
       "    <tr>\n",
       "      <th>2020-10-05</th>\n",
       "      <td>506.799988</td>\n",
       "      <td>520.650024</td>\n",
       "    </tr>\n",
       "    <tr>\n",
       "      <th>2020-10-06</th>\n",
       "      <td>518.719971</td>\n",
       "      <td>505.869995</td>\n",
       "    </tr>\n",
       "    <tr>\n",
       "      <th>2020-10-07</th>\n",
       "      <td>518.000000</td>\n",
       "      <td>534.659973</td>\n",
       "    </tr>\n",
       "    <tr>\n",
       "      <th>2020-10-08</th>\n",
       "      <td>533.479980</td>\n",
       "      <td>531.789978</td>\n",
       "    </tr>\n",
       "    <tr>\n",
       "      <th>2020-10-09</th>\n",
       "      <td>537.830017</td>\n",
       "      <td>539.440002</td>\n",
       "    </tr>\n",
       "    <tr>\n",
       "      <th>...</th>\n",
       "      <td>...</td>\n",
       "      <td>...</td>\n",
       "    </tr>\n",
       "    <tr>\n",
       "      <th>2021-09-27</th>\n",
       "      <td>587.950012</td>\n",
       "      <td>592.640015</td>\n",
       "    </tr>\n",
       "    <tr>\n",
       "      <th>2021-09-28</th>\n",
       "      <td>589.000000</td>\n",
       "      <td>583.849976</td>\n",
       "    </tr>\n",
       "    <tr>\n",
       "      <th>2021-09-29</th>\n",
       "      <td>589.010010</td>\n",
       "      <td>599.059998</td>\n",
       "    </tr>\n",
       "    <tr>\n",
       "      <th>2021-09-30</th>\n",
       "      <td>608.049988</td>\n",
       "      <td>610.340027</td>\n",
       "    </tr>\n",
       "    <tr>\n",
       "      <th>2021-10-01</th>\n",
       "      <td>604.239990</td>\n",
       "      <td>613.150024</td>\n",
       "    </tr>\n",
       "  </tbody>\n",
       "</table>\n",
       "<p>251 rows × 2 columns</p>\n",
       "</div>"
      ],
      "text/plain": [
       "                  Open       Close\n",
       "Date                              \n",
       "2020-10-05  506.799988  520.650024\n",
       "2020-10-06  518.719971  505.869995\n",
       "2020-10-07  518.000000  534.659973\n",
       "2020-10-08  533.479980  531.789978\n",
       "2020-10-09  537.830017  539.440002\n",
       "...                ...         ...\n",
       "2021-09-27  587.950012  592.640015\n",
       "2021-09-28  589.000000  583.849976\n",
       "2021-09-29  589.010010  599.059998\n",
       "2021-09-30  608.049988  610.340027\n",
       "2021-10-01  604.239990  613.150024\n",
       "\n",
       "[251 rows x 2 columns]"
      ]
     },
     "execution_count": 7,
     "metadata": {},
     "output_type": "execute_result"
    }
   ],
   "source": [
    " # Selecciona las columnas Open y Close en el DataFrame\n",
    "NFLX[[\"Open\",\"Close\"]]  # imprime las columnas seleccionadas"
   ]
  },
  {
   "cell_type": "code",
   "execution_count": 11,
   "metadata": {
    "tags": []
   },
   "outputs": [
    {
     "data": {
      "text/html": [
       "<div>\n",
       "<style scoped>\n",
       "    .dataframe tbody tr th:only-of-type {\n",
       "        vertical-align: middle;\n",
       "    }\n",
       "\n",
       "    .dataframe tbody tr th {\n",
       "        vertical-align: top;\n",
       "    }\n",
       "\n",
       "    .dataframe thead th {\n",
       "        text-align: right;\n",
       "    }\n",
       "</style>\n",
       "<table border=\"1\" class=\"dataframe\">\n",
       "  <thead>\n",
       "    <tr style=\"text-align: right;\">\n",
       "      <th></th>\n",
       "      <th>Open</th>\n",
       "      <th>Close</th>\n",
       "      <th>Adj Close</th>\n",
       "    </tr>\n",
       "    <tr>\n",
       "      <th>Date</th>\n",
       "      <th></th>\n",
       "      <th></th>\n",
       "      <th></th>\n",
       "    </tr>\n",
       "  </thead>\n",
       "  <tbody>\n",
       "    <tr>\n",
       "      <th>2020-10-05</th>\n",
       "      <td>506.799988</td>\n",
       "      <td>520.650024</td>\n",
       "      <td>520.650024</td>\n",
       "    </tr>\n",
       "    <tr>\n",
       "      <th>2020-10-06</th>\n",
       "      <td>518.719971</td>\n",
       "      <td>505.869995</td>\n",
       "      <td>505.869995</td>\n",
       "    </tr>\n",
       "    <tr>\n",
       "      <th>2020-10-07</th>\n",
       "      <td>518.000000</td>\n",
       "      <td>534.659973</td>\n",
       "      <td>534.659973</td>\n",
       "    </tr>\n",
       "    <tr>\n",
       "      <th>2020-10-08</th>\n",
       "      <td>533.479980</td>\n",
       "      <td>531.789978</td>\n",
       "      <td>531.789978</td>\n",
       "    </tr>\n",
       "    <tr>\n",
       "      <th>2020-10-09</th>\n",
       "      <td>537.830017</td>\n",
       "      <td>539.440002</td>\n",
       "      <td>539.440002</td>\n",
       "    </tr>\n",
       "    <tr>\n",
       "      <th>...</th>\n",
       "      <td>...</td>\n",
       "      <td>...</td>\n",
       "      <td>...</td>\n",
       "    </tr>\n",
       "    <tr>\n",
       "      <th>2021-09-27</th>\n",
       "      <td>587.950012</td>\n",
       "      <td>592.640015</td>\n",
       "      <td>592.640015</td>\n",
       "    </tr>\n",
       "    <tr>\n",
       "      <th>2021-09-28</th>\n",
       "      <td>589.000000</td>\n",
       "      <td>583.849976</td>\n",
       "      <td>583.849976</td>\n",
       "    </tr>\n",
       "    <tr>\n",
       "      <th>2021-09-29</th>\n",
       "      <td>589.010010</td>\n",
       "      <td>599.059998</td>\n",
       "      <td>599.059998</td>\n",
       "    </tr>\n",
       "    <tr>\n",
       "      <th>2021-09-30</th>\n",
       "      <td>608.049988</td>\n",
       "      <td>610.340027</td>\n",
       "      <td>610.340027</td>\n",
       "    </tr>\n",
       "    <tr>\n",
       "      <th>2021-10-01</th>\n",
       "      <td>604.239990</td>\n",
       "      <td>613.150024</td>\n",
       "      <td>613.150024</td>\n",
       "    </tr>\n",
       "  </tbody>\n",
       "</table>\n",
       "<p>251 rows × 3 columns</p>\n",
       "</div>"
      ],
      "text/plain": [
       "                  Open       Close   Adj Close\n",
       "Date                                          \n",
       "2020-10-05  506.799988  520.650024  520.650024\n",
       "2020-10-06  518.719971  505.869995  505.869995\n",
       "2020-10-07  518.000000  534.659973  534.659973\n",
       "2020-10-08  533.479980  531.789978  531.789978\n",
       "2020-10-09  537.830017  539.440002  539.440002\n",
       "...                ...         ...         ...\n",
       "2021-09-27  587.950012  592.640015  592.640015\n",
       "2021-09-28  589.000000  583.849976  583.849976\n",
       "2021-09-29  589.010010  599.059998  599.059998\n",
       "2021-09-30  608.049988  610.340027  610.340027\n",
       "2021-10-01  604.239990  613.150024  613.150024\n",
       "\n",
       "[251 rows x 3 columns]"
      ]
     },
     "execution_count": 11,
     "metadata": {},
     "output_type": "execute_result"
    }
   ],
   "source": [
    " # Selecciona las columnas Open,Close y Adj Close\n",
    "col=[\"Open\",\"Close\",\"Adj Close\"]\n",
    "NFLX[col]"
   ]
  },
  {
   "cell_type": "markdown",
   "metadata": {
    "jupyter": {
     "source_hidden": true
    },
    "tags": []
   },
   "source": [
    "## Trabajemos con las filas\n",
    "\n",
    "se utilizan los metodos ``.iloc`` y ``.loc`` :\n",
    "\n",
    "+ ``.iloc`` selecciona filas basándose en un índice entero . Entonces, si desea seleccionar la quinta fila en un DataFrame, usaría df.iloc [4] ya que la primera fila está en el índice 0, la segunda fila está en el índice 1, y así sucesivamente.\n",
    "+ ``.loc`` selecciona filas basándose en un índice etiquetado . Entonces, si desea seleccionar la fila con una etiqueta de índice de 5, debe usar directamente df.loc [5]."
   ]
  },
  {
   "cell_type": "code",
   "execution_count": 12,
   "metadata": {
    "tags": []
   },
   "outputs": [
    {
     "data": {
      "text/plain": [
       "Open         5.334800e+02\n",
       "High         5.350000e+02\n",
       "Low          5.241500e+02\n",
       "Close        5.317900e+02\n",
       "Adj Close    5.317900e+02\n",
       "Volume       5.386500e+06\n",
       "Name: 2020-10-08, dtype: float64"
      ]
     },
     "execution_count": 12,
     "metadata": {},
     "output_type": "execute_result"
    }
   ],
   "source": [
    "# selecciona una fila\n",
    "NFLX.iloc[3]"
   ]
  },
  {
   "cell_type": "code",
   "execution_count": 14,
   "metadata": {},
   "outputs": [
    {
     "data": {
      "text/plain": [
       "Open         5.334800e+02\n",
       "High         5.350000e+02\n",
       "Low          5.241500e+02\n",
       "Close        5.317900e+02\n",
       "Adj Close    5.317900e+02\n",
       "Volume       5.386500e+06\n",
       "Name: 2020-10-08, dtype: float64"
      ]
     },
     "execution_count": 14,
     "metadata": {},
     "output_type": "execute_result"
    }
   ],
   "source": [
    "NFLX.loc[\"2020-10-08\"]"
   ]
  },
  {
   "cell_type": "code",
   "execution_count": 8,
   "metadata": {
    "tags": []
   },
   "outputs": [
    {
     "data": {
      "text/html": [
       "<div>\n",
       "<style scoped>\n",
       "    .dataframe tbody tr th:only-of-type {\n",
       "        vertical-align: middle;\n",
       "    }\n",
       "\n",
       "    .dataframe tbody tr th {\n",
       "        vertical-align: top;\n",
       "    }\n",
       "\n",
       "    .dataframe thead th {\n",
       "        text-align: right;\n",
       "    }\n",
       "</style>\n",
       "<table border=\"1\" class=\"dataframe\">\n",
       "  <thead>\n",
       "    <tr style=\"text-align: right;\">\n",
       "      <th></th>\n",
       "      <th>Open</th>\n",
       "      <th>High</th>\n",
       "      <th>Low</th>\n",
       "      <th>Close</th>\n",
       "      <th>Adj Close</th>\n",
       "      <th>Volume</th>\n",
       "    </tr>\n",
       "    <tr>\n",
       "      <th>Date</th>\n",
       "      <th></th>\n",
       "      <th></th>\n",
       "      <th></th>\n",
       "      <th></th>\n",
       "      <th></th>\n",
       "      <th></th>\n",
       "    </tr>\n",
       "  </thead>\n",
       "  <tbody>\n",
       "    <tr>\n",
       "      <th>2020-10-08</th>\n",
       "      <td>533.479980</td>\n",
       "      <td>535.000000</td>\n",
       "      <td>524.150024</td>\n",
       "      <td>531.789978</td>\n",
       "      <td>531.789978</td>\n",
       "      <td>5386500</td>\n",
       "    </tr>\n",
       "    <tr>\n",
       "      <th>2020-10-09</th>\n",
       "      <td>537.830017</td>\n",
       "      <td>544.280029</td>\n",
       "      <td>535.000000</td>\n",
       "      <td>539.440002</td>\n",
       "      <td>539.440002</td>\n",
       "      <td>4781300</td>\n",
       "    </tr>\n",
       "    <tr>\n",
       "      <th>2020-10-12</th>\n",
       "      <td>548.809998</td>\n",
       "      <td>551.809998</td>\n",
       "      <td>538.239990</td>\n",
       "      <td>539.809998</td>\n",
       "      <td>539.809998</td>\n",
       "      <td>5391100</td>\n",
       "    </tr>\n",
       "    <tr>\n",
       "      <th>2020-10-13</th>\n",
       "      <td>540.559998</td>\n",
       "      <td>557.650024</td>\n",
       "      <td>537.200012</td>\n",
       "      <td>554.090027</td>\n",
       "      <td>554.090027</td>\n",
       "      <td>5602500</td>\n",
       "    </tr>\n",
       "    <tr>\n",
       "      <th>2020-10-14</th>\n",
       "      <td>562.609985</td>\n",
       "      <td>572.489990</td>\n",
       "      <td>541.000000</td>\n",
       "      <td>541.450012</td>\n",
       "      <td>541.450012</td>\n",
       "      <td>9499000</td>\n",
       "    </tr>\n",
       "    <tr>\n",
       "      <th>2020-10-15</th>\n",
       "      <td>545.520020</td>\n",
       "      <td>551.219971</td>\n",
       "      <td>535.099976</td>\n",
       "      <td>541.940002</td>\n",
       "      <td>541.940002</td>\n",
       "      <td>5113100</td>\n",
       "    </tr>\n",
       "    <tr>\n",
       "      <th>2020-10-16</th>\n",
       "      <td>549.500000</td>\n",
       "      <td>554.330017</td>\n",
       "      <td>530.030029</td>\n",
       "      <td>530.789978</td>\n",
       "      <td>530.789978</td>\n",
       "      <td>6347400</td>\n",
       "    </tr>\n",
       "  </tbody>\n",
       "</table>\n",
       "</div>"
      ],
      "text/plain": [
       "                  Open        High         Low       Close   Adj Close  \\\n",
       "Date                                                                     \n",
       "2020-10-08  533.479980  535.000000  524.150024  531.789978  531.789978   \n",
       "2020-10-09  537.830017  544.280029  535.000000  539.440002  539.440002   \n",
       "2020-10-12  548.809998  551.809998  538.239990  539.809998  539.809998   \n",
       "2020-10-13  540.559998  557.650024  537.200012  554.090027  554.090027   \n",
       "2020-10-14  562.609985  572.489990  541.000000  541.450012  541.450012   \n",
       "2020-10-15  545.520020  551.219971  535.099976  541.940002  541.940002   \n",
       "2020-10-16  549.500000  554.330017  530.030029  530.789978  530.789978   \n",
       "\n",
       "             Volume  \n",
       "Date                 \n",
       "2020-10-08  5386500  \n",
       "2020-10-09  4781300  \n",
       "2020-10-12  5391100  \n",
       "2020-10-13  5602500  \n",
       "2020-10-14  9499000  \n",
       "2020-10-15  5113100  \n",
       "2020-10-16  6347400  "
      ]
     },
     "execution_count": 8,
     "metadata": {},
     "output_type": "execute_result"
    }
   ],
   "source": [
    "# selecciona un rango de filas\n",
    "NFLX.iloc[3:10]"
   ]
  },
  {
   "cell_type": "code",
   "execution_count": 9,
   "metadata": {
    "tags": []
   },
   "outputs": [
    {
     "data": {
      "text/html": [
       "<div>\n",
       "<style scoped>\n",
       "    .dataframe tbody tr th:only-of-type {\n",
       "        vertical-align: middle;\n",
       "    }\n",
       "\n",
       "    .dataframe tbody tr th {\n",
       "        vertical-align: top;\n",
       "    }\n",
       "\n",
       "    .dataframe thead th {\n",
       "        text-align: right;\n",
       "    }\n",
       "</style>\n",
       "<table border=\"1\" class=\"dataframe\">\n",
       "  <thead>\n",
       "    <tr style=\"text-align: right;\">\n",
       "      <th></th>\n",
       "      <th>Open</th>\n",
       "      <th>High</th>\n",
       "      <th>Low</th>\n",
       "      <th>Close</th>\n",
       "      <th>Adj Close</th>\n",
       "      <th>Volume</th>\n",
       "    </tr>\n",
       "    <tr>\n",
       "      <th>Date</th>\n",
       "      <th></th>\n",
       "      <th></th>\n",
       "      <th></th>\n",
       "      <th></th>\n",
       "      <th></th>\n",
       "      <th></th>\n",
       "    </tr>\n",
       "  </thead>\n",
       "  <tbody>\n",
       "    <tr>\n",
       "      <th>2020-10-08</th>\n",
       "      <td>533.479980</td>\n",
       "      <td>535.000000</td>\n",
       "      <td>524.150024</td>\n",
       "      <td>531.789978</td>\n",
       "      <td>531.789978</td>\n",
       "      <td>5386500</td>\n",
       "    </tr>\n",
       "    <tr>\n",
       "      <th>2020-10-09</th>\n",
       "      <td>537.830017</td>\n",
       "      <td>544.280029</td>\n",
       "      <td>535.000000</td>\n",
       "      <td>539.440002</td>\n",
       "      <td>539.440002</td>\n",
       "      <td>4781300</td>\n",
       "    </tr>\n",
       "    <tr>\n",
       "      <th>2020-10-12</th>\n",
       "      <td>548.809998</td>\n",
       "      <td>551.809998</td>\n",
       "      <td>538.239990</td>\n",
       "      <td>539.809998</td>\n",
       "      <td>539.809998</td>\n",
       "      <td>5391100</td>\n",
       "    </tr>\n",
       "    <tr>\n",
       "      <th>2020-10-13</th>\n",
       "      <td>540.559998</td>\n",
       "      <td>557.650024</td>\n",
       "      <td>537.200012</td>\n",
       "      <td>554.090027</td>\n",
       "      <td>554.090027</td>\n",
       "      <td>5602500</td>\n",
       "    </tr>\n",
       "    <tr>\n",
       "      <th>2020-10-14</th>\n",
       "      <td>562.609985</td>\n",
       "      <td>572.489990</td>\n",
       "      <td>541.000000</td>\n",
       "      <td>541.450012</td>\n",
       "      <td>541.450012</td>\n",
       "      <td>9499000</td>\n",
       "    </tr>\n",
       "    <tr>\n",
       "      <th>2020-10-15</th>\n",
       "      <td>545.520020</td>\n",
       "      <td>551.219971</td>\n",
       "      <td>535.099976</td>\n",
       "      <td>541.940002</td>\n",
       "      <td>541.940002</td>\n",
       "      <td>5113100</td>\n",
       "    </tr>\n",
       "    <tr>\n",
       "      <th>2020-10-16</th>\n",
       "      <td>549.500000</td>\n",
       "      <td>554.330017</td>\n",
       "      <td>530.030029</td>\n",
       "      <td>530.789978</td>\n",
       "      <td>530.789978</td>\n",
       "      <td>6347400</td>\n",
       "    </tr>\n",
       "  </tbody>\n",
       "</table>\n",
       "</div>"
      ],
      "text/plain": [
       "                  Open        High         Low       Close   Adj Close  \\\n",
       "Date                                                                     \n",
       "2020-10-08  533.479980  535.000000  524.150024  531.789978  531.789978   \n",
       "2020-10-09  537.830017  544.280029  535.000000  539.440002  539.440002   \n",
       "2020-10-12  548.809998  551.809998  538.239990  539.809998  539.809998   \n",
       "2020-10-13  540.559998  557.650024  537.200012  554.090027  554.090027   \n",
       "2020-10-14  562.609985  572.489990  541.000000  541.450012  541.450012   \n",
       "2020-10-15  545.520020  551.219971  535.099976  541.940002  541.940002   \n",
       "2020-10-16  549.500000  554.330017  530.030029  530.789978  530.789978   \n",
       "\n",
       "             Volume  \n",
       "Date                 \n",
       "2020-10-08  5386500  \n",
       "2020-10-09  4781300  \n",
       "2020-10-12  5391100  \n",
       "2020-10-13  5602500  \n",
       "2020-10-14  9499000  \n",
       "2020-10-15  5113100  \n",
       "2020-10-16  6347400  "
      ]
     },
     "execution_count": 9,
     "metadata": {},
     "output_type": "execute_result"
    }
   ],
   "source": [
    "# selecciona un rango de filas por localización del index\n",
    "\n",
    "NFLX.loc['2020-10-08':'2020-10-16']"
   ]
  },
  {
   "cell_type": "code",
   "execution_count": 10,
   "metadata": {},
   "outputs": [
    {
     "data": {
      "text/plain": [
       "(True, False)"
      ]
     },
     "execution_count": 10,
     "metadata": {},
     "output_type": "execute_result"
    }
   ],
   "source": [
    "#buscar una fila por el indice(Fecha)\n",
    "'2020-10-08'in NFLX.index,'2024-10-08'in NFLX.index"
   ]
  },
  {
   "cell_type": "code",
   "execution_count": 17,
   "metadata": {},
   "outputs": [
    {
     "data": {
      "text/plain": [
       "(608.049988, 470.950012)"
      ]
     },
     "execution_count": 17,
     "metadata": {},
     "output_type": "execute_result"
    }
   ],
   "source": [
    "#valor máximo y mínimo de una variable\n",
    "max(NFLX[\"Open\"]),min(NFLX[\"Open\"])"
   ]
  },
  {
   "cell_type": "code",
   "execution_count": 18,
   "metadata": {},
   "outputs": [
    {
     "data": {
      "text/plain": [
       "(608.049988, 470.950012)"
      ]
     },
     "execution_count": 18,
     "metadata": {},
     "output_type": "execute_result"
    }
   ],
   "source": [
    "NFLX[\"Open\"].max(), NFLX[\"Open\"].min()"
   ]
  },
  {
   "cell_type": "markdown",
   "metadata": {},
   "source": [
    "## Estadística Descriptiva una variable"
   ]
  },
  {
   "cell_type": "code",
   "execution_count": 11,
   "metadata": {},
   "outputs": [
    {
     "data": {
      "text/plain": [
       "525.0599591394423"
      ]
     },
     "execution_count": 11,
     "metadata": {},
     "output_type": "execute_result"
    }
   ],
   "source": [
    "NFLX[\"Open\"].mean()  #media"
   ]
  },
  {
   "cell_type": "code",
   "execution_count": 12,
   "metadata": {},
   "outputs": [
    {
     "data": {
      "text/plain": [
       "518.5"
      ]
     },
     "execution_count": 12,
     "metadata": {},
     "output_type": "execute_result"
    }
   ],
   "source": [
    "NFLX[\"Open\"].median()  #mediana"
   ]
  },
  {
   "cell_type": "code",
   "execution_count": 13,
   "metadata": {},
   "outputs": [
    {
     "data": {
      "text/plain": [
       "0    495.0\n",
       "1    500.0\n",
       "2    520.0\n",
       "Name: Open, dtype: float64"
      ]
     },
     "execution_count": 13,
     "metadata": {},
     "output_type": "execute_result"
    }
   ],
   "source": [
    "NFLX[\"Open\"].mode()   #moda"
   ]
  },
  {
   "cell_type": "code",
   "execution_count": 14,
   "metadata": {},
   "outputs": [
    {
     "data": {
      "text/plain": [
       "False"
      ]
     },
     "execution_count": 14,
     "metadata": {},
     "output_type": "execute_result"
    }
   ],
   "source": [
    "NFLX[\"Open\"].median()==NFLX[\"Open\"].mean()  # la media es igual a la mediana?"
   ]
  },
  {
   "cell_type": "markdown",
   "metadata": {},
   "source": [
    "## Reportar los datos"
   ]
  },
  {
   "cell_type": "markdown",
   "metadata": {},
   "source": [
    "### a. como un resumen"
   ]
  },
  {
   "cell_type": "code",
   "execution_count": 15,
   "metadata": {},
   "outputs": [
    {
     "data": {
      "text/html": [
       "<div>\n",
       "<style scoped>\n",
       "    .dataframe tbody tr th:only-of-type {\n",
       "        vertical-align: middle;\n",
       "    }\n",
       "\n",
       "    .dataframe tbody tr th {\n",
       "        vertical-align: top;\n",
       "    }\n",
       "\n",
       "    .dataframe thead th {\n",
       "        text-align: right;\n",
       "    }\n",
       "</style>\n",
       "<table border=\"1\" class=\"dataframe\">\n",
       "  <thead>\n",
       "    <tr style=\"text-align: right;\">\n",
       "      <th></th>\n",
       "      <th>Open</th>\n",
       "      <th>High</th>\n",
       "      <th>Low</th>\n",
       "      <th>Close</th>\n",
       "      <th>Adj Close</th>\n",
       "      <th>Volume</th>\n",
       "    </tr>\n",
       "  </thead>\n",
       "  <tbody>\n",
       "    <tr>\n",
       "      <th>min</th>\n",
       "      <td>470.95</td>\n",
       "      <td>484.05</td>\n",
       "      <td>463.41</td>\n",
       "      <td>470.50</td>\n",
       "      <td>470.50</td>\n",
       "      <td>1144000.00</td>\n",
       "    </tr>\n",
       "    <tr>\n",
       "      <th>max</th>\n",
       "      <td>608.05</td>\n",
       "      <td>619.00</td>\n",
       "      <td>608.05</td>\n",
       "      <td>613.15</td>\n",
       "      <td>613.15</td>\n",
       "      <td>32637500.00</td>\n",
       "    </tr>\n",
       "    <tr>\n",
       "      <th>mean</th>\n",
       "      <td>525.06</td>\n",
       "      <td>531.76</td>\n",
       "      <td>518.48</td>\n",
       "      <td>525.14</td>\n",
       "      <td>525.14</td>\n",
       "      <td>4290568.13</td>\n",
       "    </tr>\n",
       "    <tr>\n",
       "      <th>median</th>\n",
       "      <td>518.50</td>\n",
       "      <td>524.70</td>\n",
       "      <td>513.56</td>\n",
       "      <td>519.78</td>\n",
       "      <td>519.78</td>\n",
       "      <td>3682400.00</td>\n",
       "    </tr>\n",
       "  </tbody>\n",
       "</table>\n",
       "</div>"
      ],
      "text/plain": [
       "          Open    High     Low   Close  Adj Close       Volume\n",
       "min     470.95  484.05  463.41  470.50     470.50   1144000.00\n",
       "max     608.05  619.00  608.05  613.15     613.15  32637500.00\n",
       "mean    525.06  531.76  518.48  525.14     525.14   4290568.13\n",
       "median  518.50  524.70  513.56  519.78     519.78   3682400.00"
      ]
     },
     "execution_count": 15,
     "metadata": {},
     "output_type": "execute_result"
    }
   ],
   "source": [
    "NFLX.agg(['min', 'max', 'mean','median']).round(decimals=2)   # resumen"
   ]
  },
  {
   "cell_type": "code",
   "execution_count": 16,
   "metadata": {},
   "outputs": [
    {
     "data": {
      "text/plain": [
       "137.09997599999997"
      ]
     },
     "execution_count": 16,
     "metadata": {},
     "output_type": "execute_result"
    }
   ],
   "source": [
    "rango=NFLX[\"Open\"].max()-NFLX[\"Open\"].min()\n",
    "rango"
   ]
  },
  {
   "cell_type": "code",
   "execution_count": 17,
   "metadata": {
    "tags": []
   },
   "outputs": [
    {
     "name": "stdout",
     "output_type": "stream",
     "text": [
      "La Varianza de Open NFLX es: 920.7001072839976\n"
     ]
    }
   ],
   "source": [
    "V=NFLX[\"Open\"].var()\n",
    "print('La Varianza de Open NFLX es:',V)"
   ]
  },
  {
   "cell_type": "code",
   "execution_count": 18,
   "metadata": {},
   "outputs": [
    {
     "data": {
      "text/plain": [
       "30.34304050822853"
      ]
     },
     "execution_count": 18,
     "metadata": {},
     "output_type": "execute_result"
    }
   ],
   "source": [
    "std=NFLX[\"Open\"].std()\n",
    "std"
   ]
  },
  {
   "cell_type": "code",
   "execution_count": 19,
   "metadata": {},
   "outputs": [
    {
     "data": {
      "text/html": [
       "<div>\n",
       "<style scoped>\n",
       "    .dataframe tbody tr th:only-of-type {\n",
       "        vertical-align: middle;\n",
       "    }\n",
       "\n",
       "    .dataframe tbody tr th {\n",
       "        vertical-align: top;\n",
       "    }\n",
       "\n",
       "    .dataframe thead th {\n",
       "        text-align: right;\n",
       "    }\n",
       "</style>\n",
       "<table border=\"1\" class=\"dataframe\">\n",
       "  <thead>\n",
       "    <tr style=\"text-align: right;\">\n",
       "      <th></th>\n",
       "      <th>Open</th>\n",
       "      <th>High</th>\n",
       "      <th>Low</th>\n",
       "      <th>Close</th>\n",
       "      <th>Adj Close</th>\n",
       "      <th>Volume</th>\n",
       "    </tr>\n",
       "  </thead>\n",
       "  <tbody>\n",
       "    <tr>\n",
       "      <th>min</th>\n",
       "      <td>470.95</td>\n",
       "      <td>484.05</td>\n",
       "      <td>463.41</td>\n",
       "      <td>470.50</td>\n",
       "      <td>470.50</td>\n",
       "      <td>1.144000e+06</td>\n",
       "    </tr>\n",
       "    <tr>\n",
       "      <th>max</th>\n",
       "      <td>608.05</td>\n",
       "      <td>619.00</td>\n",
       "      <td>608.05</td>\n",
       "      <td>613.15</td>\n",
       "      <td>613.15</td>\n",
       "      <td>3.263750e+07</td>\n",
       "    </tr>\n",
       "    <tr>\n",
       "      <th>mean</th>\n",
       "      <td>525.06</td>\n",
       "      <td>531.76</td>\n",
       "      <td>518.48</td>\n",
       "      <td>525.14</td>\n",
       "      <td>525.14</td>\n",
       "      <td>4.290568e+06</td>\n",
       "    </tr>\n",
       "    <tr>\n",
       "      <th>median</th>\n",
       "      <td>518.50</td>\n",
       "      <td>524.70</td>\n",
       "      <td>513.56</td>\n",
       "      <td>519.78</td>\n",
       "      <td>519.78</td>\n",
       "      <td>3.682400e+06</td>\n",
       "    </tr>\n",
       "    <tr>\n",
       "      <th>var</th>\n",
       "      <td>920.70</td>\n",
       "      <td>966.58</td>\n",
       "      <td>904.91</td>\n",
       "      <td>949.24</td>\n",
       "      <td>949.24</td>\n",
       "      <td>9.006217e+12</td>\n",
       "    </tr>\n",
       "    <tr>\n",
       "      <th>std</th>\n",
       "      <td>30.34</td>\n",
       "      <td>31.09</td>\n",
       "      <td>30.08</td>\n",
       "      <td>30.81</td>\n",
       "      <td>30.81</td>\n",
       "      <td>3.001036e+06</td>\n",
       "    </tr>\n",
       "  </tbody>\n",
       "</table>\n",
       "</div>"
      ],
      "text/plain": [
       "          Open    High     Low   Close  Adj Close        Volume\n",
       "min     470.95  484.05  463.41  470.50     470.50  1.144000e+06\n",
       "max     608.05  619.00  608.05  613.15     613.15  3.263750e+07\n",
       "mean    525.06  531.76  518.48  525.14     525.14  4.290568e+06\n",
       "median  518.50  524.70  513.56  519.78     519.78  3.682400e+06\n",
       "var     920.70  966.58  904.91  949.24     949.24  9.006217e+12\n",
       "std      30.34   31.09   30.08   30.81      30.81  3.001036e+06"
      ]
     },
     "execution_count": 19,
     "metadata": {},
     "output_type": "execute_result"
    }
   ],
   "source": [
    "NFLX.agg(['min', 'max', 'mean','median','var', 'std']).round(decimals=2)"
   ]
  },
  {
   "cell_type": "code",
   "execution_count": 20,
   "metadata": {},
   "outputs": [
    {
     "data": {
      "text/html": [
       "<div>\n",
       "<style scoped>\n",
       "    .dataframe tbody tr th:only-of-type {\n",
       "        vertical-align: middle;\n",
       "    }\n",
       "\n",
       "    .dataframe tbody tr th {\n",
       "        vertical-align: top;\n",
       "    }\n",
       "\n",
       "    .dataframe thead th {\n",
       "        text-align: right;\n",
       "    }\n",
       "</style>\n",
       "<table border=\"1\" class=\"dataframe\">\n",
       "  <thead>\n",
       "    <tr style=\"text-align: right;\">\n",
       "      <th></th>\n",
       "      <th>Open</th>\n",
       "      <th>High</th>\n",
       "      <th>Low</th>\n",
       "      <th>Close</th>\n",
       "      <th>Adj Close</th>\n",
       "      <th>Volume</th>\n",
       "    </tr>\n",
       "  </thead>\n",
       "  <tbody>\n",
       "    <tr>\n",
       "      <th>count</th>\n",
       "      <td>251.000000</td>\n",
       "      <td>251.000000</td>\n",
       "      <td>251.000000</td>\n",
       "      <td>251.000000</td>\n",
       "      <td>251.000000</td>\n",
       "      <td>2.510000e+02</td>\n",
       "    </tr>\n",
       "    <tr>\n",
       "      <th>mean</th>\n",
       "      <td>525.059959</td>\n",
       "      <td>531.756014</td>\n",
       "      <td>518.475818</td>\n",
       "      <td>525.135617</td>\n",
       "      <td>525.135617</td>\n",
       "      <td>4.290568e+06</td>\n",
       "    </tr>\n",
       "    <tr>\n",
       "      <th>std</th>\n",
       "      <td>30.343041</td>\n",
       "      <td>31.089796</td>\n",
       "      <td>30.081744</td>\n",
       "      <td>30.809680</td>\n",
       "      <td>30.809680</td>\n",
       "      <td>3.001036e+06</td>\n",
       "    </tr>\n",
       "    <tr>\n",
       "      <th>min</th>\n",
       "      <td>470.950012</td>\n",
       "      <td>484.049988</td>\n",
       "      <td>463.410004</td>\n",
       "      <td>470.500000</td>\n",
       "      <td>470.500000</td>\n",
       "      <td>1.144000e+06</td>\n",
       "    </tr>\n",
       "    <tr>\n",
       "      <th>25%</th>\n",
       "      <td>502.175003</td>\n",
       "      <td>508.474991</td>\n",
       "      <td>495.930008</td>\n",
       "      <td>501.720001</td>\n",
       "      <td>501.720001</td>\n",
       "      <td>2.791800e+06</td>\n",
       "    </tr>\n",
       "    <tr>\n",
       "      <th>50%</th>\n",
       "      <td>518.500000</td>\n",
       "      <td>524.700012</td>\n",
       "      <td>513.559998</td>\n",
       "      <td>519.780029</td>\n",
       "      <td>519.780029</td>\n",
       "      <td>3.682400e+06</td>\n",
       "    </tr>\n",
       "    <tr>\n",
       "      <th>75%</th>\n",
       "      <td>545.545014</td>\n",
       "      <td>552.720001</td>\n",
       "      <td>538.234985</td>\n",
       "      <td>544.120025</td>\n",
       "      <td>544.120025</td>\n",
       "      <td>4.927350e+06</td>\n",
       "    </tr>\n",
       "    <tr>\n",
       "      <th>max</th>\n",
       "      <td>608.049988</td>\n",
       "      <td>619.000000</td>\n",
       "      <td>608.049988</td>\n",
       "      <td>613.150024</td>\n",
       "      <td>613.150024</td>\n",
       "      <td>3.263750e+07</td>\n",
       "    </tr>\n",
       "  </tbody>\n",
       "</table>\n",
       "</div>"
      ],
      "text/plain": [
       "             Open        High         Low       Close   Adj Close  \\\n",
       "count  251.000000  251.000000  251.000000  251.000000  251.000000   \n",
       "mean   525.059959  531.756014  518.475818  525.135617  525.135617   \n",
       "std     30.343041   31.089796   30.081744   30.809680   30.809680   \n",
       "min    470.950012  484.049988  463.410004  470.500000  470.500000   \n",
       "25%    502.175003  508.474991  495.930008  501.720001  501.720001   \n",
       "50%    518.500000  524.700012  513.559998  519.780029  519.780029   \n",
       "75%    545.545014  552.720001  538.234985  544.120025  544.120025   \n",
       "max    608.049988  619.000000  608.049988  613.150024  613.150024   \n",
       "\n",
       "             Volume  \n",
       "count  2.510000e+02  \n",
       "mean   4.290568e+06  \n",
       "std    3.001036e+06  \n",
       "min    1.144000e+06  \n",
       "25%    2.791800e+06  \n",
       "50%    3.682400e+06  \n",
       "75%    4.927350e+06  \n",
       "max    3.263750e+07  "
      ]
     },
     "execution_count": 20,
     "metadata": {},
     "output_type": "execute_result"
    }
   ],
   "source": [
    "NFLX.describe()"
   ]
  },
  {
   "cell_type": "markdown",
   "metadata": {},
   "source": [
    "### b. Como un dataframe"
   ]
  },
  {
   "cell_type": "markdown",
   "metadata": {},
   "source": [
    "#### La libreria numpy"
   ]
  },
  {
   "cell_type": "code",
   "execution_count": 21,
   "metadata": {},
   "outputs": [
    {
     "name": "stdout",
     "output_type": "stream",
     "text": [
      "Los cuantiles son:\n",
      " primero: 502.175003 \n",
      " segundo 518.5 \n",
      " y tercero: 545.5450135000001\n"
     ]
    }
   ],
   "source": [
    "import numpy as np\n",
    "C25=np.percentile(NFLX[\"Open\"],25)\n",
    "C50=np.percentile(NFLX[\"Open\"],50)\n",
    "C75=np.percentile(NFLX[\"Open\"],75)\n",
    "print('Los cuantiles son:\\n primero:',C25,'\\n segundo',C50,'\\n y tercero:',C75)"
   ]
  },
  {
   "cell_type": "code",
   "execution_count": 22,
   "metadata": {},
   "outputs": [
    {
     "data": {
      "text/plain": [
       "43.37001050000009"
      ]
     },
     "execution_count": 22,
     "metadata": {},
     "output_type": "execute_result"
    }
   ],
   "source": [
    "RI=C75-C25  #rango intercuartilico\n",
    "RI"
   ]
  },
  {
   "cell_type": "markdown",
   "metadata": {},
   "source": [
    "#### Hagamos un diccionario con los resultados de los cuantiles de Open, y un DataFrame"
   ]
  },
  {
   "cell_type": "code",
   "execution_count": 23,
   "metadata": {
    "tags": []
   },
   "outputs": [
    {
     "data": {
      "text/plain": [
       "{'C25': [502.175003], 'C50': [518.5], 'C75': [545.5450135000001]}"
      ]
     },
     "execution_count": 23,
     "metadata": {},
     "output_type": "execute_result"
    }
   ],
   "source": [
    "dic_Open= {\n",
    "        'C25': [np.percentile(NFLX[\"Open\"],25)],\n",
    "        'C50': [np.percentile(NFLX[\"Open\"],50)],\n",
    "        'C75': [np.percentile(NFLX[\"Open\"],75)]\n",
    "    }           \n",
    "\n",
    "dic_Open"
   ]
  },
  {
   "cell_type": "code",
   "execution_count": 24,
   "metadata": {},
   "outputs": [
    {
     "data": {
      "text/html": [
       "<div>\n",
       "<style scoped>\n",
       "    .dataframe tbody tr th:only-of-type {\n",
       "        vertical-align: middle;\n",
       "    }\n",
       "\n",
       "    .dataframe tbody tr th {\n",
       "        vertical-align: top;\n",
       "    }\n",
       "\n",
       "    .dataframe thead th {\n",
       "        text-align: right;\n",
       "    }\n",
       "</style>\n",
       "<table border=\"1\" class=\"dataframe\">\n",
       "  <thead>\n",
       "    <tr style=\"text-align: right;\">\n",
       "      <th></th>\n",
       "      <th>C25</th>\n",
       "      <th>C50</th>\n",
       "      <th>C75</th>\n",
       "    </tr>\n",
       "  </thead>\n",
       "  <tbody>\n",
       "    <tr>\n",
       "      <th>0</th>\n",
       "      <td>502.175003</td>\n",
       "      <td>518.5</td>\n",
       "      <td>545.545014</td>\n",
       "    </tr>\n",
       "  </tbody>\n",
       "</table>\n",
       "</div>"
      ],
      "text/plain": [
       "          C25    C50         C75\n",
       "0  502.175003  518.5  545.545014"
      ]
     },
     "execution_count": 24,
     "metadata": {},
     "output_type": "execute_result"
    }
   ],
   "source": [
    "df_Open=pd.DataFrame(dic_Open)\n",
    "df_Open"
   ]
  },
  {
   "cell_type": "markdown",
   "metadata": {},
   "source": [
    "#### Hagamos un diccionario con los resultados de los cuantiles de Open y close, y un DataFrame"
   ]
  },
  {
   "cell_type": "code",
   "execution_count": 25,
   "metadata": {},
   "outputs": [
    {
     "data": {
      "text/html": [
       "<div>\n",
       "<style scoped>\n",
       "    .dataframe tbody tr th:only-of-type {\n",
       "        vertical-align: middle;\n",
       "    }\n",
       "\n",
       "    .dataframe tbody tr th {\n",
       "        vertical-align: top;\n",
       "    }\n",
       "\n",
       "    .dataframe thead th {\n",
       "        text-align: right;\n",
       "    }\n",
       "</style>\n",
       "<table border=\"1\" class=\"dataframe\">\n",
       "  <thead>\n",
       "    <tr style=\"text-align: right;\">\n",
       "      <th></th>\n",
       "      <th>C25</th>\n",
       "      <th>C50</th>\n",
       "      <th>C75</th>\n",
       "    </tr>\n",
       "  </thead>\n",
       "  <tbody>\n",
       "    <tr>\n",
       "      <th>0</th>\n",
       "      <td>502.175003</td>\n",
       "      <td>518.500000</td>\n",
       "      <td>545.545014</td>\n",
       "    </tr>\n",
       "    <tr>\n",
       "      <th>1</th>\n",
       "      <td>501.720001</td>\n",
       "      <td>519.780029</td>\n",
       "      <td>544.120025</td>\n",
       "    </tr>\n",
       "  </tbody>\n",
       "</table>\n",
       "</div>"
      ],
      "text/plain": [
       "          C25         C50         C75\n",
       "0  502.175003  518.500000  545.545014\n",
       "1  501.720001  519.780029  544.120025"
      ]
     },
     "execution_count": 25,
     "metadata": {},
     "output_type": "execute_result"
    }
   ],
   "source": [
    "OC=pd.DataFrame( {\n",
    "        'C25': [np.percentile(NFLX[\"Open\"],25),np.percentile(NFLX[\"Close\"],25)],\n",
    "        'C50': [np.percentile(NFLX[\"Open\"],50),np.percentile(NFLX[\"Close\"],50)],\n",
    "        'C75': [np.percentile(NFLX[\"Open\"],75),np.percentile(NFLX[\"Close\"],75)]\n",
    "    })           \n",
    "\n",
    "OC"
   ]
  },
  {
   "cell_type": "markdown",
   "metadata": {},
   "source": [
    "### Agreguemos el index al DataFrame "
   ]
  },
  {
   "cell_type": "code",
   "execution_count": null,
   "metadata": {},
   "outputs": [],
   "source": [
    "L=[\"Open\",\"Close\"]\n",
    "OC.index=L\n",
    "OC"
   ]
  },
  {
   "cell_type": "markdown",
   "metadata": {},
   "source": [
    "### Transponer el DataFrame "
   ]
  },
  {
   "cell_type": "code",
   "execution_count": null,
   "metadata": {},
   "outputs": [],
   "source": [
    "OC.T"
   ]
  },
  {
   "cell_type": "markdown",
   "metadata": {},
   "source": [
    "### c. como un texto"
   ]
  },
  {
   "cell_type": "code",
   "execution_count": null,
   "metadata": {},
   "outputs": [],
   "source": [
    "print('tamaño de la base:',NFLX.shape,\n",
    "      '\\n MEDIDAS DE TENDENCIA CENTRAL',\n",
    "     '\\n media:',NFLX.mean(),\n",
    "     '\\n mediana:',NFLX.median(),\n",
    "     '\\n moda:\\n',NFLX.mode(),\n",
    "     '\\n tiene sesgo:',NFLX.median()==NFLX.median()\n",
    "     )"
   ]
  },
  {
   "cell_type": "code",
   "execution_count": null,
   "metadata": {},
   "outputs": [],
   "source": [
    "import numpy as np\n",
    "\n",
    "print('MEDIDAS DE DISPERSION',\n",
    "     '\\n máximo', NFLX.max(),\n",
    "     '\\n mínimo', NFLX.min(),\n",
    "     '\\n rango', NFLX.max()-NFLX.min(),\n",
    "    '\\n Los cuantiles son:\\n primero:\\n Open',np.percentile(NFLX[\"Open\"],25),'\\n High',np.percentile(NFLX[\"High\"],25),\n",
    "     '\\n segundo:\\n Open',np.percentile(NFLX[\"Open\"],50),'\\n High',np.percentile(NFLX[\"High\"],50),\n",
    "      '\\n y tercero::\\n Open',np.percentile(NFLX[\"Open\"],75),'\\n High',np.percentile(NFLX[\"High\"],75),\n",
    "     )"
   ]
  },
  {
   "cell_type": "code",
   "execution_count": null,
   "metadata": {},
   "outputs": [],
   "source": []
  },
  {
   "cell_type": "markdown",
   "metadata": {},
   "source": [
    "https://relopezbriega.github.io/blog/2015/06/27/probabilidad-y-estadistica-con-python/"
   ]
  },
  {
   "cell_type": "markdown",
   "metadata": {},
   "source": [
    "https://coderhook.github.io/Descriptive%20Statistics"
   ]
  }
 ],
 "metadata": {
  "kernelspec": {
   "display_name": "Python 3",
   "language": "python",
   "name": "python3"
  },
  "language_info": {
   "codemirror_mode": {
    "name": "ipython",
    "version": 3
   },
   "file_extension": ".py",
   "mimetype": "text/x-python",
   "name": "python",
   "nbconvert_exporter": "python",
   "pygments_lexer": "ipython3",
   "version": "3.12.2"
  },
  "toc-showcode": false
 },
 "nbformat": 4,
 "nbformat_minor": 4
}
