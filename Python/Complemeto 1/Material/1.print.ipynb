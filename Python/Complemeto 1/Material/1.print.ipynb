{
 "cells": [
  {
   "cell_type": "markdown",
   "id": "37487087-c0ce-4b91-8ff1-28f4093fa7ca",
   "metadata": {},
   "source": [
    "![Parte de la imagen](imagenes/Logo.png)"
   ]
  },
  {
   "cell_type": "markdown",
   "id": "5f7cf2f9-3543-4241-931f-59e65903ae56",
   "metadata": {},
   "source": [
    "Jonnathan Valencia Arango.\n"
   ]
  },
  {
   "cell_type": "markdown",
   "id": "7c091020-f0c6-414f-9c15-94055b85a6da",
   "metadata": {},
   "source": [
    "# Variables y manejo de mensaje\n"
   ]
  },
  {
   "cell_type": "markdown",
   "id": "acbc1ec5-8f43-4565-a377-e2f1b6f205d6",
   "metadata": {},
   "source": [
    "## <span style=\"color:red\">Variable</span>\n",
    "Datos que se necesitan almacenar y utilizar. \n",
    "\n",
    "Residen en la memoria del ordenador.\n",
    "\n",
    "## <span style=\"color:red\">tipo</span>\n",
    "Numéricas\n",
    "\n",
    "Cadena de texto\n"
   ]
  },
  {
   "cell_type": "code",
   "execution_count": 1,
   "id": "4cd03c1d-8a45-458a-a1c9-65306dd3e8d6",
   "metadata": {},
   "outputs": [],
   "source": [
    "x = 2\n"
   ]
  },
  {
   "cell_type": "code",
   "execution_count": 2,
   "id": "f8d5f93b-5eb9-47f2-8de8-c9a39cf5bab6",
   "metadata": {},
   "outputs": [
    {
     "data": {
      "text/plain": [
       "int"
      ]
     },
     "execution_count": 2,
     "metadata": {},
     "output_type": "execute_result"
    }
   ],
   "source": [
    "type(x)"
   ]
  },
  {
   "cell_type": "code",
   "execution_count": 3,
   "id": "9795e520-1beb-419c-a463-3f89f44de8d4",
   "metadata": {},
   "outputs": [],
   "source": [
    "u= 3.2"
   ]
  },
  {
   "cell_type": "code",
   "execution_count": 4,
   "id": "37683e44-809e-49f0-b141-9a7cda8a283f",
   "metadata": {},
   "outputs": [
    {
     "data": {
      "text/plain": [
       "float"
      ]
     },
     "execution_count": 4,
     "metadata": {},
     "output_type": "execute_result"
    }
   ],
   "source": [
    "type(u)"
   ]
  },
  {
   "cell_type": "code",
   "execution_count": 5,
   "id": "07e01227-e3a1-43d8-9729-6767662c3a8c",
   "metadata": {},
   "outputs": [],
   "source": [
    "z =\"Maria\""
   ]
  },
  {
   "cell_type": "code",
   "execution_count": 6,
   "id": "8893013b-d136-4e95-bd24-802fc762e1ea",
   "metadata": {},
   "outputs": [
    {
     "data": {
      "text/plain": [
       "str"
      ]
     },
     "execution_count": 6,
     "metadata": {},
     "output_type": "execute_result"
    }
   ],
   "source": [
    "type(z)"
   ]
  },
  {
   "cell_type": "code",
   "execution_count": 7,
   "id": "bae26751-a14c-40a6-aa11-f907b1b8a956",
   "metadata": {},
   "outputs": [],
   "source": [
    "del (x)"
   ]
  },
  {
   "cell_type": "code",
   "execution_count": 8,
   "id": "ef89248c-9da0-460c-bc4c-4a5c840a3bfa",
   "metadata": {},
   "outputs": [
    {
     "ename": "NameError",
     "evalue": "name 'x' is not defined",
     "output_type": "error",
     "traceback": [
      "\u001b[1;31m---------------------------------------------------------------------------\u001b[0m",
      "\u001b[1;31mNameError\u001b[0m                                 Traceback (most recent call last)",
      "Cell \u001b[1;32mIn[8], line 1\u001b[0m\n\u001b[1;32m----> 1\u001b[0m \u001b[43mx\u001b[49m\n",
      "\u001b[1;31mNameError\u001b[0m: name 'x' is not defined"
     ]
    }
   ],
   "source": [
    "x"
   ]
  },
  {
   "cell_type": "markdown",
   "id": "bf2aa401-1697-42a9-a6b7-6c9adb0fe9f4",
   "metadata": {},
   "source": [
    "# Información por pantalla\n",
    "## <span style=\"color:red\">1.print</span>"
   ]
  },
  {
   "cell_type": "code",
   "execution_count": 9,
   "id": "3b10e0aa-7435-4da9-9351-e5d3153c5535",
   "metadata": {},
   "outputs": [
    {
     "name": "stdout",
     "output_type": "stream",
     "text": [
      "Maria\n"
     ]
    }
   ],
   "source": [
    "print(z)"
   ]
  },
  {
   "cell_type": "markdown",
   "id": "b5749e4c",
   "metadata": {},
   "source": [
    "### Concatenar strings"
   ]
  },
  {
   "cell_type": "code",
   "execution_count": null,
   "id": "bc951385-3532-4eee-a1fe-7f7c02cc7001",
   "metadata": {},
   "outputs": [],
   "source": [
    "# concatenar strings\n",
    "\"Cual es tu nombre?:\" + z"
   ]
  },
  {
   "cell_type": "markdown",
   "id": "344abf30-a308-4335-9674-f698fead0dc3",
   "metadata": {},
   "source": [
    "## <span style=\"color:red\">calculando</span>"
   ]
  },
  {
   "cell_type": "code",
   "execution_count": 18,
   "id": "21768a29-f252-4a60-86f3-9340eeacd79f",
   "metadata": {},
   "outputs": [],
   "source": [
    "peso = 50\n"
   ]
  },
  {
   "cell_type": "code",
   "execution_count": 17,
   "id": "8e1167dd",
   "metadata": {},
   "outputs": [
    {
     "data": {
      "text/plain": [
       "50"
      ]
     },
     "execution_count": 17,
     "metadata": {},
     "output_type": "execute_result"
    }
   ],
   "source": [
    "peso"
   ]
  },
  {
   "cell_type": "code",
   "execution_count": 30,
   "id": "3aed3e2c",
   "metadata": {},
   "outputs": [],
   "source": [
    "altura = 1.70"
   ]
  },
  {
   "cell_type": "code",
   "execution_count": 26,
   "id": "3bb36675-170b-40f2-9a96-109fee7945e4",
   "metadata": {},
   "outputs": [
    {
     "name": "stdout",
     "output_type": "stream",
     "text": [
      "Mi peso es: 50\n"
     ]
    }
   ],
   "source": [
    "print(\"Mi peso es:\", peso)"
   ]
  },
  {
   "cell_type": "code",
   "execution_count": 38,
   "id": "e2453197",
   "metadata": {},
   "outputs": [
    {
     "name": "stdout",
     "output_type": "stream",
     "text": [
      "Mi peso es: 50 y Mi altura es: 1.7\n"
     ]
    }
   ],
   "source": [
    "print(\"Mi peso es:\", peso,\"y Mi altura es:\", altura)"
   ]
  },
  {
   "cell_type": "markdown",
   "id": "137a847c-9e91-4c64-8f8b-7d2bc72969d0",
   "metadata": {},
   "source": [
    "## <span style=\"color:red\"> opciones</span>\n",
    "\n",
    "Separador y end"
   ]
  },
  {
   "cell_type": "markdown",
   "id": "dc9d5c54-2f65-4af8-9a39-2c604fad946f",
   "metadata": {},
   "source": [
    "## <span style=\"color:red\">2.leer desde el teclado</span>\n"
   ]
  },
  {
   "cell_type": "markdown",
   "id": "67adb1a0",
   "metadata": {},
   "source": [
    "Solicita el valor de la variable, se digita el valor, lo almacena y lo usa"
   ]
  },
  {
   "cell_type": "code",
   "execution_count": 43,
   "id": "c9a8fa51-b42e-4f37-95eb-623cd06f5087",
   "metadata": {},
   "outputs": [
    {
     "name": "stdout",
     "output_type": "stream",
     "text": [
      "Hola Jonnathan\n"
     ]
    }
   ],
   "source": [
    "nombre = input(\"Cual es tu nombre?:\")\n",
    "print(\"Hola\", nombre)\n"
   ]
  },
  {
   "cell_type": "code",
   "execution_count": 1,
   "id": "8b2ed132-1c2f-4f97-bc38-99452128ff49",
   "metadata": {},
   "outputs": [],
   "source": [
    "salario_bruto = int(input(\"Cual es tu salario bruto?:\"))\n"
   ]
  },
  {
   "cell_type": "markdown",
   "id": "054cb01e-3927-4939-8a53-2f636133b1e2",
   "metadata": {},
   "source": [
    "# <span style=\"color:green\">Resumen</span>"
   ]
  },
  {
   "cell_type": "code",
   "execution_count": 42,
   "id": "9d71a8f2-2d3b-466e-b27b-8d1477842472",
   "metadata": {},
   "outputs": [
    {
     "name": "stdout",
     "output_type": "stream",
     "text": [
      "Has apendido :\n",
      "*Tipo de variables \n",
      "*Utilizar variables \n",
      "*Mostrar información en pantalla \n",
      "*lectura de información introducida por usuario\n"
     ]
    }
   ],
   "source": [
    "print('Has apendido :\\n*Tipo de variables \\n*Utilizar variables \\n*Mostrar información en pantalla \\n*lectura de información introducida por usuario')  "
   ]
  },
  {
   "cell_type": "markdown",
   "id": "a96a9c26-f7ed-4b3c-ac54-977e0fea8c80",
   "metadata": {},
   "source": [
    "## <span style=\"color:red\">Quiz</span>"
   ]
  },
  {
   "cell_type": "markdown",
   "id": "3e7ea439-4d74-485f-8c83-41f542220909",
   "metadata": {},
   "source": [
    "1.Pregunte al usuario: nombre, telefono y profesión.\n",
    "\n",
    "Imprima la informacion en una frase"
   ]
  },
  {
   "cell_type": "code",
   "execution_count": 50,
   "id": "676e565c",
   "metadata": {},
   "outputs": [
    {
     "name": "stdout",
     "output_type": "stream",
     "text": [
      "Te llamas Jonnathan tu telefono es: 64553 y tu profesion es: ade\n"
     ]
    }
   ],
   "source": [
    "nombre=input(\"Cual es tu nombre\")\n",
    "telefono =input(\"Cual es tu telefono\")\n",
    "profesion = input(\"Que profesion tienes\")\n",
    "print(\"Te llamas\", nombre, \"tu telefono es:\", telefono, \"y tu profesion es:\", profesion)\n"
   ]
  },
  {
   "cell_type": "markdown",
   "id": "b27e8527-3be2-43ee-aba2-4afafed2c6bf",
   "metadata": {},
   "source": [
    "2. Cuál es el error?"
   ]
  },
  {
   "cell_type": "code",
   "execution_count": 52,
   "id": "dc2fe258-8eea-4593-b8d2-b7b625547a70",
   "metadata": {
    "tags": []
   },
   "outputs": [
    {
     "name": "stdout",
     "output_type": "stream",
     "text": [
      "Hola me alegra que aprendas python: Jonnathan\n"
     ]
    }
   ],
   "source": [
    "# 2.a \n",
    "print(\"Hola me alegra que aprendas python:\", nombre)"
   ]
  },
  {
   "cell_type": "code",
   "execution_count": 56,
   "id": "44a9092e-1733-46d7-b7e1-f7331fc5ad57",
   "metadata": {},
   "outputs": [
    {
     "name": "stdout",
     "output_type": "stream",
     "text": [
      "cual es tu peso 50 \n",
      " y tu nombre?: Jonnathan\n"
     ]
    }
   ],
   "source": [
    "# 2.b\n",
    "print(\"cual es tu peso\", peso,\"\\n y tu nombre?:\", nombre)"
   ]
  },
  {
   "cell_type": "code",
   "execution_count": 58,
   "id": "8cd2480d-58f0-4fb4-b2eb-93c2ee8f3f71",
   "metadata": {},
   "outputs": [
    {
     "name": "stdout",
     "output_type": "stream",
     "text": [
      "Karlo\n"
     ]
    }
   ],
   "source": [
    "#2.c\n",
    "print(\"Karlo\")"
   ]
  },
  {
   "cell_type": "code",
   "execution_count": 59,
   "id": "5cb350c5-3c6e-4ea5-ae9b-f1578ce01bcc",
   "metadata": {},
   "outputs": [
    {
     "name": "stdout",
     "output_type": "stream",
     "text": [
      "Tu edad es: 34\n"
     ]
    }
   ],
   "source": [
    "# 2.d\n",
    "edad=input(\"cuántos años tienes?\")\n",
    "print('Tu edad es:', edad)"
   ]
  },
  {
   "cell_type": "markdown",
   "id": "d343dec3-6a0d-4a89-8f36-38ac8a6fb8e6",
   "metadata": {},
   "source": [
    "3.a Que hace el siguiente código?\n"
   ]
  },
  {
   "cell_type": "code",
   "execution_count": 6,
   "id": "3e4b57c9-68df-4702-b914-b241caa8ad65",
   "metadata": {},
   "outputs": [
    {
     "name": "stdout",
     "output_type": "stream",
     "text": [
      "False\n"
     ]
    }
   ],
   "source": [
    "def es_par(x):\n",
    "    return x % 2 == 0\n",
    "print(es_par(x))"
   ]
  },
  {
   "cell_type": "markdown",
   "id": "eb12a276-1f82-43e9-b245-4fb24f6285ae",
   "metadata": {
    "tags": []
   },
   "source": [
    "3.b Al aplicar la función _'es_par'_  a x=3, que espera obtener?"
   ]
  },
  {
   "cell_type": "code",
   "execution_count": 5,
   "id": "3abe22ba",
   "metadata": {},
   "outputs": [
    {
     "name": "stdout",
     "output_type": "stream",
     "text": [
      "False\n"
     ]
    }
   ],
   "source": [
    "x = 3\n",
    "es_par(x)\n",
    "print(es_par(x))"
   ]
  },
  {
   "cell_type": "markdown",
   "id": "8ed41214-b38d-46b1-9d19-3fcd01d1fe69",
   "metadata": {},
   "source": [
    "3.c apliquela funcion _'es_par'_ a x=3, porque se obtiene ese resultado?"
   ]
  },
  {
   "cell_type": "code",
   "execution_count": null,
   "id": "4480590d-6ddd-443d-8463-fbac09165ec8",
   "metadata": {},
   "outputs": [],
   "source": []
  }
 ],
 "metadata": {
  "kernelspec": {
   "display_name": "Python 3",
   "language": "python",
   "name": "python3"
  },
  "language_info": {
   "codemirror_mode": {
    "name": "ipython",
    "version": 3
   },
   "file_extension": ".py",
   "mimetype": "text/x-python",
   "name": "python",
   "nbconvert_exporter": "python",
   "pygments_lexer": "ipython3",
   "version": "3.12.2"
  }
 },
 "nbformat": 4,
 "nbformat_minor": 5
}
