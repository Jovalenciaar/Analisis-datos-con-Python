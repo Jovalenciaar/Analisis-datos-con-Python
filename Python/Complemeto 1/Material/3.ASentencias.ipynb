{
 "cells": [
  {
   "attachments": {
    "03ab5ec6-2ac7-4034-8c58-10bd6405ecb9.png": {
     "image/png": "[encoded data removed]"
    }
   },
   "cell_type": "markdown",
   "id": "afa49ed5-551c-473e-9a3e-403423d0a637",
   "metadata": {
    "tags": []
   },
   "source": [
    "![image.png](attachment:03ab5ec6-2ac7-4034-8c58-10bd6405ecb9.png)"
   ]
  },
  {
   "cell_type": "markdown",
   "id": "0148b317-42d8-47ca-b8ed-b9fdbb3aa9fb",
   "metadata": {},
   "source": [
    "Jonnathan Valencia"
   ]
  },
  {
   "cell_type": "markdown",
   "id": "a35a5d19-af82-4365-ac46-caf2ee4f1b11",
   "metadata": {
    "tags": []
   },
   "source": [
    "### 3. Condicionales: flujo de un programa\n",
    "\n",
    "#### Bloque:\n",
    "Es un grupo se sentencias de codigo fuente que contiene una o más sentencias. Los bloques están delimitados por su inicio y su fin.\n"
   ]
  },
  {
   "cell_type": "markdown",
   "id": "4e2ad3ac-8d15-4091-8697-62a86a0a6c91",
   "metadata": {
    "tags": []
   },
   "source": [
    "### Sentencias IF/ ELIF/ ELSE\n",
    "\n",
    "Estas sentencias permiten usar bifurcaciones y cada bifurcación se convertira en un bloque."
   ]
  },
  {
   "cell_type": "markdown",
   "id": "a971b7a6-29ca-46fc-81d6-ae588d28e808",
   "metadata": {},
   "source": [
    "Pedir dos numero al usuario e imprimir la relación entre ellos\n",
    "\n",
    "![Parte de la imagen](imagenes/IF.png)\n"
   ]
  },
  {
   "cell_type": "code",
   "execution_count": 3,
   "id": "b927e232",
   "metadata": {},
   "outputs": [
    {
     "name": "stdout",
     "output_type": "stream",
     "text": [
      "fuera de la condicion\n"
     ]
    }
   ],
   "source": [
    "a = float(input(\"ingrese un numero real\"))\n",
    "b = float(input(\"ingrese otro numero real\"))\n",
    "\n",
    "if a > b:\n",
    "    print(a, \"es mayor que\", b)\n",
    "    print(\" bajo la condicion\")\n",
    "print(\"fuera de la condicion\")    \n",
    "    "
   ]
  },
  {
   "cell_type": "code",
   "execution_count": 8,
   "id": "e731fd71",
   "metadata": {},
   "outputs": [
    {
     "name": "stdout",
     "output_type": "stream",
     "text": [
      "20.0 es igual a 20.0\n"
     ]
    }
   ],
   "source": [
    "a = float(input(\"ingrese un numero real\"))\n",
    "b = float(input(\"ingrese otro numero real\"))\n",
    "\n",
    "if a > b:\n",
    "    print(a, \"es mayor que\", b)\n",
    "    print(\" bajo la condicion\")\n",
    "elif a == b:\n",
    "    print(a, \"es igual a\", b)\n",
    "else :\n",
    "    print(b, \"es mayor que\", a)  \n",
    "    "
   ]
  },
  {
   "cell_type": "code",
   "execution_count": null,
   "id": "63cd9ede",
   "metadata": {},
   "outputs": [],
   "source": [
    "a = float(input(\"ingrese un numero real\"))\n",
    "b = float(input(\"ingrese otro numero real\"))\n",
    "\n",
    "if a > b:\n",
    "    print(a, \"es mayor que\", b)\n",
    "    print(\" bajo la condicion\")\n",
    "else :\n",
    "    print(b, \"es mayor que\", a)  "
   ]
  },
  {
   "cell_type": "markdown",
   "id": "bf1bfbc2-858f-4e2f-9c9c-4046b085c529",
   "metadata": {},
   "source": [
    "### Ejemplo 1\n",
    "\n",
    "Evaluar un numero escrito por el usuario. Si el numero es mayor que 10 se mostrar un mensaje en la pantalla indicándo que el 'número que escribió es mayor a 10'"
   ]
  },
  {
   "cell_type": "code",
   "execution_count": 2,
   "id": "d7ec979a-2e85-4608-88b9-91706f6f590e",
   "metadata": {
    "tags": []
   },
   "outputs": [
    {
     "name": "stdout",
     "output_type": "stream",
     "text": [
      "4 es menor o igual que 10\n"
     ]
    }
   ],
   "source": [
    "x1 = int(input('ingrese un numero entero'))\n",
    "\n",
    "if x1 > 10:\n",
    "    print( x1, 'es mayor que 10') \n",
    "else:\n",
    "    print( x1, 'es menor o igual que 10')   "
   ]
  },
  {
   "cell_type": "markdown",
   "id": "ce63f7d2-4374-4b26-b824-6b603e886adf",
   "metadata": {
    "tags": []
   },
   "source": [
    "#### Ejercicio 1. \n",
    "Pregunte el salario bruto al cliente y asignele el crédito si su ingreso bruto es 1.5 el salario mínimo.\n",
    "\n",
    "el salario neto es aquel que finalmente percibimos en nuestra cuenta corriente en cada periodo de pago, normalmente cada mes. Mientras tanto el salario bruto representa un importe mayor ya que sobre este valor se descuentan las retenciones/cotizaciones.\n",
    "\n",
    "Salario mínimo España 2023: 1080 euros."
   ]
  },
  {
   "cell_type": "code",
   "execution_count": 11,
   "id": "5aa01b74-5d24-453d-b0be-afe7162e9bba",
   "metadata": {
    "tags": []
   },
   "outputs": [
    {
     "name": "stdout",
     "output_type": "stream",
     "text": [
      "usted tiene un credito\n"
     ]
    }
   ],
   "source": [
    "salario = float(input(\"ingrese el sueldo bruto: \"))\n",
    "\n",
    "if salario > 1.5 * 1080: \n",
    "    print(\"usted tiene un credito\")\n",
    "else:\n",
    "    print(\"usted no tiene credito\")"
   ]
  },
  {
   "cell_type": "markdown",
   "id": "a0067cc1-b9b6-408e-b09b-bd76b0db6f86",
   "metadata": {},
   "source": [
    "### Sentencia IF/ELSE\n",
    "Mediante esta sentencia se crean dos bloques de codigo, uno que se ejecuta si se cumple `IF`el otro se ejecuta si se cumple `ELSE`"
   ]
  },
  {
   "cell_type": "code",
   "execution_count": 6,
   "id": "d036637d",
   "metadata": {},
   "outputs": [
    {
     "name": "stdout",
     "output_type": "stream",
     "text": [
      "usted es menor de edad\n"
     ]
    }
   ],
   "source": [
    "age = int(input('ingrese su edad: '))\n",
    "\n",
    "if age >= 18:\n",
    "    print('usted es mayor de edad')\n",
    "else:\n",
    "    print('usted es menor de edad')"
   ]
  },
  {
   "cell_type": "markdown",
   "id": "7f3154b2-38b7-498d-93ce-2267bdda4b3a",
   "metadata": {},
   "source": [
    "### ejemplo 2:\n",
    "evaluar un numero escrito por el usuario. Si el numero es mayor que 10 se mostrar un mensaje en la pantalla indicando que es mayor que 10, de lo contrario, indica que es diferente de 10"
   ]
  },
  {
   "cell_type": "code",
   "execution_count": 8,
   "id": "e2b9c976-b9a9-4140-87db-d11e134c9865",
   "metadata": {
    "tags": []
   },
   "outputs": [
    {
     "name": "stdout",
     "output_type": "stream",
     "text": [
      "9.0 es diferente de 10\n"
     ]
    }
   ],
   "source": [
    "s1 = float(input(\"Ingrese un numero\"))\n",
    "\n",
    "if s1 > 10:\n",
    "    print(s1, \"es mayor que 10\")\n",
    "else:\n",
    "    print( s1, \"es diferente de 10\")"
   ]
  },
  {
   "cell_type": "markdown",
   "id": "d60223bf-5601-4cec-b11c-a707dd73b7d8",
   "metadata": {
    "tags": []
   },
   "source": [
    "#### ejercicio 2: \n",
    "Evaluar si un cliente califica para un descuento en un producto financiero, como una tarjeta de crédito a partir de su edad e ingreso anual.\n",
    "Escriba felicitaciones si el cliente es mayor de 30 años y tiene ingresos mayores a 30.000 euros.\n",
    "De lo contrario escriba: Lo sentimos, no cumple con los requisitos para el descuento en la tarjeta de crédito"
   ]
  },
  {
   "cell_type": "code",
   "execution_count": 12,
   "id": "9ed68659-2fdc-49df-bde2-47ad3e0fd732",
   "metadata": {},
   "outputs": [
    {
     "name": "stdout",
     "output_type": "stream",
     "text": [
      "Lo sentimos, usted no cunmple con los requisitos para el descuento\n"
     ]
    }
   ],
   "source": [
    "edad = int(input(\"ingrese su edad: \"))\n",
    "ingresos = float(input(\"ingrese sus ingresos: \"))\n",
    "\n",
    "if edad >= 30 and ingresos >= 30000:\n",
    "    print('Felicitaciones, usted cunmple con los requisitos para el descuento')\n",
    "else:\n",
    "    print('Lo sentimos, usted no cunmple con los requisitos para el descuento')"
   ]
  },
  {
   "cell_type": "markdown",
   "id": "74780ab6-4f32-483f-a7b2-e3b1bf8f05c4",
   "metadata": {},
   "source": [
    "### Sentencia IF/ ELIF/ ELSE\n",
    "Mediante esta sentencia se crean infinitos caminos alternativos dependiendo del cumplimiento de la condicion de entrada y el camino que tomará en caso que no se cumpla la condición"
   ]
  },
  {
   "cell_type": "markdown",
   "id": "88ae058c-3fbd-4b14-bb61-c6594c77ab30",
   "metadata": {},
   "source": [
    "### Ejemplo:\n",
    "evaluar un numero escrito por el usuario. \n",
    "\n",
    "Si el numero es Mayor 10 se mostrar un mensaje en la pantalla indicando que es mayor que 10,\n",
    "\n",
    "Si el número es Menor a 10 se imprimira el mensaje: \"Has dicho un numero MENOR a 10\"\n",
    "\n",
    "Si el número es IGUAL a 10 se imprimira el mensaje: \"Has escrito 10\""
   ]
  },
  {
   "cell_type": "code",
   "execution_count": 11,
   "id": "5190a594-23e2-4b8e-8367-7bec1d2aa579",
   "metadata": {},
   "outputs": [
    {
     "name": "stdout",
     "output_type": "stream",
     "text": [
      "Has dicho un numero MENOR a 10\n"
     ]
    }
   ],
   "source": [
    "numero = float(input(\"ingrese un numero real\"))\n",
    "\n",
    "if numero > 10:\n",
    "    print('es mayor que 10')\n",
    "elif numero == 10:\n",
    "    print( 'Has ecrito 10')\n",
    "else:\n",
    "    print( \"Has dicho un numero MENOR a 10\")"
   ]
  },
  {
   "cell_type": "markdown",
   "id": "76f1cace-7eff-4c58-a50a-df9a30205fa6",
   "metadata": {},
   "source": [
    "## Sentencia de forma corta\n",
    "\n",
    "![Parte de la imagen](imagenes/if_corto.png)"
   ]
  },
  {
   "cell_type": "markdown",
   "id": "df8a341a-89ca-4849-b04f-7b06ceb69e41",
   "metadata": {},
   "source": [
    "##### Escribir el codigo del ejemplo anterior (evaluar el numero comparado con 10) de forma corta"
   ]
  },
  {
   "cell_type": "code",
   "execution_count": 13,
   "id": "39a07240",
   "metadata": {},
   "outputs": [
    {
     "name": "stdout",
     "output_type": "stream",
     "text": [
      "Lo sentimos, usted no cumple con los requisitos para el descuento\n"
     ]
    }
   ],
   "source": [
    "edad = int(input(\"ingrese su edad: \"))\n",
    "ingresos = float(input(\"ingrese sus ingresos: \"))\n",
    "\n",
    "print('Felicitaciones, usted cumple con los requisitos para el descuento') if edad >= 30 and ingresos >= 30000 else print('Lo sentimos, usted no cumple con los requisitos para el descuento')\n"
   ]
  },
  {
   "cell_type": "code",
   "execution_count": 14,
   "id": "6764fa0d",
   "metadata": {},
   "outputs": [
    {
     "name": "stdout",
     "output_type": "stream",
     "text": [
      "Has ecrito un numero menor a 10\n"
     ]
    }
   ],
   "source": [
    "numero = float(input(\"ingrese un numero real\"))\n",
    "\n",
    "print(\"Es mayorque 10\") if numero >10 else print(\"Has ecrito 10\")  if numero == 10 else print(\"Has ecrito un numero menor a 10\")"
   ]
  },
  {
   "cell_type": "markdown",
   "id": "d57983ea-e63c-40fb-8378-ef3a806b492c",
   "metadata": {},
   "source": [
    "## el poder de la indentación"
   ]
  },
  {
   "cell_type": "markdown",
   "id": "872adc97-9b95-4186-9ac1-b90a3d053c47",
   "metadata": {
    "tags": []
   },
   "source": [
    "#### Ejemplo 1"
   ]
  },
  {
   "cell_type": "markdown",
   "id": "b31b3ee4-0d97-47ac-81d8-2752752603c8",
   "metadata": {},
   "source": [
    "pedir un número real positivo o negativo (float).\n",
    "La tarea consiste en encontrar la parte entera del número y decir si está es par o no"
   ]
  },
  {
   "cell_type": "code",
   "execution_count": 17,
   "id": "41d0ee9b-779c-4ae2-adcc-221f0165dccc",
   "metadata": {},
   "outputs": [
    {
     "data": {
      "text/plain": [
       "3"
      ]
     },
     "execution_count": 17,
     "metadata": {},
     "output_type": "execute_result"
    }
   ],
   "source": [
    "d1 = float(input('ingrese un numero ral positovo o negativo'))\n",
    "\n",
    "entero = int(d1)\n",
    "\n",
    "if entero % 2 == 0:\n",
    "    print(f\"{entero} es un numero par\")\n",
    "else:\n",
    "    print(f\"{entero} es un numero impar\")"
   ]
  },
  {
   "cell_type": "markdown",
   "id": "62819212-bac3-4e4a-ab4f-58d9a34f686b",
   "metadata": {
    "tags": []
   },
   "source": [
    "### Ejercicio 1"
   ]
  },
  {
   "cell_type": "markdown",
   "id": "23dcee85-8db2-4f44-81e6-db842d30a214",
   "metadata": {
    "jupyter": {
     "outputs_hidden": true
    },
    "tags": []
   },
   "source": [
    "Escribir un codigo Python para determinar la elegibilidad de un cliente para un préstamo bancario basado en sus ingresos y puntaje crediticio:\n",
    "\n",
    "Verifica si los ingresos anuales del cliente son mayores o iguales a $50,000. Si es así, pasa al segundo nivel  que verifica si el puntaje crediticio es mayor o igual a 700. Dependiendo de las combinaciones de ingresos y puntaje crediticio, el programa imprimirá un mensaje apropiado para indicar la elegibilidad del cliente para un préstamo con tasa preferencial, un préstamo estándar o ninguna elegibilidad en absoluto.\n",
    "\n",
    "tasa preferencial: si ingresos anuales >=50000 y puntje crediticio >=700\n",
    "\n",
    "préstamo estándar: si ingresos anuales >=50000 y puntje crediticio <700\n",
    "\n",
    "no cumple los requisitos: si ingresos anuales <50000 y puntje crediticio <700"
   ]
  },
  {
   "cell_type": "code",
   "execution_count": 17,
   "id": "8edb1c9e-26f9-4b9d-9666-533141dfeaea",
   "metadata": {
    "tags": []
   },
   "outputs": [
    {
     "name": "stdout",
     "output_type": "stream",
     "text": [
      "Lo sentimos no cumple con los requisitos\n"
     ]
    }
   ],
   "source": [
    "ingresos_anuales = float(input(\"Ingrese sus ingresos anuales: \"))\n",
    "puntaje = int(input(\"Ingrese su puntaje crediticio: \"))\n",
    "\n",
    "if ingresos_anuales >= 50000 and puntaje >= 700:\n",
    "    print(\"Felicitaciones, te daremos una tasa preferencial\")\n",
    "\n",
    "elif ingresos_anuales >= 50000 and puntaje < 700:\n",
    "    print(\"Felicitaciones, te daremos una tasa estandar\")\n",
    "\n",
    "else:\n",
    "    print('Lo sentimos no cumple con los requisitos')"
   ]
  },
  {
   "cell_type": "markdown",
   "id": "98b05c5d-dfe7-4a5f-8f20-904a3c0102ae",
   "metadata": {},
   "source": [
    "### Ejercicio 2\n",
    "\n",
    "Supongamos que estás desarrollando un programa que calcula el rendimiento de una inversión en función del tiempo y el tipo de inversión.\n",
    "\n",
    "Revise el siguiente código.\n",
    "entiende todo?"
   ]
  },
  {
   "cell_type": "code",
   "execution_count": 10,
   "id": "84b7bd7c-8e3a-4765-9424-2398b52e54f9",
   "metadata": {
    "tags": []
   },
   "outputs": [
    {
     "name": "stdout",
     "output_type": "stream",
     "text": [
      "Ingrese el monto de su inversión:  50000\n",
      "Ingrese el tiempo en años de la inversión:  2\n",
      "Ingrese el tipo de inversión (acciones/bonos/cuenta de ahorros):  acciones\n"
     ]
    },
    {
     "name": "stdout",
     "output_type": "stream",
     "text": [
      "Después de 2 años, su inversión de 50000.0 en acciones habrá generado ganancias de $5125.00.\n"
     ]
    }
   ],
   "source": [
    "inversion = float(input(\"Ingrese el monto de su inversión: \"))\n",
    "tiempo = int(input(\"Ingrese el tiempo en años de la inversión: \"))\n",
    "tipo_inversion = input(\"Ingrese el tipo de inversión (acciones/bonos/cuenta de ahorros): \")\n",
    "\n",
    "tasa_interes = 0\n",
    "\n",
    "if tipo_inversion == \"acciones\":\n",
    "    if tiempo >= 5:\n",
    "        tasa_interes = 0.1  # Tasa de interés del 10% para inversiones a largo plazo en acciones\n",
    "    else:\n",
    "        tasa_interes = 0.05  # Tasa de interés del 5% para inversiones a corto plazo en acciones\n",
    "elif tipo_inversion == \"bonos\":\n",
    "    if tiempo >= 10:\n",
    "        tasa_interes = 0.08  # Tasa de interés del 8% para bonos a largo plazo\n",
    "    else:\n",
    "        tasa_interes = 0.03  # Tasa de interés del 3% para bonos a corto plazo\n",
    "elif tipo_inversion == \"cuenta de ahorros\":\n",
    "    tasa_interes = 0.04  # Tasa de interés del 4% para cuentas de ahorros\n",
    "\n",
    "ganancias = inversion * (1 + tasa_interes) ** tiempo - inversion\n",
    "\n",
    "print(f\"Después de {tiempo} años, su inversión de {inversion} en {tipo_inversion} habrá generado ganancias de ${ganancias:.2f}.\")"
   ]
  },
  {
   "cell_type": "markdown",
   "id": "fd473123-285a-410a-9499-9c680bf36d45",
   "metadata": {},
   "source": [
    "# <span style=\"color:green\">Resumen</span>\n",
    "\n",
    "Sentencia\n",
    "\n",
    "- if\n",
    "- if /elif\n",
    "- If/elif /else\n"
   ]
  },
  {
   "cell_type": "code",
   "execution_count": null,
   "id": "94ba0c8b-2f5f-432f-9744-f76abd72a1e0",
   "metadata": {},
   "outputs": [],
   "source": []
  },
  {
   "cell_type": "markdown",
   "id": "45c244bd-39ce-4e91-a7f9-33d43187b3ce",
   "metadata": {
    "tags": []
   },
   "source": [
    "## <span style=\"color:red\">Quiz</span>\n",
    "\n",
    "programe un Simulador de hipoteca\n",
    "\n",
    "Usted quiere compar un piso de 120.000 euros y \n",
    "su salario mensual es de 1000.\n",
    "Todas las otras variables son fijas.\n",
    "\n",
    "El simulador  le pregunta: Cuál es la cuota inicial  y con este valor le dice el valor de la cuota mensual\n",
    "\n",
    "\n",
    "* Si la cuota inicial está entre a  (50.000  y 60.000]euros, la cuota mensual es de 300 euros\n",
    "* Si la cuota inicial está entre a  (40.000  y 50.000]euros, la cuota mensual es menor  a 400 euros\n",
    "* Si la cuota inicial es de 40.000 euros, la cuota mensual es igual a 400 euros\n",
    "* Si la cuota inicial está entre [30.000 y   40.000] euros, la cuota mensual es mayor  a 400 euros"
   ]
  },
  {
   "cell_type": "code",
   "execution_count": 40,
   "id": "a5e6452f",
   "metadata": {},
   "outputs": [
    {
     "ename": "ValueError",
     "evalue": "invalid literal for int() with base 10: ''",
     "output_type": "error",
     "traceback": [
      "\u001b[1;31m---------------------------------------------------------------------------\u001b[0m",
      "\u001b[1;31mValueError\u001b[0m                                Traceback (most recent call last)",
      "Cell \u001b[1;32mIn[40], line 1\u001b[0m\n\u001b[1;32m----> 1\u001b[0m cuota_inicial \u001b[38;5;241m=\u001b[39m \u001b[38;5;28;43mint\u001b[39;49m\u001b[43m(\u001b[49m\u001b[38;5;28;43minput\u001b[39;49m\u001b[43m(\u001b[49m\u001b[38;5;124;43m\"\u001b[39;49m\u001b[38;5;124;43mIngrese la cuota inicial: \u001b[39;49m\u001b[38;5;124;43m\"\u001b[39;49m\u001b[43m)\u001b[49m\u001b[43m)\u001b[49m\n\u001b[0;32m      3\u001b[0m \u001b[38;5;28;01mif\u001b[39;00m \u001b[38;5;241m50000\u001b[39m \u001b[38;5;241m<\u001b[39m cuota_inicial \u001b[38;5;241m<\u001b[39m\u001b[38;5;241m=\u001b[39m \u001b[38;5;241m60000\u001b[39m:\n\u001b[0;32m      4\u001b[0m     \u001b[38;5;28mprint\u001b[39m(\u001b[38;5;124m\"\u001b[39m\u001b[38;5;124mLa cuota inicial es 300 Euros\u001b[39m\u001b[38;5;124m\"\u001b[39m)\n",
      "\u001b[1;31mValueError\u001b[0m: invalid literal for int() with base 10: ''"
     ]
    }
   ],
   "source": [
    "cuota_inicial = int(input(\"Ingrese la cuota inicial: \"))\n",
    "\n",
    "if 50000 < cuota_inicial <= 60000:\n",
    "    print(\"La cuota inicial es 300 Euros\")\n",
    "elif 40000 < cuota_inicial <= 50000:\n",
    "    print(\"La cuota inicial es menos de menos de 400 Euros\")\n",
    "elif cuota_inicial == 40000:\n",
    "    print(\"La cuota inicial es 400 Euros\")\n",
    "elif 30000 < cuota_inicial < 40000:\n",
    "    print(\"La cuota inicial es mayor a 400 Euros\")\n",
    "elif cuota_inicial == 40000:\n",
    "    print(\"la cuota es igual a 400 Euros\")\n",
    "else:\n",
    "    print(\" si su cuota inicial es mayor a 60000, comuniquese con un asesor en caso de tener una couta inicial menor a 30000 no es posible esudiar su caso\")"
   ]
  },
  {
   "cell_type": "code",
   "execution_count": 32,
   "id": "35f2c191",
   "metadata": {},
   "outputs": [
    {
     "name": "stdout",
     "output_type": "stream",
     "text": [
      "Con una cuota inicial de 55000.0 euros, tu cuota mensual es de 300 euros.\n"
     ]
    }
   ],
   "source": [
    "cuota_inicial = float(input(\"Ingresa la cuota inicial en euros: \"))\n",
    "\n",
    "# Definir las condiciones para la cuota mensual según la cuota inicial\n",
    "if 50000 < cuota_inicial <= 60000:\n",
    "    cuota_mensual = 300\n",
    "elif 40000 < cuota_inicial <= 50000:\n",
    "    cuota_mensual = 399  # Menor a 400 pero mayor que 300 (puedes ajustar este valor según convenga)\n",
    "elif cuota_inicial == 40000:\n",
    "    cuota_mensual = 400\n",
    "elif 30000 <= cuota_inicial < 40000:\n",
    "    cuota_mensual = 401  # Mayor a 400 (puedes ajustar este valor según convenga)\n",
    "else:\n",
    "    cuota_mensual = None  # Caso de cuota inicial fuera de los rangos descritos\n",
    "\n",
    "# Verificar si se ha calculado la cuota mensual y mostrar el resultado\n",
    "if cuota_mensual:\n",
    "    print(f\"Con una cuota inicial de {cuota_inicial} euros, tu cuota mensual es de {cuota_mensual} euros.\")\n",
    "else:\n",
    "    print(\"La cuota inicial está fuera de los rangos permitidos para calcular la cuota mensual.\")"
   ]
  }
 ],
 "metadata": {
  "kernelspec": {
   "display_name": "Python 3",
   "language": "python",
   "name": "python3"
  },
  "language_info": {
   "codemirror_mode": {
    "name": "ipython",
    "version": 3
   },
   "file_extension": ".py",
   "mimetype": "text/x-python",
   "name": "python",
   "nbconvert_exporter": "python",
   "pygments_lexer": "ipython3",
   "version": "3.12.2"
  }
 },
 "nbformat": 4,
 "nbformat_minor": 5
}
