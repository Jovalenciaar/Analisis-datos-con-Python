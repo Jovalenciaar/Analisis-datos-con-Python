{
 "cells": [
  {
   "cell_type": "markdown",
   "id": "be5a31c9-20cc-4c01-a1f4-da84f2624767",
   "metadata": {},
   "source": [
    "##### 4. Colecciones-Estructura de datos\n",
    "1. Listas\n",
    "2. Tuplas\n",
    "3. conjuntos\n",
    "4. Diccionarios"
   ]
  },
  {
   "cell_type": "markdown",
   "id": "aab61227-23f2-4156-8ade-073538e07958",
   "metadata": {},
   "source": [
    "![image.png](imagenes/Listas.png)"
   ]
  },
  {
   "cell_type": "markdown",
   "id": "ed69f821-15a0-4de4-8cae-af3391e89ff9",
   "metadata": {},
   "source": [
    "## 1. Listas\n",
    "\n",
    "Conjunto ordenado de elementos de cualquier tipo.\n",
    "\n",
    "En Python las listas de determinan con [ ] y los elementos separados por comas"
   ]
  },
  {
   "cell_type": "code",
   "execution_count": 2,
   "id": "3720c90c-cb46-430c-a17d-820fa13274f1",
   "metadata": {},
   "outputs": [],
   "source": [
    "lista = [\"ordenador\", 5, \"Kamila\"]\n",
    "\n"
   ]
  },
  {
   "cell_type": "code",
   "execution_count": 3,
   "id": "9fe6e47e-4247-4237-94b4-a1150bd71a31",
   "metadata": {},
   "outputs": [
    {
     "data": {
      "text/plain": [
       "['ordenador', 5, 'Kamila']"
      ]
     },
     "execution_count": 3,
     "metadata": {},
     "output_type": "execute_result"
    }
   ],
   "source": [
    "lista"
   ]
  },
  {
   "cell_type": "code",
   "execution_count": 4,
   "id": "dae56ea5-d9c8-4c99-b476-52b0250f60cd",
   "metadata": {},
   "outputs": [
    {
     "data": {
      "text/plain": [
       "list"
      ]
     },
     "execution_count": 4,
     "metadata": {},
     "output_type": "execute_result"
    }
   ],
   "source": [
    "type(lista)"
   ]
  },
  {
   "cell_type": "markdown",
   "id": "4a2a22b8",
   "metadata": {},
   "source": [
    "## Ejercicio\n",
    "\n",
    "## crear dos listas A y B con los nombres de stocks, alguna que contenga GOOGL"
   ]
  },
  {
   "cell_type": "code",
   "execution_count": 4,
   "id": "ab681dee-8288-4dc9-a77c-657419299b8f",
   "metadata": {},
   "outputs": [],
   "source": [
    "lista_a = [\"GOOGL\", 'AMZN', 'NVDA']\n",
    "lista_b = [\"EC\", \"NFLX\"]\n"
   ]
  },
  {
   "cell_type": "markdown",
   "id": "4619c6f1-043a-4b8e-b04e-4489d1642ec6",
   "metadata": {},
   "source": [
    "### opciones"
   ]
  },
  {
   "cell_type": "markdown",
   "id": "b8f3f980",
   "metadata": {},
   "source": [
    "lONGITUD = len\n"
   ]
  },
  {
   "cell_type": "code",
   "execution_count": 5,
   "id": "422e5653-ff3c-44fc-a3d0-c292ec9740bd",
   "metadata": {},
   "outputs": [
    {
     "data": {
      "text/plain": [
       "(2, 'NFLX')"
      ]
     },
     "execution_count": 5,
     "metadata": {},
     "output_type": "execute_result"
    }
   ],
   "source": [
    "len(lista_a), lista_a[2]\n",
    "len(lista_b), lista_b[1]"
   ]
  },
  {
   "cell_type": "markdown",
   "id": "7059e31b-27c8-40a3-81bf-fa928f7dfc92",
   "metadata": {},
   "source": [
    "### union-concatenar"
   ]
  },
  {
   "cell_type": "code",
   "execution_count": 6,
   "id": "f52aa1d8-315b-4a13-983c-2c20a6f37363",
   "metadata": {},
   "outputs": [
    {
     "name": "stdout",
     "output_type": "stream",
     "text": [
      "['GOOGL', 'AMZN', 'NVDA', 'solar', 5, 'vacaciones', 'AMZN']\n"
     ]
    }
   ],
   "source": [
    "lista2 = [ \"solar\", 5, \"vacaciones\", \"AMZN\"]\n",
    "lista_final = lista_a + lista2\n",
    "print(lista_final)"
   ]
  },
  {
   "cell_type": "markdown",
   "id": "5fe20841",
   "metadata": {},
   "source": [
    "## Ejercicio\n",
    "\n",
    "## concatenar la lis ta A con la B y llamarla C e imprimirla"
   ]
  },
  {
   "cell_type": "code",
   "execution_count": 7,
   "id": "d58f6143",
   "metadata": {},
   "outputs": [
    {
     "data": {
      "text/plain": [
       "['GOOGL', 'AMZN', 'NVDA', 'EC', 'NFLX']"
      ]
     },
     "execution_count": 7,
     "metadata": {},
     "output_type": "execute_result"
    }
   ],
   "source": [
    "lista_c = lista_a + lista_b\n",
    "lista_c"
   ]
  },
  {
   "cell_type": "markdown",
   "id": "e3dea6c5-6c6a-4b30-8269-b86a3d9699d9",
   "metadata": {},
   "source": [
    "### añadir elemento a una lista - append"
   ]
  },
  {
   "cell_type": "code",
   "execution_count": 8,
   "id": "4a07b293-c562-4ab0-ab9b-4c1fae83a261",
   "metadata": {},
   "outputs": [
    {
     "data": {
      "text/plain": [
       "['GOOGL', 'AMZN', 'NVDA', 'EC', 'NFLX', 'Botella']"
      ]
     },
     "execution_count": 8,
     "metadata": {},
     "output_type": "execute_result"
    }
   ],
   "source": [
    "lista_c.append(\"Botella\")\n",
    "lista_c"
   ]
  },
  {
   "cell_type": "markdown",
   "id": "a189d13f",
   "metadata": {},
   "source": [
    "### Ejercicio\n",
    "\n",
    "# añadir el stock telefonica: TFE a la lista C e imprimir la lista  aumentada"
   ]
  },
  {
   "cell_type": "code",
   "execution_count": 9,
   "id": "b9fd4295-f1b2-421b-a467-5c3e18c8f1b0",
   "metadata": {
    "tags": []
   },
   "outputs": [
    {
     "data": {
      "text/plain": [
       "['GOOGL', 'AMZN', 'NVDA', 'EC', 'NFLX', 'Botella', 'TFE']"
      ]
     },
     "execution_count": 9,
     "metadata": {},
     "output_type": "execute_result"
    }
   ],
   "source": [
    "lista_c.append(\"TFE\")\n",
    "lista_c"
   ]
  },
  {
   "cell_type": "markdown",
   "id": "f3d44a56-9f38-4dbb-8557-5ad3690a5c6f",
   "metadata": {},
   "source": [
    "### modificacion-cambia"
   ]
  },
  {
   "cell_type": "code",
   "execution_count": 10,
   "id": "f30546b5-2398-45fd-b333-79013b41da3c",
   "metadata": {},
   "outputs": [
    {
     "data": {
      "text/plain": [
       "['GOOGL', 'AMZN', 'Carlos', 'EC', 'NFLX', 'Botella', 'TFE']"
      ]
     },
     "execution_count": 10,
     "metadata": {},
     "output_type": "execute_result"
    }
   ],
   "source": [
    "lista_c[2] = \"Carlos\"\n",
    "lista_c"
   ]
  },
  {
   "cell_type": "markdown",
   "id": "c0517c21-5b47-42b6-865e-6ba008e9ec72",
   "metadata": {},
   "source": [
    "### modificacion-borra"
   ]
  },
  {
   "cell_type": "code",
   "execution_count": 11,
   "id": "38196e6e-9836-45e0-93ee-bedd423e5ced",
   "metadata": {},
   "outputs": [],
   "source": [
    "del lista_c[2]"
   ]
  },
  {
   "cell_type": "code",
   "execution_count": 12,
   "id": "9d63eea2",
   "metadata": {},
   "outputs": [
    {
     "data": {
      "text/plain": [
       "['GOOGL', 'AMZN', 'EC', 'NFLX', 'Botella', 'TFE']"
      ]
     },
     "execution_count": 12,
     "metadata": {},
     "output_type": "execute_result"
    }
   ],
   "source": [
    "lista_c"
   ]
  },
  {
   "cell_type": "markdown",
   "id": "c7b46a90",
   "metadata": {},
   "source": [
    "### Ejercicio\n",
    "\n",
    "# Eliminar GOOGL de  la lista C aumentada e imprimir la lista reducida"
   ]
  },
  {
   "cell_type": "code",
   "execution_count": 13,
   "id": "a837065c",
   "metadata": {},
   "outputs": [
    {
     "data": {
      "text/plain": [
       "['AMZN', 'EC', 'NFLX', 'Botella', 'TFE']"
      ]
     },
     "execution_count": 13,
     "metadata": {},
     "output_type": "execute_result"
    }
   ],
   "source": [
    "del lista_c[0]\n",
    "lista_c"
   ]
  },
  {
   "cell_type": "markdown",
   "id": "0f792e3a-6680-4cb5-946a-aa12e75eb4e7",
   "metadata": {
    "tags": []
   },
   "source": [
    "## seleccionar elementos"
   ]
  },
  {
   "cell_type": "code",
   "execution_count": 14,
   "id": "34c889d1-614c-428a-8597-1e616d201fe5",
   "metadata": {
    "tags": []
   },
   "outputs": [
    {
     "data": {
      "text/plain": [
       "['AMZN', 'EC', 'NFLX', 'Botella', 'TFE']"
      ]
     },
     "execution_count": 14,
     "metadata": {},
     "output_type": "execute_result"
    }
   ],
   "source": [
    "lista_c"
   ]
  },
  {
   "cell_type": "code",
   "execution_count": 16,
   "id": "0a8d8c01-7c87-4374-a11d-0b141ee0b353",
   "metadata": {
    "tags": []
   },
   "outputs": [
    {
     "data": {
      "text/plain": [
       "'Botella'"
      ]
     },
     "execution_count": 16,
     "metadata": {},
     "output_type": "execute_result"
    }
   ],
   "source": [
    "lista_c[3]"
   ]
  },
  {
   "cell_type": "code",
   "execution_count": 17,
   "id": "e6634bfa-29d7-4f86-a3cb-82d28a19cdea",
   "metadata": {
    "tags": []
   },
   "outputs": [
    {
     "ename": "IndexError",
     "evalue": "list index out of range",
     "output_type": "error",
     "traceback": [
      "\u001b[1;31m---------------------------------------------------------------------------\u001b[0m",
      "\u001b[1;31mIndexError\u001b[0m                                Traceback (most recent call last)",
      "Cell \u001b[1;32mIn[17], line 1\u001b[0m\n\u001b[1;32m----> 1\u001b[0m \u001b[43mlista_c\u001b[49m\u001b[43m[\u001b[49m\u001b[38;5;241;43m5\u001b[39;49m\u001b[43m]\u001b[49m\n",
      "\u001b[1;31mIndexError\u001b[0m: list index out of range"
     ]
    }
   ],
   "source": [
    "lista_c[5]"
   ]
  },
  {
   "cell_type": "code",
   "execution_count": 18,
   "id": "a7a154bf",
   "metadata": {},
   "outputs": [
    {
     "data": {
      "text/plain": [
       "'TFE'"
      ]
     },
     "execution_count": 18,
     "metadata": {},
     "output_type": "execute_result"
    }
   ],
   "source": [
    "lista_c[4]"
   ]
  },
  {
   "cell_type": "markdown",
   "id": "ca0a097e",
   "metadata": {},
   "source": [
    "### Ejercicio\n",
    "\n",
    "# imprimir los elementos 1 y 2 de la lista a reducida"
   ]
  },
  {
   "cell_type": "code",
   "execution_count": 21,
   "id": "8df5f7d2-0440-4e52-a10b-53038023dc91",
   "metadata": {
    "tags": []
   },
   "outputs": [
    {
     "name": "stdout",
     "output_type": "stream",
     "text": [
      "EC NFLX\n"
     ]
    }
   ],
   "source": [
    "lista_c\n",
    "print(lista_c[1], lista_c[2])"
   ]
  },
  {
   "cell_type": "markdown",
   "id": "c402c1c9-c2e5-44c4-ab8d-1f3a06b9c48f",
   "metadata": {},
   "source": [
    "## 2. tuplas\n",
    "\n",
    "Son listas que son inmutables, no se pueden cambiar.\n",
    "\n",
    "Las tuplas se definen con ( ) y los elementos separados por comas"
   ]
  },
  {
   "cell_type": "code",
   "execution_count": 22,
   "id": "a3919a58-8ba6-435f-93c3-0063e72799bb",
   "metadata": {},
   "outputs": [
    {
     "data": {
      "text/plain": [
       "(12, 34, 'Kamila', 'Jo', 3.5)"
      ]
     },
     "execution_count": 22,
     "metadata": {},
     "output_type": "execute_result"
    }
   ],
   "source": [
    "new = (12, 34,\"Kamila\", \"Jo\", 3.5)\n",
    "new"
   ]
  },
  {
   "cell_type": "code",
   "execution_count": 25,
   "id": "78fa62db-39f5-431d-9a72-35901a190e56",
   "metadata": {},
   "outputs": [
    {
     "data": {
      "text/plain": [
       "'Kamila'"
      ]
     },
     "execution_count": 25,
     "metadata": {},
     "output_type": "execute_result"
    }
   ],
   "source": [
    "new[2]"
   ]
  },
  {
   "cell_type": "code",
   "execution_count": 26,
   "id": "00543c25-47df-4fc2-a0e7-4f8a7b073f30",
   "metadata": {},
   "outputs": [
    {
     "ename": "TypeError",
     "evalue": "'tuple' object does not support item assignment",
     "output_type": "error",
     "traceback": [
      "\u001b[1;31m---------------------------------------------------------------------------\u001b[0m",
      "\u001b[1;31mTypeError\u001b[0m                                 Traceback (most recent call last)",
      "Cell \u001b[1;32mIn[26], line 1\u001b[0m\n\u001b[1;32m----> 1\u001b[0m \u001b[43mnew\u001b[49m\u001b[43m[\u001b[49m\u001b[38;5;241;43m2\u001b[39;49m\u001b[43m]\u001b[49m \u001b[38;5;241m=\u001b[39m \u001b[38;5;124m\"\u001b[39m\u001b[38;5;124mKamila\u001b[39m\u001b[38;5;124m\"\u001b[39m\n",
      "\u001b[1;31mTypeError\u001b[0m: 'tuple' object does not support item assignment"
     ]
    }
   ],
   "source": [
    "new[2] = \"Kamila\""
   ]
  },
  {
   "cell_type": "code",
   "execution_count": 27,
   "id": "169c3001-3f9d-4f3b-811f-3ced78eb5604",
   "metadata": {},
   "outputs": [
    {
     "ename": "AttributeError",
     "evalue": "'tuple' object has no attribute 'append'",
     "output_type": "error",
     "traceback": [
      "\u001b[1;31m---------------------------------------------------------------------------\u001b[0m",
      "\u001b[1;31mAttributeError\u001b[0m                            Traceback (most recent call last)",
      "Cell \u001b[1;32mIn[27], line 1\u001b[0m\n\u001b[1;32m----> 1\u001b[0m \u001b[43mnew\u001b[49m\u001b[38;5;241;43m.\u001b[39;49m\u001b[43mappend\u001b[49m(\u001b[38;5;124m\"\u001b[39m\u001b[38;5;124mKamila\u001b[39m\u001b[38;5;124m\"\u001b[39m)\n",
      "\u001b[1;31mAttributeError\u001b[0m: 'tuple' object has no attribute 'append'"
     ]
    }
   ],
   "source": [
    "new.append(\"Kamila\")"
   ]
  },
  {
   "cell_type": "code",
   "execution_count": 28,
   "id": "1f121fc8",
   "metadata": {},
   "outputs": [
    {
     "ename": "AttributeError",
     "evalue": "'tuple' object has no attribute 'append'",
     "output_type": "error",
     "traceback": [
      "\u001b[1;31m---------------------------------------------------------------------------\u001b[0m",
      "\u001b[1;31mAttributeError\u001b[0m                            Traceback (most recent call last)",
      "Cell \u001b[1;32mIn[28], line 1\u001b[0m\n\u001b[1;32m----> 1\u001b[0m \u001b[43mnew\u001b[49m\u001b[38;5;241;43m.\u001b[39;49m\u001b[43mappend\u001b[49m(\u001b[38;5;241m4\u001b[39m)\n",
      "\u001b[1;31mAttributeError\u001b[0m: 'tuple' object has no attribute 'append'"
     ]
    }
   ],
   "source": [
    "new.append(4)"
   ]
  },
  {
   "cell_type": "markdown",
   "id": "f6cb36cc-4f25-4f4c-97c8-2d23c70fded3",
   "metadata": {},
   "source": [
    "**Ejercicio 1** "
   ]
  },
  {
   "cell_type": "markdown",
   "id": "b9d0897e-c738-422e-8b30-5a996961fdf8",
   "metadata": {},
   "source": [
    "Esta tupla contiene información relacionada con una acción, como el símbolo, el nombre de la empresa y los precios de apertura, cierre, alto y bajo, junto con el volumen de negociación. Puedes acceder a cada elemento de la tupla utilizando su índice correspondiente."
   ]
  },
  {
   "cell_type": "code",
   "execution_count": 29,
   "id": "426275f3-e042-4929-b862-80a2cf233251",
   "metadata": {
    "tags": []
   },
   "outputs": [],
   "source": [
    "accion_info = (\"AAPL\", \"Apple Inc.\", 150.25, 152.80, 149.75, 152.10, 2500000)"
   ]
  },
  {
   "cell_type": "markdown",
   "id": "e2322125-4b56-4fb8-91de-c2114436bd9c",
   "metadata": {},
   "source": [
    "Los elementos de la tupla representan la siguiente información:\n",
    "- 1. Símbolo de la acción (AAPL).\n",
    "- 2. Nombre de la empresa (Apple Inc.).\n",
    "- 3. Precio de apertura de la acción ($150.25).\n",
    "\n",
    "- 4. Precio más alto de la acción durante el día ($152.80).\n",
    "\n",
    "- 5. Precio más bajo de la acción durante el día ($149.75).\n",
    "\n",
    "- 6. Precio de cierre de la acción ($152.10).\n",
    "- 7. Volumen de negociación de la acción (2,500,000 acciones)."
   ]
  },
  {
   "cell_type": "markdown",
   "id": "bce6550d-5ee3-4f33-8bce-1ff759e9b537",
   "metadata": {},
   "source": [
    "Imprimir :\n",
    "\n",
    "    \"Símbolo de la acción:\"\n",
    "    \n",
    "    \"Precio más alto:\"\n",
    "    \n",
    "     \"Precio de cierre:\"\n"
   ]
  },
  {
   "cell_type": "code",
   "execution_count": 30,
   "id": "793410ea",
   "metadata": {},
   "outputs": [
    {
     "name": "stdout",
     "output_type": "stream",
     "text": [
      "El simbolo de la accion es AAPL, El precio mas alto fue $152.8 y el precio de cierre fue $ 152.1\n"
     ]
    }
   ],
   "source": [
    "print(f'El simbolo de la accion es {accion_info[0]}, El precio mas alto fue ${accion_info[3]} y el precio de cierre fue $ {accion_info[5]}')"
   ]
  },
  {
   "cell_type": "markdown",
   "id": "dfcbeaa8-7d02-46d5-aa26-0a16e6b87de7",
   "metadata": {},
   "source": [
    "**Ejercicio 2:**\n",
    "\n",
    "En este ejercicio, la tupla cartera_inversion contiene información sobre varias acciones en una cartera de inversiones. Cada elemento de la tupla es una tupla interna que representa una posición en la cartera, incluyendo el símbolo de la acción, el nombre de la empresa, el precio por acción y la cantidad de acciones en la cartera. "
   ]
  },
  {
   "cell_type": "markdown",
   "id": "c435aea4-6ccd-468a-b36f-6c1f01c6e24b",
   "metadata": {},
   "source": [
    "## 3. Set"
   ]
  },
  {
   "cell_type": "markdown",
   "id": "e45db480",
   "metadata": {},
   "source": [
    "https://ellibrodepython.com/sets-python#:~:text=Los%20set%20en%20Python%20son,no%20puede%20haber%20elementos%20duplicados."
   ]
  },
  {
   "cell_type": "markdown",
   "id": "44211330-4df6-4beb-8add-12352ee43393",
   "metadata": {},
   "source": [
    "### Ejemplo 1:\n",
    "Cómo  usar un set en finanzas para eliminar duplicados de una lista de símbolos de acciones:\n",
    "a partir de la definición de set"
   ]
  },
  {
   "cell_type": "markdown",
   "id": "ade7abae",
   "metadata": {},
   "source": [
    "Para poder eliminar los elementos duplicados de un set es imprimer el set() y asignarle un nuevo nombre a ese set(), ya que la immprimir un set() este no mostrara los elementos duplicados"
   ]
  },
  {
   "cell_type": "code",
   "execution_count": 32,
   "id": "323d75e8",
   "metadata": {},
   "outputs": [
    {
     "data": {
      "text/plain": [
       "{'AMZN', 'GOOGL', 'NFTF', 'NVDA'}"
      ]
     },
     "execution_count": 32,
     "metadata": {},
     "output_type": "execute_result"
    }
   ],
   "source": [
    "port1 = set([\"GOOGL\", \"AMZN\", \"NVDA\", \"NVDA\", \"AMZN\", \"NFTF\"])\n",
    "port_update = port1\n",
    "port_update"
   ]
  },
  {
   "cell_type": "markdown",
   "id": "55669706-822b-4c72-8b32-dcdde8586956",
   "metadata": {},
   "source": [
    "### Ejemplo 2:\n",
    "Otro forma de utilizar conjuntos  en finanzas es para realizar operaciones de conjunto, como la intersección de dos conjuntos que representan dos carteras de inversión y encontrar las acciones comunes en ambas carteras. A partir de la interseccion"
   ]
  },
  {
   "cell_type": "code",
   "execution_count": 35,
   "id": "681550a5",
   "metadata": {},
   "outputs": [
    {
     "name": "stdout",
     "output_type": "stream",
     "text": [
      "{'NFTF', 'SP500', 'GOOGL', 'AMZN', 'NVDA', 'EC', 'US100', 'US30'}\n"
     ]
    }
   ],
   "source": [
    "port1 = set([\"GOOGL\", \"AMZN\", \"NVDA\", \"NVDA\", \"AMZN\", \"NFTF\"])\n",
    "port2 = set([\"GOOGL\", \"AMZN\", \"NVDA\", \"NVDA\", \"AMZN\", \"EC\", \"SP500\",\"US100\",\"US30\"])\n",
    "print(port1 | port2)\n"
   ]
  },
  {
   "cell_type": "code",
   "execution_count": 36,
   "id": "b59737e8",
   "metadata": {},
   "outputs": [
    {
     "name": "stdout",
     "output_type": "stream",
     "text": [
      "{'GOOGL', 'AMZN', 'NVDA'}\n"
     ]
    }
   ],
   "source": [
    "print(port1 & port2)"
   ]
  },
  {
   "cell_type": "markdown",
   "id": "f421b2f8-2e25-4b76-9435-dfaa9e51dae0",
   "metadata": {},
   "source": [
    "### Ejercicio 3:\n",
    "Otra forma  cómo se pueden utilizar conjuntos  en finanzas es para calcular la diferencia entre dos conjuntos que representan las acciones en una cartera y las acciones disponibles en el mercado. Esto puede ayudar a identificar las acciones que faltan en la cartera o aquellas que están en exceso.\n",
    "A partir de la diferencia"
   ]
  },
  {
   "cell_type": "code",
   "execution_count": 37,
   "id": "08841a68",
   "metadata": {},
   "outputs": [
    {
     "name": "stdout",
     "output_type": "stream",
     "text": [
      "{'NFTF'}\n"
     ]
    }
   ],
   "source": [
    "print(port1.difference(port2))"
   ]
  },
  {
   "cell_type": "code",
   "execution_count": 39,
   "id": "3e904a85",
   "metadata": {},
   "outputs": [
    {
     "name": "stdout",
     "output_type": "stream",
     "text": [
      "{'US100', 'US30', 'EC', 'SP500'}\n"
     ]
    }
   ],
   "source": [
    "print(port2.difference(port1))"
   ]
  },
  {
   "cell_type": "code",
   "execution_count": 38,
   "id": "b918c8ef",
   "metadata": {},
   "outputs": [
    {
     "name": "stdout",
     "output_type": "stream",
     "text": [
      "{'EC', 'NFTF', 'SP500', 'US100', 'US30'}\n"
     ]
    }
   ],
   "source": [
    "print(port1.symmetric_difference(port2))"
   ]
  },
  {
   "cell_type": "markdown",
   "id": "049048ea-6427-42ba-ae4f-f97a2814e87b",
   "metadata": {},
   "source": [
    "## 4. Diccionarios\n",
    "\n",
    "Son colecciones de elementos compuestos por una clave y un valor asociado. Las claves no pueden repetirse.\n",
    "\n",
    "Los diccionarios se delimitan por { } y los elementos separados por comas. La clave separada del valor mediante dos puntos.\n",
    "\n",
    "También se declaran con la función dict().\n",
    "\n"
   ]
  },
  {
   "cell_type": "code",
   "execution_count": 43,
   "id": "b22a3e86-2ff6-4538-a75b-9895a01983d6",
   "metadata": {},
   "outputs": [
    {
     "data": {
      "text/plain": [
       "{'AMZON': 'Amazon.com Inc.',\n",
       " 'MSFT': 'Microsoft Corporation',\n",
       " 'GOOGL': 'Alphabet Inc.'}"
      ]
     },
     "execution_count": 43,
     "metadata": {},
     "output_type": "execute_result"
    }
   ],
   "source": [
    "dic1 = {\"AMZON\": \"Amazon.com Inc.\", \n",
    "        \"MSFT\": \"Microsoft Corporation\", \n",
    "        \"GOOGL\": \"Alphabet Inc.\"}\n",
    "dic1"
   ]
  },
  {
   "cell_type": "code",
   "execution_count": 44,
   "id": "2375ce3e-034c-4784-aa19-fee6f1d04c7f",
   "metadata": {},
   "outputs": [
    {
     "data": {
      "text/plain": [
       "{'AMZON': 153.28, 'MSFT': 300.32, 'GOOGL': 324.0}"
      ]
     },
     "execution_count": 44,
     "metadata": {},
     "output_type": "execute_result"
    }
   ],
   "source": [
    "dic2 = {\"AMZON\": 153.28, \n",
    "        \"MSFT\": 300.32, \n",
    "        \"GOOGL\": 324.0}\n",
    "dic2"
   ]
  },
  {
   "cell_type": "markdown",
   "id": "9027cb1e-6247-48cf-8d6e-7c18feb04255",
   "metadata": {},
   "source": [
    "### agrega key y value"
   ]
  },
  {
   "cell_type": "code",
   "execution_count": 45,
   "id": "014c1c95",
   "metadata": {},
   "outputs": [],
   "source": [
    "dic1[\"EC\"] = 320.0"
   ]
  },
  {
   "cell_type": "code",
   "execution_count": 46,
   "id": "1ba8195b",
   "metadata": {},
   "outputs": [
    {
     "data": {
      "text/plain": [
       "{'AMZON': 'Amazon.com Inc.',\n",
       " 'MSFT': 'Microsoft Corporation',\n",
       " 'GOOGL': 'Alphabet Inc.',\n",
       " 'EC': 320.0}"
      ]
     },
     "execution_count": 46,
     "metadata": {},
     "output_type": "execute_result"
    }
   ],
   "source": [
    "dic1"
   ]
  },
  {
   "cell_type": "markdown",
   "id": "c0390845-5033-463b-ac27-1d9e72319927",
   "metadata": {},
   "source": [
    "### elimina valores"
   ]
  },
  {
   "cell_type": "code",
   "execution_count": 48,
   "id": "c34c5a02-705c-4179-a07f-41ed1fb00f32",
   "metadata": {},
   "outputs": [
    {
     "data": {
      "text/plain": [
       "{'AMZON': 'Amazon.com Inc.', 'MSFT': 'Microsoft Corporation', 'EC': 320.0}"
      ]
     },
     "execution_count": 48,
     "metadata": {},
     "output_type": "execute_result"
    }
   ],
   "source": [
    "dic1.pop(\"GOOGL\")\n",
    "dic1\n"
   ]
  },
  {
   "cell_type": "markdown",
   "id": "a83e9443-a726-4bcb-aae7-3d40c3e83722",
   "metadata": {},
   "source": [
    "### longitud"
   ]
  },
  {
   "cell_type": "code",
   "execution_count": 51,
   "id": "2da80546-d43b-4460-9281-afa815dc8d2d",
   "metadata": {},
   "outputs": [
    {
     "data": {
      "text/plain": [
       "3"
      ]
     },
     "execution_count": 51,
     "metadata": {},
     "output_type": "execute_result"
    }
   ],
   "source": [
    "dic1.__len__()"
   ]
  },
  {
   "cell_type": "code",
   "execution_count": 50,
   "id": "f85b6708-e11d-4c78-a8d8-3d7257f316ab",
   "metadata": {},
   "outputs": [
    {
     "data": {
      "text/plain": [
       "3"
      ]
     },
     "execution_count": 50,
     "metadata": {},
     "output_type": "execute_result"
    }
   ],
   "source": [
    "dic2.__len__()"
   ]
  },
  {
   "cell_type": "markdown",
   "id": "80fbb885-a4ed-4fc6-841a-b6d85b793365",
   "metadata": {},
   "source": [
    "## verificar elemento"
   ]
  },
  {
   "cell_type": "code",
   "execution_count": 59,
   "id": "20e5b209-1b83-48e2-a278-389cb7618d2d",
   "metadata": {},
   "outputs": [
    {
     "name": "stdout",
     "output_type": "stream",
     "text": [
      "Amazon.com Inc.\n"
     ]
    }
   ],
   "source": [
    "print(dic1[\"AMZON\"])"
   ]
  },
  {
   "cell_type": "code",
   "execution_count": 60,
   "id": "7ff023c3-7c78-44e4-ae0c-c6e0e65c94b6",
   "metadata": {},
   "outputs": [
    {
     "name": "stdout",
     "output_type": "stream",
     "text": [
      "Amazon.com Inc.\n"
     ]
    }
   ],
   "source": [
    "print(dic1.get(\"AMZON\"))"
   ]
  },
  {
   "cell_type": "code",
   "execution_count": 61,
   "id": "b65da276-4cee-4fc8-94db-99579c0ffd7f",
   "metadata": {
    "tags": []
   },
   "outputs": [
    {
     "name": "stdout",
     "output_type": "stream",
     "text": [
      "300.32\n"
     ]
    }
   ],
   "source": [
    "print(dic2[\"MSFT\"])"
   ]
  },
  {
   "cell_type": "markdown",
   "id": "0ab373ea-220a-4b61-aef1-41161fca667b",
   "metadata": {},
   "source": [
    "### Ejemplo:\n",
    "Los diccionarios en Python son útiles en finanzas para almacenar y acceder a datos relacionados con activos financieros o para representar información más estructurada sobre carteras de inversión. \n",
    "\n",
    "Este es un ejemplo de cómo  utilizar un diccionario para representar información sobre una cartera de inversiones:"
   ]
  },
  {
   "cell_type": "code",
   "execution_count": 78,
   "id": "505b90c6-7ab1-4872-9fcb-892b0fcd6d3c",
   "metadata": {
    "tags": []
   },
   "outputs": [],
   "source": [
    "# Ejemplo de un diccionario que representa una cartera de inversiones\n",
    "cartera_inversion = {\n",
    "    \"AAPL\": {\n",
    "        \"nombre\": \"Apple Inc.\",\n",
    "        \"cantidad\": 100,\n",
    "        \"precio_compra\": 150.25,\n",
    "    },\n",
    "    \"MSFT\": {\n",
    "        \"nombre\": \"Microsoft Corporation\",\n",
    "        \"cantidad\": 50,\n",
    "        \"precio_compra\": 300.50,\n",
    "    },\n",
    "    \"GOOGL\": {\n",
    "        \"nombre\": \"Alphabet Inc.\",\n",
    "        \"cantidad\": 30,\n",
    "        \"precio_compra\": 2500.75,\n",
    "    },\n",
    "    \"AMZN\": {\n",
    "        \"nombre\": \"Amazon.com Inc.\",\n",
    "        \"cantidad\": 20,\n",
    "        \"precio_compra\": 3500.00,\n",
    "    }\n",
    "}"
   ]
  },
  {
   "cell_type": "code",
   "execution_count": 83,
   "id": "8f996975-425a-41e7-aaba-69076b1f271b",
   "metadata": {},
   "outputs": [
    {
     "data": {
      "text/plain": [
       "{'nombre': 'Apple Inc.', 'cantidad': 100, 'precio_compra': 150.25}"
      ]
     },
     "execution_count": 83,
     "metadata": {},
     "output_type": "execute_result"
    }
   ],
   "source": [
    "cartera_inversion[\"AAPL\"]"
   ]
  },
  {
   "cell_type": "markdown",
   "id": "38d18f2b-1774-492f-8c0d-0e57c9df98b7",
   "metadata": {},
   "source": [
    "**Buscar la acción MSFT en la cartera y dar su descripción incluyendo el valor total de la posición, de lo contrario indicar que no está en la cartera**"
   ]
  },
  {
   "cell_type": "code",
   "execution_count": 95,
   "id": "632c6129-93c3-4de5-b6fb-b5444cc34b5c",
   "metadata": {},
   "outputs": [
    {
     "name": "stdout",
     "output_type": "stream",
     "text": [
      "[{'nombre': 'Apple Inc.', 'cantidad': 100, 'precio_compra': 150.25}]\n"
     ]
    }
   ],
   "source": [
    "cartera_buscada = [\"AAPL\"]\n",
    "accion = []\n",
    "\n",
    "cartera_inversion = {\n",
    "    \"AAPL\": {\n",
    "        \"nombre\": \"Apple Inc.\",\n",
    "        \"cantidad\": 100,\n",
    "        \"precio_compra\": 150.25,\n",
    "    },\n",
    "    \"MSFT\": {\n",
    "        \"nombre\": \"Microsoft Corporation\",\n",
    "        \"cantidad\": 50,\n",
    "        \"precio_compra\": 300.50,\n",
    "    },\n",
    "    \"GOOGL\": {\n",
    "        \"nombre\": \"Alphabet Inc.\",\n",
    "        \"cantidad\": 30,\n",
    "        \"precio_compra\": 2500.75,\n",
    "    },\n",
    "    \"AMZN\": {\n",
    "        \"nombre\": \"Amazon.com Inc.\",\n",
    "        \"cantidad\": 20,\n",
    "        \"precio_compra\": 3500.00,\n",
    "    }\n",
    "}\n",
    "\n",
    "\n",
    "for i in cartera_buscada:\n",
    "    if i in cartera_inversion:\n",
    "        accion.append(cartera_inversion[i])\n",
    "        print(accion)\n",
    "    "
   ]
  },
  {
   "cell_type": "markdown",
   "id": "d1b76f48-b84b-46ee-adac-8cd18ed2b4d2",
   "metadata": {},
   "source": [
    "**Calcule el valor de la cartera con las acciones \"MSFT\", \"AMZN\"**\n",
    "\n",
    "Analice el siguiente codigo"
   ]
  },
  {
   "cell_type": "code",
   "execution_count": 97,
   "id": "7c8ac380-f37a-4fea-830f-c44ee1dd6010",
   "metadata": {},
   "outputs": [
    {
     "name": "stdout",
     "output_type": "stream",
     "text": [
      "Símbolo: ['MSFT', 'AMZN'],  Valor Total de la cartera: $85025.00\n"
     ]
    }
   ],
   "source": [
    "simbolo = [\"MSFT\", \"AMZN\"]\n",
    "valor_total=[]\n",
    "for i in simbolo :\n",
    "    if i in cartera_inversion:\n",
    "        accion = cartera_inversion[i]\n",
    "        cantidad = accion[\"cantidad\"]\n",
    "        precio_compra = accion[\"precio_compra\"]\n",
    "        valor_total.append( cantidad * precio_compra)\n",
    "print(f\"Símbolo: {simbolo},  Valor Total de la cartera: ${sum(valor_total):.2f}\")\n",
    "        "
   ]
  },
  {
   "cell_type": "markdown",
   "id": "6665765a-2882-4d78-a152-dee28bf76ccb",
   "metadata": {},
   "source": [
    "### Ejercicio\n",
    "\n",
    "Considerando carteras de 2 acciones, pidale a un cliente que digite el simbolo de las dos accciones y digale el valor de su cartera\n",
    "\n",
    "analice el siguiente codigo"
   ]
  },
  {
   "cell_type": "code",
   "execution_count": 96,
   "id": "af97bae4-41dd-4303-baf6-84fd4c18578f",
   "metadata": {},
   "outputs": [
    {
     "name": "stdout",
     "output_type": "stream",
     "text": [
      "['MSFT', 'AMZN']\n",
      "Símbolo: ['MSFT', 'AMZN'],  Valor Total de la cartera: $85025.00\n"
     ]
    }
   ],
   "source": [
    "a=input('acción1')\n",
    "b=input('acción2')\n",
    "simbolo = [a, b]\n",
    "print(simbolo)\n",
    "valor_total=[]\n",
    "for i in simbolo :\n",
    "    if i in cartera_inversion:\n",
    "        accion = cartera_inversion[i]\n",
    "        cantidad = accion[\"cantidad\"]\n",
    "        precio_compra = accion[\"precio_compra\"]\n",
    "        valor_total.append( cantidad * precio_compra)\n",
    "print(f\"Símbolo: {simbolo},  Valor Total de la cartera: ${sum(valor_total):.2f}\")"
   ]
  }
 ],
 "metadata": {
  "kernelspec": {
   "display_name": "Python 3",
   "language": "python",
   "name": "python3"
  },
  "language_info": {
   "codemirror_mode": {
    "name": "ipython",
    "version": 3
   },
   "file_extension": ".py",
   "mimetype": "text/x-python",
   "name": "python",
   "nbconvert_exporter": "python",
   "pygments_lexer": "ipython3",
   "version": "3.12.2"
  }
 },
 "nbformat": 4,
 "nbformat_minor": 5
}
