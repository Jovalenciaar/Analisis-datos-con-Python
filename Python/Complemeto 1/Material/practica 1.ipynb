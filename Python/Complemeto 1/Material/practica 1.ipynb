{
 "cells": [
  {
   "cell_type": "markdown",
   "id": "ca1ab6a9-8117-446f-a1b5-eea5690c05a3",
   "metadata": {
    "tags": []
   },
   "source": [
    "## Ejercicios de práctica"
   ]
  },
  {
   "cell_type": "markdown",
   "id": "317017d1-d4b1-4a32-9eef-e1fd52880318",
   "metadata": {
    "tags": []
   },
   "source": [
    "### Ejercicio 1\n",
    "\n",
    "Construya un  programa que solicite al usuario ingresar:\n",
    "el monto de inversión inicial, \n",
    "la tasa de interés anual (en porcentaje) y el número de años de inversión. Luego, imprima el calculo del interés simple utilizando la fórmula:\n",
    "\n",
    "Interès Simple=Capital Inicial×Tasa de Interès (decimal)×Tiempo de Inversión"
   ]
  },
  {
   "cell_type": "code",
   "execution_count": 3,
   "id": "58ea7205-5f8b-4a8d-b1c6-0b0f14fe2c88",
   "metadata": {
    "tags": []
   },
   "outputs": [
    {
     "name": "stdout",
     "output_type": "stream",
     "text": [
      "1800.0\n"
     ]
    }
   ],
   "source": [
    "monto_inicial = float(input(\"Ingrese el monto inicial: \"))\n",
    "tasa_interes = float(input(\"Ingrese la tasa de interés anual (en porcentaje): \"))\n",
    "year = float(input(\"Ingrese el numero de años: \"))\n",
    "\n",
    "tasa_anual = tasa_interes/100\n",
    "\n",
    "interes_simple = monto_inicial*tasa_anual*year\n",
    "\n",
    "print(interes_simple)"
   ]
  },
  {
   "cell_type": "markdown",
   "id": "d436c91f-9ec9-47b7-b006-aa4ef097213b",
   "metadata": {},
   "source": [
    "### Ejercicio 2\n",
    "\n",
    "Escribe un programa que calcule el rendimiento de una inversión a una tasa de interés fija anual. El programa debe solicitar al usuario ingresar el monto de la inversión y la tasa de interés anual. Luego, debe calcular e imprimir la rentabilidad en un año."
   ]
  },
  {
   "cell_type": "code",
   "execution_count": 6,
   "id": "1ac228dd-494a-4c9b-ac1b-18583d5be5a8",
   "metadata": {},
   "outputs": [
    {
     "name": "stdout",
     "output_type": "stream",
     "text": [
      "la resntabiliada optenida en 1 ano es de $ 48.0\n"
     ]
    }
   ],
   "source": [
    "monto_inicial = float(input(\"Ingrese el monto inicial: \"))\n",
    "tasa_interes = float(input(\"Ingrese la tasa de interés anual (en porcentaje): \"))\n",
    "\n",
    "tasa_anual = tasa_interes/100\n",
    "\n",
    "interes_simple = monto_inicial*tasa_anual*1\n",
    "\n",
    "print(f\"la resntabiliada optenida en 1 ano es de $ {interes_simple}\")"
   ]
  },
  {
   "cell_type": "markdown",
   "id": "cd555aa7-c6c5-420a-975d-29b719918da3",
   "metadata": {
    "tags": []
   },
   "source": [
    "### Ejercicio 3\n",
    "\n",
    "Escribe un programa que calcule el rendimiento de una inversión a una tasa de interés fija anual. El programa debe solicitar al usuario ingresar el monto de la inversión y la tasa de interés anual. Luego, debe calcular e imprimir el saldo de cada año durante 10 años"
   ]
  },
  {
   "cell_type": "code",
   "execution_count": 12,
   "id": "e8b1f7ea-ae57-448c-aff9-d570dee7d280",
   "metadata": {
    "tags": []
   },
   "outputs": [
    {
     "name": "stdout",
     "output_type": "stream",
     "text": [
      "1 1050.0\n",
      "2 1100.0\n",
      "3 1150.0\n",
      "4 1200.0\n",
      "5 1250.0\n",
      "6 1300.0\n",
      "7 1350.0\n",
      "8 1400.0\n",
      "9 1450.0\n",
      "10 1500.0\n"
     ]
    }
   ],
   "source": [
    "monto_inicial = float(input(\"Ingrese el monto inicial: \"))\n",
    "tasa_interes = float(input(\"Ingrese la tasa de interés anual (en porcentaje): \"))\n",
    "year = 1\n",
    "\n",
    "tasa_anual = tasa_interes/100\n",
    "interes_simple = monto_inicial\n",
    "\n",
    "while year <= 10:\n",
    "    interes_simple += monto_inicial*tasa_anual\n",
    "    print(f'{year}',interes_simple)\n",
    "    year +=1\n"
   ]
  },
  {
   "cell_type": "code",
   "execution_count": 14,
   "id": "20c175f9",
   "metadata": {},
   "outputs": [
    {
     "name": "stdout",
     "output_type": "stream",
     "text": [
      "1 1050.0\n",
      "2 1100.0\n",
      "3 1150.0\n",
      "4 1200.0\n",
      "5 1250.0\n",
      "6 1300.0\n",
      "7 1350.0\n",
      "8 1400.0\n",
      "9 1450.0\n",
      "10 1500.0\n"
     ]
    }
   ],
   "source": [
    "\n",
    "\n",
    "monto_inicial = float(input(\"Ingrese el monto inicial: \"))\n",
    "tasa_interes = float(input(\"Ingrese la tasa de interés anual (en porcentaje): \"))\n",
    "year = 1\n",
    "\n",
    "tasa_anual = tasa_interes/100\n",
    "interes_compuesto = monto_inicial\n",
    "\n",
    "while year <= 10:\n",
    "    interes_compuesto += monto_inicial* (1 +tasa_anual)**1 - monto_inicial\n",
    "    print(f'{year}',interes_compuesto)\n",
    "    year +=1\n"
   ]
  },
  {
   "cell_type": "markdown",
   "id": "19337df5-9809-4726-86ba-e40d5040053e",
   "metadata": {},
   "source": [
    "### Ejercicio 4\n",
    "\n",
    "Continue construyendo una calculadora que haga las 5 operaciones básicas"
   ]
  },
  {
   "cell_type": "code",
   "execution_count": 4,
   "id": "bdb49bef-7d3f-4bf4-85ff-9e02b8f56a6d",
   "metadata": {
    "tags": []
   },
   "outputs": [
    {
     "name": "stdout",
     "output_type": "stream",
     "text": [
      "************\n",
      "Calculadora\n",
      "*********************\n",
      "Menu\n",
      "1. Suma\n",
      "5.Salir\n",
      "\n"
     ]
    },
    {
     "ename": "KeyboardInterrupt",
     "evalue": "Interrupted by user",
     "output_type": "error",
     "traceback": [
      "\u001b[1;31m---------------------------------------------------------------------------\u001b[0m",
      "\u001b[1;31mKeyboardInterrupt\u001b[0m                         Traceback (most recent call last)",
      "Cell \u001b[1;32mIn[4], line 11\u001b[0m\n\u001b[0;32m      2\u001b[0m \u001b[38;5;28mprint\u001b[39m(\u001b[38;5;124m\"\"\"\u001b[39m\u001b[38;5;124m************\u001b[39m\n\u001b[0;32m      3\u001b[0m \u001b[38;5;124mCalculadora\u001b[39m\n\u001b[0;32m      4\u001b[0m \u001b[38;5;124m*********************\u001b[39m\n\u001b[1;32m   (...)\u001b[0m\n\u001b[0;32m      8\u001b[0m \u001b[38;5;124m\"\"\"\u001b[39m\n\u001b[0;32m      9\u001b[0m )\n\u001b[0;32m     10\u001b[0m \u001b[38;5;28;01mwhile\u001b[39;00m \u001b[38;5;129;01mnot\u001b[39;00m(fin):\n\u001b[1;32m---> 11\u001b[0m     opc\u001b[38;5;241m=\u001b[39m\u001b[38;5;28mint\u001b[39m(\u001b[38;5;28;43minput\u001b[39;49m\u001b[43m(\u001b[49m\u001b[38;5;124;43m\"\u001b[39;49m\u001b[38;5;124;43mopcion:\u001b[39;49m\u001b[38;5;124;43m\"\u001b[39;49m\u001b[43m)\u001b[49m)\n\u001b[0;32m     12\u001b[0m     \u001b[38;5;28;01mif\u001b[39;00m (opc\u001b[38;5;241m==\u001b[39m\u001b[38;5;241m1\u001b[39m):\n\u001b[0;32m     13\u001b[0m         sum1\u001b[38;5;241m=\u001b[39m\u001b[38;5;28mint\u001b[39m(\u001b[38;5;28minput\u001b[39m(\u001b[38;5;124m\"\u001b[39m\u001b[38;5;124msumando1:\u001b[39m\u001b[38;5;124m\"\u001b[39m))\n",
      "File \u001b[1;32m~\\AppData\\Roaming\\Python\\Python312\\site-packages\\ipykernel\\kernelbase.py:1282\u001b[0m, in \u001b[0;36mKernel.raw_input\u001b[1;34m(self, prompt)\u001b[0m\n\u001b[0;32m   1280\u001b[0m     msg \u001b[38;5;241m=\u001b[39m \u001b[38;5;124m\"\u001b[39m\u001b[38;5;124mraw_input was called, but this frontend does not support input requests.\u001b[39m\u001b[38;5;124m\"\u001b[39m\n\u001b[0;32m   1281\u001b[0m     \u001b[38;5;28;01mraise\u001b[39;00m StdinNotImplementedError(msg)\n\u001b[1;32m-> 1282\u001b[0m \u001b[38;5;28;01mreturn\u001b[39;00m \u001b[38;5;28;43mself\u001b[39;49m\u001b[38;5;241;43m.\u001b[39;49m\u001b[43m_input_request\u001b[49m\u001b[43m(\u001b[49m\n\u001b[0;32m   1283\u001b[0m \u001b[43m    \u001b[49m\u001b[38;5;28;43mstr\u001b[39;49m\u001b[43m(\u001b[49m\u001b[43mprompt\u001b[49m\u001b[43m)\u001b[49m\u001b[43m,\u001b[49m\n\u001b[0;32m   1284\u001b[0m \u001b[43m    \u001b[49m\u001b[38;5;28;43mself\u001b[39;49m\u001b[38;5;241;43m.\u001b[39;49m\u001b[43m_parent_ident\u001b[49m\u001b[43m[\u001b[49m\u001b[38;5;124;43m\"\u001b[39;49m\u001b[38;5;124;43mshell\u001b[39;49m\u001b[38;5;124;43m\"\u001b[39;49m\u001b[43m]\u001b[49m\u001b[43m,\u001b[49m\n\u001b[0;32m   1285\u001b[0m \u001b[43m    \u001b[49m\u001b[38;5;28;43mself\u001b[39;49m\u001b[38;5;241;43m.\u001b[39;49m\u001b[43mget_parent\u001b[49m\u001b[43m(\u001b[49m\u001b[38;5;124;43m\"\u001b[39;49m\u001b[38;5;124;43mshell\u001b[39;49m\u001b[38;5;124;43m\"\u001b[39;49m\u001b[43m)\u001b[49m\u001b[43m,\u001b[49m\n\u001b[0;32m   1286\u001b[0m \u001b[43m    \u001b[49m\u001b[43mpassword\u001b[49m\u001b[38;5;241;43m=\u001b[39;49m\u001b[38;5;28;43;01mFalse\u001b[39;49;00m\u001b[43m,\u001b[49m\n\u001b[0;32m   1287\u001b[0m \u001b[43m\u001b[49m\u001b[43m)\u001b[49m\n",
      "File \u001b[1;32m~\\AppData\\Roaming\\Python\\Python312\\site-packages\\ipykernel\\kernelbase.py:1325\u001b[0m, in \u001b[0;36mKernel._input_request\u001b[1;34m(self, prompt, ident, parent, password)\u001b[0m\n\u001b[0;32m   1322\u001b[0m \u001b[38;5;28;01mexcept\u001b[39;00m \u001b[38;5;167;01mKeyboardInterrupt\u001b[39;00m:\n\u001b[0;32m   1323\u001b[0m     \u001b[38;5;66;03m# re-raise KeyboardInterrupt, to truncate traceback\u001b[39;00m\n\u001b[0;32m   1324\u001b[0m     msg \u001b[38;5;241m=\u001b[39m \u001b[38;5;124m\"\u001b[39m\u001b[38;5;124mInterrupted by user\u001b[39m\u001b[38;5;124m\"\u001b[39m\n\u001b[1;32m-> 1325\u001b[0m     \u001b[38;5;28;01mraise\u001b[39;00m \u001b[38;5;167;01mKeyboardInterrupt\u001b[39;00m(msg) \u001b[38;5;28;01mfrom\u001b[39;00m \u001b[38;5;28;01mNone\u001b[39;00m\n\u001b[0;32m   1326\u001b[0m \u001b[38;5;28;01mexcept\u001b[39;00m \u001b[38;5;167;01mException\u001b[39;00m:\n\u001b[0;32m   1327\u001b[0m     \u001b[38;5;28mself\u001b[39m\u001b[38;5;241m.\u001b[39mlog\u001b[38;5;241m.\u001b[39mwarning(\u001b[38;5;124m\"\u001b[39m\u001b[38;5;124mInvalid Message:\u001b[39m\u001b[38;5;124m\"\u001b[39m, exc_info\u001b[38;5;241m=\u001b[39m\u001b[38;5;28;01mTrue\u001b[39;00m)\n",
      "\u001b[1;31mKeyboardInterrupt\u001b[0m: Interrupted by user"
     ]
    }
   ],
   "source": [
    "fin=False\n",
    "print(\"\"\"************\n",
    "Calculadora\n",
    "*********************\n",
    "Menu\n",
    "1. Suma\n",
    "5.Salir\n",
    "\"\"\"\n",
    ")\n",
    "while not(fin):\n",
    "    opc=int(input(\"opcion:\"))\n",
    "    if (opc==1):\n",
    "        sum1=int(input(\"sumando1:\"))\n",
    "        sum2=int(input(\"sumando2:\"))\n",
    "        print(\"La suma es:\", sum1+sum2)\n",
    "  \n",
    "    elif (opc==5):\n",
    "        fin=True"
   ]
  }
 ],
 "metadata": {
  "kernelspec": {
   "display_name": "Python 3",
   "language": "python",
   "name": "python3"
  },
  "language_info": {
   "codemirror_mode": {
    "name": "ipython",
    "version": 3
   },
   "file_extension": ".py",
   "mimetype": "text/x-python",
   "name": "python",
   "nbconvert_exporter": "python",
   "pygments_lexer": "ipython3",
   "version": "3.12.2"
  }
 },
 "nbformat": 4,
 "nbformat_minor": 5
}
