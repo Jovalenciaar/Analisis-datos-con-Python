{
 "cells": [
  {
   "cell_type": "code",
   "execution_count": 1,
   "metadata": {},
   "outputs": [],
   "source": [
    "import numpy as np"
   ]
  },
  {
   "cell_type": "markdown",
   "metadata": {},
   "source": [
    "With the command Shape we can know how many elements we have in each dimension.\n",
    "\n",
    "For Expample: we can hve an array with 2 dimension  arr = ([1,2,3], [4,5,6]), in this array we can see that we have 2 dimension of (2,3) two rows and 3 columns."
   ]
  },
  {
   "cell_type": "code",
   "execution_count": 11,
   "metadata": {},
   "outputs": [
    {
     "name": "stdout",
     "output_type": "stream",
     "text": [
      "2\n",
      "(2, 3)\n"
     ]
    }
   ],
   "source": [
    "arr = np.array([[1,2,3],[4,5,6]])\n",
    "print(arr.ndim)\n",
    "print(arr.shape)"
   ]
  },
  {
   "cell_type": "code",
   "execution_count": 13,
   "metadata": {},
   "outputs": [
    {
     "name": "stdout",
     "output_type": "stream",
     "text": [
      "[[19 11 17  8  4  2  3  3]\n",
      " [ 8 12 17 12 11  7 12  2]\n",
      " [10 17 16 13  3  9 14  8]\n",
      " [15 12  7 13  2  5 10  9]]\n",
      "(4, 8)\n"
     ]
    }
   ],
   "source": [
    "arr2 = np.random.randint(2,20, (4,8))\n",
    "print(arr2)\n",
    "print(arr2.shape)"
   ]
  },
  {
   "cell_type": "markdown",
   "metadata": {},
   "source": [
    "Now, Reshape is a command that helps us to change the form of our array, If we have an tensor of (4,8), we have 32 elements in the array. as the before example we have and tensor of 4 rows ans 8 colummns, but if we wanna change this form and now we wanna have an array of 16 rows ans 2 columns (16,2) or 2 rows and 16 columns (2,16), with the command \"reshape\" we can do it. Obviously we have to keep the numbers of elements in the array"
   ]
  },
  {
   "cell_type": "code",
   "execution_count": 23,
   "metadata": {},
   "outputs": [
    {
     "name": "stdout",
     "output_type": "stream",
     "text": [
      "[[19 11 17  8  4  2  3  3  8 12 17 12 11  7 12  2]\n",
      " [10 17 16 13  3  9 14  8 15 12  7 13  2  5 10  9]]\n",
      "[[19 11]\n",
      " [17  8]\n",
      " [ 4  2]\n",
      " [ 3  3]\n",
      " [ 8 12]\n",
      " [17 12]\n",
      " [11  7]\n",
      " [12  2]\n",
      " [10 17]\n",
      " [16 13]\n",
      " [ 3  9]\n",
      " [14  8]\n",
      " [15 12]\n",
      " [ 7 13]\n",
      " [ 2  5]\n",
      " [10  9]]\n"
     ]
    }
   ],
   "source": [
    "print(arr2.reshape(2,16))\n",
    "print(arr2.reshape(16,2))"
   ]
  },
  {
   "cell_type": "code",
   "execution_count": 34,
   "metadata": {},
   "outputs": [
    {
     "name": "stdout",
     "output_type": "stream",
     "text": [
      "[[19 11 17  8  4  2  3  3  8 12 17 12 11  7 12  2]\n",
      " [10 17 16 13  3  9 14  8 15 12  7 13  2  5 10  9]]\n",
      "32\n"
     ]
    }
   ],
   "source": [
    "##This is other way to write this command\n",
    "\n",
    "print(np.reshape(arr2, (2,16)))\n",
    "print(np.size(arr2))"
   ]
  },
  {
   "cell_type": "markdown",
   "metadata": {},
   "source": [
    "We also can indicate how we wanna read the array, either columns (\"F\"), or rows (\"C\")"
   ]
  },
  {
   "cell_type": "code",
   "execution_count": 28,
   "metadata": {},
   "outputs": [
    {
     "data": {
      "text/plain": [
       "array([[ 1,  2,  3],\n",
       "       [ 4,  5,  6],\n",
       "       [ 7,  8,  9],\n",
       "       [10, 11, 12]])"
      ]
     },
     "execution_count": 28,
     "metadata": {},
     "output_type": "execute_result"
    }
   ],
   "source": [
    "arr3 = np.array([[1,2,3],[4,5,6],[7,8,9],[10,11,12]])\n",
    "arr3    "
   ]
  },
  {
   "cell_type": "code",
   "execution_count": 29,
   "metadata": {},
   "outputs": [
    {
     "data": {
      "text/plain": [
       "array([[ 1,  2,  3,  4],\n",
       "       [ 5,  6,  7,  8],\n",
       "       [ 9, 10, 11, 12]])"
      ]
     },
     "execution_count": 29,
     "metadata": {},
     "output_type": "execute_result"
    }
   ],
   "source": [
    "np.reshape(arr3,(3,4),\"C\")\n"
   ]
  },
  {
   "cell_type": "code",
   "execution_count": 33,
   "metadata": {},
   "outputs": [
    {
     "name": "stdout",
     "output_type": "stream",
     "text": [
      "[[ 1 10  8  6]\n",
      " [ 4  2 11  9]\n",
      " [ 7  5  3 12]]\n",
      "12\n"
     ]
    }
   ],
   "source": [
    "print(np.reshape(arr3,(3,4), \"F\"))\n",
    "print(np.size(arr3))"
   ]
  }
 ],
 "metadata": {
  "kernelspec": {
   "display_name": "venv",
   "language": "python",
   "name": "python3"
  },
  "language_info": {
   "codemirror_mode": {
    "name": "ipython",
    "version": 3
   },
   "file_extension": ".py",
   "mimetype": "text/x-python",
   "name": "python",
   "nbconvert_exporter": "python",
   "pygments_lexer": "ipython3",
   "version": "3.12.2"
  }
 },
 "nbformat": 4,
 "nbformat_minor": 2
}
