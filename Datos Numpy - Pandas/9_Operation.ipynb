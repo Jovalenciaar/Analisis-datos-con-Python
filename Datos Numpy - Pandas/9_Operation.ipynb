{
 "cells": [
  {
   "cell_type": "code",
   "execution_count": 1,
   "metadata": {},
   "outputs": [],
   "source": [
    "import numpy as np"
   ]
  },
  {
   "cell_type": "markdown",
   "metadata": {},
   "source": [
    "## Operations\n",
    "\n",
    "We have different operations such as add - substract - divide - multiply what ever type of operationthat we want to."
   ]
  },
  {
   "cell_type": "code",
   "execution_count": 2,
   "metadata": {},
   "outputs": [
    {
     "data": {
      "text/plain": [
       "array([[ 1,  2,  3,  4,  5],\n",
       "       [ 6,  7,  8,  9, 10],\n",
       "       [11, 12, 13, 14, 15],\n",
       "       [16, 17, 18, 19, 20],\n",
       "       [21, 22, 23, 24, 25],\n",
       "       [26, 27, 28, 29, 30],\n",
       "       [31, 32, 33, 34, 35],\n",
       "       [36, 37, 38, 39, 40],\n",
       "       [41, 42, 43, 44, 45],\n",
       "       [46, 47, 48, 49, 50]])"
      ]
     },
     "execution_count": 2,
     "metadata": {},
     "output_type": "execute_result"
    }
   ],
   "source": [
    "arr = np.arange(1, 51)\n",
    "arr2 = arr.copy().reshape(10,5)\n",
    "arr2"
   ]
  },
  {
   "cell_type": "code",
   "execution_count": 4,
   "metadata": {},
   "outputs": [
    {
     "data": {
      "text/plain": [
       "array([[ 76,  55,  96, 110, 121],\n",
       "       [120, 169, 184, 152,  63],\n",
       "       [139,  39,  81,  26, 197],\n",
       "       [ 94, 184, 192,  37,  40],\n",
       "       [ 76,  32,  13,  23, 186],\n",
       "       [  2,  55, 133,  38,  35],\n",
       "       [ 86,  10, 163,  86,  48],\n",
       "       [184, 151, 124,  23,  39],\n",
       "       [ 49, 158,  60, 161, 165],\n",
       "       [ 93,  36,  20,  37, 117]])"
      ]
     },
     "execution_count": 4,
     "metadata": {},
     "output_type": "execute_result"
    }
   ],
   "source": [
    "new = np.random.randint(2,200, (10,5))\n",
    "new"
   ]
  },
  {
   "cell_type": "code",
   "execution_count": 6,
   "metadata": {},
   "outputs": [
    {
     "data": {
      "text/plain": [
       "array([[ 75,  53,  93, 106, 116],\n",
       "       [114, 162, 176, 143,  53],\n",
       "       [128,  27,  68,  12, 182],\n",
       "       [ 78, 167, 174,  18,  20],\n",
       "       [ 55,  10, -10,  -1, 161],\n",
       "       [-24,  28, 105,   9,   5],\n",
       "       [ 55, -22, 130,  52,  13],\n",
       "       [148, 114,  86, -16,  -1],\n",
       "       [  8, 116,  17, 117, 120],\n",
       "       [ 47, -11, -28, -12,  67]])"
      ]
     },
     "execution_count": 6,
     "metadata": {},
     "output_type": "execute_result"
    }
   ],
   "source": [
    "new - arr2"
   ]
  },
  {
   "cell_type": "code",
   "execution_count": 7,
   "metadata": {},
   "outputs": [
    {
     "data": {
      "text/plain": [
       "array([  76, 1183, 1053,  703, 4650])"
      ]
     },
     "execution_count": 7,
     "metadata": {},
     "output_type": "execute_result"
    }
   ],
   "source": [
    "diagonal = np.diagonal(arr2 * new)\n",
    "diagonal"
   ]
  },
  {
   "cell_type": "code",
   "execution_count": 8,
   "metadata": {},
   "outputs": [
    {
     "data": {
      "text/plain": [
       "array([[  76,  110,  288,  440,  605],\n",
       "       [ 720, 1183, 1472, 1368,  630],\n",
       "       [1529,  468, 1053,  364, 2955],\n",
       "       [1504, 3128, 3456,  703,  800],\n",
       "       [1596,  704,  299,  552, 4650],\n",
       "       [  52, 1485, 3724, 1102, 1050],\n",
       "       [2666,  320, 5379, 2924, 1680],\n",
       "       [6624, 5587, 4712,  897, 1560],\n",
       "       [2009, 6636, 2580, 7084, 7425],\n",
       "       [4278, 1692,  960, 1813, 5850]])"
      ]
     },
     "execution_count": 8,
     "metadata": {},
     "output_type": "execute_result"
    }
   ],
   "source": [
    "arr2 * new"
   ]
  },
  {
   "cell_type": "code",
   "execution_count": 10,
   "metadata": {},
   "outputs": [
    {
     "data": {
      "text/plain": [
       "0.291383701188455"
      ]
     },
     "execution_count": 10,
     "metadata": {},
     "output_type": "execute_result"
    }
   ],
   "source": [
    "arr2 / new\n",
    "media = np.median(arr2 / new)\n",
    "media"
   ]
  }
 ],
 "metadata": {
  "kernelspec": {
   "display_name": "venv",
   "language": "python",
   "name": "python3"
  },
  "language_info": {
   "codemirror_mode": {
    "name": "ipython",
    "version": 3
   },
   "file_extension": ".py",
   "mimetype": "text/x-python",
   "name": "python",
   "nbconvert_exporter": "python",
   "pygments_lexer": "ipython3",
   "version": "3.12.2"
  }
 },
 "nbformat": 4,
 "nbformat_minor": 2
}
